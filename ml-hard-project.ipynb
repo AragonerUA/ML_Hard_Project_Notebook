{
 "cells": [
  {
   "cell_type": "code",
   "execution_count": 1,
   "id": "443240ca",
   "metadata": {
    "_cell_guid": "b1076dfc-b9ad-4769-8c92-a6c4dae69d19",
    "_uuid": "8f2839f25d086af736a60e9eeb907d3b93b6e0e5",
    "execution": {
     "iopub.execute_input": "2023-08-07T05:45:20.035845Z",
     "iopub.status.busy": "2023-08-07T05:45:20.035165Z",
     "iopub.status.idle": "2023-08-07T05:45:20.054698Z",
     "shell.execute_reply": "2023-08-07T05:45:20.053307Z"
    },
    "papermill": {
     "duration": 0.039179,
     "end_time": "2023-08-07T05:45:20.056877",
     "exception": false,
     "start_time": "2023-08-07T05:45:20.017698",
     "status": "completed"
    },
    "tags": []
   },
   "outputs": [
    {
     "name": "stdout",
     "output_type": "stream",
     "text": [
      "/kaggle/input/crime-data-from-2020-to-present/Crime_Data_from_2020_to_Present.csv\n",
      "/kaggle/input/crime-data-from-2020-to-present/Crime_Data_from_2010_to_2019.csv\n"
     ]
    }
   ],
   "source": [
    "# This Python 3 environment comes with many helpful analytics libraries installed\n",
    "# It is defined by the kaggle/python Docker image: https://github.com/kaggle/docker-python\n",
    "# For example, here's several helpful packages to load\n",
    "\n",
    "import numpy as np # linear algebra\n",
    "import pandas as pd # data processing, CSV file I/O (e.g. pd.read_csv)\n",
    "\n",
    "# Input data files are available in the read-only \"../input/\" directory\n",
    "# For example, running this (by clicking run or pressing Shift+Enter) will list all files under the input directory\n",
    "\n",
    "import os\n",
    "for dirname, _, filenames in os.walk('/kaggle/input'):\n",
    "    for filename in filenames:\n",
    "        print(os.path.join(dirname, filename))\n",
    "\n",
    "# You can write up to 20GB to the current directory (/kaggle/working/) that gets preserved as output when you create a version using \"Save & Run All\" \n",
    "# You can also write temporary files to /kaggle/temp/, but they won't be saved outside of the current session"
   ]
  },
  {
   "cell_type": "markdown",
   "id": "fdb31058",
   "metadata": {
    "papermill": {
     "duration": 0.015124,
     "end_time": "2023-08-07T05:45:20.087787",
     "exception": false,
     "start_time": "2023-08-07T05:45:20.072663",
     "status": "completed"
    },
    "tags": []
   },
   "source": [
    "# Reading the data"
   ]
  },
  {
   "cell_type": "code",
   "execution_count": 2,
   "id": "8b8affd1",
   "metadata": {
    "execution": {
     "iopub.execute_input": "2023-08-07T05:45:20.120528Z",
     "iopub.status.busy": "2023-08-07T05:45:20.119703Z",
     "iopub.status.idle": "2023-08-07T05:45:34.611879Z",
     "shell.execute_reply": "2023-08-07T05:45:34.610873Z"
    },
    "papermill": {
     "duration": 14.510724,
     "end_time": "2023-08-07T05:45:34.614268",
     "exception": false,
     "start_time": "2023-08-07T05:45:20.103544",
     "status": "completed"
    },
    "tags": []
   },
   "outputs": [],
   "source": [
    "# Reading LA crimes data from 2010 up to 2019\n",
    "past_data = pd.read_csv('/kaggle/input/crime-data-from-2020-to-present/Crime_Data_from_2010_to_2019.csv')"
   ]
  },
  {
   "cell_type": "code",
   "execution_count": 3,
   "id": "ff51bcab",
   "metadata": {
    "execution": {
     "iopub.execute_input": "2023-08-07T05:45:34.647029Z",
     "iopub.status.busy": "2023-08-07T05:45:34.646447Z",
     "iopub.status.idle": "2023-08-07T05:45:34.655830Z",
     "shell.execute_reply": "2023-08-07T05:45:34.654959Z"
    },
    "papermill": {
     "duration": 0.028216,
     "end_time": "2023-08-07T05:45:34.658092",
     "exception": false,
     "start_time": "2023-08-07T05:45:34.629876",
     "status": "completed"
    },
    "tags": []
   },
   "outputs": [
    {
     "data": {
      "text/plain": [
       "Index(['DR_NO', 'Date Rptd', 'DATE OCC', 'TIME OCC', 'AREA ', 'AREA NAME',\n",
       "       'Rpt Dist No', 'Part 1-2', 'Crm Cd', 'Crm Cd Desc', 'Mocodes',\n",
       "       'Vict Age', 'Vict Sex', 'Vict Descent', 'Premis Cd', 'Premis Desc',\n",
       "       'Weapon Used Cd', 'Weapon Desc', 'Status', 'Status Desc', 'Crm Cd 1',\n",
       "       'Crm Cd 2', 'Crm Cd 3', 'Crm Cd 4', 'LOCATION', 'Cross Street', 'LAT',\n",
       "       'LON'],\n",
       "      dtype='object')"
      ]
     },
     "execution_count": 3,
     "metadata": {},
     "output_type": "execute_result"
    }
   ],
   "source": [
    "past_data.columns"
   ]
  },
  {
   "cell_type": "code",
   "execution_count": 4,
   "id": "e453c894",
   "metadata": {
    "execution": {
     "iopub.execute_input": "2023-08-07T05:45:34.690316Z",
     "iopub.status.busy": "2023-08-07T05:45:34.690031Z",
     "iopub.status.idle": "2023-08-07T05:45:36.103588Z",
     "shell.execute_reply": "2023-08-07T05:45:36.102536Z"
    },
    "papermill": {
     "duration": 1.432079,
     "end_time": "2023-08-07T05:45:36.105959",
     "exception": false,
     "start_time": "2023-08-07T05:45:34.673880",
     "status": "completed"
    },
    "tags": []
   },
   "outputs": [],
   "source": [
    "indexed_area = {'NaN': 10, 'Newton': 8, 'Pacific': 6, 'Hollywood': 2, 'Central': 1, 'Northeast': 14, 'Hollenbeck': 9, 'Southwest': 12, 'Rampart': 7, 'Devonshire': 19, 'Southeast': 13, 'Olympic': 15, 'Harbor': 10, 'Wilshire': 5, '77th Street': 11, 'West LA': 3, 'Topanga': 18, 'Mission': 21, 'Van Nuys': 17, 'N Hollywood': 16, 'Foothill': 20, 'West Valley': 4}\n",
    "distance_from_center = past_data['AREA NAME'].map(lambda x: indexed_area[x])"
   ]
  },
  {
   "cell_type": "code",
   "execution_count": 5,
   "id": "261632b1",
   "metadata": {
    "execution": {
     "iopub.execute_input": "2023-08-07T05:45:36.138529Z",
     "iopub.status.busy": "2023-08-07T05:45:36.138174Z",
     "iopub.status.idle": "2023-08-07T05:45:37.292125Z",
     "shell.execute_reply": "2023-08-07T05:45:37.291232Z"
    },
    "papermill": {
     "duration": 1.172612,
     "end_time": "2023-08-07T05:45:37.294396",
     "exception": false,
     "start_time": "2023-08-07T05:45:36.121784",
     "status": "completed"
    },
    "tags": []
   },
   "outputs": [
    {
     "data": {
      "text/html": [
       "<div>\n",
       "<style scoped>\n",
       "    .dataframe tbody tr th:only-of-type {\n",
       "        vertical-align: middle;\n",
       "    }\n",
       "\n",
       "    .dataframe tbody tr th {\n",
       "        vertical-align: top;\n",
       "    }\n",
       "\n",
       "    .dataframe thead th {\n",
       "        text-align: right;\n",
       "    }\n",
       "</style>\n",
       "<table border=\"1\" class=\"dataframe\">\n",
       "  <thead>\n",
       "    <tr style=\"text-align: right;\">\n",
       "      <th></th>\n",
       "      <th>DR_NO</th>\n",
       "      <th>Date Rptd</th>\n",
       "      <th>DATE OCC</th>\n",
       "      <th>TIME OCC</th>\n",
       "      <th>AREA</th>\n",
       "      <th>AREA NAME</th>\n",
       "      <th>Rpt Dist No</th>\n",
       "      <th>Part 1-2</th>\n",
       "      <th>Crm Cd</th>\n",
       "      <th>Crm Cd Desc</th>\n",
       "      <th>...</th>\n",
       "      <th>Status Desc</th>\n",
       "      <th>Crm Cd 1</th>\n",
       "      <th>Crm Cd 2</th>\n",
       "      <th>Crm Cd 3</th>\n",
       "      <th>Crm Cd 4</th>\n",
       "      <th>LOCATION</th>\n",
       "      <th>Cross Street</th>\n",
       "      <th>LAT</th>\n",
       "      <th>LON</th>\n",
       "      <th>Distance Index</th>\n",
       "    </tr>\n",
       "  </thead>\n",
       "  <tbody>\n",
       "    <tr>\n",
       "      <th>0</th>\n",
       "      <td>1307355</td>\n",
       "      <td>02/20/2010 12:00:00 AM</td>\n",
       "      <td>02/20/2010 12:00:00 AM</td>\n",
       "      <td>1350</td>\n",
       "      <td>13</td>\n",
       "      <td>Newton</td>\n",
       "      <td>1385</td>\n",
       "      <td>2</td>\n",
       "      <td>900</td>\n",
       "      <td>VIOLATION OF COURT ORDER</td>\n",
       "      <td>...</td>\n",
       "      <td>Adult Arrest</td>\n",
       "      <td>900.0</td>\n",
       "      <td>NaN</td>\n",
       "      <td>NaN</td>\n",
       "      <td>NaN</td>\n",
       "      <td>300 E  GAGE                         AV</td>\n",
       "      <td>NaN</td>\n",
       "      <td>33.9825</td>\n",
       "      <td>-118.2695</td>\n",
       "      <td>8</td>\n",
       "    </tr>\n",
       "    <tr>\n",
       "      <th>1</th>\n",
       "      <td>11401303</td>\n",
       "      <td>09/13/2010 12:00:00 AM</td>\n",
       "      <td>09/12/2010 12:00:00 AM</td>\n",
       "      <td>45</td>\n",
       "      <td>14</td>\n",
       "      <td>Pacific</td>\n",
       "      <td>1485</td>\n",
       "      <td>2</td>\n",
       "      <td>740</td>\n",
       "      <td>VANDALISM - FELONY ($400 &amp; OVER, ALL CHURCH VA...</td>\n",
       "      <td>...</td>\n",
       "      <td>Invest Cont</td>\n",
       "      <td>740.0</td>\n",
       "      <td>NaN</td>\n",
       "      <td>NaN</td>\n",
       "      <td>NaN</td>\n",
       "      <td>SEPULVEDA                    BL</td>\n",
       "      <td>MANCHESTER                   AV</td>\n",
       "      <td>33.9599</td>\n",
       "      <td>-118.3962</td>\n",
       "      <td>6</td>\n",
       "    </tr>\n",
       "    <tr>\n",
       "      <th>2</th>\n",
       "      <td>70309629</td>\n",
       "      <td>08/09/2010 12:00:00 AM</td>\n",
       "      <td>08/09/2010 12:00:00 AM</td>\n",
       "      <td>1515</td>\n",
       "      <td>13</td>\n",
       "      <td>Newton</td>\n",
       "      <td>1324</td>\n",
       "      <td>2</td>\n",
       "      <td>946</td>\n",
       "      <td>OTHER MISCELLANEOUS CRIME</td>\n",
       "      <td>...</td>\n",
       "      <td>Invest Cont</td>\n",
       "      <td>946.0</td>\n",
       "      <td>NaN</td>\n",
       "      <td>NaN</td>\n",
       "      <td>NaN</td>\n",
       "      <td>1300 E  21ST                         ST</td>\n",
       "      <td>NaN</td>\n",
       "      <td>34.0224</td>\n",
       "      <td>-118.2524</td>\n",
       "      <td>8</td>\n",
       "    </tr>\n",
       "    <tr>\n",
       "      <th>3</th>\n",
       "      <td>90631215</td>\n",
       "      <td>01/05/2010 12:00:00 AM</td>\n",
       "      <td>01/05/2010 12:00:00 AM</td>\n",
       "      <td>150</td>\n",
       "      <td>6</td>\n",
       "      <td>Hollywood</td>\n",
       "      <td>646</td>\n",
       "      <td>2</td>\n",
       "      <td>900</td>\n",
       "      <td>VIOLATION OF COURT ORDER</td>\n",
       "      <td>...</td>\n",
       "      <td>Invest Cont</td>\n",
       "      <td>900.0</td>\n",
       "      <td>998.0</td>\n",
       "      <td>NaN</td>\n",
       "      <td>NaN</td>\n",
       "      <td>CAHUENGA                     BL</td>\n",
       "      <td>HOLLYWOOD                    BL</td>\n",
       "      <td>34.1016</td>\n",
       "      <td>-118.3295</td>\n",
       "      <td>2</td>\n",
       "    </tr>\n",
       "    <tr>\n",
       "      <th>4</th>\n",
       "      <td>100100501</td>\n",
       "      <td>01/03/2010 12:00:00 AM</td>\n",
       "      <td>01/02/2010 12:00:00 AM</td>\n",
       "      <td>2100</td>\n",
       "      <td>1</td>\n",
       "      <td>Central</td>\n",
       "      <td>176</td>\n",
       "      <td>1</td>\n",
       "      <td>122</td>\n",
       "      <td>RAPE, ATTEMPTED</td>\n",
       "      <td>...</td>\n",
       "      <td>Invest Cont</td>\n",
       "      <td>122.0</td>\n",
       "      <td>NaN</td>\n",
       "      <td>NaN</td>\n",
       "      <td>NaN</td>\n",
       "      <td>8TH                          ST</td>\n",
       "      <td>SAN PEDRO                    ST</td>\n",
       "      <td>34.0387</td>\n",
       "      <td>-118.2488</td>\n",
       "      <td>1</td>\n",
       "    </tr>\n",
       "    <tr>\n",
       "      <th>...</th>\n",
       "      <td>...</td>\n",
       "      <td>...</td>\n",
       "      <td>...</td>\n",
       "      <td>...</td>\n",
       "      <td>...</td>\n",
       "      <td>...</td>\n",
       "      <td>...</td>\n",
       "      <td>...</td>\n",
       "      <td>...</td>\n",
       "      <td>...</td>\n",
       "      <td>...</td>\n",
       "      <td>...</td>\n",
       "      <td>...</td>\n",
       "      <td>...</td>\n",
       "      <td>...</td>\n",
       "      <td>...</td>\n",
       "      <td>...</td>\n",
       "      <td>...</td>\n",
       "      <td>...</td>\n",
       "      <td>...</td>\n",
       "      <td>...</td>\n",
       "    </tr>\n",
       "    <tr>\n",
       "      <th>2119792</th>\n",
       "      <td>190506304</td>\n",
       "      <td>02/22/2019 12:00:00 AM</td>\n",
       "      <td>02/22/2019 12:00:00 AM</td>\n",
       "      <td>840</td>\n",
       "      <td>5</td>\n",
       "      <td>Harbor</td>\n",
       "      <td>569</td>\n",
       "      <td>2</td>\n",
       "      <td>627</td>\n",
       "      <td>CHILD ABUSE (PHYSICAL) - SIMPLE ASSAULT</td>\n",
       "      <td>...</td>\n",
       "      <td>Adult Other</td>\n",
       "      <td>627.0</td>\n",
       "      <td>NaN</td>\n",
       "      <td>NaN</td>\n",
       "      <td>NaN</td>\n",
       "      <td>100 W  22ND                         ST</td>\n",
       "      <td>NaN</td>\n",
       "      <td>33.7257</td>\n",
       "      <td>-118.2801</td>\n",
       "      <td>10</td>\n",
       "    </tr>\n",
       "    <tr>\n",
       "      <th>2119793</th>\n",
       "      <td>190608903</td>\n",
       "      <td>03/28/2019 12:00:00 AM</td>\n",
       "      <td>03/28/2019 12:00:00 AM</td>\n",
       "      <td>400</td>\n",
       "      <td>6</td>\n",
       "      <td>Hollywood</td>\n",
       "      <td>644</td>\n",
       "      <td>1</td>\n",
       "      <td>648</td>\n",
       "      <td>ARSON</td>\n",
       "      <td>...</td>\n",
       "      <td>Invest Cont</td>\n",
       "      <td>648.0</td>\n",
       "      <td>NaN</td>\n",
       "      <td>NaN</td>\n",
       "      <td>NaN</td>\n",
       "      <td>1400 N  LA BREA                      AV</td>\n",
       "      <td>NaN</td>\n",
       "      <td>34.0962</td>\n",
       "      <td>-118.3490</td>\n",
       "      <td>2</td>\n",
       "    </tr>\n",
       "    <tr>\n",
       "      <th>2119794</th>\n",
       "      <td>192004409</td>\n",
       "      <td>01/06/2019 12:00:00 AM</td>\n",
       "      <td>01/06/2019 12:00:00 AM</td>\n",
       "      <td>2100</td>\n",
       "      <td>20</td>\n",
       "      <td>Olympic</td>\n",
       "      <td>2029</td>\n",
       "      <td>2</td>\n",
       "      <td>930</td>\n",
       "      <td>CRIMINAL THREATS - NO WEAPON DISPLAYED</td>\n",
       "      <td>...</td>\n",
       "      <td>Invest Cont</td>\n",
       "      <td>930.0</td>\n",
       "      <td>NaN</td>\n",
       "      <td>NaN</td>\n",
       "      <td>NaN</td>\n",
       "      <td>6TH</td>\n",
       "      <td>VIRGIL</td>\n",
       "      <td>34.0637</td>\n",
       "      <td>-118.2870</td>\n",
       "      <td>15</td>\n",
       "    </tr>\n",
       "    <tr>\n",
       "      <th>2119795</th>\n",
       "      <td>191716777</td>\n",
       "      <td>10/17/2019 12:00:00 AM</td>\n",
       "      <td>10/16/2019 12:00:00 AM</td>\n",
       "      <td>1800</td>\n",
       "      <td>17</td>\n",
       "      <td>Devonshire</td>\n",
       "      <td>1795</td>\n",
       "      <td>1</td>\n",
       "      <td>420</td>\n",
       "      <td>THEFT FROM MOTOR VEHICLE - PETTY ($950 &amp; UNDER)</td>\n",
       "      <td>...</td>\n",
       "      <td>Invest Cont</td>\n",
       "      <td>420.0</td>\n",
       "      <td>NaN</td>\n",
       "      <td>NaN</td>\n",
       "      <td>NaN</td>\n",
       "      <td>17200    NAPA                         ST</td>\n",
       "      <td>NaN</td>\n",
       "      <td>34.2266</td>\n",
       "      <td>-118.5085</td>\n",
       "      <td>19</td>\n",
       "    </tr>\n",
       "    <tr>\n",
       "      <th>2119796</th>\n",
       "      <td>190805435</td>\n",
       "      <td>02/01/2019 12:00:00 AM</td>\n",
       "      <td>02/01/2019 12:00:00 AM</td>\n",
       "      <td>1615</td>\n",
       "      <td>8</td>\n",
       "      <td>West LA</td>\n",
       "      <td>852</td>\n",
       "      <td>1</td>\n",
       "      <td>330</td>\n",
       "      <td>BURGLARY FROM VEHICLE</td>\n",
       "      <td>...</td>\n",
       "      <td>Invest Cont</td>\n",
       "      <td>330.0</td>\n",
       "      <td>NaN</td>\n",
       "      <td>NaN</td>\n",
       "      <td>NaN</td>\n",
       "      <td>1700    BARRY                        AV</td>\n",
       "      <td>NaN</td>\n",
       "      <td>34.0420</td>\n",
       "      <td>-118.4531</td>\n",
       "      <td>3</td>\n",
       "    </tr>\n",
       "  </tbody>\n",
       "</table>\n",
       "<p>2119797 rows × 29 columns</p>\n",
       "</div>"
      ],
      "text/plain": [
       "             DR_NO               Date Rptd                DATE OCC  TIME OCC  \\\n",
       "0          1307355  02/20/2010 12:00:00 AM  02/20/2010 12:00:00 AM      1350   \n",
       "1         11401303  09/13/2010 12:00:00 AM  09/12/2010 12:00:00 AM        45   \n",
       "2         70309629  08/09/2010 12:00:00 AM  08/09/2010 12:00:00 AM      1515   \n",
       "3         90631215  01/05/2010 12:00:00 AM  01/05/2010 12:00:00 AM       150   \n",
       "4        100100501  01/03/2010 12:00:00 AM  01/02/2010 12:00:00 AM      2100   \n",
       "...            ...                     ...                     ...       ...   \n",
       "2119792  190506304  02/22/2019 12:00:00 AM  02/22/2019 12:00:00 AM       840   \n",
       "2119793  190608903  03/28/2019 12:00:00 AM  03/28/2019 12:00:00 AM       400   \n",
       "2119794  192004409  01/06/2019 12:00:00 AM  01/06/2019 12:00:00 AM      2100   \n",
       "2119795  191716777  10/17/2019 12:00:00 AM  10/16/2019 12:00:00 AM      1800   \n",
       "2119796  190805435  02/01/2019 12:00:00 AM  02/01/2019 12:00:00 AM      1615   \n",
       "\n",
       "         AREA    AREA NAME  Rpt Dist No  Part 1-2  Crm Cd  \\\n",
       "0           13      Newton         1385         2     900   \n",
       "1           14     Pacific         1485         2     740   \n",
       "2           13      Newton         1324         2     946   \n",
       "3            6   Hollywood          646         2     900   \n",
       "4            1     Central          176         1     122   \n",
       "...        ...         ...          ...       ...     ...   \n",
       "2119792      5      Harbor          569         2     627   \n",
       "2119793      6   Hollywood          644         1     648   \n",
       "2119794     20     Olympic         2029         2     930   \n",
       "2119795     17  Devonshire         1795         1     420   \n",
       "2119796      8     West LA          852         1     330   \n",
       "\n",
       "                                               Crm Cd Desc  ...   Status Desc  \\\n",
       "0                                 VIOLATION OF COURT ORDER  ...  Adult Arrest   \n",
       "1        VANDALISM - FELONY ($400 & OVER, ALL CHURCH VA...  ...   Invest Cont   \n",
       "2                                OTHER MISCELLANEOUS CRIME  ...   Invest Cont   \n",
       "3                                 VIOLATION OF COURT ORDER  ...   Invest Cont   \n",
       "4                                          RAPE, ATTEMPTED  ...   Invest Cont   \n",
       "...                                                    ...  ...           ...   \n",
       "2119792            CHILD ABUSE (PHYSICAL) - SIMPLE ASSAULT  ...   Adult Other   \n",
       "2119793                                              ARSON  ...   Invest Cont   \n",
       "2119794             CRIMINAL THREATS - NO WEAPON DISPLAYED  ...   Invest Cont   \n",
       "2119795    THEFT FROM MOTOR VEHICLE - PETTY ($950 & UNDER)  ...   Invest Cont   \n",
       "2119796                              BURGLARY FROM VEHICLE  ...   Invest Cont   \n",
       "\n",
       "         Crm Cd 1 Crm Cd 2 Crm Cd 3  Crm Cd 4  \\\n",
       "0           900.0      NaN      NaN       NaN   \n",
       "1           740.0      NaN      NaN       NaN   \n",
       "2           946.0      NaN      NaN       NaN   \n",
       "3           900.0    998.0      NaN       NaN   \n",
       "4           122.0      NaN      NaN       NaN   \n",
       "...           ...      ...      ...       ...   \n",
       "2119792     627.0      NaN      NaN       NaN   \n",
       "2119793     648.0      NaN      NaN       NaN   \n",
       "2119794     930.0      NaN      NaN       NaN   \n",
       "2119795     420.0      NaN      NaN       NaN   \n",
       "2119796     330.0      NaN      NaN       NaN   \n",
       "\n",
       "                                         LOCATION  \\\n",
       "0          300 E  GAGE                         AV   \n",
       "1                 SEPULVEDA                    BL   \n",
       "2         1300 E  21ST                         ST   \n",
       "3                 CAHUENGA                     BL   \n",
       "4                 8TH                          ST   \n",
       "...                                           ...   \n",
       "2119792    100 W  22ND                         ST   \n",
       "2119793   1400 N  LA BREA                      AV   \n",
       "2119794                                       6TH   \n",
       "2119795  17200    NAPA                         ST   \n",
       "2119796   1700    BARRY                        AV   \n",
       "\n",
       "                            Cross Street      LAT       LON Distance Index  \n",
       "0                                    NaN  33.9825 -118.2695              8  \n",
       "1        MANCHESTER                   AV  33.9599 -118.3962              6  \n",
       "2                                    NaN  34.0224 -118.2524              8  \n",
       "3        HOLLYWOOD                    BL  34.1016 -118.3295              2  \n",
       "4        SAN PEDRO                    ST  34.0387 -118.2488              1  \n",
       "...                                  ...      ...       ...            ...  \n",
       "2119792                              NaN  33.7257 -118.2801             10  \n",
       "2119793                              NaN  34.0962 -118.3490              2  \n",
       "2119794                           VIRGIL  34.0637 -118.2870             15  \n",
       "2119795                              NaN  34.2266 -118.5085             19  \n",
       "2119796                              NaN  34.0420 -118.4531              3  \n",
       "\n",
       "[2119797 rows x 29 columns]"
      ]
     },
     "execution_count": 5,
     "metadata": {},
     "output_type": "execute_result"
    }
   ],
   "source": [
    "past_data['Distance Index'] = distance_from_center\n",
    "past_data"
   ]
  },
  {
   "cell_type": "code",
   "execution_count": 6,
   "id": "934d195e",
   "metadata": {
    "execution": {
     "iopub.execute_input": "2023-08-07T05:45:37.328835Z",
     "iopub.status.busy": "2023-08-07T05:45:37.327962Z",
     "iopub.status.idle": "2023-08-07T05:45:37.518554Z",
     "shell.execute_reply": "2023-08-07T05:45:37.517511Z"
    },
    "papermill": {
     "duration": 0.210011,
     "end_time": "2023-08-07T05:45:37.520923",
     "exception": false,
     "start_time": "2023-08-07T05:45:37.310912",
     "status": "completed"
    },
    "tags": []
   },
   "outputs": [
    {
     "data": {
      "text/plain": [
       "array(['Newton', 'Pacific', 'Hollywood', 'Central', 'Northeast',\n",
       "       'Hollenbeck', 'Southwest', 'Rampart', 'Devonshire', 'Southeast',\n",
       "       'Olympic', 'Harbor', 'Wilshire', '77th Street', 'West LA',\n",
       "       'Topanga', 'Mission', 'Van Nuys', 'N Hollywood', 'Foothill',\n",
       "       'West Valley'], dtype=object)"
      ]
     },
     "execution_count": 6,
     "metadata": {},
     "output_type": "execute_result"
    }
   ],
   "source": [
    "past_data[\"AREA NAME\"].unique()"
   ]
  },
  {
   "cell_type": "code",
   "execution_count": 7,
   "id": "d2ae062f",
   "metadata": {
    "execution": {
     "iopub.execute_input": "2023-08-07T05:45:37.555825Z",
     "iopub.status.busy": "2023-08-07T05:45:37.555253Z",
     "iopub.status.idle": "2023-08-07T05:45:38.653304Z",
     "shell.execute_reply": "2023-08-07T05:45:38.652264Z"
    },
    "papermill": {
     "duration": 1.118566,
     "end_time": "2023-08-07T05:45:38.655785",
     "exception": false,
     "start_time": "2023-08-07T05:45:37.537219",
     "status": "completed"
    },
    "tags": []
   },
   "outputs": [],
   "source": [
    "past_data = past_data[((past_data[\"Vict Sex\"] == \"M\") | (past_data[\"Vict Sex\"] == \"F\"))]"
   ]
  },
  {
   "cell_type": "markdown",
   "id": "e50ebc2c",
   "metadata": {
    "papermill": {
     "duration": 0.01617,
     "end_time": "2023-08-07T05:45:38.688568",
     "exception": false,
     "start_time": "2023-08-07T05:45:38.672398",
     "status": "completed"
    },
    "tags": []
   },
   "source": [
    "# Dropping useless columns"
   ]
  },
  {
   "cell_type": "code",
   "execution_count": 8,
   "id": "ea707d56",
   "metadata": {
    "execution": {
     "iopub.execute_input": "2023-08-07T05:45:38.723735Z",
     "iopub.status.busy": "2023-08-07T05:45:38.722895Z",
     "iopub.status.idle": "2023-08-07T05:45:38.877389Z",
     "shell.execute_reply": "2023-08-07T05:45:38.876454Z"
    },
    "papermill": {
     "duration": 0.174542,
     "end_time": "2023-08-07T05:45:38.879503",
     "exception": false,
     "start_time": "2023-08-07T05:45:38.704961",
     "status": "completed"
    },
    "tags": []
   },
   "outputs": [
    {
     "name": "stdout",
     "output_type": "stream",
     "text": [
      "Index(['DR_NO', 'Date Rptd', 'DATE OCC', 'TIME OCC', 'AREA ', 'AREA NAME',\n",
      "       'Rpt Dist No', 'Part 1-2', 'Crm Cd', 'Crm Cd Desc', 'Mocodes',\n",
      "       'Vict Age', 'Vict Sex', 'Vict Descent', 'Premis Cd', 'Premis Desc',\n",
      "       'Weapon Used Cd', 'Weapon Desc', 'Status', 'Status Desc', 'Crm Cd 1',\n",
      "       'Crm Cd 2', 'Crm Cd 3', 'Crm Cd 4', 'LOCATION', 'Cross Street', 'LAT',\n",
      "       'LON', 'Distance Index'],\n",
      "      dtype='object')\n"
     ]
    },
    {
     "name": "stderr",
     "output_type": "stream",
     "text": [
      "/tmp/ipykernel_24/3938631374.py:28: SettingWithCopyWarning: \n",
      "A value is trying to be set on a copy of a slice from a DataFrame\n",
      "\n",
      "See the caveats in the documentation: https://pandas.pydata.org/pandas-docs/stable/user_guide/indexing.html#returning-a-view-versus-a-copy\n",
      "  past_data.drop(definitely_useless_columns + questioned_columns, axis=1, inplace=True)\n"
     ]
    }
   ],
   "source": [
    "print(past_data.columns)\n",
    "definitely_useless_columns = [\n",
    "    'DR_NO',\n",
    "    'AREA NAME',\n",
    "    'Rpt Dist No',\n",
    "    'Date Rptd',\n",
    "    'Part 1-2',\n",
    "    'Mocodes',\n",
    "    'Vict Descent',\n",
    "    'Premis Cd',\n",
    "    'Premis Desc',\n",
    "    'Weapon Used Cd',\n",
    "    'Weapon Desc',\n",
    "    'Status',\n",
    "    'Status Desc',\n",
    "    'Crm Cd 1',\n",
    "    'Crm Cd 2',\n",
    "    'Crm Cd 3',\n",
    "    'Crm Cd 4',\n",
    "    'LOCATION',\n",
    "    'Cross Street',\n",
    "]\n",
    "#and this columns can be used in future models, but useless for now\n",
    "questioned_columns = [\n",
    "    'TIME OCC',\n",
    "    'Crm Cd Desc'\n",
    "]\n",
    "past_data.drop(definitely_useless_columns + questioned_columns, axis=1, inplace=True)"
   ]
  },
  {
   "cell_type": "markdown",
   "id": "a2ce9c9e",
   "metadata": {
    "papermill": {
     "duration": 0.016233,
     "end_time": "2023-08-07T05:45:38.913018",
     "exception": false,
     "start_time": "2023-08-07T05:45:38.896785",
     "status": "completed"
    },
    "tags": []
   },
   "source": [
    "# Check for nans"
   ]
  },
  {
   "cell_type": "code",
   "execution_count": 9,
   "id": "a92a7c89",
   "metadata": {
    "execution": {
     "iopub.execute_input": "2023-08-07T05:45:38.948099Z",
     "iopub.status.busy": "2023-08-07T05:45:38.946652Z",
     "iopub.status.idle": "2023-08-07T05:45:40.731443Z",
     "shell.execute_reply": "2023-08-07T05:45:40.730428Z"
    },
    "papermill": {
     "duration": 1.8043,
     "end_time": "2023-08-07T05:45:40.733560",
     "exception": false,
     "start_time": "2023-08-07T05:45:38.929260",
     "status": "completed"
    },
    "tags": []
   },
   "outputs": [
    {
     "data": {
      "text/plain": [
       "DATE OCC          0\n",
       "AREA              0\n",
       "Crm Cd            0\n",
       "Vict Age          0\n",
       "Vict Sex          0\n",
       "LAT               0\n",
       "LON               0\n",
       "Distance Index    0\n",
       "dtype: int64"
      ]
     },
     "metadata": {},
     "output_type": "display_data"
    }
   ],
   "source": [
    "#there are no nans in the data, but there are rows with zeroes in longitude or latitude (not corresponding to LA), let's drop them.\n",
    "past_data = past_data[((past_data['LON'] > 0.1) | (past_data['LON'] < -0.1)) & ((past_data['LAT'] < -0.1) | (past_data['LAT'] > 0.1))]\n",
    "past_data = past_data[((past_data[\"Vict Sex\"] == \"M\") | (past_data[\"Vict Sex\"] == \"F\"))]\n",
    "display(past_data.isna().sum())\n",
    "past_data.reset_index(inplace=True, drop=True)"
   ]
  },
  {
   "cell_type": "markdown",
   "id": "990c8147",
   "metadata": {
    "papermill": {
     "duration": 0.016972,
     "end_time": "2023-08-07T05:45:40.767412",
     "exception": false,
     "start_time": "2023-08-07T05:45:40.750440",
     "status": "completed"
    },
    "tags": []
   },
   "source": [
    "# Scaling the time"
   ]
  },
  {
   "cell_type": "code",
   "execution_count": 10,
   "id": "7760e59f",
   "metadata": {
    "execution": {
     "iopub.execute_input": "2023-08-07T05:45:40.802497Z",
     "iopub.status.busy": "2023-08-07T05:45:40.801577Z",
     "iopub.status.idle": "2023-08-07T05:46:10.526216Z",
     "shell.execute_reply": "2023-08-07T05:46:10.525251Z"
    },
    "papermill": {
     "duration": 29.744551,
     "end_time": "2023-08-07T05:46:10.528735",
     "exception": false,
     "start_time": "2023-08-07T05:45:40.784184",
     "status": "completed"
    },
    "tags": []
   },
   "outputs": [],
   "source": [
    "#get day as a feature\n",
    "from datetime import datetime\n",
    "scaled_dates = past_data['DATE OCC'].apply(lambda x: datetime.strptime(x[:10], '%m/%d/%Y'))\n",
    "scaled_dates = (scaled_dates - scaled_dates.min()).apply(lambda x: x.days).astype(float)\n",
    "scaled_dates = scaled_dates / 100\n",
    "past_data['DATE OCC'] = scaled_dates"
   ]
  },
  {
   "cell_type": "markdown",
   "id": "d49ba277",
   "metadata": {
    "papermill": {
     "duration": 0.016916,
     "end_time": "2023-08-07T05:46:10.562607",
     "exception": false,
     "start_time": "2023-08-07T05:46:10.545691",
     "status": "completed"
    },
    "tags": []
   },
   "source": [
    "# Scaling the coordinates"
   ]
  },
  {
   "cell_type": "code",
   "execution_count": 11,
   "id": "8bb70af2",
   "metadata": {
    "execution": {
     "iopub.execute_input": "2023-08-07T05:46:10.598507Z",
     "iopub.status.busy": "2023-08-07T05:46:10.596823Z",
     "iopub.status.idle": "2023-08-07T05:46:10.667447Z",
     "shell.execute_reply": "2023-08-07T05:46:10.665984Z"
    },
    "papermill": {
     "duration": 0.090168,
     "end_time": "2023-08-07T05:46:10.669827",
     "exception": false,
     "start_time": "2023-08-07T05:46:10.579659",
     "status": "completed"
    },
    "tags": []
   },
   "outputs": [],
   "source": [
    "#scaling the longitude and latitude\n",
    "past_data['init_lat'] = past_data['LAT']\n",
    "past_data['init_lon'] = past_data['LON']\n",
    "#here we are remembering the linear transformation coefficients \n",
    "#so that we can use it for displaying our predictions on the map later\n",
    "b_lat, a_lat = past_data['LAT'].min(), (past_data['LAT'].max() - past_data['LAT'].min())\n",
    "b_lon, a_lon = past_data['LON'].min(), (past_data['LON'].max() - past_data['LON'].min())\n",
    "past_data['LON'] = (past_data['LON'] - past_data['LON'].min()) / (past_data['LON'].max() - past_data['LON'].min())\n",
    "past_data['LAT'] = (past_data['LAT'] - past_data['LAT'].min()) / (past_data['LAT'].max() - past_data['LAT'].min())"
   ]
  },
  {
   "cell_type": "markdown",
   "id": "1eb918d4",
   "metadata": {
    "papermill": {
     "duration": 0.016291,
     "end_time": "2023-08-07T05:46:10.702738",
     "exception": false,
     "start_time": "2023-08-07T05:46:10.686447",
     "status": "completed"
    },
    "tags": []
   },
   "source": [
    "# Drop low-frequency crimes"
   ]
  },
  {
   "cell_type": "code",
   "execution_count": 12,
   "id": "e692ebad",
   "metadata": {
    "execution": {
     "iopub.execute_input": "2023-08-07T05:46:10.736266Z",
     "iopub.status.busy": "2023-08-07T05:46:10.735963Z",
     "iopub.status.idle": "2023-08-07T05:46:22.104626Z",
     "shell.execute_reply": "2023-08-07T05:46:22.103672Z"
    },
    "papermill": {
     "duration": 11.388087,
     "end_time": "2023-08-07T05:46:22.106991",
     "exception": false,
     "start_time": "2023-08-07T05:46:10.718904",
     "status": "completed"
    },
    "tags": []
   },
   "outputs": [],
   "source": [
    "#drop crimes with low occurency\n",
    "counts = past_data['Crm Cd'].value_counts()\n",
    "matching = pd.Series([counts[x] > 1000 for x in past_data['Crm Cd']])\n",
    "past_data = past_data[matching]"
   ]
  },
  {
   "cell_type": "markdown",
   "id": "7a6a3907",
   "metadata": {
    "papermill": {
     "duration": 0.017458,
     "end_time": "2023-08-07T05:46:22.141383",
     "exception": false,
     "start_time": "2023-08-07T05:46:22.123925",
     "status": "completed"
    },
    "tags": []
   },
   "source": [
    "# Use one-hot encoding on Area and Crime Code features"
   ]
  },
  {
   "cell_type": "code",
   "execution_count": 13,
   "id": "adca9470",
   "metadata": {
    "execution": {
     "iopub.execute_input": "2023-08-07T05:46:22.175642Z",
     "iopub.status.busy": "2023-08-07T05:46:22.175331Z",
     "iopub.status.idle": "2023-08-07T05:46:24.563797Z",
     "shell.execute_reply": "2023-08-07T05:46:24.562841Z"
    },
    "papermill": {
     "duration": 2.408524,
     "end_time": "2023-08-07T05:46:24.566172",
     "exception": false,
     "start_time": "2023-08-07T05:46:22.157648",
     "status": "completed"
    },
    "tags": []
   },
   "outputs": [],
   "source": [
    "past_data['AREA '] = past_data['AREA '].astype(str)\n",
    "past_data['Crm Cd'] = past_data['Crm Cd'].astype(str)"
   ]
  },
  {
   "cell_type": "code",
   "execution_count": 14,
   "id": "54779a42",
   "metadata": {
    "execution": {
     "iopub.execute_input": "2023-08-07T05:46:24.601959Z",
     "iopub.status.busy": "2023-08-07T05:46:24.601612Z",
     "iopub.status.idle": "2023-08-07T05:46:28.479467Z",
     "shell.execute_reply": "2023-08-07T05:46:28.477165Z"
    },
    "papermill": {
     "duration": 3.898514,
     "end_time": "2023-08-07T05:46:28.482161",
     "exception": false,
     "start_time": "2023-08-07T05:46:24.583647",
     "status": "completed"
    },
    "tags": []
   },
   "outputs": [
    {
     "name": "stdout",
     "output_type": "stream",
     "text": [
      "Index(['DATE OCC', 'Vict Age', 'LAT', 'LON', 'Distance Index', 'init_lat',\n",
      "       'init_lon', 'AREA _1', 'AREA _10', 'AREA _11',\n",
      "       ...\n",
      "       'Crm Cd_928', 'Crm Cd_930', 'Crm Cd_932', 'Crm Cd_940', 'Crm Cd_943',\n",
      "       'Crm Cd_946', 'Crm Cd_951', 'Crm Cd_956', 'Vict Sex_F', 'Vict Sex_M'],\n",
      "      dtype='object', length=103)\n"
     ]
    }
   ],
   "source": [
    "data = pd.get_dummies(past_data, dtype=float).sort_values(by='DATE OCC')\n",
    "data.reset_index(inplace=True, drop=True)\n",
    "print(data.columns)"
   ]
  },
  {
   "cell_type": "code",
   "execution_count": 15,
   "id": "8da89c51",
   "metadata": {
    "execution": {
     "iopub.execute_input": "2023-08-07T05:46:28.517540Z",
     "iopub.status.busy": "2023-08-07T05:46:28.517211Z",
     "iopub.status.idle": "2023-08-07T05:46:30.053345Z",
     "shell.execute_reply": "2023-08-07T05:46:30.052324Z"
    },
    "papermill": {
     "duration": 1.55639,
     "end_time": "2023-08-07T05:46:30.055783",
     "exception": false,
     "start_time": "2023-08-07T05:46:28.499393",
     "status": "completed"
    },
    "tags": []
   },
   "outputs": [
    {
     "data": {
      "text/html": [
       "<div>\n",
       "<style scoped>\n",
       "    .dataframe tbody tr th:only-of-type {\n",
       "        vertical-align: middle;\n",
       "    }\n",
       "\n",
       "    .dataframe tbody tr th {\n",
       "        vertical-align: top;\n",
       "    }\n",
       "\n",
       "    .dataframe thead th {\n",
       "        text-align: right;\n",
       "    }\n",
       "</style>\n",
       "<table border=\"1\" class=\"dataframe\">\n",
       "  <thead>\n",
       "    <tr style=\"text-align: right;\">\n",
       "      <th></th>\n",
       "      <th>DATE OCC</th>\n",
       "      <th>Vict Age</th>\n",
       "      <th>LAT</th>\n",
       "      <th>LON</th>\n",
       "      <th>Distance Index</th>\n",
       "      <th>init_lat</th>\n",
       "      <th>init_lon</th>\n",
       "      <th>AREA _1</th>\n",
       "      <th>AREA _10</th>\n",
       "      <th>AREA _11</th>\n",
       "      <th>...</th>\n",
       "      <th>Crm Cd_928</th>\n",
       "      <th>Crm Cd_930</th>\n",
       "      <th>Crm Cd_932</th>\n",
       "      <th>Crm Cd_940</th>\n",
       "      <th>Crm Cd_943</th>\n",
       "      <th>Crm Cd_946</th>\n",
       "      <th>Crm Cd_951</th>\n",
       "      <th>Crm Cd_956</th>\n",
       "      <th>Vict Sex_F</th>\n",
       "      <th>Vict Sex_M</th>\n",
       "    </tr>\n",
       "  </thead>\n",
       "  <tbody>\n",
       "    <tr>\n",
       "      <th>740168</th>\n",
       "      <td>15.01</td>\n",
       "      <td>63</td>\n",
       "      <td>0.429972</td>\n",
       "      <td>0.385517</td>\n",
       "      <td>6</td>\n",
       "      <td>33.9653</td>\n",
       "      <td>-118.3775</td>\n",
       "      <td>0.0</td>\n",
       "      <td>0.0</td>\n",
       "      <td>0.0</td>\n",
       "      <td>...</td>\n",
       "      <td>0.0</td>\n",
       "      <td>0.0</td>\n",
       "      <td>0.0</td>\n",
       "      <td>0.0</td>\n",
       "      <td>0.0</td>\n",
       "      <td>0.0</td>\n",
       "      <td>0.0</td>\n",
       "      <td>0.0</td>\n",
       "      <td>1.0</td>\n",
       "      <td>0.0</td>\n",
       "    </tr>\n",
       "    <tr>\n",
       "      <th>740169</th>\n",
       "      <td>15.01</td>\n",
       "      <td>81</td>\n",
       "      <td>0.576588</td>\n",
       "      <td>0.345973</td>\n",
       "      <td>17</td>\n",
       "      <td>34.1776</td>\n",
       "      <td>-118.4237</td>\n",
       "      <td>0.0</td>\n",
       "      <td>0.0</td>\n",
       "      <td>0.0</td>\n",
       "      <td>...</td>\n",
       "      <td>0.0</td>\n",
       "      <td>0.0</td>\n",
       "      <td>0.0</td>\n",
       "      <td>0.0</td>\n",
       "      <td>0.0</td>\n",
       "      <td>0.0</td>\n",
       "      <td>0.0</td>\n",
       "      <td>0.0</td>\n",
       "      <td>1.0</td>\n",
       "      <td>0.0</td>\n",
       "    </tr>\n",
       "    <tr>\n",
       "      <th>740170</th>\n",
       "      <td>15.01</td>\n",
       "      <td>48</td>\n",
       "      <td>0.473550</td>\n",
       "      <td>0.497304</td>\n",
       "      <td>8</td>\n",
       "      <td>34.0284</td>\n",
       "      <td>-118.2469</td>\n",
       "      <td>0.0</td>\n",
       "      <td>0.0</td>\n",
       "      <td>0.0</td>\n",
       "      <td>...</td>\n",
       "      <td>0.0</td>\n",
       "      <td>0.0</td>\n",
       "      <td>0.0</td>\n",
       "      <td>0.0</td>\n",
       "      <td>0.0</td>\n",
       "      <td>0.0</td>\n",
       "      <td>0.0</td>\n",
       "      <td>0.0</td>\n",
       "      <td>0.0</td>\n",
       "      <td>1.0</td>\n",
       "    </tr>\n",
       "    <tr>\n",
       "      <th>740171</th>\n",
       "      <td>15.01</td>\n",
       "      <td>0</td>\n",
       "      <td>0.621961</td>\n",
       "      <td>0.357785</td>\n",
       "      <td>20</td>\n",
       "      <td>34.2433</td>\n",
       "      <td>-118.4099</td>\n",
       "      <td>0.0</td>\n",
       "      <td>0.0</td>\n",
       "      <td>0.0</td>\n",
       "      <td>...</td>\n",
       "      <td>0.0</td>\n",
       "      <td>0.0</td>\n",
       "      <td>0.0</td>\n",
       "      <td>0.0</td>\n",
       "      <td>0.0</td>\n",
       "      <td>0.0</td>\n",
       "      <td>0.0</td>\n",
       "      <td>0.0</td>\n",
       "      <td>0.0</td>\n",
       "      <td>1.0</td>\n",
       "    </tr>\n",
       "    <tr>\n",
       "      <th>740172</th>\n",
       "      <td>15.01</td>\n",
       "      <td>23</td>\n",
       "      <td>0.274171</td>\n",
       "      <td>0.458444</td>\n",
       "      <td>10</td>\n",
       "      <td>33.7397</td>\n",
       "      <td>-118.2923</td>\n",
       "      <td>0.0</td>\n",
       "      <td>0.0</td>\n",
       "      <td>0.0</td>\n",
       "      <td>...</td>\n",
       "      <td>0.0</td>\n",
       "      <td>0.0</td>\n",
       "      <td>0.0</td>\n",
       "      <td>0.0</td>\n",
       "      <td>0.0</td>\n",
       "      <td>0.0</td>\n",
       "      <td>0.0</td>\n",
       "      <td>0.0</td>\n",
       "      <td>0.0</td>\n",
       "      <td>1.0</td>\n",
       "    </tr>\n",
       "    <tr>\n",
       "      <th>...</th>\n",
       "      <td>...</td>\n",
       "      <td>...</td>\n",
       "      <td>...</td>\n",
       "      <td>...</td>\n",
       "      <td>...</td>\n",
       "      <td>...</td>\n",
       "      <td>...</td>\n",
       "      <td>...</td>\n",
       "      <td>...</td>\n",
       "      <td>...</td>\n",
       "      <td>...</td>\n",
       "      <td>...</td>\n",
       "      <td>...</td>\n",
       "      <td>...</td>\n",
       "      <td>...</td>\n",
       "      <td>...</td>\n",
       "      <td>...</td>\n",
       "      <td>...</td>\n",
       "      <td>...</td>\n",
       "      <td>...</td>\n",
       "      <td>...</td>\n",
       "    </tr>\n",
       "    <tr>\n",
       "      <th>1852660</th>\n",
       "      <td>36.51</td>\n",
       "      <td>59</td>\n",
       "      <td>0.510843</td>\n",
       "      <td>0.567919</td>\n",
       "      <td>9</td>\n",
       "      <td>34.0824</td>\n",
       "      <td>-118.1644</td>\n",
       "      <td>0.0</td>\n",
       "      <td>0.0</td>\n",
       "      <td>0.0</td>\n",
       "      <td>...</td>\n",
       "      <td>0.0</td>\n",
       "      <td>0.0</td>\n",
       "      <td>0.0</td>\n",
       "      <td>0.0</td>\n",
       "      <td>0.0</td>\n",
       "      <td>0.0</td>\n",
       "      <td>0.0</td>\n",
       "      <td>0.0</td>\n",
       "      <td>0.0</td>\n",
       "      <td>1.0</td>\n",
       "    </tr>\n",
       "    <tr>\n",
       "      <th>1852661</th>\n",
       "      <td>36.51</td>\n",
       "      <td>62</td>\n",
       "      <td>0.483494</td>\n",
       "      <td>0.497989</td>\n",
       "      <td>1</td>\n",
       "      <td>34.0428</td>\n",
       "      <td>-118.2461</td>\n",
       "      <td>1.0</td>\n",
       "      <td>0.0</td>\n",
       "      <td>0.0</td>\n",
       "      <td>...</td>\n",
       "      <td>0.0</td>\n",
       "      <td>0.0</td>\n",
       "      <td>0.0</td>\n",
       "      <td>0.0</td>\n",
       "      <td>0.0</td>\n",
       "      <td>0.0</td>\n",
       "      <td>0.0</td>\n",
       "      <td>0.0</td>\n",
       "      <td>0.0</td>\n",
       "      <td>1.0</td>\n",
       "    </tr>\n",
       "    <tr>\n",
       "      <th>1852662</th>\n",
       "      <td>36.51</td>\n",
       "      <td>18</td>\n",
       "      <td>0.488191</td>\n",
       "      <td>0.415475</td>\n",
       "      <td>5</td>\n",
       "      <td>34.0496</td>\n",
       "      <td>-118.3425</td>\n",
       "      <td>0.0</td>\n",
       "      <td>0.0</td>\n",
       "      <td>0.0</td>\n",
       "      <td>...</td>\n",
       "      <td>0.0</td>\n",
       "      <td>0.0</td>\n",
       "      <td>0.0</td>\n",
       "      <td>0.0</td>\n",
       "      <td>0.0</td>\n",
       "      <td>0.0</td>\n",
       "      <td>0.0</td>\n",
       "      <td>0.0</td>\n",
       "      <td>0.0</td>\n",
       "      <td>1.0</td>\n",
       "    </tr>\n",
       "    <tr>\n",
       "      <th>1852663</th>\n",
       "      <td>36.51</td>\n",
       "      <td>56</td>\n",
       "      <td>0.498757</td>\n",
       "      <td>0.401181</td>\n",
       "      <td>5</td>\n",
       "      <td>34.0649</td>\n",
       "      <td>-118.3592</td>\n",
       "      <td>0.0</td>\n",
       "      <td>0.0</td>\n",
       "      <td>0.0</td>\n",
       "      <td>...</td>\n",
       "      <td>0.0</td>\n",
       "      <td>0.0</td>\n",
       "      <td>0.0</td>\n",
       "      <td>0.0</td>\n",
       "      <td>0.0</td>\n",
       "      <td>0.0</td>\n",
       "      <td>0.0</td>\n",
       "      <td>0.0</td>\n",
       "      <td>0.0</td>\n",
       "      <td>1.0</td>\n",
       "    </tr>\n",
       "    <tr>\n",
       "      <th>1852664</th>\n",
       "      <td>36.51</td>\n",
       "      <td>18</td>\n",
       "      <td>0.525552</td>\n",
       "      <td>0.412565</td>\n",
       "      <td>2</td>\n",
       "      <td>34.1037</td>\n",
       "      <td>-118.3459</td>\n",
       "      <td>0.0</td>\n",
       "      <td>0.0</td>\n",
       "      <td>0.0</td>\n",
       "      <td>...</td>\n",
       "      <td>0.0</td>\n",
       "      <td>0.0</td>\n",
       "      <td>0.0</td>\n",
       "      <td>0.0</td>\n",
       "      <td>0.0</td>\n",
       "      <td>1.0</td>\n",
       "      <td>0.0</td>\n",
       "      <td>0.0</td>\n",
       "      <td>1.0</td>\n",
       "      <td>0.0</td>\n",
       "    </tr>\n",
       "  </tbody>\n",
       "</table>\n",
       "<p>1112497 rows × 103 columns</p>\n",
       "</div>"
      ],
      "text/plain": [
       "         DATE OCC  Vict Age       LAT       LON  Distance Index  init_lat  \\\n",
       "740168      15.01        63  0.429972  0.385517               6   33.9653   \n",
       "740169      15.01        81  0.576588  0.345973              17   34.1776   \n",
       "740170      15.01        48  0.473550  0.497304               8   34.0284   \n",
       "740171      15.01         0  0.621961  0.357785              20   34.2433   \n",
       "740172      15.01        23  0.274171  0.458444              10   33.7397   \n",
       "...           ...       ...       ...       ...             ...       ...   \n",
       "1852660     36.51        59  0.510843  0.567919               9   34.0824   \n",
       "1852661     36.51        62  0.483494  0.497989               1   34.0428   \n",
       "1852662     36.51        18  0.488191  0.415475               5   34.0496   \n",
       "1852663     36.51        56  0.498757  0.401181               5   34.0649   \n",
       "1852664     36.51        18  0.525552  0.412565               2   34.1037   \n",
       "\n",
       "         init_lon  AREA _1  AREA _10  AREA _11  ...  Crm Cd_928  Crm Cd_930  \\\n",
       "740168  -118.3775      0.0       0.0       0.0  ...         0.0         0.0   \n",
       "740169  -118.4237      0.0       0.0       0.0  ...         0.0         0.0   \n",
       "740170  -118.2469      0.0       0.0       0.0  ...         0.0         0.0   \n",
       "740171  -118.4099      0.0       0.0       0.0  ...         0.0         0.0   \n",
       "740172  -118.2923      0.0       0.0       0.0  ...         0.0         0.0   \n",
       "...           ...      ...       ...       ...  ...         ...         ...   \n",
       "1852660 -118.1644      0.0       0.0       0.0  ...         0.0         0.0   \n",
       "1852661 -118.2461      1.0       0.0       0.0  ...         0.0         0.0   \n",
       "1852662 -118.3425      0.0       0.0       0.0  ...         0.0         0.0   \n",
       "1852663 -118.3592      0.0       0.0       0.0  ...         0.0         0.0   \n",
       "1852664 -118.3459      0.0       0.0       0.0  ...         0.0         0.0   \n",
       "\n",
       "         Crm Cd_932  Crm Cd_940  Crm Cd_943  Crm Cd_946  Crm Cd_951  \\\n",
       "740168          0.0         0.0         0.0         0.0         0.0   \n",
       "740169          0.0         0.0         0.0         0.0         0.0   \n",
       "740170          0.0         0.0         0.0         0.0         0.0   \n",
       "740171          0.0         0.0         0.0         0.0         0.0   \n",
       "740172          0.0         0.0         0.0         0.0         0.0   \n",
       "...             ...         ...         ...         ...         ...   \n",
       "1852660         0.0         0.0         0.0         0.0         0.0   \n",
       "1852661         0.0         0.0         0.0         0.0         0.0   \n",
       "1852662         0.0         0.0         0.0         0.0         0.0   \n",
       "1852663         0.0         0.0         0.0         0.0         0.0   \n",
       "1852664         0.0         0.0         0.0         1.0         0.0   \n",
       "\n",
       "         Crm Cd_956  Vict Sex_F  Vict Sex_M  \n",
       "740168          0.0         1.0         0.0  \n",
       "740169          0.0         1.0         0.0  \n",
       "740170          0.0         0.0         1.0  \n",
       "740171          0.0         0.0         1.0  \n",
       "740172          0.0         0.0         1.0  \n",
       "...             ...         ...         ...  \n",
       "1852660         0.0         0.0         1.0  \n",
       "1852661         0.0         0.0         1.0  \n",
       "1852662         0.0         0.0         1.0  \n",
       "1852663         0.0         0.0         1.0  \n",
       "1852664         0.0         1.0         0.0  \n",
       "\n",
       "[1112497 rows x 103 columns]"
      ]
     },
     "execution_count": 15,
     "metadata": {},
     "output_type": "execute_result"
    }
   ],
   "source": [
    "# Delete all non-relevant data\n",
    "data = data[data[\"DATE OCC\"] > 15.0]\n",
    "# print new data\n",
    "data"
   ]
  },
  {
   "cell_type": "markdown",
   "id": "3cf76c28",
   "metadata": {
    "papermill": {
     "duration": 0.016826,
     "end_time": "2023-08-07T05:46:30.090351",
     "exception": false,
     "start_time": "2023-08-07T05:46:30.073525",
     "status": "completed"
    },
    "tags": []
   },
   "source": [
    "# For baseline we'll only use coordinates and time"
   ]
  },
  {
   "cell_type": "code",
   "execution_count": 16,
   "id": "403e925c",
   "metadata": {
    "execution": {
     "iopub.execute_input": "2023-08-07T05:46:30.126304Z",
     "iopub.status.busy": "2023-08-07T05:46:30.125986Z",
     "iopub.status.idle": "2023-08-07T05:46:30.172633Z",
     "shell.execute_reply": "2023-08-07T05:46:30.171507Z"
    },
    "papermill": {
     "duration": 0.067524,
     "end_time": "2023-08-07T05:46:30.174868",
     "exception": false,
     "start_time": "2023-08-07T05:46:30.107344",
     "status": "completed"
    },
    "tags": []
   },
   "outputs": [],
   "source": [
    "data_crit = past_data.loc[:, ['DATE OCC', 'LAT', 'LON', 'Vict Age', 'Vict Sex', 'Distance Index']]"
   ]
  },
  {
   "cell_type": "code",
   "execution_count": 17,
   "id": "78495464",
   "metadata": {
    "execution": {
     "iopub.execute_input": "2023-08-07T05:46:30.210851Z",
     "iopub.status.busy": "2023-08-07T05:46:30.210245Z",
     "iopub.status.idle": "2023-08-07T05:46:31.224011Z",
     "shell.execute_reply": "2023-08-07T05:46:31.223002Z"
    },
    "papermill": {
     "duration": 1.034117,
     "end_time": "2023-08-07T05:46:31.226380",
     "exception": false,
     "start_time": "2023-08-07T05:46:30.192263",
     "status": "completed"
    },
    "tags": []
   },
   "outputs": [],
   "source": [
    "data_crit = data_crit.replace(\"M\", 1).replace(\"F\", 0)"
   ]
  },
  {
   "cell_type": "code",
   "execution_count": 18,
   "id": "0e53a11c",
   "metadata": {
    "execution": {
     "iopub.execute_input": "2023-08-07T05:46:31.261776Z",
     "iopub.status.busy": "2023-08-07T05:46:31.261469Z",
     "iopub.status.idle": "2023-08-07T05:46:31.315521Z",
     "shell.execute_reply": "2023-08-07T05:46:31.314508Z"
    },
    "papermill": {
     "duration": 0.074178,
     "end_time": "2023-08-07T05:46:31.317756",
     "exception": false,
     "start_time": "2023-08-07T05:46:31.243578",
     "status": "completed"
    },
    "tags": []
   },
   "outputs": [
    {
     "name": "stdout",
     "output_type": "stream",
     "text": [
      "(1852665, 6)\n"
     ]
    }
   ],
   "source": [
    "#won't take all rows so that our dataset will fit into GPU\n",
    "data_np = data_crit.to_numpy()\n",
    "#variable that corresponds for length of previous crimes before predicted\n",
    "len_of_sequence = 50\n",
    "len_of_train = 100000\n",
    "print(data_np.shape)"
   ]
  },
  {
   "cell_type": "code",
   "execution_count": 19,
   "id": "d38634a8",
   "metadata": {
    "execution": {
     "iopub.execute_input": "2023-08-07T05:46:31.353308Z",
     "iopub.status.busy": "2023-08-07T05:46:31.352988Z",
     "iopub.status.idle": "2023-08-07T05:46:31.357381Z",
     "shell.execute_reply": "2023-08-07T05:46:31.356479Z"
    },
    "papermill": {
     "duration": 0.024093,
     "end_time": "2023-08-07T05:46:31.359246",
     "exception": false,
     "start_time": "2023-08-07T05:46:31.335153",
     "status": "completed"
    },
    "tags": []
   },
   "outputs": [],
   "source": [
    "#function for getting appropriate format of sequence\n",
    "def get_samples_by_index(index):\n",
    "    return data_np[index:(index + len_of_sequence)], data_np[index + len_of_sequence]"
   ]
  },
  {
   "cell_type": "code",
   "execution_count": 20,
   "id": "179c58a0",
   "metadata": {
    "execution": {
     "iopub.execute_input": "2023-08-07T05:46:31.394473Z",
     "iopub.status.busy": "2023-08-07T05:46:31.393734Z",
     "iopub.status.idle": "2023-08-07T05:46:31.749435Z",
     "shell.execute_reply": "2023-08-07T05:46:31.748496Z"
    },
    "papermill": {
     "duration": 0.375756,
     "end_time": "2023-08-07T05:46:31.751737",
     "exception": false,
     "start_time": "2023-08-07T05:46:31.375981",
     "status": "completed"
    },
    "tags": []
   },
   "outputs": [],
   "source": [
    "#getting the dataset for baseline\n",
    "import random\n",
    "X = []\n",
    "y = []\n",
    "for i in range(len_of_train):\n",
    "    index = random.randint(0, data_np.shape[0] - len_of_sequence)\n",
    "    new_sample = get_samples_by_index(i)\n",
    "    X.append(new_sample[0])\n",
    "    y.append(new_sample[1])"
   ]
  },
  {
   "cell_type": "code",
   "execution_count": 21,
   "id": "f5784843",
   "metadata": {
    "execution": {
     "iopub.execute_input": "2023-08-07T05:46:31.787147Z",
     "iopub.status.busy": "2023-08-07T05:46:31.786853Z",
     "iopub.status.idle": "2023-08-07T05:46:38.512316Z",
     "shell.execute_reply": "2023-08-07T05:46:38.511282Z"
    },
    "papermill": {
     "duration": 6.74566,
     "end_time": "2023-08-07T05:46:38.514618",
     "exception": false,
     "start_time": "2023-08-07T05:46:31.768958",
     "status": "completed"
    },
    "tags": []
   },
   "outputs": [
    {
     "name": "stdout",
     "output_type": "stream",
     "text": [
      "torch.Size([100000, 50, 6]) torch.Size([100000, 6])\n"
     ]
    }
   ],
   "source": [
    "import torch\n",
    "#cast to tensors, move to gpu\n",
    "device = torch.device(\"cuda:0\") if torch.cuda.is_available() else torch.device(\"cpu\")\n",
    "X_tensor = torch.tensor(np.stack(X, axis=0), device=device)\n",
    "y_tensor = torch.tensor(np.stack(y, axis=0), device=device)\n",
    "print(X_tensor.shape, y_tensor.shape)"
   ]
  },
  {
   "cell_type": "code",
   "execution_count": 22,
   "id": "aff940cc",
   "metadata": {
    "execution": {
     "iopub.execute_input": "2023-08-07T05:46:38.551948Z",
     "iopub.status.busy": "2023-08-07T05:46:38.550712Z",
     "iopub.status.idle": "2023-08-07T05:46:39.667443Z",
     "shell.execute_reply": "2023-08-07T05:46:39.666117Z"
    },
    "papermill": {
     "duration": 1.137593,
     "end_time": "2023-08-07T05:46:39.669842",
     "exception": false,
     "start_time": "2023-08-07T05:46:38.532249",
     "status": "completed"
    },
    "tags": []
   },
   "outputs": [],
   "source": [
    "from sklearn.model_selection import train_test_split\n",
    "X_train, X_test, y_train, y_test = train_test_split(X_tensor, y_tensor, test_size=0.2)"
   ]
  },
  {
   "cell_type": "markdown",
   "id": "ad48bd80",
   "metadata": {
    "papermill": {
     "duration": 0.017246,
     "end_time": "2023-08-07T05:46:39.705134",
     "exception": false,
     "start_time": "2023-08-07T05:46:39.687888",
     "status": "completed"
    },
    "tags": []
   },
   "source": []
  },
  {
   "cell_type": "code",
   "execution_count": 23,
   "id": "c6983ae1",
   "metadata": {
    "execution": {
     "iopub.execute_input": "2023-08-07T05:46:39.740331Z",
     "iopub.status.busy": "2023-08-07T05:46:39.740006Z",
     "iopub.status.idle": "2023-08-07T05:46:39.746585Z",
     "shell.execute_reply": "2023-08-07T05:46:39.745710Z"
    },
    "papermill": {
     "duration": 0.026338,
     "end_time": "2023-08-07T05:46:39.748575",
     "exception": false,
     "start_time": "2023-08-07T05:46:39.722237",
     "status": "completed"
    },
    "tags": []
   },
   "outputs": [],
   "source": [
    "def get_coordinates(pred):  # helps to get coordinates back to classical format\n",
    "    return pred[1] * a_lat + b_lat, pred[2] * a_lon + b_lon\n",
    "\n",
    "def predict_next_crime(sample_index):  # predicts the place of the next crime based on it's index in dataset\n",
    "    with torch.no_grad():\n",
    "        sample, true_crime = get_samples_by_index(sample_index)\n",
    "        sample_tensor = torch.tensor(sample.reshape(1, -1, 6), device=device)\n",
    "        prediction = model(sample_tensor).detach().cpu().numpy()\n",
    "        predicted_crime = get_coordinates(prediction[0])\n",
    "        return {'predicted_crime': predicted_crime, 'true crime': get_coordinates(true_crime)}"
   ]
  },
  {
   "cell_type": "code",
   "execution_count": 24,
   "id": "235a7151",
   "metadata": {
    "execution": {
     "iopub.execute_input": "2023-08-07T05:46:39.783536Z",
     "iopub.status.busy": "2023-08-07T05:46:39.782900Z",
     "iopub.status.idle": "2023-08-07T05:46:39.789676Z",
     "shell.execute_reply": "2023-08-07T05:46:39.788840Z"
    },
    "papermill": {
     "duration": 0.026246,
     "end_time": "2023-08-07T05:46:39.791572",
     "exception": false,
     "start_time": "2023-08-07T05:46:39.765326",
     "status": "completed"
    },
    "tags": []
   },
   "outputs": [],
   "source": [
    "def predict_next_crimes(sample_index, num, chooser):  # predicts the place of the next few crimes based on it's start index in dataset\n",
    "    with torch.no_grad():\n",
    "        features = []\n",
    "        targets = []\n",
    "        for i in range(sample_index, sample_index + num):\n",
    "            feat, target = chooser(i)\n",
    "            features.append(feat)\n",
    "            targets.append(target)\n",
    "        features_np = np.array(features)\n",
    "        sample_tensor = torch.tensor(features_np, device=device)\n",
    "        prediction = model(sample_tensor).detach().cpu().numpy()\n",
    "        predicted_crimes = np.array([get_coordinates(pred) for pred in prediction])\n",
    "        target_crimes = np.array([get_coordinates(target) for target in targets])\n",
    "        return {'predicted_crime': predicted_crimes, 'true crime': target_crimes}"
   ]
  },
  {
   "cell_type": "markdown",
   "id": "8174f3b2",
   "metadata": {
    "papermill": {
     "duration": 0.016651,
     "end_time": "2023-08-07T05:46:39.825136",
     "exception": false,
     "start_time": "2023-08-07T05:46:39.808485",
     "status": "completed"
    },
    "tags": []
   },
   "source": [
    "# Adding a new metric - distance between two points (predicted and true)"
   ]
  },
  {
   "cell_type": "code",
   "execution_count": 25,
   "id": "8fc72cc7",
   "metadata": {
    "execution": {
     "iopub.execute_input": "2023-08-07T05:46:39.860539Z",
     "iopub.status.busy": "2023-08-07T05:46:39.859744Z",
     "iopub.status.idle": "2023-08-07T05:46:39.970448Z",
     "shell.execute_reply": "2023-08-07T05:46:39.969534Z"
    },
    "papermill": {
     "duration": 0.13055,
     "end_time": "2023-08-07T05:46:39.972646",
     "exception": false,
     "start_time": "2023-08-07T05:46:39.842096",
     "status": "completed"
    },
    "tags": []
   },
   "outputs": [],
   "source": [
    "from geopy.distance import great_circle as GRC\n",
    "def mean_distance(preds, targets):\n",
    "    sum_distances = 0\n",
    "    for i in range(len(preds)):\n",
    "        sum_distances += GRC(preds[i], targets[i]).km\n",
    "    sum_distances = sum_distances / len(preds)\n",
    "    return sum_distances"
   ]
  },
  {
   "cell_type": "code",
   "execution_count": 26,
   "id": "6536550f",
   "metadata": {
    "execution": {
     "iopub.execute_input": "2023-08-07T05:46:40.008761Z",
     "iopub.status.busy": "2023-08-07T05:46:40.007718Z",
     "iopub.status.idle": "2023-08-07T05:46:40.013182Z",
     "shell.execute_reply": "2023-08-07T05:46:40.012369Z"
    },
    "papermill": {
     "duration": 0.025246,
     "end_time": "2023-08-07T05:46:40.015140",
     "exception": false,
     "start_time": "2023-08-07T05:46:39.989894",
     "status": "completed"
    },
    "tags": []
   },
   "outputs": [],
   "source": [
    "def dist_metric():\n",
    "    result = predict_next_crimes(random.randint(0, 200000), 1000, get_samples_by_index)\n",
    "    distance_metric = mean_distance(result['predicted_crime'], result['true crime'])\n",
    "    return distance_metric"
   ]
  },
  {
   "cell_type": "code",
   "execution_count": 27,
   "id": "b4428aa0",
   "metadata": {
    "execution": {
     "iopub.execute_input": "2023-08-07T05:46:40.050665Z",
     "iopub.status.busy": "2023-08-07T05:46:40.050403Z",
     "iopub.status.idle": "2023-08-07T05:55:57.167641Z",
     "shell.execute_reply": "2023-08-07T05:55:57.166650Z"
    },
    "papermill": {
     "duration": 557.137795,
     "end_time": "2023-08-07T05:55:57.170169",
     "exception": false,
     "start_time": "2023-08-07T05:46:40.032374",
     "status": "completed"
    },
    "tags": []
   },
   "outputs": [
    {
     "name": "stdout",
     "output_type": "stream",
     "text": [
      "Epoch 0: train RMSE 11.7631, test RMSE 11.7523, distance 16.3669 in kms\n",
      "Epoch 10: train RMSE 7.4840, test RMSE 7.5148, distance 16.0608 in kms\n",
      "Epoch 20: train RMSE 7.4504, test RMSE 7.4783, distance 15.7736 in kms\n",
      "Epoch 30: train RMSE 7.4449, test RMSE 7.4747, distance 15.4606 in kms\n",
      "Epoch 40: train RMSE 7.4434, test RMSE 7.4742, distance 15.2249 in kms\n",
      "Epoch 50: train RMSE 7.4394, test RMSE 7.4695, distance 16.5705 in kms\n",
      "Epoch 60: train RMSE 7.4391, test RMSE 7.4692, distance 15.4072 in kms\n",
      "Epoch 70: train RMSE 7.4429, test RMSE 7.4705, distance 15.4954 in kms\n",
      "Epoch 80: train RMSE 7.4386, test RMSE 7.4724, distance 16.1275 in kms\n",
      "Epoch 90: train RMSE 7.4376, test RMSE 7.4712, distance 15.3825 in kms\n"
     ]
    }
   ],
   "source": [
    "import torch.optim as optim\n",
    "import torch.utils.data\n",
    "import torch.nn as nn\n",
    "\n",
    "n_epochs = 100\n",
    "lr=1e-4\n",
    "\n",
    "def get_LSTM(X_train, y_train, X_test, y_test, n_epochs, lr, logging = True):\n",
    "    class lstm_predictor(nn.Module):\n",
    "        def __init__(self):\n",
    "            super().__init__()\n",
    "            self.min_train_loss = np.inf\n",
    "            self.min_val_loss = np.inf\n",
    "            self.lstm = nn.LSTM(input_size=X_train.shape[2], hidden_size=len_of_sequence, num_layers=1, batch_first=True)\n",
    "            self.linear = nn.Linear(len_of_sequence, X_train.shape[2])\n",
    "        def forward(self, x):\n",
    "            x, _ = self.lstm(x)\n",
    "            # extract only the last time step\n",
    "            x = x[:, -1, :]\n",
    "            x = self.linear(x)\n",
    "            return x\n",
    "    global model\n",
    "    model = lstm_predictor().double()\n",
    "    model.to(device)\n",
    "    optimizer = optim.Adam(model.parameters(), lr=lr)\n",
    "    loss_fn = nn.MSELoss()\n",
    "    loader = torch.utils.data.DataLoader(torch.utils.data.TensorDataset(X_train, y_train), shuffle=True, batch_size=len_of_sequence)\n",
    "\n",
    "    for epoch in range(n_epochs):\n",
    "        model.train()\n",
    "        for X_batch, y_batch in loader:\n",
    "            y_pred = model(X_batch)\n",
    "            #raise Exception(f'Check shapes. {y_pred.shape, y_batch.shape}')\n",
    "            loss = loss_fn(y_pred, y_batch)\n",
    "            optimizer.zero_grad()\n",
    "            loss.backward()\n",
    "            optimizer.step()\n",
    "        # Validation\n",
    "        if epoch % 10 != 0:\n",
    "            continue\n",
    "        model.eval()\n",
    "        with torch.no_grad():\n",
    "            y_pred = model(X_train)\n",
    "            train_rmse = np.sqrt(loss_fn(y_pred, y_train).detach().cpu().numpy())\n",
    "            y_pred = model(X_test)\n",
    "            test_rmse = np.sqrt(loss_fn(y_pred, y_test).detach().cpu().numpy())\n",
    "            if logging:\n",
    "                if X_test.shape[-1] > 1:\n",
    "                    new_distance_metric = dist_metric()\n",
    "                    print(\"Epoch %d: train RMSE %.4f, test RMSE %.4f, distance %.4f in kms\" % (epoch, train_rmse, test_rmse, new_distance_metric))\n",
    "                else:\n",
    "                    print(\"Epoch %d: train RMSE %.4f, test RMSE %.4f\" % (epoch, train_rmse, test_rmse))\n",
    "            model.min_val_loss = min(test_rmse, model.min_val_loss)\n",
    "            model.min_train_loss = min(train_rmse, model.min_train_loss)\n",
    "    return model\n",
    "model = get_LSTM(X_train, y_train, X_test, y_test, n_epochs, lr)"
   ]
  },
  {
   "cell_type": "code",
   "execution_count": 28,
   "id": "b1be0f04",
   "metadata": {
    "execution": {
     "iopub.execute_input": "2023-08-07T05:55:57.208263Z",
     "iopub.status.busy": "2023-08-07T05:55:57.207952Z",
     "iopub.status.idle": "2023-08-07T05:55:57.711887Z",
     "shell.execute_reply": "2023-08-07T05:55:57.710970Z"
    },
    "papermill": {
     "duration": 0.52554,
     "end_time": "2023-08-07T05:55:57.714007",
     "exception": false,
     "start_time": "2023-08-07T05:55:57.188467",
     "status": "completed"
    },
    "tags": []
   },
   "outputs": [
    {
     "data": {
      "image/png": "[encoded data removed]",
      "text/plain": [
       "<Figure size 640x480 with 1 Axes>"
      ]
     },
     "metadata": {},
     "output_type": "display_data"
    }
   ],
   "source": [
    "import geopy.distance\n",
    "import matplotlib.pyplot as plt\n",
    "def plot_distances_rate(preds, targets):\n",
    "    dists = [geopy.distance.geodesic(pred, target).m for pred, target in zip(preds, targets)]\n",
    "    dists.sort()\n",
    "    plt.plot(range(len(preds)), dists)\n",
    "    plt.show()\n",
    "result = predict_next_crimes(200000, 1000, get_samples_by_index)\n",
    "plot_distances_rate(result['predicted_crime'], result['true crime'])"
   ]
  },
  {
   "cell_type": "code",
   "execution_count": 29,
   "id": "88fc7216",
   "metadata": {
    "execution": {
     "iopub.execute_input": "2023-08-07T05:55:57.752254Z",
     "iopub.status.busy": "2023-08-07T05:55:57.751778Z",
     "iopub.status.idle": "2023-08-07T05:55:58.237655Z",
     "shell.execute_reply": "2023-08-07T05:55:58.236649Z"
    },
    "papermill": {
     "duration": 0.507361,
     "end_time": "2023-08-07T05:55:58.239955",
     "exception": false,
     "start_time": "2023-08-07T05:55:57.732594",
     "status": "completed"
    },
    "tags": []
   },
   "outputs": [
    {
     "data": {
      "image/png": "[encoded data removed]",
      "text/plain": [
       "<Figure size 640x480 with 1 Axes>"
      ]
     },
     "metadata": {},
     "output_type": "display_data"
    }
   ],
   "source": [
    "result_test = predict_next_crimes(210000, 1000, get_samples_by_index)\n",
    "plot_distances_rate(result_test['predicted_crime'], result_test['true crime'])"
   ]
  },
  {
   "cell_type": "code",
   "execution_count": 30,
   "id": "0c82fe94",
   "metadata": {
    "execution": {
     "iopub.execute_input": "2023-08-07T05:55:58.284378Z",
     "iopub.status.busy": "2023-08-07T05:55:58.282917Z",
     "iopub.status.idle": "2023-08-07T05:55:58.293067Z",
     "shell.execute_reply": "2023-08-07T05:55:58.292072Z"
    },
    "papermill": {
     "duration": 0.034368,
     "end_time": "2023-08-07T05:55:58.295208",
     "exception": false,
     "start_time": "2023-08-07T05:55:58.260840",
     "status": "completed"
    },
    "tags": []
   },
   "outputs": [
    {
     "data": {
      "text/plain": [
       "{'predicted_crime': (34.055729747871375, -118.31163857451611),\n",
       " 'true crime': (34.0384, -118.2646)}"
      ]
     },
     "execution_count": 30,
     "metadata": {},
     "output_type": "execute_result"
    }
   ],
   "source": [
    "res = predict_next_crime(4)\n",
    "res"
   ]
  },
  {
   "cell_type": "markdown",
   "id": "89337486",
   "metadata": {
    "papermill": {
     "duration": 0.018216,
     "end_time": "2023-08-07T05:55:58.331816",
     "exception": false,
     "start_time": "2023-08-07T05:55:58.313600",
     "status": "completed"
    },
    "tags": []
   },
   "source": [
    "# A few words about baseline\n",
    "We want to forecast crimes. This means that we will need some sequence analysis, and LSTM is great option for baseline, as it works with sequences and can predict whole tensor based on the previous ones.\n",
    "For baseline [this](https://machinelearningmastery.com/lstm-for-time-series-prediction-in-pytorch/) tutorial was used."
   ]
  },
  {
   "cell_type": "markdown",
   "id": "c0ca93b5",
   "metadata": {
    "papermill": {
     "duration": 0.018341,
     "end_time": "2023-08-07T05:55:58.368940",
     "exception": false,
     "start_time": "2023-08-07T05:55:58.350599",
     "status": "completed"
    },
    "tags": []
   },
   "source": [
    "During our research we found [this](https://www.relataly.com/predicting-crimes-in-san-francisco-creatingsf-crime-map-using-xgboost/2960/) article. XGBoost and other classifications techniques aren't very useful in forecasting, but they can be useful for crime classification, as model with one-hot encoded crimes code can be worse than model with time, coordinates and separated classifier. We'll test this during our future work. For now let's just see how XGBoost works on our data."
   ]
  },
  {
   "cell_type": "code",
   "execution_count": 31,
   "id": "6ccd9b2e",
   "metadata": {
    "execution": {
     "iopub.execute_input": "2023-08-07T05:55:58.407373Z",
     "iopub.status.busy": "2023-08-07T05:55:58.406996Z",
     "iopub.status.idle": "2023-08-07T05:55:58.557463Z",
     "shell.execute_reply": "2023-08-07T05:55:58.556494Z"
    },
    "papermill": {
     "duration": 0.172003,
     "end_time": "2023-08-07T05:55:58.559716",
     "exception": false,
     "start_time": "2023-08-07T05:55:58.387713",
     "status": "completed"
    },
    "tags": []
   },
   "outputs": [],
   "source": [
    "import xgboost\n",
    "classifier = False\n",
    "if classifier:\n",
    "    data_xgb = past_data.loc[:100000, ['DATE OCC', 'LAT', 'LON', 'Crm Cd']]\n",
    "    encode = {}\n",
    "    uniques = data_xgb['Crm Cd'].unique()\n",
    "    for i in range(len(uniques)):\n",
    "        encode[uniques[i]] = i\n",
    "    data_xgb['Crm Cd'] = data_xgb['Crm Cd'].apply(lambda x: encode[x])\n",
    "    model_linear = xgboost.XGBClassifier()\n",
    "    X_lin = data_xgb.loc[:, data_xgb.columns[:-1]]\n",
    "    y_lin = data_xgb['Crm Cd']\n",
    "    X_lin_train, X_lin_test, y_lin_train, y_lin_test = train_test_split(X_lin, y_lin, test_size=0.2)\n",
    "    model_linear.fit(X_lin_train, y_lin_train)\n",
    "    preds = model_linear.predict(X_lin_test)\n",
    "    from sklearn.metrics import accuracy_score\n",
    "    print(f'estimators: 100, accuracy={accuracy_score(preds, y_lin_test)}')"
   ]
  },
  {
   "cell_type": "markdown",
   "id": "286378c0",
   "metadata": {
    "papermill": {
     "duration": 0.018604,
     "end_time": "2023-08-07T05:55:58.597102",
     "exception": false,
     "start_time": "2023-08-07T05:55:58.578498",
     "status": "completed"
    },
    "tags": []
   },
   "source": [
    "Plotting the points on the map:"
   ]
  },
  {
   "cell_type": "code",
   "execution_count": 32,
   "id": "827ff8f8",
   "metadata": {
    "execution": {
     "iopub.execute_input": "2023-08-07T05:55:58.635755Z",
     "iopub.status.busy": "2023-08-07T05:55:58.635470Z",
     "iopub.status.idle": "2023-08-07T05:55:59.538316Z",
     "shell.execute_reply": "2023-08-07T05:55:59.537327Z"
    },
    "papermill": {
     "duration": 0.925004,
     "end_time": "2023-08-07T05:55:59.540797",
     "exception": false,
     "start_time": "2023-08-07T05:55:58.615793",
     "status": "completed"
    },
    "tags": []
   },
   "outputs": [],
   "source": [
    "import plotly.graph_objects as go\n",
    "\n",
    "mapbox_access_token = \"pk.eyJ1IjoiYXJhZ29uZXJ1YSIsImEiOiJjbGpwcTh5cjYwMXN1M3J0ZDA2a2d1N2N4In0.DLk40rhIbaRS-bKPbclE4g\"\n",
    "\n",
    "latitude_arr_pred = list()  # lattitude of the predicted coordinates\n",
    "longitude_arr_pred = list()  # longitude of the predicted coordinates\n",
    "\n",
    "latitude_arr_real = list()  # lattitude of the real coordinates\n",
    "longitude_arr_real = list()  # longitude of the real coordinates\n",
    "\n",
    "number_of_samples = 1000\n",
    "\n",
    "for index in range(number_of_samples):\n",
    "    result = predict_next_crime(index)\n",
    "    latitude_arr_pred.append(result['predicted_crime'][0])\n",
    "    longitude_arr_pred.append(result['predicted_crime'][1])\n",
    "    \n",
    "    latitude_arr_real.append(result['true crime'][0])\n",
    "    longitude_arr_real.append(result['true crime'][1])\n",
    "    \n",
    "#     latitude_arr_pred.append(str(result[\"predicted_crime\"][0]))\n",
    "#     longitude_arr_pred.append(str(result[\"predicted_crime\"][1]))\n",
    "    \n",
    "#     latitude_arr_real.append(str(result[\"true crime\"][0]))\n",
    "#     longitude_arr_real.append(str(result[\"true crime\"][1]))\n",
    "    \n",
    "\n",
    "temp_description = [i for i in range (len(latitude_arr_pred))]  # will be changed later, description of the crime\n",
    "\n",
    "def map_plotting(latitude_arr, longitude_arr, descriptions):\n",
    "    latitude_arr = list(map(lambda x: str(x), latitude_arr))\n",
    "    longitude_arr = list(map(lambda x: str(x), longitude_arr))\n",
    "    figure = go.Figure(go.Scattermapbox(\n",
    "        lat=latitude_arr,\n",
    "        lon=longitude_arr,\n",
    "        mode=\"markers\",\n",
    "        marker=go.scattermapbox.Marker(\n",
    "            size=5,\n",
    "        ),\n",
    "        text=descriptions,\n",
    "    ))\n",
    "    show_figure(figure)\n",
    "\n",
    "\n",
    "def show_figure(figure):\n",
    "    figure.update_layout(\n",
    "        hovermode=\"closest\",\n",
    "        mapbox=dict(\n",
    "            accesstoken=mapbox_access_token,\n",
    "            bearing=0,\n",
    "            center=go.layout.mapbox.Center(\n",
    "                lat=34.0331322,\n",
    "                lon=-118.301876\n",
    "            ),\n",
    "            pitch=0,\n",
    "            zoom=5\n",
    "        )\n",
    "    )\n",
    "    figure.show()\n"
   ]
  },
  {
   "cell_type": "code",
   "execution_count": 33,
   "id": "8745d487",
   "metadata": {
    "execution": {
     "iopub.execute_input": "2023-08-07T05:55:59.580997Z",
     "iopub.status.busy": "2023-08-07T05:55:59.580161Z",
     "iopub.status.idle": "2023-08-07T05:55:59.857510Z",
     "shell.execute_reply": "2023-08-07T05:55:59.856669Z"
    },
    "papermill": {
     "duration": 0.299372,
     "end_time": "2023-08-07T05:55:59.859895",
     "exception": false,
     "start_time": "2023-08-07T05:55:59.560523",
     "status": "completed"
    },
    "tags": []
   },
   "outputs": [
    {
     "data": {
      "text/html": [
       "        <script type=\"text/javascript\">\n",
       "        window.PlotlyConfig = {MathJaxConfig: 'local'};\n",
       "        if (window.MathJax && window.MathJax.Hub && window.MathJax.Hub.Config) {window.MathJax.Hub.Config({SVG: {font: \"STIX-Web\"}});}\n",
       "        if (typeof require !== 'undefined') {\n",
       "        require.undef(\"plotly\");\n",
       "        requirejs.config({\n",
       "            paths: {\n",
       "                'plotly': ['https://cdn.plot.ly/plotly-2.20.0.min']\n",
       "            }\n",
       "        });\n",
       "        require(['plotly'], function(Plotly) {\n",
       "            window._Plotly = Plotly;\n",
       "        });\n",
       "        }\n",
       "        </script>\n",
       "        "
      ]
     },
     "metadata": {},
     "output_type": "display_data"
    },
    {
     "data": {
      "text/html": [
       "<div>                            <div id=\"1b1186d3-9cc3-425d-ba16-f480cd6024fa\" class=\"plotly-graph-div\" style=\"height:525px; width:100%;\"></div>            <script type=\"text/javascript\">                require([\"plotly\"], function(Plotly) {                    window.PLOTLYENV=window.PLOTLYENV || {};                                    if (document.getElementById(\"1b1186d3-9cc3-425d-ba16-f480cd6024fa\")) {                    Plotly.newPlot(                        \"1b1186d3-9cc3-425d-ba16-f480cd6024fa\",                        [{\"lat\":[\"34.087808168692284\",\"34.021452712002535\",\"34.09774031679186\",\"34.06551121844535\",\"34.055729747871375\",\"34.058323725216\",\"34.05820513179508\",\"33.99657931194188\",\"34.05976482674159\",\"34.063039574216134\",\"34.06450459610331\",\"34.06380201903902\",\"34.06709955847441\",\"34.06560671678044\",\"34.064631050453045\",\"34.00950821916758\",\"34.061574274062124\",\"34.06031363017221\",\"34.05382635522076\",\"34.0569119785151\",\"34.04171756259116\",\"34.04809696614809\",\"34.053675832933195\",\"34.060456435467756\",\"34.06583753636693\",\"34.06580977669701\",\"34.07117213301803\",\"34.07988720419759\",\"34.07910753911632\",\"34.08139823351371\",\"34.0823150133005\",\"34.0907727239989\",\"34.107755662951746\",\"34.09443377836523\",\"34.10734399168268\",\"34.096618794852155\",\"34.0922973859119\",\"34.08203140990477\",\"34.07950530001546\",\"34.07372787874318\",\"34.07270589720324\",\"34.070045153191195\",\"34.06745507470155\",\"34.06567038575975\",\"34.07497566363607\",\"34.05986542973213\",\"34.012364638853704\",\"34.07114304792266\",\"34.06732929748874\",\"34.06266660213426\",\"34.02983330016029\",\"34.05356648118887\",\"34.049028585305706\",\"34.04417954549088\",\"34.046194946912344\",\"34.04639904263738\",\"34.000721400267615\",\"34.046905851851626\",\"34.04451284801092\",\"34.04192648645549\",\"34.03848212622143\",\"33.99115831559296\",\"34.03770432643135\",\"34.03579662452135\",\"34.03885910751169\",\"34.03964675181433\",\"33.99202398504634\",\"34.0418006129028\",\"34.046315019233994\",\"34.06126127582599\",\"34.0691829511591\",\"34.061289715477656\",\"34.060768709856056\",\"34.066187115829166\",\"34.06466610666443\",\"34.06491071533621\",\"34.06711853021581\",\"34.05935409398643\",\"34.06945281055349\",\"34.07676595591428\",\"34.078771458395515\",\"34.05295929946863\",\"34.05038138285257\",\"34.052198299785026\",\"34.04852185830733\",\"34.016287285901015\",\"34.056757371575536\",\"34.061660200826346\",\"34.06564725255546\",\"34.107610261474974\",\"34.08520952563037\",\"34.08508988770307\",\"34.08302027769362\",\"34.084681727428865\",\"34.08179314122955\",\"34.031248279569006\",\"34.05449822008317\",\"34.09837169909288\",\"34.08779921303302\",\"34.08727127280548\",\"34.11567189014797\",\"34.11421248014504\",\"34.100671200103946\",\"34.10427457216919\",\"34.098111965695146\",\"34.09283358965157\",\"34.0343626074672\",\"34.14144385221855\",\"34.07972145490458\",\"34.083993626342284\",\"34.075921173902124\",\"34.06080200514849\",\"34.05846430903788\",\"34.017559082349216\",\"34.07097457012483\",\"34.07538044662721\",\"34.066172181870925\",\"34.07977446978608\",\"34.07750587642728\",\"34.08645674345046\",\"34.068281016231104\",\"34.06962409755093\",\"34.07119522012522\",\"34.02582480755636\",\"34.08375763249623\",\"34.09038042836691\",\"34.08904769382905\",\"34.09422859001155\",\"34.08126413969022\",\"34.087196918275076\",\"34.08913554154565\",\"34.097798337282235\",\"34.09898967906509\",\"34.095824757158795\",\"34.05673885077216\",\"34.07855526518648\",\"34.07422431948382\",\"34.047144356776634\",\"34.04386644025908\",\"34.04088565905427\",\"34.04596146766161\",\"34.057168179155646\",\"34.077007083080474\",\"34.08113397743939\",\"34.05258712137783\",\"34.046543759298295\",\"34.062767658774746\",\"34.03864420300209\",\"34.04126425869679\",\"34.04590427502043\",\"34.0458195684943\",\"34.04542993911905\",\"34.05817918913308\",\"34.04834620513186\",\"34.045181608885756\",\"34.0474403879182\",\"34.04781335786093\",\"34.049699602977896\",\"34.04993516899834\",\"34.05133782711526\",\"34.054297719795244\",\"34.058136560137676\",\"34.06064769678695\",\"34.04957827006224\",\"34.04639479080408\",\"34.000735406692094\",\"34.0730327624963\",\"34.05824948554376\",\"34.05940119588113\",\"34.048589273994025\",\"34.044312093367104\",\"34.0400714836676\",\"34.04302892601933\",\"34.037866792544726\",\"34.00417084781039\",\"34.04101177445377\",\"34.01599686543514\",\"34.06614006078315\",\"34.12177511599309\",\"34.07939431950333\",\"34.05280697392855\",\"34.04805983234668\",\"34.05153230462521\",\"34.050531466167286\",\"34.00735255166109\",\"34.05053139312102\",\"34.05593215076165\",\"34.05970042567307\",\"34.05700415937471\",\"34.05500128663253\",\"34.05647391585011\",\"34.06048585009177\",\"34.05879916683123\",\"34.05632238173662\",\"34.05869489053895\",\"34.062435817316036\",\"34.073296382566106\",\"34.07333754686279\",\"34.07512634321762\",\"34.077632586056644\",\"34.083191067769285\",\"34.08284348406826\",\"34.068692925790074\",\"34.07377727025819\",\"34.08384916453915\",\"34.09757911496184\",\"34.087233936733\",\"34.08252969926512\",\"34.087752317876\",\"34.087108967729264\",\"34.090175598823635\",\"34.0914646556111\",\"34.10363425043277\",\"34.107091714924856\",\"34.10974573811731\",\"34.09706818697855\",\"34.08243867155924\",\"34.08942041303739\",\"34.10677214298177\",\"34.04915426290351\",\"34.075616622677494\",\"34.04305050716211\",\"34.04937875893231\",\"34.08696701932377\",\"34.06523865555491\",\"34.09439995761138\",\"34.10396649086926\",\"34.0492306858859\",\"34.09492698775881\",\"34.0872811991758\",\"34.087936669622295\",\"34.087794087473156\",\"34.09498356144892\",\"34.104778276868\",\"34.090370609780365\",\"34.08799804650454\",\"34.08389586860698\",\"34.08749293629587\",\"34.04803352446703\",\"34.07597135859961\",\"34.11863088625903\",\"34.10973161186681\",\"34.10637908502645\",\"34.11248290514162\",\"34.11025477437678\",\"34.13599952983581\",\"34.113224768934884\",\"34.11347441323584\",\"34.1008681576685\",\"34.09542476516042\",\"34.123838228686694\",\"34.10786567459176\",\"34.11954108607623\",\"34.11135779633088\",\"34.11075353039231\",\"34.105917407525396\",\"34.05187416430226\",\"34.10225027517692\",\"34.094687413030826\",\"34.104539887753106\",\"34.10817514641094\",\"34.11172761970696\",\"34.099221867286204\",\"34.09973864217922\",\"34.06294804692471\",\"34.11503128023271\",\"34.117887002130075\",\"34.117496021153904\",\"34.07716077697524\",\"34.11224357736803\",\"34.10613088802449\",\"34.10011431132347\",\"34.0966106096991\",\"34.08013897771369\",\"34.07497596653308\",\"34.08197950805277\",\"34.08718484991035\",\"34.07074521537237\",\"34.08244771427204\",\"34.09621792698825\",\"34.07994887802672\",\"34.0782207830223\",\"34.07806369408167\",\"34.085327773675985\",\"34.09920621663847\",\"34.10850592211426\",\"34.06911368199933\",\"34.06547366526955\",\"34.06200065042226\",\"34.04120419141051\",\"34.08105403593982\",\"34.083141764384365\",\"34.08560482816543\",\"34.08246789550947\",\"34.06714475945463\",\"34.06623381855521\",\"34.05881616091296\",\"34.05226327559884\",\"34.05077096531276\",\"34.05794210074154\",\"34.05116931881365\",\"34.05470403755655\",\"34.047831428336714\",\"34.045822842830624\",\"34.04706555840306\",\"34.04777661221975\",\"34.04708534288307\",\"34.04472218874484\",\"34.0216930310028\",\"34.04810997777703\",\"34.041436785655705\",\"34.03772131558975\",\"34.0429057866373\",\"34.06649455262792\",\"34.04570317146694\",\"34.046166183143384\",\"34.049137965112266\",\"34.057393174100206\",\"34.057346591427276\",\"34.05870687380844\",\"34.06814079748307\",\"34.07277275219698\",\"34.07464586507187\",\"34.04897162562655\",\"34.063777658106176\",\"34.05287910862126\",\"34.05453061824356\",\"34.07413198166199\",\"34.092131823150886\",\"34.085280475843696\",\"34.043237090598886\",\"34.105821993680344\",\"34.119493421951205\",\"34.113850590321555\",\"34.1063426822464\",\"34.094448419895635\",\"34.09390346683381\",\"34.107137194098144\",\"34.09006330117736\",\"34.10273212214666\",\"34.10732507741573\",\"34.06184056910536\",\"34.06202765413495\",\"34.06427932270221\",\"34.07175391142663\",\"34.09417545291688\",\"34.089772359373235\",\"34.09098382492528\",\"34.105601747681135\",\"34.0622962038884\",\"34.08305657762354\",\"34.091241394672444\",\"34.110510593190725\",\"34.08100808078541\",\"34.09417085528279\",\"34.092053585836005\",\"34.11483193127214\",\"34.06886031525117\",\"34.07815842337487\",\"34.07807840703143\",\"34.10958127075416\",\"34.0754278526938\",\"34.07201196346197\",\"34.0634895383654\",\"34.09397446519186\",\"34.09782737461446\",\"34.09931499999685\",\"34.06997337870499\",\"34.08010218029175\",\"34.09974257764507\",\"34.06444824202482\",\"34.07705946336218\",\"34.0697960349802\",\"34.109641150270875\",\"34.097319918488935\",\"34.07425240607249\",\"34.06698118210229\",\"34.06585468287472\",\"34.03990164746675\",\"34.0526391181912\",\"34.04372170243226\",\"34.039221453905164\",\"34.0456411094767\",\"34.05406446059505\",\"34.06020595517312\",\"34.07401589651676\",\"34.095688618625665\",\"34.08841285445927\",\"34.111228534747546\",\"34.07623782983065\",\"34.099319477769065\",\"34.10294676215542\",\"34.11488813188497\",\"34.10430989376654\",\"34.103237435589776\",\"34.068426546277045\",\"34.0777827718923\",\"34.08346428225103\",\"34.081729524149935\",\"34.06692219627558\",\"34.080852398635976\",\"34.09168750742372\",\"34.076319089239604\",\"34.072953041282574\",\"34.08466275192229\",\"34.090183248431615\",\"34.0745553143232\",\"34.064222705939414\",\"34.0712173092627\",\"34.08126953586021\",\"34.0832510561526\",\"34.09309907929632\",\"34.08224945489117\",\"34.061572529321104\",\"34.06465385928251\",\"34.06574814855344\",\"34.07319619986523\",\"34.06333018694547\",\"34.06653518884229\",\"34.05695759291406\",\"34.05448822737765\",\"34.05304726522986\",\"34.05324768061961\",\"34.05494737598551\",\"34.060836383525626\",\"34.05812087000181\",\"34.055280985120596\",\"34.06141964016442\",\"34.06022489127877\",\"34.056867547647734\",\"34.021984843428925\",\"34.036079587920035\",\"34.02535656389498\",\"34.01442975859895\",\"34.013068137772365\",\"34.01688828128631\",\"34.04563614614464\",\"34.0119655818526\",\"34.01823158645312\",\"34.055563479140744\",\"34.04941676007747\",\"34.05782095238498\",\"34.05334609561653\",\"34.05061928263729\",\"34.04566951744387\",\"34.04657517501449\",\"34.087439903175586\",\"34.03887417275497\",\"34.04563463048429\",\"34.04348361024907\",\"34.04561552762208\",\"34.04559469565938\",\"34.03714201382965\",\"34.0305245042536\",\"34.03562712951875\",\"34.0318990850822\",\"34.029112359344225\",\"34.05235104473525\",\"34.046775760442834\",\"34.0605325033891\",\"34.04421014893028\",\"34.04690513151028\",\"34.01673238083843\",\"34.02849446750897\",\"34.028365641116366\",\"34.04298419988196\",\"34.03477278321537\",\"34.01965026847704\",\"34.030287061719804\",\"34.02086958304843\",\"34.029052218642924\",\"33.9896227130855\",\"34.020876444866644\",\"34.02477224451221\",\"34.02845332401895\",\"34.03242680674602\",\"34.036674450988855\",\"34.03443152113941\",\"34.03699721829412\",\"34.03871665604991\",\"34.041835879383726\",\"34.04132000959186\",\"34.044654741779794\",\"34.04706274997764\",\"34.048506280031326\",\"34.046191367735176\",\"34.05002747358417\",\"34.04953311588429\",\"34.044581110712755\",\"34.04702410733544\",\"34.049415081046654\",\"34.047311537786506\",\"34.04431142048924\",\"34.04793858985524\",\"34.04579841335153\",\"34.051547111723686\",\"34.047610911099014\",\"33.98188319128529\",\"34.05165777371436\",\"34.0469949509667\",\"34.048015075980146\",\"34.05027224521993\",\"34.04828544812684\",\"34.048876848433345\",\"34.05400582565477\",\"34.052087050398434\",\"34.05851409164575\",\"34.0536132389703\",\"34.055944100827034\",\"34.04770698212535\",\"34.04772136993477\",\"34.04757776151733\",\"34.05250371421915\",\"34.05213380401937\",\"34.051459937717915\",\"34.05495919953098\",\"34.05027203096401\",\"34.04999265442256\",\"34.05168884236653\",\"34.050373241577866\",\"34.05821982654919\",\"34.05197449251668\",\"33.984344410689694\",\"34.00401353824864\",\"34.058662373483344\",\"34.06068641069643\",\"34.059140357727095\",\"34.06222757708443\",\"34.06137337110591\",\"34.068288193068405\",\"34.04830585741745\",\"34.0718761089923\",\"34.10770080448017\",\"34.06639426529664\",\"34.07014572382446\",\"34.06974502069625\",\"34.07320037017031\",\"34.0748526063425\",\"34.07141099814416\",\"34.06863297622072\",\"34.067826778589996\",\"34.0664192217127\",\"34.06010960671269\",\"34.060404541465296\",\"34.06287780361576\",\"34.067330061352294\",\"34.06624563026725\",\"34.06078240493092\",\"34.06617255027246\",\"34.0614880275772\",\"34.0697022047909\",\"34.06212891534535\",\"34.05836845745435\",\"34.06044798962052\",\"34.06047974711644\",\"34.05800184272327\",\"34.070274039985804\",\"33.99803667272435\",\"34.062253896060916\",\"34.006266540006436\",\"34.05077717631605\",\"34.07929945375429\",\"34.07035017607924\",\"34.06722647502409\",\"34.07276137233846\",\"34.070210278913805\",\"33.9953490779075\",\"34.08175330350018\",\"34.084813635090356\",\"34.00085498173452\",\"34.09166373465598\",\"34.097350531827175\",\"34.117345023643715\",\"33.981301743342684\",\"34.060564711653576\",\"34.054262715783516\",\"34.05630497024759\",\"34.06353617835614\",\"34.068115010321115\",\"34.07296349649712\",\"34.05592836241504\",\"34.05632603354453\",\"33.995130919224835\",\"34.06301835777228\",\"34.05362099247508\",\"34.056601299472156\",\"34.06003175789945\",\"34.062079913648475\",\"33.993906844685895\",\"34.06183018632617\",\"34.063085135896216\",\"34.06735250459156\",\"34.06635647562919\",\"34.0637458139121\",\"34.062415200804786\",\"34.06084200623457\",\"34.06330348759605\",\"34.057461658647\",\"34.058027077679945\",\"33.991216994342174\",\"34.0554046268899\",\"33.99812989677499\",\"34.03439095116695\",\"34.08379587847371\",\"34.07375128382803\",\"34.050921475999\",\"34.063594250351095\",\"34.07267639592022\",\"34.06829457954413\",\"34.06609231300585\",\"34.063299193541305\",\"34.06181213831551\",\"34.06523099863508\",\"34.06271136293481\",\"34.06314469495609\",\"34.06223920980898\",\"34.056851837933415\",\"34.05368575074649\",\"34.054591490422226\",\"34.054074271371036\",\"34.05043221401675\",\"34.05201540789014\",\"34.05740283834524\",\"34.0514054916609\",\"34.0533251670007\",\"34.05198875085905\",\"34.0525703380288\",\"34.05050199779201\",\"34.054039603359485\",\"34.055151386734295\",\"34.05253465309839\",\"34.04952460105166\",\"34.04935941729216\",\"34.04646817288003\",\"34.052442100549186\",\"34.050515565726776\",\"34.048915651261844\",\"34.047463917727235\",\"34.0504220590383\",\"34.04851781321182\",\"34.06079823847607\",\"34.04762006640747\",\"34.050325621560816\",\"34.05042356007938\",\"34.054670706191445\",\"34.05458397900122\",\"34.05797858048224\",\"34.00102705415143\",\"34.06966313079565\",\"34.068877688629975\",\"34.05230059946616\",\"34.048379947383374\",\"34.04767102539894\",\"34.043738334609415\",\"34.04784201513637\",\"34.04878776043725\",\"34.043724758154944\",\"34.04584069561245\",\"34.04950312877556\",\"34.0482530225891\",\"34.04646078432074\",\"34.05405970468531\",\"33.98381068776255\",\"34.05217660684827\",\"34.054424970378\",\"33.98851273494105\",\"34.057640185070404\",\"34.05358649230609\",\"34.047192196333334\",\"34.05018385687456\",\"34.05168162904701\",\"34.05341264896201\",\"34.05193353106966\",\"34.052333564054095\",\"33.984764540843976\",\"34.04902410973762\",\"34.05885199814699\",\"34.04830759134194\",\"34.05727939279048\",\"34.0591519331392\",\"34.060261400093125\",\"34.06115735730105\",\"34.059143056129614\",\"34.05980348165895\",\"34.06191675264406\",\"34.06361157615199\",\"34.06203686849476\",\"34.05951931459105\",\"34.058695227187464\",\"34.0555082496681\",\"34.055868485770766\",\"34.05865990577939\",\"34.05410212864732\",\"34.05076022023114\",\"34.044755441286064\",\"34.048855174471576\",\"34.04082581106967\",\"34.045342478565\",\"34.04596707320926\",\"34.04492901323244\",\"34.0450417539633\",\"34.045697474993474\",\"34.051418527219326\",\"34.04836961932409\",\"34.05032250391718\",\"34.051779181251234\",\"34.051289745115106\",\"34.0529958188063\",\"34.05568979209683\",\"34.058348142539636\",\"34.05782083566963\",\"34.052080693787175\",\"34.04990959301804\",\"34.0504598996601\",\"34.04951137351312\",\"34.04786969581883\",\"34.04737961649547\",\"34.047063588897416\",\"34.046861952827\",\"34.04439669822042\",\"34.04230126992705\",\"34.04494069486196\",\"34.039056018135454\",\"34.049408471930334\",\"34.04143487212497\",\"34.04320713939129\",\"34.04708594147039\",\"34.04748852239794\",\"34.04351152020396\",\"34.047464443624655\",\"34.04432519544819\",\"34.04286301381365\",\"34.04600156027103\",\"34.04494623670846\",\"34.04584771092591\",\"34.0467068949865\",\"34.04542944404349\",\"33.97234962797123\",\"34.05031005732958\",\"34.05057590535628\",\"34.05263157709996\",\"34.05259135618145\",\"34.05094683176921\",\"34.050388280855245\",\"34.052663920505225\",\"34.05599301993417\",\"33.99439695841257\",\"34.011664743440015\",\"34.08398099343261\",\"34.07334054658766\",\"34.07724742306908\",\"34.066083128169524\",\"34.061906722914124\",\"34.0537365982927\",\"34.052076729248014\",\"34.050617410601106\",\"34.054112344018044\",\"34.054058126106376\",\"34.05512769640643\",\"34.05256849924491\",\"34.05193789834072\",\"34.05274684259299\",\"34.05679223567397\",\"34.0606292468238\",\"34.05860772464388\",\"34.06202533052454\",\"34.05923223852725\",\"34.05184695917525\",\"34.054366444134025\",\"34.05394260869409\",\"34.05551262529093\",\"34.060796330155384\",\"34.06098587643931\",\"34.06306653533237\",\"34.058932427687495\",\"34.0594242802723\",\"34.06143260178839\",\"34.064901329385805\",\"34.063472744214366\",\"34.07176208266204\",\"34.070986795853244\",\"34.06309510889161\",\"34.061285289420965\",\"34.062148139792214\",\"34.06447068852641\",\"34.061538426192406\",\"34.05699277796866\",\"34.05144329239893\",\"33.977940641164544\",\"34.061710384827805\",\"34.00322818720664\",\"34.0713189662562\",\"34.05367696083491\",\"34.05298310775809\",\"34.0539635148358\",\"34.04913457641798\",\"34.045887777433975\",\"34.044130444697394\",\"34.046982571965344\",\"34.048878616032376\",\"34.05048010800027\",\"34.048612676854205\",\"34.04972889645696\",\"34.051925407755014\",\"34.05185639813366\",\"34.05332114198071\",\"34.05205134094783\",\"34.05715254014064\",\"34.05399095931789\",\"33.98846083159338\",\"34.071645140218486\",\"34.05774077755521\",\"34.05429222170402\",\"34.053578260554204\",\"34.05585379502848\",\"34.0624041220891\",\"34.05534899294021\",\"34.06218164874413\",\"34.04987763753669\",\"34.05289826166983\",\"34.05246529986757\",\"34.05646263100371\",\"34.05321485620411\",\"34.057976478159596\",\"34.05281355615618\",\"34.052043635421185\",\"34.052474933896754\",\"34.05169074977087\",\"34.05824593087764\",\"33.98260783456133\",\"34.060174333276485\",\"34.05941222342349\",\"34.05563727828775\",\"34.0562368035638\",\"34.05379156999172\",\"34.05278500041508\",\"34.06003736653276\",\"34.05245842102374\",\"34.05216663306693\",\"34.04951822103211\",\"34.05095128149052\",\"34.0503462245971\",\"34.05186494845465\",\"34.05563329644872\",\"34.05518676915901\",\"34.05214162940314\",\"33.99162667708475\",\"34.05683499484782\",\"34.061972174700834\",\"34.06265856328752\",\"34.069675296218904\",\"34.06634904689654\",\"34.06017026282625\",\"34.05748498067738\",\"34.05936067231635\",\"34.04803392561427\",\"34.0486881017636\",\"34.04508681240488\",\"34.04492939969686\",\"34.04585114061428\",\"34.04842902482913\",\"34.049372063157136\",\"34.04709192531421\",\"34.04809977416811\",\"34.04684106683285\",\"34.04714868842982\",\"34.05009581581082\",\"34.05138296765515\",\"34.05402535816697\",\"34.05088207172457\",\"34.05170404885454\",\"34.04871671201576\",\"34.04991127186491\",\"34.04874000340988\",\"34.04985882584203\",\"33.98924324125485\",\"34.05789288201973\",\"34.0656756079613\",\"34.05599511134379\",\"33.98520788984127\",\"34.050732155902146\",\"33.98775708878779\",\"34.05741971942291\",\"34.04777594723707\",\"34.05378545763807\",\"34.05769877637173\",\"34.061851401937886\",\"33.991540843634695\",\"34.065880446813956\",\"34.06244222434034\",\"34.057856033300645\",\"34.061018322226346\",\"34.06699666337118\",\"34.07458776094125\",\"34.0765986562063\",\"34.07253832102032\",\"34.05709973097236\",\"34.05276260385717\",\"34.05080507318881\",\"34.05171327111635\",\"34.05614847587942\",\"34.05279014112003\",\"34.05764699533321\",\"34.104398365631056\",\"33.98899481704681\",\"34.05787651238617\",\"34.06384811710887\",\"34.063733357029314\",\"34.060815610801505\",\"34.05744704782642\",\"34.0571227567647\",\"34.05772826636457\",\"34.05350105820598\",\"34.050481763357325\",\"34.04945446095172\",\"34.04713296760979\",\"34.04562289380728\",\"34.04513507844482\",\"34.04807070269338\",\"34.05084376698453\",\"34.05568192642067\",\"34.04832607648775\",\"34.0464926843765\",\"34.049775577287825\",\"34.05400363370592\",\"34.05230783318905\",\"34.05123587180529\",\"33.9884872898264\",\"34.05372357840721\",\"34.05006687419683\",\"34.05094713655698\",\"34.05234706915754\",\"34.05491363861739\",\"34.05322489716766\",\"34.0502747671513\",\"34.04743905483842\",\"34.047908654849095\",\"34.04486835443895\",\"34.044026377258746\",\"34.047393881653356\",\"34.046134541155496\",\"34.04367205993259\",\"34.04540964465931\",\"34.044267551911425\",\"34.04768503414089\",\"34.049379015253656\",\"34.04706299238771\",\"34.03935439358174\",\"34.04168776132841\",\"34.04350723678507\",\"34.04156498589633\",\"34.04010194014623\",\"34.04395345440303\",\"34.03872829114757\",\"34.04276862983821\",\"34.04737531393009\",\"34.04932353247883\",\"34.04690119521471\",\"33.986228610498316\",\"34.013494011289275\",\"34.060098466431114\",\"34.00594797066425\",\"34.04777586318002\",\"34.04327739423715\",\"34.04163874452837\",\"34.04036758979747\",\"34.03881478510127\",\"33.98189214995535\",\"34.04216157192895\",\"34.05778637648955\",\"34.03695285877587\",\"34.04416381325403\",\"34.04796196363816\",\"34.03805286120724\",\"34.04013692205244\",\"34.037386342046574\",\"34.045923813060476\",\"34.04448071351803\",\"34.04791652642443\",\"34.0499881312851\",\"34.060392924834794\",\"34.03787799891321\",\"34.040990173355866\",\"34.045074953778645\",\"34.044590926222554\",\"34.046978303534466\",\"34.04589815479697\",\"34.04730987905586\",\"34.048578285478186\",\"34.048766204014406\",\"33.982867856356755\",\"34.052817083326566\",\"34.047319967457156\",\"34.05273942851343\",\"34.04765112982699\",\"34.052306260985006\",\"34.05119797694188\",\"34.05141607809548\",\"34.049960965313\",\"34.04642046693659\"],\"lon\":[\"-118.30323757725847\",\"-118.31294155138507\",\"-118.31167269639874\",\"-118.3076469679006\",\"-118.31163857451611\",\"-118.30957549871907\",\"-118.31220687772067\",\"-118.29817083978857\",\"-118.31160617036369\",\"-118.31129900292788\",\"-118.31627298247936\",\"-118.31368569137413\",\"-118.31475365929809\",\"-118.31587506924264\",\"-118.31869897655157\",\"-118.30426835751142\",\"-118.3139255773983\",\"-118.31561061048696\",\"-118.31397897415103\",\"-118.3234719111383\",\"-118.30566225106836\",\"-118.30793834807587\",\"-118.31110982788152\",\"-118.31489121135543\",\"-118.30734551838157\",\"-118.31575225815904\",\"-118.3136209094761\",\"-118.32167803244603\",\"-118.31993744650462\",\"-118.319624363587\",\"-118.32313561768744\",\"-118.3301758362376\",\"-118.34605203135762\",\"-118.32683038347318\",\"-118.307687665252\",\"-118.32560457018121\",\"-118.32025788862548\",\"-118.32519820282062\",\"-118.32526566716837\",\"-118.32172047102891\",\"-118.31607545355453\",\"-118.31548628592036\",\"-118.31850762800809\",\"-118.315706282032\",\"-118.3091518119114\",\"-118.30026089464896\",\"-118.30305733242228\",\"-118.31902794253118\",\"-118.30474051273883\",\"-118.29922600489225\",\"-118.25618611525809\",\"-118.30788116204837\",\"-118.30624259001397\",\"-118.30256310594336\",\"-118.29954111613209\",\"-118.30164542988365\",\"-118.29350212426142\",\"-118.30123065269231\",\"-118.29980300802826\",\"-118.29616479020851\",\"-118.29134581007666\",\"-118.27584536766416\",\"-118.28610505784842\",\"-118.28431505840486\",\"-118.29611868133773\",\"-118.29325308261\",\"-118.28382583744445\",\"-118.29767460904222\",\"-118.29911823105391\",\"-118.30672504621838\",\"-118.28831195477225\",\"-118.29978188642707\",\"-118.30483067858505\",\"-118.3058378420592\",\"-118.30216309013416\",\"-118.30414294180791\",\"-118.30356588320248\",\"-118.30332664381334\",\"-118.3041507043939\",\"-118.30535132058579\",\"-118.30776225615574\",\"-118.31139922809538\",\"-118.30720634273928\",\"-118.30658373952993\",\"-118.3084634266407\",\"-118.29791324819415\",\"-118.30762263838744\",\"-118.30991450903073\",\"-118.31412904477884\",\"-118.30017315237923\",\"-118.31545842170951\",\"-118.31841267435432\",\"-118.32196321143472\",\"-118.31623081079535\",\"-118.3159079918812\",\"-118.31622236550882\",\"-118.3243042772942\",\"-118.31991865483056\",\"-118.31970938963266\",\"-118.31774600251546\",\"-118.30481724822599\",\"-118.34762093216858\",\"-118.32194680676572\",\"-118.32482328979629\",\"-118.3227586270679\",\"-118.3265817830227\",\"-118.31529964381822\",\"-118.36664461140381\",\"-118.32563811957131\",\"-118.32165178617419\",\"-118.31794911427076\",\"-118.31262644799088\",\"-118.30994295310076\",\"-118.30292349294427\",\"-118.31227023423125\",\"-118.31429765367324\",\"-118.31155722070842\",\"-118.30872686280598\",\"-118.31807820660146\",\"-118.31058171394255\",\"-118.30936539458145\",\"-118.31145640378115\",\"-118.31535514485786\",\"-118.3082435565489\",\"-118.3173819336733\",\"-118.31698927248523\",\"-118.31823949065002\",\"-118.31010852245245\",\"-118.31920366687609\",\"-118.31555781770189\",\"-118.32076797332032\",\"-118.32251028862291\",\"-118.32332434760653\",\"-118.31701810542046\",\"-118.26177018610123\",\"-118.31692675200705\",\"-118.31265201349937\",\"-118.26177867977114\",\"-118.30639243972956\",\"-118.30474710171771\",\"-118.30637683061636\",\"-118.30661960619312\",\"-118.31239881196613\",\"-118.30855388973707\",\"-118.30732287298235\",\"-118.30428513240022\",\"-118.31426793562963\",\"-118.2959447278509\",\"-118.29588832028494\",\"-118.2977264197756\",\"-118.29581419154364\",\"-118.29479826691049\",\"-118.28142170699392\",\"-118.29254245644208\",\"-118.2906084371359\",\"-118.2993059781304\",\"-118.29817171365552\",\"-118.29994618218198\",\"-118.30137043909005\",\"-118.30024360572168\",\"-118.29762204937421\",\"-118.30007489731058\",\"-118.30265248285797\",\"-118.298814821375\",\"-118.29461029761255\",\"-118.28021926291403\",\"-118.28089064081009\",\"-118.29481621236243\",\"-118.29957159459886\",\"-118.2918705108723\",\"-118.28769654073871\",\"-118.28373391270136\",\"-118.29222628200874\",\"-118.2839442684028\",\"-118.27498649414488\",\"-118.28463326741057\",\"-118.27869125822328\",\"-118.2774128596802\",\"-118.27959249801164\",\"-118.29811244389107\",\"-118.30150557274057\",\"-118.3044411710642\",\"-118.30476633297198\",\"-118.30839256823145\",\"-118.29701156762184\",\"-118.30645652405516\",\"-118.30680315605025\",\"-118.31048097877702\",\"-118.31209718683802\",\"-118.30901122212616\",\"-118.30726354808677\",\"-118.30085783094337\",\"-118.3060537205472\",\"-118.31090566161102\",\"-118.31057093940376\",\"-118.31195162562949\",\"-118.31019737464588\",\"-118.30973099329253\",\"-118.31102388059423\",\"-118.31129720742071\",\"-118.31568869316617\",\"-118.31861689597912\",\"-118.31350122719991\",\"-118.31462355120499\",\"-118.3168932979638\",\"-118.3164934475574\",\"-118.31723835644573\",\"-118.31555299807042\",\"-118.31364422135199\",\"-118.32057725980412\",\"-118.31794261654026\",\"-118.31891112364517\",\"-118.31728373856657\",\"-118.32456399042805\",\"-118.32411919648494\",\"-118.32539326081283\",\"-118.32246454912253\",\"-118.31995988456\",\"-118.32178620870147\",\"-118.33346704332585\",\"-118.30707944451177\",\"-118.25120065449713\",\"-118.24650421869383\",\"-118.24132151210198\",\"-118.24832445772971\",\"-118.29708253615877\",\"-118.30980029902328\",\"-118.32765387827116\",\"-118.31858826621158\",\"-118.31408263015994\",\"-118.30893374412197\",\"-118.31243975570126\",\"-118.31165364503438\",\"-118.31897016733305\",\"-118.31318997343736\",\"-118.31496254195814\",\"-118.31310872630338\",\"-118.3152112372596\",\"-118.32178433865816\",\"-118.33606627356303\",\"-118.32688940518048\",\"-118.3187687546142\",\"-118.31701131146477\",\"-118.31845526159073\",\"-118.32127715682243\",\"-118.30825495072371\",\"-118.31846365740077\",\"-118.31471325531076\",\"-118.31732858269649\",\"-118.31801414044085\",\"-118.30591977759137\",\"-118.32866027997592\",\"-118.31477679543534\",\"-118.320197976057\",\"-118.32289740915216\",\"-118.3209913782906\",\"-118.3241762209827\",\"-118.32903689405515\",\"-118.32039852039247\",\"-118.31819221115332\",\"-118.31970556100924\",\"-118.31958144285036\",\"-118.3248337805181\",\"-118.32506191791649\",\"-118.33143096615821\",\"-118.326827985216\",\"-118.3273476477926\",\"-118.32370494649182\",\"-118.26550413139778\",\"-118.3227116231601\",\"-118.32585635680533\",\"-118.30686801727786\",\"-118.30572605671327\",\"-118.31147345871645\",\"-118.31214518592488\",\"-118.31280906268405\",\"-118.31526046648236\",\"-118.31025581889492\",\"-118.31368593782614\",\"-118.32133945141034\",\"-118.31588824245036\",\"-118.31355393390066\",\"-118.31352537064865\",\"-118.31390887978702\",\"-118.3177377024795\",\"-118.31338165526464\",\"-118.25492161102943\",\"-118.25577945206422\",\"-118.25381107089498\",\"-118.3050440469954\",\"-118.31097849862746\",\"-118.30990281812645\",\"-118.30659439374597\",\"-118.30751688974527\",\"-118.27158362341652\",\"-118.30147512330909\",\"-118.29898121345137\",\"-118.29474301562851\",\"-118.29297314284122\",\"-118.2945338355855\",\"-118.296040678568\",\"-118.296351224331\",\"-118.28960452655444\",\"-118.28353382263121\",\"-118.2753548108661\",\"-118.2890313098822\",\"-118.28913778543532\",\"-118.28656608372842\",\"-118.28238343617338\",\"-118.28486964052193\",\"-118.28583710881983\",\"-118.28358772844298\",\"-118.2809977586878\",\"-118.28924350141054\",\"-118.29198879226892\",\"-118.29341288043727\",\"-118.2917598960076\",\"-118.2883478292024\",\"-118.29582408509526\",\"-118.29506804586114\",\"-118.2978100013721\",\"-118.29940520536408\",\"-118.29973376423334\",\"-118.30402629875519\",\"-118.29842157939024\",\"-118.29367633108934\",\"-118.29366215163726\",\"-118.29116325491839\",\"-118.28803898154902\",\"-118.30067402664754\",\"-118.31151068720185\",\"-118.31295099764885\",\"-118.316111943038\",\"-118.31491980450926\",\"-118.31215888868377\",\"-118.30953923011302\",\"-118.30689222037357\",\"-118.3080073071225\",\"-118.27182801361444\",\"-118.31061793453765\",\"-118.31141651120262\",\"-118.30198102643686\",\"-118.30369879094175\",\"-118.30531871764403\",\"-118.30765367131238\",\"-118.30362409099251\",\"-118.31131291472212\",\"-118.31134324179452\",\"-118.31498951521536\",\"-118.31627170813351\",\"-118.30913121637384\",\"-118.31054739054855\",\"-118.31389036449376\",\"-118.26081977292675\",\"-118.30967375169121\",\"-118.30986472628184\",\"-118.31272180469959\",\"-118.31804204079899\",\"-118.30266043802479\",\"-118.30725793583893\",\"-118.31332329666124\",\"-118.27751149277145\",\"-118.25371472893964\",\"-118.31425253083573\",\"-118.30696758484571\",\"-118.31169719030522\",\"-118.30862841051783\",\"-118.30219235957468\",\"-118.30083106287132\",\"-118.3106566404496\",\"-118.32564255557205\",\"-118.30715347279748\",\"-118.25272648684322\",\"-118.3130150743395\",\"-118.3131045893106\",\"-118.26017096528854\",\"-118.25065661356965\",\"-118.29456805454147\",\"-118.27961754007552\",\"-118.28806205373864\",\"-118.28610801704573\",\"-118.28908759496555\",\"-118.29139594912353\",\"-118.28979044930796\",\"-118.29513476103845\",\"-118.29701154614467\",\"-118.2970348700201\",\"-118.30365681938824\",\"-118.3005169122212\",\"-118.31865679477595\",\"-118.30723649766637\",\"-118.30682872222788\",\"-118.31009563178262\",\"-118.3068455055974\",\"-118.31319502167646\",\"-118.30777003268862\",\"-118.30969908198726\",\"-118.31188670136396\",\"-118.31575428533856\",\"-118.31176478683244\",\"-118.31102072261031\",\"-118.31850680977013\",\"-118.31177911484083\",\"-118.31263435631995\",\"-118.31689821569154\",\"-118.31653550859816\",\"-118.30920448663633\",\"-118.3093110548795\",\"-118.3098286556494\",\"-118.31292234846808\",\"-118.31847630192603\",\"-118.32246703335119\",\"-118.31960760634318\",\"-118.31149235166214\",\"-118.31280587569495\",\"-118.31459661461585\",\"-118.31427544710075\",\"-118.30133699955472\",\"-118.31157725846403\",\"-118.30923650759844\",\"-118.30786264975593\",\"-118.30717879739915\",\"-118.30986939755333\",\"-118.31009999764319\",\"-118.31399931128975\",\"-118.31252664943122\",\"-118.3106365683593\",\"-118.31214742710098\",\"-118.30990584747637\",\"-118.31075095349382\",\"-118.2553969204019\",\"-118.27677311829736\",\"-118.25367467837982\",\"-118.25160467286403\",\"-118.24715049017063\",\"-118.24396333230007\",\"-118.29601215417001\",\"-118.24367420291897\",\"-118.2509342664894\",\"-118.29866974674313\",\"-118.29126429379535\",\"-118.29469061507535\",\"-118.29077367433345\",\"-118.29476660974095\",\"-118.28963808800263\",\"-118.2855444650637\",\"-118.32392586701978\",\"-118.28918932913376\",\"-118.28438450644033\",\"-118.28366066780987\",\"-118.2822001702596\",\"-118.27836267794376\",\"-118.2774642235553\",\"-118.27491584515258\",\"-118.272710807827\",\"-118.26947079438334\",\"-118.28176629488819\",\"-118.37927920382224\",\"-118.37381435969888\",\"-118.43035568472874\",\"-118.37730345510262\",\"-118.37016827757071\",\"-118.27890415619557\",\"-118.28231068168705\",\"-118.28013467878843\",\"-118.28397879909662\",\"-118.28155035181105\",\"-118.27861391186589\",\"-118.2839639575647\",\"-118.2791606074272\",\"-118.29500169866319\",\"-118.28435247262053\",\"-118.28497639280039\",\"-118.28872080869506\",\"-118.29082266813107\",\"-118.29488554629086\",\"-118.2955933474958\",\"-118.29359321173283\",\"-118.29484821883972\",\"-118.29514972384278\",\"-118.2953018437973\",\"-118.2966221061567\",\"-118.2989156528073\",\"-118.29880977461912\",\"-118.30088436161263\",\"-118.29678487773853\",\"-118.30001856238619\",\"-118.30024649383046\",\"-118.29885924516559\",\"-118.29964610332541\",\"-118.30392053283265\",\"-118.29822223096872\",\"-118.30041107704139\",\"-118.30310757976838\",\"-118.30594483676602\",\"-118.30981105915589\",\"-118.30415840099057\",\"-118.2910296047991\",\"-118.31013242837737\",\"-118.30774241547086\",\"-118.3089008669155\",\"-118.30782388988189\",\"-118.30555588303812\",\"-118.30580423653085\",\"-118.30260584699246\",\"-118.31215923460984\",\"-118.30168633802101\",\"-118.31027172481598\",\"-118.29908506010325\",\"-118.30888763544412\",\"-118.30484980951393\",\"-118.3081517454644\",\"-118.31437608351615\",\"-118.31246135598822\",\"-118.30932063721937\",\"-118.31165022741845\",\"-118.30710929434605\",\"-118.31018329196357\",\"-118.30452158952289\",\"-118.3040953079083\",\"-118.31248386572933\",\"-118.31235265568284\",\"-118.29353561733924\",\"-118.29498835455908\",\"-118.30838952305092\",\"-118.30569330676909\",\"-118.31140544231121\",\"-118.31318104926282\",\"-118.31536281422244\",\"-118.31934533159966\",\"-118.31235204759282\",\"-118.32019245615741\",\"-118.3497131772401\",\"-118.31831443928964\",\"-118.31726355837559\",\"-118.3176966539881\",\"-118.31788681196082\",\"-118.32123097976607\",\"-118.31882052529562\",\"-118.31811900757798\",\"-118.31643285079669\",\"-118.32025445694556\",\"-118.31271570666595\",\"-118.31453083628688\",\"-118.31211382060565\",\"-118.31372894904325\",\"-118.3186553899722\",\"-118.31055919270763\",\"-118.3104419819059\",\"-118.31684654634272\",\"-118.30730518890562\",\"-118.31664252847352\",\"-118.31378909904723\",\"-118.31523176309857\",\"-118.31516699082663\",\"-118.31257213659453\",\"-118.32313564000027\",\"-118.30251254813439\",\"-118.30923082251704\",\"-118.300441264898\",\"-118.3065122655788\",\"-118.31289966679346\",\"-118.31677928677085\",\"-118.31437030428334\",\"-118.31859229115936\",\"-118.31685650039273\",\"-118.30241467158447\",\"-118.31296347052958\",\"-118.31527342580308\",\"-118.30898938221209\",\"-118.3139640254294\",\"-118.31425187188843\",\"-118.3557725950619\",\"-118.30883647904295\",\"-118.31237171499698\",\"-118.31123749511477\",\"-118.31228919533731\",\"-118.3152847191222\",\"-118.31684355613949\",\"-118.31818029344146\",\"-118.31128147646149\",\"-118.31413156276342\",\"-118.29981606091808\",\"-118.31704956350927\",\"-118.31179713911655\",\"-118.31408344634475\",\"-118.31058509374745\",\"-118.31971989832043\",\"-118.3005620623937\",\"-118.31673709070421\",\"-118.31456193763454\",\"-118.31550887426783\",\"-118.32120970993569\",\"-118.31938398888504\",\"-118.31574567876811\",\"-118.31786805060518\",\"-118.32061576260503\",\"-118.3165274916823\",\"-118.31859544506524\",\"-118.2989756191173\",\"-118.30812016311951\",\"-118.3012891927714\",\"-118.31354688807428\",\"-118.31483996112354\",\"-118.32040033639565\",\"-118.31733629219356\",\"-118.31539166201344\",\"-118.31942846842928\",\"-118.31832091929301\",\"-118.31884864209006\",\"-118.31517231213876\",\"-118.31688517873097\",\"-118.31613292478934\",\"-118.31668956126964\",\"-118.31548642205671\",\"-118.3163411110423\",\"-118.31220380489344\",\"-118.3130080075941\",\"-118.31410337253101\",\"-118.31152065516626\",\"-118.312294014056\",\"-118.3112299685339\",\"-118.31527217379625\",\"-118.30962020373784\",\"-118.3157722660857\",\"-118.31400413586266\",\"-118.3144090639022\",\"-118.31282783835672\",\"-118.31561120235027\",\"-118.31282938437995\",\"-118.31341673029347\",\"-118.31184203025057\",\"-118.30961472446943\",\"-118.30965868089228\",\"-118.3140928536047\",\"-118.30919508263266\",\"-118.30391199119717\",\"-118.31089758458253\",\"-118.30613645161438\",\"-118.31084061240692\",\"-118.31796125931348\",\"-118.31031450351922\",\"-118.30801578208663\",\"-118.31162980715581\",\"-118.31189467974082\",\"-118.3132246552799\",\"-118.31187067181503\",\"-118.30262104750418\",\"-118.31019625180016\",\"-118.31753129380556\",\"-118.30935435528319\",\"-118.30766354921914\",\"-118.30418227337482\",\"-118.30441526003538\",\"-118.30684943759391\",\"-118.30508618091515\",\"-118.30484979797214\",\"-118.30727336309107\",\"-118.30713667754283\",\"-118.30646629750267\",\"-118.30518031511217\",\"-118.29989028659395\",\"-118.29111391613611\",\"-118.30443924342009\",\"-118.30325633349457\",\"-118.29407845377588\",\"-118.3113257623014\",\"-118.31401876356895\",\"-118.30875656929422\",\"-118.30887231334827\",\"-118.31231661743077\",\"-118.31334790796919\",\"-118.30950553944783\",\"-118.31337879906262\",\"-118.2941625426925\",\"-118.31117168492389\",\"-118.31784533711541\",\"-118.30918306925079\",\"-118.3088969788859\",\"-118.3136780563154\",\"-118.31624805478648\",\"-118.31755593580293\",\"-118.31571392997469\",\"-118.31386125377712\",\"-118.31656292483902\",\"-118.31586562084044\",\"-118.31552500723376\",\"-118.31770342750207\",\"-118.31462804213527\",\"-118.31252836853079\",\"-118.31329014222922\",\"-118.31629110343991\",\"-118.31585659266037\",\"-118.31366127612321\",\"-118.30993500795786\",\"-118.3093097150716\",\"-118.3084018037699\",\"-118.31009551917043\",\"-118.30980865818395\",\"-118.3089514791959\",\"-118.30690276039626\",\"-118.30332210652014\",\"-118.30276077741212\",\"-118.30803794105584\",\"-118.30812930441027\",\"-118.3126777810618\",\"-118.31179858446151\",\"-118.31001661630238\",\"-118.31482966181981\",\"-118.30903106619617\",\"-118.31320218629736\",\"-118.30936434929868\",\"-118.3079739926619\",\"-118.30434333900656\",\"-118.30841883577973\",\"-118.30552810201208\",\"-118.30669224306288\",\"-118.30579894177792\",\"-118.30565622679343\",\"-118.30314226397302\",\"-118.30097117308888\",\"-118.3016440860971\",\"-118.29213421928296\",\"-118.30751919996173\",\"-118.30005866333484\",\"-118.29859921103629\",\"-118.30265428357927\",\"-118.30211432722999\",\"-118.30252908000925\",\"-118.30523762572425\",\"-118.30053429180084\",\"-118.3006461466016\",\"-118.29852747091091\",\"-118.30124299949004\",\"-118.30594879403365\",\"-118.30245013193364\",\"-118.30585854178689\",\"-118.28720268547987\",\"-118.29901744593707\",\"-118.30936425557759\",\"-118.3125287828177\",\"-118.31204783448091\",\"-118.30846051407526\",\"-118.31058480502679\",\"-118.30952349982519\",\"-118.3108525882727\",\"-118.29832462889183\",\"-118.30821102178491\",\"-118.32102028539396\",\"-118.31802533430233\",\"-118.31729639001831\",\"-118.31591709797843\",\"-118.31412589206461\",\"-118.31223891546338\",\"-118.31005578408808\",\"-118.31168701646105\",\"-118.30889046826525\",\"-118.31430680015744\",\"-118.3109849750157\",\"-118.31075831962377\",\"-118.31255307426726\",\"-118.31250384626152\",\"-118.3125000042585\",\"-118.30776127108234\",\"-118.31288609537599\",\"-118.3173177776087\",\"-118.31448004978692\",\"-118.31231776450771\",\"-118.30962068207444\",\"-118.3138168624808\",\"-118.31425396205188\",\"-118.30920316773141\",\"-118.31169019223348\",\"-118.31905391328507\",\"-118.3154711489314\",\"-118.31322193329069\",\"-118.31467161744546\",\"-118.3169913305449\",\"-118.31664146650951\",\"-118.31432075375369\",\"-118.31933143470434\",\"-118.31545531079928\",\"-118.31604163133773\",\"-118.31335642414666\",\"-118.3148008556788\",\"-118.31364638361512\",\"-118.31634337949896\",\"-118.3119481269381\",\"-118.29466317567912\",\"-118.31932367047023\",\"-118.30060298792101\",\"-118.3228718553729\",\"-118.31316555643593\",\"-118.30969661926153\",\"-118.31108956396633\",\"-118.31041585620028\",\"-118.3076071872537\",\"-118.3060519118634\",\"-118.3044974762533\",\"-118.30988095276976\",\"-118.31038489177098\",\"-118.30901878937568\",\"-118.30585453222864\",\"-118.30550325373243\",\"-118.30928830969512\",\"-118.30678147228899\",\"-118.30923347219944\",\"-118.31237312202303\",\"-118.31196535633464\",\"-118.29607972248259\",\"-118.29494040959356\",\"-118.31183038830638\",\"-118.31224941479542\",\"-118.31275376681157\",\"-118.30884020543948\",\"-118.3169541452884\",\"-118.3122724620451\",\"-118.31715601031159\",\"-118.31051979942995\",\"-118.31367931862347\",\"-118.30835027490005\",\"-118.30645669779241\",\"-118.31334576555606\",\"-118.31803226121608\",\"-118.31319624659095\",\"-118.3129768804126\",\"-118.31063300236417\",\"-118.31047379581148\",\"-118.30538374266543\",\"-118.29503434172251\",\"-118.31031959925127\",\"-118.31159887951111\",\"-118.31317912428916\",\"-118.31488324732055\",\"-118.3120956027796\",\"-118.30545962677176\",\"-118.31316025539658\",\"-118.31024735779198\",\"-118.30758405980237\",\"-118.31030434395072\",\"-118.31168378462549\",\"-118.31071873793688\",\"-118.31200312288803\",\"-118.31237605459624\",\"-118.31127909186321\",\"-118.31191011939588\",\"-118.29843524156992\",\"-118.30822762025015\",\"-118.30619809399224\",\"-118.31186085095857\",\"-118.31692582322977\",\"-118.31810298533752\",\"-118.31207918088987\",\"-118.31204291111021\",\"-118.31828869313287\",\"-118.30904795489677\",\"-118.30880932182906\",\"-118.30658112846152\",\"-118.30881477114988\",\"-118.30487976249668\",\"-118.30136309900557\",\"-118.30741445275375\",\"-118.30627795013316\",\"-118.30549335186049\",\"-118.30416130792075\",\"-118.30841921377582\",\"-118.30768032114888\",\"-118.3107544720673\",\"-118.30998650310772\",\"-118.31014426253357\",\"-118.30868268554538\",\"-118.30970221630365\",\"-118.31015546651474\",\"-118.30856731924153\",\"-118.3091196552431\",\"-118.29528011812361\",\"-118.30852488271084\",\"-118.30630115170386\",\"-118.30936085630609\",\"-118.29217867682094\",\"-118.30703372533151\",\"-118.29619467489734\",\"-118.31505715320263\",\"-118.3079810455792\",\"-118.31224878638912\",\"-118.3096364085515\",\"-118.31395844750936\",\"-118.29814366082783\",\"-118.31458072373135\",\"-118.31678989238199\",\"-118.3093990102224\",\"-118.31307997446044\",\"-118.31450943399678\",\"-118.3236498076752\",\"-118.3193270420943\",\"-118.3173039110188\",\"-118.30609950848253\",\"-118.30808858299379\",\"-118.31251738772882\",\"-118.31253636962852\",\"-118.31416822717624\",\"-118.31275642309727\",\"-118.31459755344969\",\"-118.36137570650429\",\"-118.30939984950344\",\"-118.31794374551703\",\"-118.31140374692747\",\"-118.31870933394185\",\"-118.31369816104464\",\"-118.31587323862483\",\"-118.3132399717773\",\"-118.31407196772453\",\"-118.31401670301362\",\"-118.3127668171851\",\"-118.31101931843361\",\"-118.31164011406759\",\"-118.31066904132214\",\"-118.3080112463823\",\"-118.30924342145119\",\"-118.31359858909684\",\"-118.31883150823998\",\"-118.31221857476478\",\"-118.3108095293418\",\"-118.31203777164801\",\"-118.30721230614334\",\"-118.30655156284693\",\"-118.31165453960215\",\"-118.29152808684987\",\"-118.30900164665833\",\"-118.30366250969523\",\"-118.30994407729425\",\"-118.30578521740121\",\"-118.31250963410314\",\"-118.30983347285188\",\"-118.30384451295068\",\"-118.3051196006941\",\"-118.3065200311848\",\"-118.30477848823946\",\"-118.30397060921067\",\"-118.30208995516536\",\"-118.30237837614344\",\"-118.30045592567146\",\"-118.30497435921676\",\"-118.30288594252939\",\"-118.30528286764098\",\"-118.30248418115355\",\"-118.29775952548805\",\"-118.2925638010009\",\"-118.29160167929092\",\"-118.29129570951673\",\"-118.2925593008695\",\"-118.29195995694356\",\"-118.29004060115183\",\"-118.29781554063722\",\"-118.28767594193522\",\"-118.29799177327959\",\"-118.29928166279309\",\"-118.29951965759278\",\"-118.28225636526801\",\"-118.26505146351128\",\"-118.2984294289713\",\"-118.28586162463766\",\"-118.30005578903956\",\"-118.30392229086307\",\"-118.3037011614908\",\"-118.30259248106285\",\"-118.30340461430548\",\"-118.29015475519772\",\"-118.30292412491193\",\"-118.31819473985172\",\"-118.30650552533004\",\"-118.30765207947732\",\"-118.31189462373271\",\"-118.30529154014441\",\"-118.30105280932429\",\"-118.29901602227274\",\"-118.30261366133787\",\"-118.30363774265244\",\"-118.30563086881452\",\"-118.30597989918667\",\"-118.31303289136586\",\"-118.3028040116907\",\"-118.30521139668254\",\"-118.30561937193102\",\"-118.30797809388658\",\"-118.30664427667392\",\"-118.30769655583167\",\"-118.3084303927601\",\"-118.31012207624688\",\"-118.30691737148139\",\"-118.29446147657676\",\"-118.3114471209892\",\"-118.30715826196338\",\"-118.3151958065292\",\"-118.31115124845574\",\"-118.31269369045168\",\"-118.31060596813305\",\"-118.3109579432705\",\"-118.31005290701293\",\"-118.30880489951836\"],\"marker\":{\"size\":5},\"mode\":\"markers\",\"text\":[\"0\",\"1\",\"2\",\"3\",\"4\",\"5\",\"6\",\"7\",\"8\",\"9\",\"10\",\"11\",\"12\",\"13\",\"14\",\"15\",\"16\",\"17\",\"18\",\"19\",\"20\",\"21\",\"22\",\"23\",\"24\",\"25\",\"26\",\"27\",\"28\",\"29\",\"30\",\"31\",\"32\",\"33\",\"34\",\"35\",\"36\",\"37\",\"38\",\"39\",\"40\",\"41\",\"42\",\"43\",\"44\",\"45\",\"46\",\"47\",\"48\",\"49\",\"50\",\"51\",\"52\",\"53\",\"54\",\"55\",\"56\",\"57\",\"58\",\"59\",\"60\",\"61\",\"62\",\"63\",\"64\",\"65\",\"66\",\"67\",\"68\",\"69\",\"70\",\"71\",\"72\",\"73\",\"74\",\"75\",\"76\",\"77\",\"78\",\"79\",\"80\",\"81\",\"82\",\"83\",\"84\",\"85\",\"86\",\"87\",\"88\",\"89\",\"90\",\"91\",\"92\",\"93\",\"94\",\"95\",\"96\",\"97\",\"98\",\"99\",\"100\",\"101\",\"102\",\"103\",\"104\",\"105\",\"106\",\"107\",\"108\",\"109\",\"110\",\"111\",\"112\",\"113\",\"114\",\"115\",\"116\",\"117\",\"118\",\"119\",\"120\",\"121\",\"122\",\"123\",\"124\",\"125\",\"126\",\"127\",\"128\",\"129\",\"130\",\"131\",\"132\",\"133\",\"134\",\"135\",\"136\",\"137\",\"138\",\"139\",\"140\",\"141\",\"142\",\"143\",\"144\",\"145\",\"146\",\"147\",\"148\",\"149\",\"150\",\"151\",\"152\",\"153\",\"154\",\"155\",\"156\",\"157\",\"158\",\"159\",\"160\",\"161\",\"162\",\"163\",\"164\",\"165\",\"166\",\"167\",\"168\",\"169\",\"170\",\"171\",\"172\",\"173\",\"174\",\"175\",\"176\",\"177\",\"178\",\"179\",\"180\",\"181\",\"182\",\"183\",\"184\",\"185\",\"186\",\"187\",\"188\",\"189\",\"190\",\"191\",\"192\",\"193\",\"194\",\"195\",\"196\",\"197\",\"198\",\"199\",\"200\",\"201\",\"202\",\"203\",\"204\",\"205\",\"206\",\"207\",\"208\",\"209\",\"210\",\"211\",\"212\",\"213\",\"214\",\"215\",\"216\",\"217\",\"218\",\"219\",\"220\",\"221\",\"222\",\"223\",\"224\",\"225\",\"226\",\"227\",\"228\",\"229\",\"230\",\"231\",\"232\",\"233\",\"234\",\"235\",\"236\",\"237\",\"238\",\"239\",\"240\",\"241\",\"242\",\"243\",\"244\",\"245\",\"246\",\"247\",\"248\",\"249\",\"250\",\"251\",\"252\",\"253\",\"254\",\"255\",\"256\",\"257\",\"258\",\"259\",\"260\",\"261\",\"262\",\"263\",\"264\",\"265\",\"266\",\"267\",\"268\",\"269\",\"270\",\"271\",\"272\",\"273\",\"274\",\"275\",\"276\",\"277\",\"278\",\"279\",\"280\",\"281\",\"282\",\"283\",\"284\",\"285\",\"286\",\"287\",\"288\",\"289\",\"290\",\"291\",\"292\",\"293\",\"294\",\"295\",\"296\",\"297\",\"298\",\"299\",\"300\",\"301\",\"302\",\"303\",\"304\",\"305\",\"306\",\"307\",\"308\",\"309\",\"310\",\"311\",\"312\",\"313\",\"314\",\"315\",\"316\",\"317\",\"318\",\"319\",\"320\",\"321\",\"322\",\"323\",\"324\",\"325\",\"326\",\"327\",\"328\",\"329\",\"330\",\"331\",\"332\",\"333\",\"334\",\"335\",\"336\",\"337\",\"338\",\"339\",\"340\",\"341\",\"342\",\"343\",\"344\",\"345\",\"346\",\"347\",\"348\",\"349\",\"350\",\"351\",\"352\",\"353\",\"354\",\"355\",\"356\",\"357\",\"358\",\"359\",\"360\",\"361\",\"362\",\"363\",\"364\",\"365\",\"366\",\"367\",\"368\",\"369\",\"370\",\"371\",\"372\",\"373\",\"374\",\"375\",\"376\",\"377\",\"378\",\"379\",\"380\",\"381\",\"382\",\"383\",\"384\",\"385\",\"386\",\"387\",\"388\",\"389\",\"390\",\"391\",\"392\",\"393\",\"394\",\"395\",\"396\",\"397\",\"398\",\"399\",\"400\",\"401\",\"402\",\"403\",\"404\",\"405\",\"406\",\"407\",\"408\",\"409\",\"410\",\"411\",\"412\",\"413\",\"414\",\"415\",\"416\",\"417\",\"418\",\"419\",\"420\",\"421\",\"422\",\"423\",\"424\",\"425\",\"426\",\"427\",\"428\",\"429\",\"430\",\"431\",\"432\",\"433\",\"434\",\"435\",\"436\",\"437\",\"438\",\"439\",\"440\",\"441\",\"442\",\"443\",\"444\",\"445\",\"446\",\"447\",\"448\",\"449\",\"450\",\"451\",\"452\",\"453\",\"454\",\"455\",\"456\",\"457\",\"458\",\"459\",\"460\",\"461\",\"462\",\"463\",\"464\",\"465\",\"466\",\"467\",\"468\",\"469\",\"470\",\"471\",\"472\",\"473\",\"474\",\"475\",\"476\",\"477\",\"478\",\"479\",\"480\",\"481\",\"482\",\"483\",\"484\",\"485\",\"486\",\"487\",\"488\",\"489\",\"490\",\"491\",\"492\",\"493\",\"494\",\"495\",\"496\",\"497\",\"498\",\"499\",\"500\",\"501\",\"502\",\"503\",\"504\",\"505\",\"506\",\"507\",\"508\",\"509\",\"510\",\"511\",\"512\",\"513\",\"514\",\"515\",\"516\",\"517\",\"518\",\"519\",\"520\",\"521\",\"522\",\"523\",\"524\",\"525\",\"526\",\"527\",\"528\",\"529\",\"530\",\"531\",\"532\",\"533\",\"534\",\"535\",\"536\",\"537\",\"538\",\"539\",\"540\",\"541\",\"542\",\"543\",\"544\",\"545\",\"546\",\"547\",\"548\",\"549\",\"550\",\"551\",\"552\",\"553\",\"554\",\"555\",\"556\",\"557\",\"558\",\"559\",\"560\",\"561\",\"562\",\"563\",\"564\",\"565\",\"566\",\"567\",\"568\",\"569\",\"570\",\"571\",\"572\",\"573\",\"574\",\"575\",\"576\",\"577\",\"578\",\"579\",\"580\",\"581\",\"582\",\"583\",\"584\",\"585\",\"586\",\"587\",\"588\",\"589\",\"590\",\"591\",\"592\",\"593\",\"594\",\"595\",\"596\",\"597\",\"598\",\"599\",\"600\",\"601\",\"602\",\"603\",\"604\",\"605\",\"606\",\"607\",\"608\",\"609\",\"610\",\"611\",\"612\",\"613\",\"614\",\"615\",\"616\",\"617\",\"618\",\"619\",\"620\",\"621\",\"622\",\"623\",\"624\",\"625\",\"626\",\"627\",\"628\",\"629\",\"630\",\"631\",\"632\",\"633\",\"634\",\"635\",\"636\",\"637\",\"638\",\"639\",\"640\",\"641\",\"642\",\"643\",\"644\",\"645\",\"646\",\"647\",\"648\",\"649\",\"650\",\"651\",\"652\",\"653\",\"654\",\"655\",\"656\",\"657\",\"658\",\"659\",\"660\",\"661\",\"662\",\"663\",\"664\",\"665\",\"666\",\"667\",\"668\",\"669\",\"670\",\"671\",\"672\",\"673\",\"674\",\"675\",\"676\",\"677\",\"678\",\"679\",\"680\",\"681\",\"682\",\"683\",\"684\",\"685\",\"686\",\"687\",\"688\",\"689\",\"690\",\"691\",\"692\",\"693\",\"694\",\"695\",\"696\",\"697\",\"698\",\"699\",\"700\",\"701\",\"702\",\"703\",\"704\",\"705\",\"706\",\"707\",\"708\",\"709\",\"710\",\"711\",\"712\",\"713\",\"714\",\"715\",\"716\",\"717\",\"718\",\"719\",\"720\",\"721\",\"722\",\"723\",\"724\",\"725\",\"726\",\"727\",\"728\",\"729\",\"730\",\"731\",\"732\",\"733\",\"734\",\"735\",\"736\",\"737\",\"738\",\"739\",\"740\",\"741\",\"742\",\"743\",\"744\",\"745\",\"746\",\"747\",\"748\",\"749\",\"750\",\"751\",\"752\",\"753\",\"754\",\"755\",\"756\",\"757\",\"758\",\"759\",\"760\",\"761\",\"762\",\"763\",\"764\",\"765\",\"766\",\"767\",\"768\",\"769\",\"770\",\"771\",\"772\",\"773\",\"774\",\"775\",\"776\",\"777\",\"778\",\"779\",\"780\",\"781\",\"782\",\"783\",\"784\",\"785\",\"786\",\"787\",\"788\",\"789\",\"790\",\"791\",\"792\",\"793\",\"794\",\"795\",\"796\",\"797\",\"798\",\"799\",\"800\",\"801\",\"802\",\"803\",\"804\",\"805\",\"806\",\"807\",\"808\",\"809\",\"810\",\"811\",\"812\",\"813\",\"814\",\"815\",\"816\",\"817\",\"818\",\"819\",\"820\",\"821\",\"822\",\"823\",\"824\",\"825\",\"826\",\"827\",\"828\",\"829\",\"830\",\"831\",\"832\",\"833\",\"834\",\"835\",\"836\",\"837\",\"838\",\"839\",\"840\",\"841\",\"842\",\"843\",\"844\",\"845\",\"846\",\"847\",\"848\",\"849\",\"850\",\"851\",\"852\",\"853\",\"854\",\"855\",\"856\",\"857\",\"858\",\"859\",\"860\",\"861\",\"862\",\"863\",\"864\",\"865\",\"866\",\"867\",\"868\",\"869\",\"870\",\"871\",\"872\",\"873\",\"874\",\"875\",\"876\",\"877\",\"878\",\"879\",\"880\",\"881\",\"882\",\"883\",\"884\",\"885\",\"886\",\"887\",\"888\",\"889\",\"890\",\"891\",\"892\",\"893\",\"894\",\"895\",\"896\",\"897\",\"898\",\"899\",\"900\",\"901\",\"902\",\"903\",\"904\",\"905\",\"906\",\"907\",\"908\",\"909\",\"910\",\"911\",\"912\",\"913\",\"914\",\"915\",\"916\",\"917\",\"918\",\"919\",\"920\",\"921\",\"922\",\"923\",\"924\",\"925\",\"926\",\"927\",\"928\",\"929\",\"930\",\"931\",\"932\",\"933\",\"934\",\"935\",\"936\",\"937\",\"938\",\"939\",\"940\",\"941\",\"942\",\"943\",\"944\",\"945\",\"946\",\"947\",\"948\",\"949\",\"950\",\"951\",\"952\",\"953\",\"954\",\"955\",\"956\",\"957\",\"958\",\"959\",\"960\",\"961\",\"962\",\"963\",\"964\",\"965\",\"966\",\"967\",\"968\",\"969\",\"970\",\"971\",\"972\",\"973\",\"974\",\"975\",\"976\",\"977\",\"978\",\"979\",\"980\",\"981\",\"982\",\"983\",\"984\",\"985\",\"986\",\"987\",\"988\",\"989\",\"990\",\"991\",\"992\",\"993\",\"994\",\"995\",\"996\",\"997\",\"998\",\"999\"],\"type\":\"scattermapbox\"}],                        {\"template\":{\"data\":{\"histogram2dcontour\":[{\"type\":\"histogram2dcontour\",\"colorbar\":{\"outlinewidth\":0,\"ticks\":\"\"},\"colorscale\":[[0.0,\"#0d0887\"],[0.1111111111111111,\"#46039f\"],[0.2222222222222222,\"#7201a8\"],[0.3333333333333333,\"#9c179e\"],[0.4444444444444444,\"#bd3786\"],[0.5555555555555556,\"#d8576b\"],[0.6666666666666666,\"#ed7953\"],[0.7777777777777778,\"#fb9f3a\"],[0.8888888888888888,\"#fdca26\"],[1.0,\"#f0f921\"]]}],\"choropleth\":[{\"type\":\"choropleth\",\"colorbar\":{\"outlinewidth\":0,\"ticks\":\"\"}}],\"histogram2d\":[{\"type\":\"histogram2d\",\"colorbar\":{\"outlinewidth\":0,\"ticks\":\"\"},\"colorscale\":[[0.0,\"#0d0887\"],[0.1111111111111111,\"#46039f\"],[0.2222222222222222,\"#7201a8\"],[0.3333333333333333,\"#9c179e\"],[0.4444444444444444,\"#bd3786\"],[0.5555555555555556,\"#d8576b\"],[0.6666666666666666,\"#ed7953\"],[0.7777777777777778,\"#fb9f3a\"],[0.8888888888888888,\"#fdca26\"],[1.0,\"#f0f921\"]]}],\"heatmap\":[{\"type\":\"heatmap\",\"colorbar\":{\"outlinewidth\":0,\"ticks\":\"\"},\"colorscale\":[[0.0,\"#0d0887\"],[0.1111111111111111,\"#46039f\"],[0.2222222222222222,\"#7201a8\"],[0.3333333333333333,\"#9c179e\"],[0.4444444444444444,\"#bd3786\"],[0.5555555555555556,\"#d8576b\"],[0.6666666666666666,\"#ed7953\"],[0.7777777777777778,\"#fb9f3a\"],[0.8888888888888888,\"#fdca26\"],[1.0,\"#f0f921\"]]}],\"heatmapgl\":[{\"type\":\"heatmapgl\",\"colorbar\":{\"outlinewidth\":0,\"ticks\":\"\"},\"colorscale\":[[0.0,\"#0d0887\"],[0.1111111111111111,\"#46039f\"],[0.2222222222222222,\"#7201a8\"],[0.3333333333333333,\"#9c179e\"],[0.4444444444444444,\"#bd3786\"],[0.5555555555555556,\"#d8576b\"],[0.6666666666666666,\"#ed7953\"],[0.7777777777777778,\"#fb9f3a\"],[0.8888888888888888,\"#fdca26\"],[1.0,\"#f0f921\"]]}],\"contourcarpet\":[{\"type\":\"contourcarpet\",\"colorbar\":{\"outlinewidth\":0,\"ticks\":\"\"}}],\"contour\":[{\"type\":\"contour\",\"colorbar\":{\"outlinewidth\":0,\"ticks\":\"\"},\"colorscale\":[[0.0,\"#0d0887\"],[0.1111111111111111,\"#46039f\"],[0.2222222222222222,\"#7201a8\"],[0.3333333333333333,\"#9c179e\"],[0.4444444444444444,\"#bd3786\"],[0.5555555555555556,\"#d8576b\"],[0.6666666666666666,\"#ed7953\"],[0.7777777777777778,\"#fb9f3a\"],[0.8888888888888888,\"#fdca26\"],[1.0,\"#f0f921\"]]}],\"surface\":[{\"type\":\"surface\",\"colorbar\":{\"outlinewidth\":0,\"ticks\":\"\"},\"colorscale\":[[0.0,\"#0d0887\"],[0.1111111111111111,\"#46039f\"],[0.2222222222222222,\"#7201a8\"],[0.3333333333333333,\"#9c179e\"],[0.4444444444444444,\"#bd3786\"],[0.5555555555555556,\"#d8576b\"],[0.6666666666666666,\"#ed7953\"],[0.7777777777777778,\"#fb9f3a\"],[0.8888888888888888,\"#fdca26\"],[1.0,\"#f0f921\"]]}],\"mesh3d\":[{\"type\":\"mesh3d\",\"colorbar\":{\"outlinewidth\":0,\"ticks\":\"\"}}],\"scatter\":[{\"fillpattern\":{\"fillmode\":\"overlay\",\"size\":10,\"solidity\":0.2},\"type\":\"scatter\"}],\"parcoords\":[{\"type\":\"parcoords\",\"line\":{\"colorbar\":{\"outlinewidth\":0,\"ticks\":\"\"}}}],\"scatterpolargl\":[{\"type\":\"scatterpolargl\",\"marker\":{\"colorbar\":{\"outlinewidth\":0,\"ticks\":\"\"}}}],\"bar\":[{\"error_x\":{\"color\":\"#2a3f5f\"},\"error_y\":{\"color\":\"#2a3f5f\"},\"marker\":{\"line\":{\"color\":\"#E5ECF6\",\"width\":0.5},\"pattern\":{\"fillmode\":\"overlay\",\"size\":10,\"solidity\":0.2}},\"type\":\"bar\"}],\"scattergeo\":[{\"type\":\"scattergeo\",\"marker\":{\"colorbar\":{\"outlinewidth\":0,\"ticks\":\"\"}}}],\"scatterpolar\":[{\"type\":\"scatterpolar\",\"marker\":{\"colorbar\":{\"outlinewidth\":0,\"ticks\":\"\"}}}],\"histogram\":[{\"marker\":{\"pattern\":{\"fillmode\":\"overlay\",\"size\":10,\"solidity\":0.2}},\"type\":\"histogram\"}],\"scattergl\":[{\"type\":\"scattergl\",\"marker\":{\"colorbar\":{\"outlinewidth\":0,\"ticks\":\"\"}}}],\"scatter3d\":[{\"type\":\"scatter3d\",\"line\":{\"colorbar\":{\"outlinewidth\":0,\"ticks\":\"\"}},\"marker\":{\"colorbar\":{\"outlinewidth\":0,\"ticks\":\"\"}}}],\"scattermapbox\":[{\"type\":\"scattermapbox\",\"marker\":{\"colorbar\":{\"outlinewidth\":0,\"ticks\":\"\"}}}],\"scatterternary\":[{\"type\":\"scatterternary\",\"marker\":{\"colorbar\":{\"outlinewidth\":0,\"ticks\":\"\"}}}],\"scattercarpet\":[{\"type\":\"scattercarpet\",\"marker\":{\"colorbar\":{\"outlinewidth\":0,\"ticks\":\"\"}}}],\"carpet\":[{\"aaxis\":{\"endlinecolor\":\"#2a3f5f\",\"gridcolor\":\"white\",\"linecolor\":\"white\",\"minorgridcolor\":\"white\",\"startlinecolor\":\"#2a3f5f\"},\"baxis\":{\"endlinecolor\":\"#2a3f5f\",\"gridcolor\":\"white\",\"linecolor\":\"white\",\"minorgridcolor\":\"white\",\"startlinecolor\":\"#2a3f5f\"},\"type\":\"carpet\"}],\"table\":[{\"cells\":{\"fill\":{\"color\":\"#EBF0F8\"},\"line\":{\"color\":\"white\"}},\"header\":{\"fill\":{\"color\":\"#C8D4E3\"},\"line\":{\"color\":\"white\"}},\"type\":\"table\"}],\"barpolar\":[{\"marker\":{\"line\":{\"color\":\"#E5ECF6\",\"width\":0.5},\"pattern\":{\"fillmode\":\"overlay\",\"size\":10,\"solidity\":0.2}},\"type\":\"barpolar\"}],\"pie\":[{\"automargin\":true,\"type\":\"pie\"}]},\"layout\":{\"autotypenumbers\":\"strict\",\"colorway\":[\"#636efa\",\"#EF553B\",\"#00cc96\",\"#ab63fa\",\"#FFA15A\",\"#19d3f3\",\"#FF6692\",\"#B6E880\",\"#FF97FF\",\"#FECB52\"],\"font\":{\"color\":\"#2a3f5f\"},\"hovermode\":\"closest\",\"hoverlabel\":{\"align\":\"left\"},\"paper_bgcolor\":\"white\",\"plot_bgcolor\":\"#E5ECF6\",\"polar\":{\"bgcolor\":\"#E5ECF6\",\"angularaxis\":{\"gridcolor\":\"white\",\"linecolor\":\"white\",\"ticks\":\"\"},\"radialaxis\":{\"gridcolor\":\"white\",\"linecolor\":\"white\",\"ticks\":\"\"}},\"ternary\":{\"bgcolor\":\"#E5ECF6\",\"aaxis\":{\"gridcolor\":\"white\",\"linecolor\":\"white\",\"ticks\":\"\"},\"baxis\":{\"gridcolor\":\"white\",\"linecolor\":\"white\",\"ticks\":\"\"},\"caxis\":{\"gridcolor\":\"white\",\"linecolor\":\"white\",\"ticks\":\"\"}},\"coloraxis\":{\"colorbar\":{\"outlinewidth\":0,\"ticks\":\"\"}},\"colorscale\":{\"sequential\":[[0.0,\"#0d0887\"],[0.1111111111111111,\"#46039f\"],[0.2222222222222222,\"#7201a8\"],[0.3333333333333333,\"#9c179e\"],[0.4444444444444444,\"#bd3786\"],[0.5555555555555556,\"#d8576b\"],[0.6666666666666666,\"#ed7953\"],[0.7777777777777778,\"#fb9f3a\"],[0.8888888888888888,\"#fdca26\"],[1.0,\"#f0f921\"]],\"sequentialminus\":[[0.0,\"#0d0887\"],[0.1111111111111111,\"#46039f\"],[0.2222222222222222,\"#7201a8\"],[0.3333333333333333,\"#9c179e\"],[0.4444444444444444,\"#bd3786\"],[0.5555555555555556,\"#d8576b\"],[0.6666666666666666,\"#ed7953\"],[0.7777777777777778,\"#fb9f3a\"],[0.8888888888888888,\"#fdca26\"],[1.0,\"#f0f921\"]],\"diverging\":[[0,\"#8e0152\"],[0.1,\"#c51b7d\"],[0.2,\"#de77ae\"],[0.3,\"#f1b6da\"],[0.4,\"#fde0ef\"],[0.5,\"#f7f7f7\"],[0.6,\"#e6f5d0\"],[0.7,\"#b8e186\"],[0.8,\"#7fbc41\"],[0.9,\"#4d9221\"],[1,\"#276419\"]]},\"xaxis\":{\"gridcolor\":\"white\",\"linecolor\":\"white\",\"ticks\":\"\",\"title\":{\"standoff\":15},\"zerolinecolor\":\"white\",\"automargin\":true,\"zerolinewidth\":2},\"yaxis\":{\"gridcolor\":\"white\",\"linecolor\":\"white\",\"ticks\":\"\",\"title\":{\"standoff\":15},\"zerolinecolor\":\"white\",\"automargin\":true,\"zerolinewidth\":2},\"scene\":{\"xaxis\":{\"backgroundcolor\":\"#E5ECF6\",\"gridcolor\":\"white\",\"linecolor\":\"white\",\"showbackground\":true,\"ticks\":\"\",\"zerolinecolor\":\"white\",\"gridwidth\":2},\"yaxis\":{\"backgroundcolor\":\"#E5ECF6\",\"gridcolor\":\"white\",\"linecolor\":\"white\",\"showbackground\":true,\"ticks\":\"\",\"zerolinecolor\":\"white\",\"gridwidth\":2},\"zaxis\":{\"backgroundcolor\":\"#E5ECF6\",\"gridcolor\":\"white\",\"linecolor\":\"white\",\"showbackground\":true,\"ticks\":\"\",\"zerolinecolor\":\"white\",\"gridwidth\":2}},\"shapedefaults\":{\"line\":{\"color\":\"#2a3f5f\"}},\"annotationdefaults\":{\"arrowcolor\":\"#2a3f5f\",\"arrowhead\":0,\"arrowwidth\":1},\"geo\":{\"bgcolor\":\"white\",\"landcolor\":\"#E5ECF6\",\"subunitcolor\":\"white\",\"showland\":true,\"showlakes\":true,\"lakecolor\":\"white\"},\"title\":{\"x\":0.05},\"mapbox\":{\"style\":\"light\"}}},\"mapbox\":{\"accesstoken\":\"pk.eyJ1IjoiYXJhZ29uZXJ1YSIsImEiOiJjbGpwcTh5cjYwMXN1M3J0ZDA2a2d1N2N4In0.DLk40rhIbaRS-bKPbclE4g\",\"bearing\":0,\"center\":{\"lat\":34.0331322,\"lon\":-118.301876},\"pitch\":0,\"zoom\":5},\"hovermode\":\"closest\"},                        {\"responsive\": true}                    ).then(function(){\n",
       "                            \n",
       "var gd = document.getElementById('1b1186d3-9cc3-425d-ba16-f480cd6024fa');\n",
       "var x = new MutationObserver(function (mutations, observer) {{\n",
       "        var display = window.getComputedStyle(gd).display;\n",
       "        if (!display || display === 'none') {{\n",
       "            console.log([gd, 'removed!']);\n",
       "            Plotly.purge(gd);\n",
       "            observer.disconnect();\n",
       "        }}\n",
       "}});\n",
       "\n",
       "// Listen for the removal of the full notebook cells\n",
       "var notebookContainer = gd.closest('#notebook-container');\n",
       "if (notebookContainer) {{\n",
       "    x.observe(notebookContainer, {childList: true});\n",
       "}}\n",
       "\n",
       "// Listen for the clearing of the current output cell\n",
       "var outputEl = gd.closest('.output');\n",
       "if (outputEl) {{\n",
       "    x.observe(outputEl, {childList: true});\n",
       "}}\n",
       "\n",
       "                        })                };                });            </script>        </div>"
      ]
     },
     "metadata": {},
     "output_type": "display_data"
    }
   ],
   "source": [
    "map_plotting(latitude_arr_pred, longitude_arr_pred, temp_description)  # plotting predicted data"
   ]
  },
  {
   "cell_type": "code",
   "execution_count": 34,
   "id": "e494c727",
   "metadata": {
    "execution": {
     "iopub.execute_input": "2023-08-07T05:55:59.903516Z",
     "iopub.status.busy": "2023-08-07T05:55:59.903146Z",
     "iopub.status.idle": "2023-08-07T05:55:59.945332Z",
     "shell.execute_reply": "2023-08-07T05:55:59.944335Z"
    },
    "papermill": {
     "duration": 0.066261,
     "end_time": "2023-08-07T05:55:59.948137",
     "exception": false,
     "start_time": "2023-08-07T05:55:59.881876",
     "status": "completed"
    },
    "tags": []
   },
   "outputs": [
    {
     "data": {
      "text/html": [
       "<div>                            <div id=\"9708aaf8-79f5-4920-b39a-35a12f2c44bd\" class=\"plotly-graph-div\" style=\"height:525px; width:100%;\"></div>            <script type=\"text/javascript\">                require([\"plotly\"], function(Plotly) {                    window.PLOTLYENV=window.PLOTLYENV || {};                                    if (document.getElementById(\"9708aaf8-79f5-4920-b39a-35a12f2c44bd\")) {                    Plotly.newPlot(                        \"9708aaf8-79f5-4920-b39a-35a12f2c44bd\",                        [{\"lat\":[\"34.0445\",\"34.0524\",\"34.0389\",\"34.0459\",\"34.0384\",\"34.0485\",\"34.0435\",\"34.0503\",\"34.0535\",\"34.0695\",\"34.0416\",\"34.0446\",\"34.053\",\"34.0435\",\"34.0499\",\"34.0452\",\"34.0407\",\"34.0502\",\"34.0442\",\"34.0451\",\"34.0407\",\"34.0384\",\"34.0446\",\"34.0424\",\"34.0482\",\"34.0482\",\"34.0371\",\"34.0446\",\"34.0627\",\"34.0635\",\"34.0917\",\"34.0452\",\"34.048\",\"34.0317\",\"34.0516\",\"34.048\",\"34.032\",\"34.0717\",\"34.0446\",\"34.0475\",\"34.0454\",\"34.0474\",\"34.0496\",\"34.0449\",\"34.045\",\"34.0373\",\"34.0635\",\"34.0644\",\"34.0442\",\"34.0537\",\"34.046\",\"34.0496\",\"34.0524\",\"34.0672\",\"34.0459\",\"34.0446\",\"34.0494\",\"34.0428\",\"34.046\",\"34.0461\",\"34.0467\",\"34.0649\",\"34.0619\",\"34.0435\",\"34.0364\",\"34.0522\",\"34.0442\",\"34.0582\",\"34.0394\",\"34.0488\",\"34.0582\",\"34.0394\",\"34.0449\",\"34.0449\",\"34.0346\",\"34.0494\",\"34.0656\",\"34.0423\",\"34.046\",\"34.0423\",\"34.0537\",\"34.048\",\"34.046\",\"34.032\",\"34.0446\",\"34.0503\",\"34.042\",\"34.0486\",\"34.0411\",\"34.0494\",\"34.0481\",\"34.051\",\"34.0423\",\"34.0377\",\"34.0416\",\"34.048\",\"34.0721\",\"34.0467\",\"34.0398\",\"34.0537\",\"34.0428\",\"34.0308\",\"34.0495\",\"34.0489\",\"34.0382\",\"34.0474\",\"34.0673\",\"34.0419\",\"34.0419\",\"34.0442\",\"34.0423\",\"34.0423\",\"34.0544\",\"34.0333\",\"34.0388\",\"34.0482\",\"34.0437\",\"34.0423\",\"34.048\",\"34.0535\",\"34.0446\",\"34.0401\",\"34.0357\",\"34.054\",\"34.0649\",\"34.0535\",\"34.0462\",\"34.0461\",\"34.0453\",\"34.0615\",\"34.1779\",\"34.0571\",\"34.1779\",\"34.0398\",\"34.0419\",\"34.0478\",\"34.0401\",\"34.0461\",\"34.048\",\"34.0473\",\"34.049\",\"34.0598\",\"34.0435\",\"34.0442\",\"34.0668\",\"34.0652\",\"34.0481\",\"34.0444\",\"34.0444\",\"34.0467\",\"34.0428\",\"34.0532\",\"34.0452\",\"34.0382\",\"34.0439\",\"34.0378\",\"34.048\",\"34.0455\",\"34.0549\",\"34.0467\",\"34.0404\",\"34.0377\",\"34.0394\",\"34.0412\",\"34.0566\",\"34.0566\",\"34.0459\",\"34.0435\",\"34.0446\",\"34.0423\",\"34.0354\",\"34.0379\",\"34.0401\",\"34.037\",\"34.0437\",\"34.0444\",\"34.0444\",\"34.0409\",\"34.0359\",\"34.0353\",\"34.0412\",\"34.071\",\"34.0474\",\"34.0458\",\"34.0488\",\"34.0452\",\"34.0544\",\"34.0626\",\"34.0346\",\"34.0416\",\"34.0474\",\"34.0563\",\"34.0389\",\"34.0372\",\"34.0488\",\"34.034\",\"34.034\",\"34.0482\",\"34.0495\",\"34.0416\",\"34.0449\",\"34.0423\",\"34.045\",\"34.045\",\"34.0503\",\"34.0503\",\"34.0487\",\"34.0639\",\"34.0407\",\"34.0467\",\"34.0482\",\"34.043\",\"34.0457\",\"34.0454\",\"34.0455\",\"34.0452\",\"34.0446\",\"34.0571\",\"34.065\",\"34.045\",\"34.048\",\"34.0452\",\"34.0439\",\"34.0435\",\"34.0435\",\"34.0398\",\"34.0445\",\"34.048\",\"34.0435\",\"34.0428\",\"34.0467\",\"34.0446\",\"34.0467\",\"34.0412\",\"34.064\",\"34.045\",\"34.0717\",\"34.0437\",\"34.0426\",\"34.0437\",\"34.0446\",\"34.0473\",\"34.0342\",\"34.0383\",\"34.0442\",\"34.0589\",\"34.048\",\"34.0387\",\"34.0423\",\"34.0673\",\"34.0467\",\"34.0583\",\"34.048\",\"34.0535\",\"34.048\",\"34.0363\",\"34.0454\",\"34.0331\",\"34.0563\",\"34.0413\",\"34.0413\",\"34.071\",\"34.0412\",\"34.0423\",\"34.048\",\"34.0438\",\"34.0394\",\"34.0451\",\"34.0655\",\"34.0454\",\"34.0454\",\"34.0473\",\"34.0446\",\"34.0364\",\"34.0446\",\"34.0395\",\"34.0446\",\"34.048\",\"34.0423\",\"34.0428\",\"34.0457\",\"34.0563\",\"34.0347\",\"34.048\",\"34.0419\",\"34.048\",\"34.0408\",\"34.0442\",\"34.0359\",\"34.0376\",\"34.0369\",\"34.0423\",\"34.0342\",\"34.0423\",\"34.0459\",\"34.0445\",\"34.0485\",\"34.0478\",\"34.0482\",\"34.0588\",\"34.0375\",\"34.0467\",\"34.0423\",\"34.0488\",\"34.048\",\"34.046\",\"34.0408\",\"34.0467\",\"34.048\",\"34.0459\",\"34.039\",\"34.0431\",\"34.0452\",\"34.0488\",\"34.0446\",\"34.0408\",\"34.0623\",\"34.0503\",\"34.0368\",\"34.0474\",\"34.0403\",\"34.0524\",\"34.0347\",\"34.0484\",\"34.0488\",\"34.0509\",\"34.0383\",\"34.0389\",\"34.039\",\"34.0446\",\"34.064\",\"34.0559\",\"34.0407\",\"34.0435\",\"34.046\",\"34.0482\",\"34.045\",\"34.0598\",\"34.048\",\"34.051\",\"34.0538\",\"34.0364\",\"34.0545\",\"34.0437\",\"34.0467\",\"34.0446\",\"34.0439\",\"34.0423\",\"34.0419\",\"34.0435\",\"34.0446\",\"34.0481\",\"34.0481\",\"34.0423\",\"34.0495\",\"34.0495\",\"34.039\",\"34.0439\",\"34.0635\",\"34.0401\",\"34.0424\",\"34.048\",\"34.0481\",\"34.0509\",\"34.045\",\"34.0461\",\"34.0365\",\"34.048\",\"34.0454\",\"34.0446\",\"34.0489\",\"34.0439\",\"34.0209\",\"34.0452\",\"34.0416\",\"34.048\",\"34.0594\",\"34.0581\",\"34.0467\",\"34.0416\",\"34.042\",\"34.0509\",\"34.0633\",\"34.051\",\"34.0489\",\"34.0446\",\"34.0446\",\"34.0594\",\"34.0445\",\"34.0713\",\"34.048\",\"34.051\",\"34.0439\",\"34.043\",\"34.0487\",\"34.0453\",\"34.0591\",\"34.0494\",\"34.0428\",\"34.0617\",\"34.0446\",\"34.0503\",\"34.0617\",\"34.0474\",\"34.0487\",\"34.0487\",\"34.0454\",\"34.0463\",\"34.0454\",\"34.0502\",\"34.0467\",\"34.0446\",\"34.0453\",\"34.0677\",\"34.0424\",\"34.0467\",\"34.0673\",\"34.0423\",\"34.0428\",\"34.0442\",\"34.0398\",\"34.0505\",\"34.0442\",\"34.039\",\"34.0423\",\"34.0461\",\"34.0408\",\"34.0474\",\"34.0467\",\"34.0398\",\"34.0433\",\"34.0502\",\"34.0588\",\"34.0398\",\"34.0448\",\"34.0535\",\"34.039\",\"34.0408\",\"34.0428\",\"34.0515\",\"34.0423\",\"34.0472\",\"34.043\",\"34.0455\",\"34.0396\",\"34.0433\",\"34.0504\",\"34.0442\",\"34.048\",\"34.0474\",\"34.0489\",\"34.0502\",\"34.0617\",\"34.0479\",\"34.0452\",\"34.038\",\"34.0661\",\"34.0363\",\"34.0423\",\"34.0458\",\"34.0581\",\"34.0502\",\"34.0464\",\"34.0455\",\"34.0458\",\"34.0347\",\"34.0383\",\"34.0413\",\"34.0368\",\"34.0428\",\"34.0623\",\"34.0442\",\"34.046\",\"34.0549\",\"34.0554\",\"34.0423\",\"34.0515\",\"34.0442\",\"34.0547\",\"34.0479\",\"34.0639\",\"34.0481\",\"34.0477\",\"34.0423\",\"34.0442\",\"34.0481\",\"34.0383\",\"34.048\",\"34.048\",\"34.0442\",\"34.0437\",\"34.0453\",\"34.0524\",\"34.0626\",\"34.0467\",\"34.0555\",\"34.0371\",\"34.0459\",\"34.0445\",\"34.0551\",\"34.0607\",\"34.0402\",\"34.0394\",\"34.0415\",\"34.0617\",\"34.0527\",\"34.0446\",\"34.0493\",\"34.0503\",\"34.0474\",\"34.0493\",\"34.0452\",\"34.0578\",\"34.0365\",\"34.0444\",\"34.0493\",\"34.0423\",\"34.0439\",\"34.0488\",\"34.0454\",\"34.0445\",\"34.0467\",\"34.0467\",\"34.0544\",\"34.0312\",\"34.0637\",\"34.0452\",\"34.046\",\"34.0449\",\"34.0336\",\"34.0504\",\"34.0573\",\"34.0424\",\"34.0473\",\"34.046\",\"34.0467\",\"34.038\",\"34.0472\",\"34.0496\",\"34.0472\",\"34.0486\",\"34.0484\",\"34.0453\",\"34.0439\",\"34.0578\",\"34.0419\",\"34.0467\",\"34.0481\",\"34.0311\",\"34.0484\",\"34.0558\",\"34.0437\",\"34.0419\",\"34.0584\",\"34.0544\",\"34.048\",\"34.0412\",\"34.0489\",\"34.0435\",\"34.0401\",\"34.0343\",\"34.0407\",\"34.0671\",\"34.0467\",\"34.0442\",\"34.048\",\"34.0617\",\"34.0668\",\"34.0413\",\"34.0487\",\"34.0415\",\"34.0586\",\"34.046\",\"34.0445\",\"34.0445\",\"34.0423\",\"34.0474\",\"34.0473\",\"34.0423\",\"34.0389\",\"34.0652\",\"34.0446\",\"34.0467\",\"34.0495\",\"34.0449\",\"34.0442\",\"34.0537\",\"34.0455\",\"34.0474\",\"34.0591\",\"34.0444\",\"34.0571\",\"34.0495\",\"34.0446\",\"34.051\",\"34.0442\",\"34.0604\",\"34.0462\",\"34.0481\",\"34.0549\",\"34.0423\",\"34.0423\",\"34.0586\",\"34.0481\",\"34.0472\",\"34.0467\",\"34.0423\",\"34.0493\",\"34.0378\",\"34.0416\",\"34.0417\",\"34.0439\",\"34.0537\",\"34.0487\",\"34.0488\",\"34.0372\",\"34.0516\",\"34.0487\",\"34.0442\",\"34.0438\",\"34.0467\",\"34.046\",\"34.0578\",\"34.0396\",\"34.0416\",\"34.064\",\"34.0472\",\"34.0435\",\"34.0435\",\"34.0423\",\"34.0401\",\"34.0606\",\"34.048\",\"34.0474\",\"34.0428\",\"34.0405\",\"34.048\",\"34.0372\",\"34.0482\",\"34.0604\",\"34.0454\",\"34.0494\",\"34.0515\",\"34.0419\",\"34.0412\",\"34.0487\",\"34.0641\",\"34.0467\",\"34.0423\",\"34.0501\",\"34.0442\",\"34.0415\",\"34.0372\",\"34.0478\",\"34.0408\",\"34.048\",\"34.0617\",\"34.038\",\"34.0453\",\"34.0395\",\"34.0648\",\"34.0419\",\"34.0472\",\"34.0544\",\"34.0446\",\"34.0627\",\"34.0496\",\"34.0552\",\"34.0494\",\"34.0462\",\"34.0408\",\"34.0481\",\"34.051\",\"34.0454\",\"34.0644\",\"34.0643\",\"34.0467\",\"34.0395\",\"34.0461\",\"34.0378\",\"34.0455\",\"34.0451\",\"34.0552\",\"34.0584\",\"34.0444\",\"34.0373\",\"34.0467\",\"34.0401\",\"34.0409\",\"34.0311\",\"34.0446\",\"34.0446\",\"34.0417\",\"34.0724\",\"34.048\",\"34.0708\",\"34.0446\",\"34.0502\",\"34.035\",\"34.0449\",\"34.0613\",\"34.0445\",\"34.0446\",\"34.0423\",\"34.0578\",\"34.0663\",\"34.043\",\"34.0481\",\"34.0445\",\"34.0442\",\"34.0401\",\"34.0474\",\"34.0534\",\"34.0495\",\"34.0472\",\"34.0472\",\"34.0472\",\"34.0482\",\"34.0482\",\"34.0486\",\"34.0487\",\"34.0617\",\"34.0502\",\"34.0564\",\"34.0317\",\"34.0551\",\"34.0637\",\"34.0402\",\"34.0407\",\"34.0449\",\"34.0461\",\"34.0461\",\"34.0617\",\"34.0674\",\"34.0416\",\"34.0401\",\"34.0652\",\"34.048\",\"34.0442\",\"34.0442\",\"34.0442\",\"34.0551\",\"34.0494\",\"34.0488\",\"34.0446\",\"34.0446\",\"34.0489\",\"34.0423\",\"34.0534\",\"34.0428\",\"34.048\",\"34.0368\",\"34.0455\",\"34.0461\",\"34.0591\",\"34.048\",\"34.0408\",\"34.049\",\"34.049\",\"34.049\",\"34.0471\",\"34.0446\",\"34.0451\",\"34.0416\",\"34.0502\",\"34.0458\",\"34.0384\",\"34.0598\",\"34.046\",\"34.0481\",\"34.0502\",\"34.0455\",\"34.0416\",\"34.0488\",\"34.0577\",\"34.0435\",\"34.0627\",\"34.0481\",\"34.048\",\"34.0355\",\"34.0439\",\"34.0439\",\"34.048\",\"34.0461\",\"34.0584\",\"34.048\",\"34.0437\",\"34.0493\",\"34.0474\",\"34.0549\",\"34.0409\",\"34.0371\",\"34.0371\",\"34.0467\",\"34.0459\",\"34.0342\",\"34.0423\",\"34.0317\",\"34.0384\",\"34.0384\",\"34.0317\",\"34.0423\",\"34.072\",\"34.0433\",\"34.0421\",\"34.043\",\"34.0493\",\"34.0535\",\"34.0529\",\"34.0606\",\"34.0378\",\"34.0467\",\"34.0423\",\"34.0433\",\"34.0379\",\"34.0401\",\"34.0446\",\"34.0467\",\"34.0473\",\"34.0683\",\"34.0401\",\"34.0532\",\"34.0474\",\"34.0551\",\"34.0467\",\"34.0444\",\"34.0442\",\"34.0384\",\"34.0502\",\"34.0486\",\"34.0481\",\"34.0363\",\"34.0308\",\"34.0584\",\"34.0463\",\"34.0571\",\"34.0571\",\"34.0435\",\"34.0317\",\"34.0384\",\"34.0403\",\"34.0403\",\"34.0435\",\"34.0467\",\"34.0463\",\"34.0533\",\"34.0515\",\"34.0617\",\"34.0407\",\"34.0467\",\"34.0481\",\"34.0451\",\"34.0423\",\"34.0633\",\"34.0494\",\"34.0449\",\"34.048\",\"34.0423\",\"34.0551\",\"34.0502\",\"34.0516\",\"34.0423\",\"34.0384\",\"34.0617\",\"34.0446\",\"34.0566\",\"34.0449\",\"34.0438\",\"34.0416\",\"34.0449\",\"34.0404\",\"34.0492\",\"34.064\",\"34.0412\",\"34.0442\",\"34.0493\",\"34.0398\",\"34.053\",\"34.0433\",\"34.0449\",\"34.0363\",\"34.039\",\"34.0371\",\"34.0416\",\"34.0581\",\"34.0451\",\"34.0416\",\"34.0459\",\"34.0584\",\"34.0419\",\"34.0394\",\"34.0342\",\"34.0439\",\"34.0412\",\"34.0389\",\"34.0515\",\"34.0349\",\"34.0395\",\"34.048\",\"34.0442\",\"34.0424\",\"34.0435\",\"34.048\",\"34.0481\",\"34.0502\",\"34.045\",\"34.0435\",\"34.0423\",\"34.0563\",\"34.0482\",\"34.0428\",\"34.0417\",\"34.0423\",\"34.0454\",\"34.0445\",\"34.035\",\"34.0502\",\"34.0439\",\"34.039\",\"34.0474\",\"34.0428\",\"34.0474\",\"34.051\",\"34.0617\",\"34.0371\",\"34.0435\",\"34.0437\",\"34.048\",\"34.053\",\"34.0517\",\"34.048\",\"34.048\",\"34.0408\",\"34.0442\",\"34.0442\",\"34.0407\",\"34.0583\",\"34.0491\",\"34.0482\",\"34.0501\",\"34.064\",\"34.0495\",\"34.0495\",\"34.0644\",\"34.0423\",\"34.0442\",\"34.0599\",\"34.0346\",\"34.0695\",\"34.0389\",\"34.0383\",\"34.0547\",\"34.0545\",\"34.0604\",\"34.0326\",\"34.0435\",\"34.0583\",\"34.0502\",\"34.0502\",\"34.0335\",\"34.0633\",\"34.0365\",\"34.0474\",\"34.0381\",\"34.0453\",\"34.048\",\"34.048\",\"34.0553\",\"34.0474\",\"34.0534\",\"34.0493\",\"34.0417\",\"34.0502\",\"34.0412\",\"34.0408\",\"34.0419\",\"34.0378\",\"34.0378\",\"34.0369\",\"34.065\",\"34.0632\",\"34.048\",\"34.0671\",\"34.0454\",\"34.0487\",\"34.0151\",\"34.0442\",\"34.0446\",\"34.0363\",\"34.0446\",\"34.0454\",\"34.0627\",\"34.0395\",\"34.0451\",\"34.0532\",\"34.0446\",\"34.0482\",\"34.049\",\"34.0386\",\"34.048\"],\"lon\":[\"-118.2523\",\"-118.2467\",\"-118.2643\",\"-118.2579\",\"-118.2646\",\"-118.2447\",\"-118.2427\",\"-118.2504\",\"-118.256\",\"-118.2324\",\"-118.262\",\"-118.249\",\"-118.2444\",\"-118.2471\",\"-118.2614\",\"-118.2534\",\"-118.2468\",\"-118.254\",\"-118.2439\",\"-118.2604\",\"-118.2468\",\"-118.2305\",\"-118.245\",\"-118.2493\",\"-118.2472\",\"-118.2472\",\"-118.2475\",\"-118.245\",\"-118.2463\",\"-118.2458\",\"-118.2741\",\"-118.2534\",\"-118.2577\",\"-118.2641\",\"-118.2526\",\"-118.2577\",\"-118.2667\",\"-118.2493\",\"-118.245\",\"-118.2657\",\"-118.2657\",\"-118.2531\",\"-118.2458\",\"-118.2415\",\"-118.264\",\"-118.2503\",\"-118.2426\",\"-118.2387\",\"-118.2439\",\"-118.2455\",\"-118.2509\",\"-118.2458\",\"-118.2467\",\"-118.2385\",\"-118.2351\",\"-118.249\",\"-118.2599\",\"-118.2461\",\"-118.2509\",\"-118.2476\",\"-118.2556\",\"-118.2399\",\"-118.2369\",\"-118.2471\",\"-118.2406\",\"-118.2434\",\"-118.2439\",\"-118.2387\",\"-118.2405\",\"-118.2518\",\"-118.2387\",\"-118.2405\",\"-118.2458\",\"-118.2458\",\"-118.2323\",\"-118.2581\",\"-118.2374\",\"-118.2452\",\"-118.2509\",\"-118.2452\",\"-118.2455\",\"-118.2577\",\"-118.2509\",\"-118.2657\",\"-118.249\",\"-118.247\",\"-118.2468\",\"-118.2192\",\"-118.2545\",\"-118.2599\",\"-118.2507\",\"-118.2445\",\"-118.2595\",\"-118.2425\",\"-118.262\",\"-118.2577\",\"-118.2213\",\"-118.252\",\"-118.2413\",\"-118.2379\",\"-118.2461\",\"-118.2602\",\"-118.2494\",\"-118.2453\",\"-118.2384\",\"-118.2496\",\"-118.2354\",\"-118.2485\",\"-118.2485\",\"-118.2439\",\"-118.2561\",\"-118.2452\",\"-118.2466\",\"-118.262\",\"-118.2574\",\"-118.2472\",\"-118.2652\",\"-118.2452\",\"-118.2577\",\"-118.256\",\"-118.245\",\"-118.2504\",\"-118.2593\",\"-118.2435\",\"-118.2289\",\"-118.256\",\"-118.2628\",\"-118.2476\",\"-118.2499\",\"-118.2336\",\"-118.2962\",\"-118.2422\",\"-118.2962\",\"-118.2413\",\"-118.2485\",\"-118.2454\",\"-118.2668\",\"-118.2476\",\"-118.2577\",\"-118.2566\",\"-118.2381\",\"-118.2477\",\"-118.2471\",\"-118.2439\",\"-118.2301\",\"-118.2468\",\"-118.2542\",\"-118.2628\",\"-118.2628\",\"-118.252\",\"-118.2461\",\"-118.2425\",\"-118.2534\",\"-118.2384\",\"-118.2479\",\"-118.2561\",\"-118.2438\",\"-118.2381\",\"-118.2426\",\"-118.252\",\"-118.2504\",\"-118.2425\",\"-118.2496\",\"-118.2474\",\"-118.2319\",\"-118.2319\",\"-118.2545\",\"-118.2471\",\"-118.245\",\"-118.2452\",\"-118.2714\",\"-118.2682\",\"-118.2668\",\"-118.2688\",\"-118.2652\",\"-118.2628\",\"-118.2628\",\"-118.2609\",\"-118.2648\",\"-118.2698\",\"-118.2436\",\"-118.2302\",\"-118.2531\",\"-118.2614\",\"-118.2553\",\"-118.2569\",\"-118.2535\",\"-118.2433\",\"-118.2572\",\"-118.262\",\"-118.2496\",\"-118.2374\",\"-118.255\",\"-118.2654\",\"-118.2518\",\"-118.2651\",\"-118.2651\",\"-118.2472\",\"-118.2494\",\"-118.2398\",\"-118.2458\",\"-118.2452\",\"-118.264\",\"-118.2435\",\"-118.2504\",\"-118.2504\",\"-118.2588\",\"-118.2446\",\"-118.2468\",\"-118.2485\",\"-118.2472\",\"-118.2571\",\"-118.2665\",\"-118.2422\",\"-118.2452\",\"-118.2569\",\"-118.245\",\"-118.2509\",\"-118.2384\",\"-118.2435\",\"-118.2577\",\"-118.2569\",\"-118.2514\",\"-118.2471\",\"-118.2471\",\"-118.2413\",\"-118.2558\",\"-118.256\",\"-118.2427\",\"-118.2461\",\"-118.2556\",\"-118.245\",\"-118.2556\",\"-118.2474\",\"-118.2375\",\"-118.264\",\"-118.2493\",\"-118.2652\",\"-118.2412\",\"-118.2455\",\"-118.245\",\"-118.2566\",\"-118.2636\",\"-118.2633\",\"-118.2439\",\"-118.2412\",\"-118.2577\",\"-118.2488\",\"-118.2452\",\"-118.2499\",\"-118.2556\",\"-118.2378\",\"-118.2577\",\"-118.256\",\"-118.2577\",\"-118.2573\",\"-118.2466\",\"-118.2599\",\"-118.2374\",\"-118.2517\",\"-118.2517\",\"-118.2302\",\"-118.2474\",\"-118.2452\",\"-118.2577\",\"-118.2547\",\"-118.2496\",\"-118.2604\",\"-118.2387\",\"-118.2466\",\"-118.2466\",\"-118.2601\",\"-118.245\",\"-118.2406\",\"-118.249\",\"-118.2656\",\"-118.245\",\"-118.2577\",\"-118.2452\",\"-118.2461\",\"-118.2665\",\"-118.2374\",\"-118.2645\",\"-118.2577\",\"-118.2485\",\"-118.2438\",\"-118.2511\",\"-118.2439\",\"-118.2344\",\"-118.2531\",\"-118.2522\",\"-118.2452\",\"-118.2636\",\"-118.2452\",\"-118.2545\",\"-118.2523\",\"-118.2447\",\"-118.2454\",\"-118.2472\",\"-118.2458\",\"-118.27\",\"-118.2556\",\"-118.2452\",\"-118.2518\",\"-118.2577\",\"-118.2509\",\"-118.2428\",\"-118.2427\",\"-118.2577\",\"-118.2579\",\"-118.2444\",\"-118.2536\",\"-118.2534\",\"-118.2483\",\"-118.245\",\"-118.2511\",\"-118.2383\",\"-118.2433\",\"-118.2412\",\"-118.2496\",\"-118.2421\",\"-118.2467\",\"-118.2345\",\"-118.2339\",\"-118.2518\",\"-118.2585\",\"-118.254\",\"-118.255\",\"-118.2444\",\"-118.249\",\"-118.2375\",\"-118.2296\",\"-118.2468\",\"-118.2471\",\"-118.2509\",\"-118.2472\",\"-118.264\",\"-118.2485\",\"-118.2577\",\"-118.248\",\"-118.2488\",\"-118.2406\",\"-118.2499\",\"-118.2652\",\"-118.2556\",\"-118.245\",\"-118.2479\",\"-118.2452\",\"-118.2485\",\"-118.2427\",\"-118.249\",\"-118.2507\",\"-118.2507\",\"-118.2452\",\"-118.2563\",\"-118.2563\",\"-118.24\",\"-118.2514\",\"-118.2426\",\"-118.2668\",\"-118.2718\",\"-118.2577\",\"-118.2507\",\"-118.2551\",\"-118.264\",\"-118.2476\",\"-118.2364\",\"-118.2577\",\"-118.2657\",\"-118.249\",\"-118.2453\",\"-118.2514\",\"-118.2784\",\"-118.2534\",\"-118.262\",\"-118.2577\",\"-118.2452\",\"-118.2371\",\"-118.2556\",\"-118.2584\",\"-118.2328\",\"-118.2585\",\"-118.229\",\"-118.248\",\"-118.2453\",\"-118.245\",\"-118.245\",\"-118.2452\",\"-118.2558\",\"-118.2506\",\"-118.2577\",\"-118.2445\",\"-118.2514\",\"-118.2571\",\"-118.2588\",\"-118.2651\",\"-118.2412\",\"-118.2581\",\"-118.2461\",\"-118.2469\",\"-118.249\",\"-118.2506\",\"-118.2469\",\"-118.2496\",\"-118.2588\",\"-118.2588\",\"-118.236\",\"-118.2371\",\"-118.236\",\"-118.2574\",\"-118.2485\",\"-118.249\",\"-118.2499\",\"-118.2309\",\"-118.2718\",\"-118.2556\",\"-118.2499\",\"-118.2452\",\"-118.2461\",\"-118.2439\",\"-118.2413\",\"-118.2381\",\"-118.2439\",\"-118.2444\",\"-118.2452\",\"-118.2476\",\"-118.2428\",\"-118.2496\",\"-118.252\",\"-118.2413\",\"-118.2504\",\"-118.254\",\"-118.2458\",\"-118.2413\",\"-118.2474\",\"-118.256\",\"-118.24\",\"-118.2428\",\"-118.2461\",\"-118.2424\",\"-118.2452\",\"-118.2381\",\"-118.2641\",\"-118.2381\",\"-118.2451\",\"-118.2377\",\"-118.2409\",\"-118.2439\",\"-118.2577\",\"-118.2496\",\"-118.2453\",\"-118.2574\",\"-118.2469\",\"-118.2612\",\"-118.2534\",\"-118.243\",\"-118.2476\",\"-118.2677\",\"-118.2452\",\"-118.2614\",\"-118.2371\",\"-118.2574\",\"-118.2402\",\"-118.2381\",\"-118.243\",\"-118.2602\",\"-118.254\",\"-118.2338\",\"-118.2546\",\"-118.2461\",\"-118.2383\",\"-118.2439\",\"-118.2509\",\"-118.2426\",\"-118.239\",\"-118.2452\",\"-118.2424\",\"-118.2439\",\"-118.2505\",\"-118.2612\",\"-118.2306\",\"-118.2507\",\"-118.2393\",\"-118.2452\",\"-118.2439\",\"-118.2542\",\"-118.254\",\"-118.2577\",\"-118.2577\",\"-118.2439\",\"-118.2617\",\"-118.2499\",\"-118.2467\",\"-118.2489\",\"-118.2485\",\"-118.2455\",\"-118.2551\",\"-118.2545\",\"-118.2558\",\"-118.2545\",\"-118.2494\",\"-118.2329\",\"-118.2307\",\"-118.2332\",\"-118.2469\",\"-118.258\",\"-118.245\",\"-118.2418\",\"-118.2504\",\"-118.2496\",\"-118.2418\",\"-118.2534\",\"-118.252\",\"-118.2659\",\"-118.2407\",\"-118.2418\",\"-118.2452\",\"-118.2514\",\"-118.2553\",\"-118.2466\",\"-118.2523\",\"-118.2427\",\"-118.2427\",\"-118.2535\",\"-118.2615\",\"-118.244\",\"-118.2534\",\"-118.2509\",\"-118.2415\",\"-118.2459\",\"-118.2409\",\"-118.2455\",\"-118.2493\",\"-118.2601\",\"-118.2509\",\"-118.252\",\"-118.243\",\"-118.2385\",\"-118.2458\",\"-118.2371\",\"-118.2339\",\"-118.2339\",\"-118.2499\",\"-118.2514\",\"-118.252\",\"-118.2485\",\"-118.247\",\"-118.2542\",\"-118.2646\",\"-118.2338\",\"-118.24\",\"-118.2582\",\"-118.2485\",\"-118.2513\",\"-118.2466\",\"-118.2577\",\"-118.2436\",\"-118.2519\",\"-118.2427\",\"-118.2668\",\"-118.262\",\"-118.2541\",\"-118.2483\",\"-118.2485\",\"-118.2439\",\"-118.2577\",\"-118.2469\",\"-118.2359\",\"-118.2517\",\"-118.2588\",\"-118.2654\",\"-118.2402\",\"-118.2509\",\"-118.2367\",\"-118.2367\",\"-118.2452\",\"-118.2496\",\"-118.2566\",\"-118.2452\",\"-118.2643\",\"-118.2492\",\"-118.249\",\"-118.2485\",\"-118.2529\",\"-118.2458\",\"-118.2439\",\"-118.2455\",\"-118.2381\",\"-118.2496\",\"-118.2412\",\"-118.2628\",\"-118.2435\",\"-118.2494\",\"-118.245\",\"-118.248\",\"-118.2439\",\"-118.2393\",\"-118.2628\",\"-118.2507\",\"-118.2426\",\"-118.2452\",\"-118.2452\",\"-118.2402\",\"-118.2542\",\"-118.2361\",\"-118.2485\",\"-118.2452\",\"-118.2418\",\"-118.2561\",\"-118.2584\",\"-118.2443\",\"-118.2399\",\"-118.2523\",\"-118.2588\",\"-118.2553\",\"-118.2654\",\"-118.2561\",\"-118.2588\",\"-118.2439\",\"-118.2547\",\"-118.252\",\"-118.2509\",\"-118.252\",\"-118.2558\",\"-118.262\",\"-118.2375\",\"-118.2326\",\"-118.2471\",\"-118.2471\",\"-118.2452\",\"-118.2668\",\"-118.2439\",\"-118.2577\",\"-118.2496\",\"-118.2461\",\"-118.2508\",\"-118.2577\",\"-118.2654\",\"-118.2472\",\"-118.2393\",\"-118.236\",\"-118.2581\",\"-118.2424\",\"-118.2485\",\"-118.2436\",\"-118.2588\",\"-118.248\",\"-118.2556\",\"-118.2452\",\"-118.2592\",\"-118.2439\",\"-118.2654\",\"-118.2654\",\"-118.2454\",\"-118.2644\",\"-118.2577\",\"-118.2469\",\"-118.243\",\"-118.2499\",\"-118.2656\",\"-118.2313\",\"-118.2485\",\"-118.2351\",\"-118.2378\",\"-118.249\",\"-118.2463\",\"-118.2458\",\"-118.2322\",\"-118.2581\",\"-118.2381\",\"-118.2428\",\"-118.2542\",\"-118.248\",\"-118.2466\",\"-118.2387\",\"-118.2299\",\"-118.2485\",\"-118.2622\",\"-118.2476\",\"-118.2561\",\"-118.2381\",\"-118.2604\",\"-118.2322\",\"-118.2513\",\"-118.2628\",\"-118.2503\",\"-118.2485\",\"-118.2359\",\"-118.2574\",\"-118.2646\",\"-118.245\",\"-118.245\",\"-118.2443\",\"-118.249\",\"-118.256\",\"-118.2471\",\"-118.245\",\"-118.254\",\"-118.2615\",\"-118.2528\",\"-118.2446\",\"-118.2558\",\"-118.245\",\"-118.2452\",\"-118.252\",\"-118.2441\",\"-118.2606\",\"-118.2507\",\"-118.2558\",\"-118.2439\",\"-118.2668\",\"-118.2531\",\"-118.2409\",\"-118.2494\",\"-118.2385\",\"-118.2385\",\"-118.2385\",\"-118.2472\",\"-118.2472\",\"-118.2351\",\"-118.2627\",\"-118.2469\",\"-118.254\",\"-118.2498\",\"-118.2641\",\"-118.2545\",\"-118.244\",\"-118.2684\",\"-118.2541\",\"-118.2458\",\"-118.2476\",\"-118.2476\",\"-118.2469\",\"-118.2468\",\"-118.2584\",\"-118.2459\",\"-118.2306\",\"-118.2577\",\"-118.2439\",\"-118.2439\",\"-118.2439\",\"-118.2545\",\"-118.2599\",\"-118.2518\",\"-118.245\",\"-118.249\",\"-118.2371\",\"-118.2452\",\"-118.2409\",\"-118.2461\",\"-118.2577\",\"-118.2412\",\"-118.2381\",\"-118.2476\",\"-118.2412\",\"-118.2577\",\"-118.2428\",\"-118.2381\",\"-118.2381\",\"-118.2381\",\"-118.2491\",\"-118.245\",\"-118.2604\",\"-118.255\",\"-118.254\",\"-118.2361\",\"-118.2571\",\"-118.2485\",\"-118.2509\",\"-118.2507\",\"-118.254\",\"-118.2379\",\"-118.255\",\"-118.2518\",\"-118.2318\",\"-118.2471\",\"-118.2341\",\"-118.2507\",\"-118.2577\",\"-118.2714\",\"-118.2337\",\"-118.2479\",\"-118.2577\",\"-118.2476\",\"-118.2513\",\"-118.2577\",\"-118.2652\",\"-118.2418\",\"-118.2531\",\"-118.2426\",\"-118.2574\",\"-118.2551\",\"-118.2551\",\"-118.252\",\"-118.2579\",\"-118.2636\",\"-118.2666\",\"-118.2641\",\"-118.2571\",\"-118.2571\",\"-118.2641\",\"-118.2452\",\"-118.2508\",\"-118.2504\",\"-118.2327\",\"-118.2341\",\"-118.2418\",\"-118.256\",\"-118.2329\",\"-118.2439\",\"-118.2561\",\"-118.2485\",\"-118.2452\",\"-118.2381\",\"-118.2682\",\"-118.2533\",\"-118.249\",\"-118.2556\",\"-118.2566\",\"-118.245\",\"-118.2668\",\"-118.2425\",\"-118.2531\",\"-118.2545\",\"-118.2485\",\"-118.2628\",\"-118.2439\",\"-118.2305\",\"-118.254\",\"-118.2351\",\"-118.2542\",\"-118.2677\",\"-118.2602\",\"-118.2513\",\"-118.255\",\"-118.2435\",\"-118.2435\",\"-118.2471\",\"-118.2641\",\"-118.2571\",\"-118.2421\",\"-118.2421\",\"-118.2471\",\"-118.2556\",\"-118.2515\",\"-118.2379\",\"-118.2424\",\"-118.2469\",\"-118.2468\",\"-118.2485\",\"-118.2542\",\"-118.27\",\"-118.2666\",\"-118.229\",\"-118.2599\",\"-118.2458\",\"-118.2577\",\"-118.2666\",\"-118.2545\",\"-118.2574\",\"-118.2561\",\"-118.2452\",\"-118.2571\",\"-118.2469\",\"-118.245\",\"-118.2319\",\"-118.2458\",\"-118.2547\",\"-118.255\",\"-118.2458\",\"-118.2337\",\"-118.2488\",\"-118.2375\",\"-118.2436\",\"-118.2439\",\"-118.2418\",\"-118.2413\",\"-118.2513\",\"-118.2377\",\"-118.2458\",\"-118.2573\",\"-118.2444\",\"-118.2672\",\"-118.262\",\"-118.2371\",\"-118.2604\",\"-118.262\",\"-118.2351\",\"-118.2513\",\"-118.2523\",\"-118.2405\",\"-118.2636\",\"-118.2514\",\"-118.2436\",\"-118.255\",\"-118.2424\",\"-118.2669\",\"-118.2656\",\"-118.2438\",\"-118.2439\",\"-118.2493\",\"-118.2471\",\"-118.2577\",\"-118.2507\",\"-118.2336\",\"-118.264\",\"-118.2427\",\"-118.2452\",\"-118.2374\",\"-118.2472\",\"-118.2461\",\"-118.2443\",\"-118.2452\",\"-118.2466\",\"-118.2523\",\"-118.2615\",\"-118.254\",\"-118.2514\",\"-118.2444\",\"-118.2531\",\"-118.2461\",\"-118.2496\",\"-118.2445\",\"-118.2469\",\"-118.2551\",\"-118.2471\",\"-118.2652\",\"-118.2438\",\"-118.2548\",\"-118.2491\",\"-118.2577\",\"-118.256\",\"-118.2428\",\"-118.2439\",\"-118.2439\",\"-118.268\",\"-118.2378\",\"-118.2414\",\"-118.2472\",\"-118.2592\",\"-118.2375\",\"-118.2494\",\"-118.2529\",\"-118.2387\",\"-118.2452\",\"-118.2439\",\"-118.2379\",\"-118.2323\",\"-118.2273\",\"-118.2643\",\"-118.254\",\"-118.2505\",\"-118.2499\",\"-118.2393\",\"-118.2589\",\"-118.2427\",\"-118.2378\",\"-118.254\",\"-118.254\",\"-118.2619\",\"-118.229\",\"-118.2659\",\"-118.2496\",\"-118.2629\",\"-118.2499\",\"-118.2577\",\"-118.2577\",\"-118.2391\",\"-118.2531\",\"-118.2409\",\"-118.2418\",\"-118.2443\",\"-118.2574\",\"-118.2474\",\"-118.2428\",\"-118.2523\",\"-118.2561\",\"-118.2561\",\"-118.2522\",\"-118.2418\",\"-118.2408\",\"-118.2577\",\"-118.2483\",\"-118.236\",\"-118.2588\",\"-118.4936\",\"-118.2439\",\"-118.249\",\"-118.2677\",\"-118.249\",\"-118.2466\",\"-118.2341\",\"-118.2656\",\"-118.2604\",\"-118.2425\",\"-118.245\",\"-118.2472\",\"-118.2381\",\"-118.2544\",\"-118.2577\"],\"marker\":{\"size\":5},\"mode\":\"markers\",\"text\":[\"0\",\"1\",\"2\",\"3\",\"4\",\"5\",\"6\",\"7\",\"8\",\"9\",\"10\",\"11\",\"12\",\"13\",\"14\",\"15\",\"16\",\"17\",\"18\",\"19\",\"20\",\"21\",\"22\",\"23\",\"24\",\"25\",\"26\",\"27\",\"28\",\"29\",\"30\",\"31\",\"32\",\"33\",\"34\",\"35\",\"36\",\"37\",\"38\",\"39\",\"40\",\"41\",\"42\",\"43\",\"44\",\"45\",\"46\",\"47\",\"48\",\"49\",\"50\",\"51\",\"52\",\"53\",\"54\",\"55\",\"56\",\"57\",\"58\",\"59\",\"60\",\"61\",\"62\",\"63\",\"64\",\"65\",\"66\",\"67\",\"68\",\"69\",\"70\",\"71\",\"72\",\"73\",\"74\",\"75\",\"76\",\"77\",\"78\",\"79\",\"80\",\"81\",\"82\",\"83\",\"84\",\"85\",\"86\",\"87\",\"88\",\"89\",\"90\",\"91\",\"92\",\"93\",\"94\",\"95\",\"96\",\"97\",\"98\",\"99\",\"100\",\"101\",\"102\",\"103\",\"104\",\"105\",\"106\",\"107\",\"108\",\"109\",\"110\",\"111\",\"112\",\"113\",\"114\",\"115\",\"116\",\"117\",\"118\",\"119\",\"120\",\"121\",\"122\",\"123\",\"124\",\"125\",\"126\",\"127\",\"128\",\"129\",\"130\",\"131\",\"132\",\"133\",\"134\",\"135\",\"136\",\"137\",\"138\",\"139\",\"140\",\"141\",\"142\",\"143\",\"144\",\"145\",\"146\",\"147\",\"148\",\"149\",\"150\",\"151\",\"152\",\"153\",\"154\",\"155\",\"156\",\"157\",\"158\",\"159\",\"160\",\"161\",\"162\",\"163\",\"164\",\"165\",\"166\",\"167\",\"168\",\"169\",\"170\",\"171\",\"172\",\"173\",\"174\",\"175\",\"176\",\"177\",\"178\",\"179\",\"180\",\"181\",\"182\",\"183\",\"184\",\"185\",\"186\",\"187\",\"188\",\"189\",\"190\",\"191\",\"192\",\"193\",\"194\",\"195\",\"196\",\"197\",\"198\",\"199\",\"200\",\"201\",\"202\",\"203\",\"204\",\"205\",\"206\",\"207\",\"208\",\"209\",\"210\",\"211\",\"212\",\"213\",\"214\",\"215\",\"216\",\"217\",\"218\",\"219\",\"220\",\"221\",\"222\",\"223\",\"224\",\"225\",\"226\",\"227\",\"228\",\"229\",\"230\",\"231\",\"232\",\"233\",\"234\",\"235\",\"236\",\"237\",\"238\",\"239\",\"240\",\"241\",\"242\",\"243\",\"244\",\"245\",\"246\",\"247\",\"248\",\"249\",\"250\",\"251\",\"252\",\"253\",\"254\",\"255\",\"256\",\"257\",\"258\",\"259\",\"260\",\"261\",\"262\",\"263\",\"264\",\"265\",\"266\",\"267\",\"268\",\"269\",\"270\",\"271\",\"272\",\"273\",\"274\",\"275\",\"276\",\"277\",\"278\",\"279\",\"280\",\"281\",\"282\",\"283\",\"284\",\"285\",\"286\",\"287\",\"288\",\"289\",\"290\",\"291\",\"292\",\"293\",\"294\",\"295\",\"296\",\"297\",\"298\",\"299\",\"300\",\"301\",\"302\",\"303\",\"304\",\"305\",\"306\",\"307\",\"308\",\"309\",\"310\",\"311\",\"312\",\"313\",\"314\",\"315\",\"316\",\"317\",\"318\",\"319\",\"320\",\"321\",\"322\",\"323\",\"324\",\"325\",\"326\",\"327\",\"328\",\"329\",\"330\",\"331\",\"332\",\"333\",\"334\",\"335\",\"336\",\"337\",\"338\",\"339\",\"340\",\"341\",\"342\",\"343\",\"344\",\"345\",\"346\",\"347\",\"348\",\"349\",\"350\",\"351\",\"352\",\"353\",\"354\",\"355\",\"356\",\"357\",\"358\",\"359\",\"360\",\"361\",\"362\",\"363\",\"364\",\"365\",\"366\",\"367\",\"368\",\"369\",\"370\",\"371\",\"372\",\"373\",\"374\",\"375\",\"376\",\"377\",\"378\",\"379\",\"380\",\"381\",\"382\",\"383\",\"384\",\"385\",\"386\",\"387\",\"388\",\"389\",\"390\",\"391\",\"392\",\"393\",\"394\",\"395\",\"396\",\"397\",\"398\",\"399\",\"400\",\"401\",\"402\",\"403\",\"404\",\"405\",\"406\",\"407\",\"408\",\"409\",\"410\",\"411\",\"412\",\"413\",\"414\",\"415\",\"416\",\"417\",\"418\",\"419\",\"420\",\"421\",\"422\",\"423\",\"424\",\"425\",\"426\",\"427\",\"428\",\"429\",\"430\",\"431\",\"432\",\"433\",\"434\",\"435\",\"436\",\"437\",\"438\",\"439\",\"440\",\"441\",\"442\",\"443\",\"444\",\"445\",\"446\",\"447\",\"448\",\"449\",\"450\",\"451\",\"452\",\"453\",\"454\",\"455\",\"456\",\"457\",\"458\",\"459\",\"460\",\"461\",\"462\",\"463\",\"464\",\"465\",\"466\",\"467\",\"468\",\"469\",\"470\",\"471\",\"472\",\"473\",\"474\",\"475\",\"476\",\"477\",\"478\",\"479\",\"480\",\"481\",\"482\",\"483\",\"484\",\"485\",\"486\",\"487\",\"488\",\"489\",\"490\",\"491\",\"492\",\"493\",\"494\",\"495\",\"496\",\"497\",\"498\",\"499\",\"500\",\"501\",\"502\",\"503\",\"504\",\"505\",\"506\",\"507\",\"508\",\"509\",\"510\",\"511\",\"512\",\"513\",\"514\",\"515\",\"516\",\"517\",\"518\",\"519\",\"520\",\"521\",\"522\",\"523\",\"524\",\"525\",\"526\",\"527\",\"528\",\"529\",\"530\",\"531\",\"532\",\"533\",\"534\",\"535\",\"536\",\"537\",\"538\",\"539\",\"540\",\"541\",\"542\",\"543\",\"544\",\"545\",\"546\",\"547\",\"548\",\"549\",\"550\",\"551\",\"552\",\"553\",\"554\",\"555\",\"556\",\"557\",\"558\",\"559\",\"560\",\"561\",\"562\",\"563\",\"564\",\"565\",\"566\",\"567\",\"568\",\"569\",\"570\",\"571\",\"572\",\"573\",\"574\",\"575\",\"576\",\"577\",\"578\",\"579\",\"580\",\"581\",\"582\",\"583\",\"584\",\"585\",\"586\",\"587\",\"588\",\"589\",\"590\",\"591\",\"592\",\"593\",\"594\",\"595\",\"596\",\"597\",\"598\",\"599\",\"600\",\"601\",\"602\",\"603\",\"604\",\"605\",\"606\",\"607\",\"608\",\"609\",\"610\",\"611\",\"612\",\"613\",\"614\",\"615\",\"616\",\"617\",\"618\",\"619\",\"620\",\"621\",\"622\",\"623\",\"624\",\"625\",\"626\",\"627\",\"628\",\"629\",\"630\",\"631\",\"632\",\"633\",\"634\",\"635\",\"636\",\"637\",\"638\",\"639\",\"640\",\"641\",\"642\",\"643\",\"644\",\"645\",\"646\",\"647\",\"648\",\"649\",\"650\",\"651\",\"652\",\"653\",\"654\",\"655\",\"656\",\"657\",\"658\",\"659\",\"660\",\"661\",\"662\",\"663\",\"664\",\"665\",\"666\",\"667\",\"668\",\"669\",\"670\",\"671\",\"672\",\"673\",\"674\",\"675\",\"676\",\"677\",\"678\",\"679\",\"680\",\"681\",\"682\",\"683\",\"684\",\"685\",\"686\",\"687\",\"688\",\"689\",\"690\",\"691\",\"692\",\"693\",\"694\",\"695\",\"696\",\"697\",\"698\",\"699\",\"700\",\"701\",\"702\",\"703\",\"704\",\"705\",\"706\",\"707\",\"708\",\"709\",\"710\",\"711\",\"712\",\"713\",\"714\",\"715\",\"716\",\"717\",\"718\",\"719\",\"720\",\"721\",\"722\",\"723\",\"724\",\"725\",\"726\",\"727\",\"728\",\"729\",\"730\",\"731\",\"732\",\"733\",\"734\",\"735\",\"736\",\"737\",\"738\",\"739\",\"740\",\"741\",\"742\",\"743\",\"744\",\"745\",\"746\",\"747\",\"748\",\"749\",\"750\",\"751\",\"752\",\"753\",\"754\",\"755\",\"756\",\"757\",\"758\",\"759\",\"760\",\"761\",\"762\",\"763\",\"764\",\"765\",\"766\",\"767\",\"768\",\"769\",\"770\",\"771\",\"772\",\"773\",\"774\",\"775\",\"776\",\"777\",\"778\",\"779\",\"780\",\"781\",\"782\",\"783\",\"784\",\"785\",\"786\",\"787\",\"788\",\"789\",\"790\",\"791\",\"792\",\"793\",\"794\",\"795\",\"796\",\"797\",\"798\",\"799\",\"800\",\"801\",\"802\",\"803\",\"804\",\"805\",\"806\",\"807\",\"808\",\"809\",\"810\",\"811\",\"812\",\"813\",\"814\",\"815\",\"816\",\"817\",\"818\",\"819\",\"820\",\"821\",\"822\",\"823\",\"824\",\"825\",\"826\",\"827\",\"828\",\"829\",\"830\",\"831\",\"832\",\"833\",\"834\",\"835\",\"836\",\"837\",\"838\",\"839\",\"840\",\"841\",\"842\",\"843\",\"844\",\"845\",\"846\",\"847\",\"848\",\"849\",\"850\",\"851\",\"852\",\"853\",\"854\",\"855\",\"856\",\"857\",\"858\",\"859\",\"860\",\"861\",\"862\",\"863\",\"864\",\"865\",\"866\",\"867\",\"868\",\"869\",\"870\",\"871\",\"872\",\"873\",\"874\",\"875\",\"876\",\"877\",\"878\",\"879\",\"880\",\"881\",\"882\",\"883\",\"884\",\"885\",\"886\",\"887\",\"888\",\"889\",\"890\",\"891\",\"892\",\"893\",\"894\",\"895\",\"896\",\"897\",\"898\",\"899\",\"900\",\"901\",\"902\",\"903\",\"904\",\"905\",\"906\",\"907\",\"908\",\"909\",\"910\",\"911\",\"912\",\"913\",\"914\",\"915\",\"916\",\"917\",\"918\",\"919\",\"920\",\"921\",\"922\",\"923\",\"924\",\"925\",\"926\",\"927\",\"928\",\"929\",\"930\",\"931\",\"932\",\"933\",\"934\",\"935\",\"936\",\"937\",\"938\",\"939\",\"940\",\"941\",\"942\",\"943\",\"944\",\"945\",\"946\",\"947\",\"948\",\"949\",\"950\",\"951\",\"952\",\"953\",\"954\",\"955\",\"956\",\"957\",\"958\",\"959\",\"960\",\"961\",\"962\",\"963\",\"964\",\"965\",\"966\",\"967\",\"968\",\"969\",\"970\",\"971\",\"972\",\"973\",\"974\",\"975\",\"976\",\"977\",\"978\",\"979\",\"980\",\"981\",\"982\",\"983\",\"984\",\"985\",\"986\",\"987\",\"988\",\"989\",\"990\",\"991\",\"992\",\"993\",\"994\",\"995\",\"996\",\"997\",\"998\",\"999\"],\"type\":\"scattermapbox\"}],                        {\"template\":{\"data\":{\"histogram2dcontour\":[{\"type\":\"histogram2dcontour\",\"colorbar\":{\"outlinewidth\":0,\"ticks\":\"\"},\"colorscale\":[[0.0,\"#0d0887\"],[0.1111111111111111,\"#46039f\"],[0.2222222222222222,\"#7201a8\"],[0.3333333333333333,\"#9c179e\"],[0.4444444444444444,\"#bd3786\"],[0.5555555555555556,\"#d8576b\"],[0.6666666666666666,\"#ed7953\"],[0.7777777777777778,\"#fb9f3a\"],[0.8888888888888888,\"#fdca26\"],[1.0,\"#f0f921\"]]}],\"choropleth\":[{\"type\":\"choropleth\",\"colorbar\":{\"outlinewidth\":0,\"ticks\":\"\"}}],\"histogram2d\":[{\"type\":\"histogram2d\",\"colorbar\":{\"outlinewidth\":0,\"ticks\":\"\"},\"colorscale\":[[0.0,\"#0d0887\"],[0.1111111111111111,\"#46039f\"],[0.2222222222222222,\"#7201a8\"],[0.3333333333333333,\"#9c179e\"],[0.4444444444444444,\"#bd3786\"],[0.5555555555555556,\"#d8576b\"],[0.6666666666666666,\"#ed7953\"],[0.7777777777777778,\"#fb9f3a\"],[0.8888888888888888,\"#fdca26\"],[1.0,\"#f0f921\"]]}],\"heatmap\":[{\"type\":\"heatmap\",\"colorbar\":{\"outlinewidth\":0,\"ticks\":\"\"},\"colorscale\":[[0.0,\"#0d0887\"],[0.1111111111111111,\"#46039f\"],[0.2222222222222222,\"#7201a8\"],[0.3333333333333333,\"#9c179e\"],[0.4444444444444444,\"#bd3786\"],[0.5555555555555556,\"#d8576b\"],[0.6666666666666666,\"#ed7953\"],[0.7777777777777778,\"#fb9f3a\"],[0.8888888888888888,\"#fdca26\"],[1.0,\"#f0f921\"]]}],\"heatmapgl\":[{\"type\":\"heatmapgl\",\"colorbar\":{\"outlinewidth\":0,\"ticks\":\"\"},\"colorscale\":[[0.0,\"#0d0887\"],[0.1111111111111111,\"#46039f\"],[0.2222222222222222,\"#7201a8\"],[0.3333333333333333,\"#9c179e\"],[0.4444444444444444,\"#bd3786\"],[0.5555555555555556,\"#d8576b\"],[0.6666666666666666,\"#ed7953\"],[0.7777777777777778,\"#fb9f3a\"],[0.8888888888888888,\"#fdca26\"],[1.0,\"#f0f921\"]]}],\"contourcarpet\":[{\"type\":\"contourcarpet\",\"colorbar\":{\"outlinewidth\":0,\"ticks\":\"\"}}],\"contour\":[{\"type\":\"contour\",\"colorbar\":{\"outlinewidth\":0,\"ticks\":\"\"},\"colorscale\":[[0.0,\"#0d0887\"],[0.1111111111111111,\"#46039f\"],[0.2222222222222222,\"#7201a8\"],[0.3333333333333333,\"#9c179e\"],[0.4444444444444444,\"#bd3786\"],[0.5555555555555556,\"#d8576b\"],[0.6666666666666666,\"#ed7953\"],[0.7777777777777778,\"#fb9f3a\"],[0.8888888888888888,\"#fdca26\"],[1.0,\"#f0f921\"]]}],\"surface\":[{\"type\":\"surface\",\"colorbar\":{\"outlinewidth\":0,\"ticks\":\"\"},\"colorscale\":[[0.0,\"#0d0887\"],[0.1111111111111111,\"#46039f\"],[0.2222222222222222,\"#7201a8\"],[0.3333333333333333,\"#9c179e\"],[0.4444444444444444,\"#bd3786\"],[0.5555555555555556,\"#d8576b\"],[0.6666666666666666,\"#ed7953\"],[0.7777777777777778,\"#fb9f3a\"],[0.8888888888888888,\"#fdca26\"],[1.0,\"#f0f921\"]]}],\"mesh3d\":[{\"type\":\"mesh3d\",\"colorbar\":{\"outlinewidth\":0,\"ticks\":\"\"}}],\"scatter\":[{\"fillpattern\":{\"fillmode\":\"overlay\",\"size\":10,\"solidity\":0.2},\"type\":\"scatter\"}],\"parcoords\":[{\"type\":\"parcoords\",\"line\":{\"colorbar\":{\"outlinewidth\":0,\"ticks\":\"\"}}}],\"scatterpolargl\":[{\"type\":\"scatterpolargl\",\"marker\":{\"colorbar\":{\"outlinewidth\":0,\"ticks\":\"\"}}}],\"bar\":[{\"error_x\":{\"color\":\"#2a3f5f\"},\"error_y\":{\"color\":\"#2a3f5f\"},\"marker\":{\"line\":{\"color\":\"#E5ECF6\",\"width\":0.5},\"pattern\":{\"fillmode\":\"overlay\",\"size\":10,\"solidity\":0.2}},\"type\":\"bar\"}],\"scattergeo\":[{\"type\":\"scattergeo\",\"marker\":{\"colorbar\":{\"outlinewidth\":0,\"ticks\":\"\"}}}],\"scatterpolar\":[{\"type\":\"scatterpolar\",\"marker\":{\"colorbar\":{\"outlinewidth\":0,\"ticks\":\"\"}}}],\"histogram\":[{\"marker\":{\"pattern\":{\"fillmode\":\"overlay\",\"size\":10,\"solidity\":0.2}},\"type\":\"histogram\"}],\"scattergl\":[{\"type\":\"scattergl\",\"marker\":{\"colorbar\":{\"outlinewidth\":0,\"ticks\":\"\"}}}],\"scatter3d\":[{\"type\":\"scatter3d\",\"line\":{\"colorbar\":{\"outlinewidth\":0,\"ticks\":\"\"}},\"marker\":{\"colorbar\":{\"outlinewidth\":0,\"ticks\":\"\"}}}],\"scattermapbox\":[{\"type\":\"scattermapbox\",\"marker\":{\"colorbar\":{\"outlinewidth\":0,\"ticks\":\"\"}}}],\"scatterternary\":[{\"type\":\"scatterternary\",\"marker\":{\"colorbar\":{\"outlinewidth\":0,\"ticks\":\"\"}}}],\"scattercarpet\":[{\"type\":\"scattercarpet\",\"marker\":{\"colorbar\":{\"outlinewidth\":0,\"ticks\":\"\"}}}],\"carpet\":[{\"aaxis\":{\"endlinecolor\":\"#2a3f5f\",\"gridcolor\":\"white\",\"linecolor\":\"white\",\"minorgridcolor\":\"white\",\"startlinecolor\":\"#2a3f5f\"},\"baxis\":{\"endlinecolor\":\"#2a3f5f\",\"gridcolor\":\"white\",\"linecolor\":\"white\",\"minorgridcolor\":\"white\",\"startlinecolor\":\"#2a3f5f\"},\"type\":\"carpet\"}],\"table\":[{\"cells\":{\"fill\":{\"color\":\"#EBF0F8\"},\"line\":{\"color\":\"white\"}},\"header\":{\"fill\":{\"color\":\"#C8D4E3\"},\"line\":{\"color\":\"white\"}},\"type\":\"table\"}],\"barpolar\":[{\"marker\":{\"line\":{\"color\":\"#E5ECF6\",\"width\":0.5},\"pattern\":{\"fillmode\":\"overlay\",\"size\":10,\"solidity\":0.2}},\"type\":\"barpolar\"}],\"pie\":[{\"automargin\":true,\"type\":\"pie\"}]},\"layout\":{\"autotypenumbers\":\"strict\",\"colorway\":[\"#636efa\",\"#EF553B\",\"#00cc96\",\"#ab63fa\",\"#FFA15A\",\"#19d3f3\",\"#FF6692\",\"#B6E880\",\"#FF97FF\",\"#FECB52\"],\"font\":{\"color\":\"#2a3f5f\"},\"hovermode\":\"closest\",\"hoverlabel\":{\"align\":\"left\"},\"paper_bgcolor\":\"white\",\"plot_bgcolor\":\"#E5ECF6\",\"polar\":{\"bgcolor\":\"#E5ECF6\",\"angularaxis\":{\"gridcolor\":\"white\",\"linecolor\":\"white\",\"ticks\":\"\"},\"radialaxis\":{\"gridcolor\":\"white\",\"linecolor\":\"white\",\"ticks\":\"\"}},\"ternary\":{\"bgcolor\":\"#E5ECF6\",\"aaxis\":{\"gridcolor\":\"white\",\"linecolor\":\"white\",\"ticks\":\"\"},\"baxis\":{\"gridcolor\":\"white\",\"linecolor\":\"white\",\"ticks\":\"\"},\"caxis\":{\"gridcolor\":\"white\",\"linecolor\":\"white\",\"ticks\":\"\"}},\"coloraxis\":{\"colorbar\":{\"outlinewidth\":0,\"ticks\":\"\"}},\"colorscale\":{\"sequential\":[[0.0,\"#0d0887\"],[0.1111111111111111,\"#46039f\"],[0.2222222222222222,\"#7201a8\"],[0.3333333333333333,\"#9c179e\"],[0.4444444444444444,\"#bd3786\"],[0.5555555555555556,\"#d8576b\"],[0.6666666666666666,\"#ed7953\"],[0.7777777777777778,\"#fb9f3a\"],[0.8888888888888888,\"#fdca26\"],[1.0,\"#f0f921\"]],\"sequentialminus\":[[0.0,\"#0d0887\"],[0.1111111111111111,\"#46039f\"],[0.2222222222222222,\"#7201a8\"],[0.3333333333333333,\"#9c179e\"],[0.4444444444444444,\"#bd3786\"],[0.5555555555555556,\"#d8576b\"],[0.6666666666666666,\"#ed7953\"],[0.7777777777777778,\"#fb9f3a\"],[0.8888888888888888,\"#fdca26\"],[1.0,\"#f0f921\"]],\"diverging\":[[0,\"#8e0152\"],[0.1,\"#c51b7d\"],[0.2,\"#de77ae\"],[0.3,\"#f1b6da\"],[0.4,\"#fde0ef\"],[0.5,\"#f7f7f7\"],[0.6,\"#e6f5d0\"],[0.7,\"#b8e186\"],[0.8,\"#7fbc41\"],[0.9,\"#4d9221\"],[1,\"#276419\"]]},\"xaxis\":{\"gridcolor\":\"white\",\"linecolor\":\"white\",\"ticks\":\"\",\"title\":{\"standoff\":15},\"zerolinecolor\":\"white\",\"automargin\":true,\"zerolinewidth\":2},\"yaxis\":{\"gridcolor\":\"white\",\"linecolor\":\"white\",\"ticks\":\"\",\"title\":{\"standoff\":15},\"zerolinecolor\":\"white\",\"automargin\":true,\"zerolinewidth\":2},\"scene\":{\"xaxis\":{\"backgroundcolor\":\"#E5ECF6\",\"gridcolor\":\"white\",\"linecolor\":\"white\",\"showbackground\":true,\"ticks\":\"\",\"zerolinecolor\":\"white\",\"gridwidth\":2},\"yaxis\":{\"backgroundcolor\":\"#E5ECF6\",\"gridcolor\":\"white\",\"linecolor\":\"white\",\"showbackground\":true,\"ticks\":\"\",\"zerolinecolor\":\"white\",\"gridwidth\":2},\"zaxis\":{\"backgroundcolor\":\"#E5ECF6\",\"gridcolor\":\"white\",\"linecolor\":\"white\",\"showbackground\":true,\"ticks\":\"\",\"zerolinecolor\":\"white\",\"gridwidth\":2}},\"shapedefaults\":{\"line\":{\"color\":\"#2a3f5f\"}},\"annotationdefaults\":{\"arrowcolor\":\"#2a3f5f\",\"arrowhead\":0,\"arrowwidth\":1},\"geo\":{\"bgcolor\":\"white\",\"landcolor\":\"#E5ECF6\",\"subunitcolor\":\"white\",\"showland\":true,\"showlakes\":true,\"lakecolor\":\"white\"},\"title\":{\"x\":0.05},\"mapbox\":{\"style\":\"light\"}}},\"mapbox\":{\"accesstoken\":\"pk.eyJ1IjoiYXJhZ29uZXJ1YSIsImEiOiJjbGpwcTh5cjYwMXN1M3J0ZDA2a2d1N2N4In0.DLk40rhIbaRS-bKPbclE4g\",\"bearing\":0,\"center\":{\"lat\":34.0331322,\"lon\":-118.301876},\"pitch\":0,\"zoom\":5},\"hovermode\":\"closest\"},                        {\"responsive\": true}                    ).then(function(){\n",
       "                            \n",
       "var gd = document.getElementById('9708aaf8-79f5-4920-b39a-35a12f2c44bd');\n",
       "var x = new MutationObserver(function (mutations, observer) {{\n",
       "        var display = window.getComputedStyle(gd).display;\n",
       "        if (!display || display === 'none') {{\n",
       "            console.log([gd, 'removed!']);\n",
       "            Plotly.purge(gd);\n",
       "            observer.disconnect();\n",
       "        }}\n",
       "}});\n",
       "\n",
       "// Listen for the removal of the full notebook cells\n",
       "var notebookContainer = gd.closest('#notebook-container');\n",
       "if (notebookContainer) {{\n",
       "    x.observe(notebookContainer, {childList: true});\n",
       "}}\n",
       "\n",
       "// Listen for the clearing of the current output cell\n",
       "var outputEl = gd.closest('.output');\n",
       "if (outputEl) {{\n",
       "    x.observe(outputEl, {childList: true});\n",
       "}}\n",
       "\n",
       "                        })                };                });            </script>        </div>"
      ]
     },
     "metadata": {},
     "output_type": "display_data"
    }
   ],
   "source": [
    "map_plotting(latitude_arr_real, longitude_arr_real, temp_description)  # plotting real data "
   ]
  },
  {
   "cell_type": "code",
   "execution_count": 35,
   "id": "9ec7d23d",
   "metadata": {
    "execution": {
     "iopub.execute_input": "2023-08-07T05:55:59.989738Z",
     "iopub.status.busy": "2023-08-07T05:55:59.988940Z",
     "iopub.status.idle": "2023-08-07T05:56:00.002947Z",
     "shell.execute_reply": "2023-08-07T05:56:00.002091Z"
    },
    "papermill": {
     "duration": 0.036918,
     "end_time": "2023-08-07T05:56:00.004920",
     "exception": false,
     "start_time": "2023-08-07T05:55:59.968002",
     "status": "completed"
    },
    "tags": []
   },
   "outputs": [],
   "source": [
    "num_epoch = 60\n",
    "lr = 1e-4\n",
    "def get_GRU(X_train, y_train, X_test, y_test, num_epoch, lr):\n",
    "    class GRUModel(nn.Module):\n",
    "        def __init__(self):\n",
    "            super(GRUModel, self).__init__()\n",
    "            self.gru = nn.GRU(input_size=X_train.shape[2], hidden_size=len_of_sequence, batch_first=True)\n",
    "            self.fc = nn.Linear(len_of_sequence, X_train.shape[2])\n",
    "\n",
    "        def forward(self, x):\n",
    "            out, _ = self.gru(x)\n",
    "            out = self.fc(out[:, -1, :])\n",
    "            return out\n",
    "    global model\n",
    "    model = GRUModel().double()\n",
    "    model.to(device)\n",
    "    # criterion = nn.CrossEntropyLoss()\n",
    "    optimizer = optim.Adam(model.parameters(), lr=lr)\n",
    "    loader = torch.utils.data.DataLoader(torch.utils.data.TensorDataset(X_train, y_train), shuffle=True, batch_size=len_of_sequence)\n",
    "    loss_fn = nn.MSELoss()\n",
    "\n",
    "    for epoch in range(num_epoch):\n",
    "        model.train()\n",
    "        for X_batch, y_batch in loader:\n",
    "            y_pred = model(X_batch)\n",
    "            #raise Exception(f'Check shapes. {y_pred.shape, y_batch.shape}')\n",
    "            loss = loss_fn(y_pred, y_batch)\n",
    "            optimizer.zero_grad()\n",
    "            loss.backward()\n",
    "            optimizer.step()\n",
    "        # Validation\n",
    "        if epoch % 10 != 0:\n",
    "            continue\n",
    "        model.eval()\n",
    "        with torch.no_grad():\n",
    "            y_pred = model(X_train)\n",
    "            train_rmse = np.sqrt(loss_fn(y_pred, y_train).detach().cpu().numpy())\n",
    "            y_pred = model(X_test)\n",
    "            test_rmse = np.sqrt(loss_fn(y_pred, y_test).detach().cpu().numpy())\n",
    "            result = predict_next_crimes(200000, 1000, get_samples_by_index)\n",
    "            distance_metric = mean_distance(result['predicted_crime'], result['true crime'])\n",
    "        print(\"Epoch %d: train RMSE for GRU %.4f, test RMSE for GRU %.4f, distance %.4f in kms\" % (epoch, train_rmse, test_rmse, result))\n",
    "    return model\n",
    "#model = get_GRU(X_train, y_train, X_test, y_test, num_epoch)"
   ]
  },
  {
   "cell_type": "code",
   "execution_count": 36,
   "id": "271e9abb",
   "metadata": {
    "execution": {
     "iopub.execute_input": "2023-08-07T05:56:00.045723Z",
     "iopub.status.busy": "2023-08-07T05:56:00.045088Z",
     "iopub.status.idle": "2023-08-07T05:56:00.062162Z",
     "shell.execute_reply": "2023-08-07T05:56:00.061219Z"
    },
    "papermill": {
     "duration": 0.03961,
     "end_time": "2023-08-07T05:56:00.064171",
     "exception": false,
     "start_time": "2023-08-07T05:56:00.024561",
     "status": "completed"
    },
    "tags": []
   },
   "outputs": [
    {
     "data": {
      "text/plain": [
       "True"
      ]
     },
     "execution_count": 36,
     "metadata": {},
     "output_type": "execute_result"
    }
   ],
   "source": [
    "result = predict_next_crimes(200000, 1000, get_samples_by_index)\n",
    "result['predicted_crime'].shape == result['true crime'].shape"
   ]
  },
  {
   "cell_type": "code",
   "execution_count": 37,
   "id": "fbe3b3f4",
   "metadata": {
    "execution": {
     "iopub.execute_input": "2023-08-07T05:56:00.105098Z",
     "iopub.status.busy": "2023-08-07T05:56:00.104835Z",
     "iopub.status.idle": "2023-08-07T05:56:00.582324Z",
     "shell.execute_reply": "2023-08-07T05:56:00.581179Z"
    },
    "papermill": {
     "duration": 0.500974,
     "end_time": "2023-08-07T05:56:00.584899",
     "exception": false,
     "start_time": "2023-08-07T05:56:00.083925",
     "status": "completed"
    },
    "tags": []
   },
   "outputs": [
    {
     "data": {
      "image/png": "[encoded data removed]",
      "text/plain": [
       "<Figure size 640x480 with 1 Axes>"
      ]
     },
     "metadata": {},
     "output_type": "display_data"
    }
   ],
   "source": [
    "plot_distances_rate(result['predicted_crime'], result['true crime'])"
   ]
  },
  {
   "cell_type": "code",
   "execution_count": 38,
   "id": "dc92bc5a",
   "metadata": {
    "execution": {
     "iopub.execute_input": "2023-08-07T05:56:00.628423Z",
     "iopub.status.busy": "2023-08-07T05:56:00.627882Z",
     "iopub.status.idle": "2023-08-07T05:56:01.117240Z",
     "shell.execute_reply": "2023-08-07T05:56:01.116347Z"
    },
    "papermill": {
     "duration": 0.513351,
     "end_time": "2023-08-07T05:56:01.119361",
     "exception": false,
     "start_time": "2023-08-07T05:56:00.606010",
     "status": "completed"
    },
    "tags": []
   },
   "outputs": [
    {
     "data": {
      "image/png": "[encoded data removed]",
      "text/plain": [
       "<Figure size 640x480 with 1 Axes>"
      ]
     },
     "metadata": {},
     "output_type": "display_data"
    }
   ],
   "source": [
    "result_test = predict_next_crimes(210000, 1000, get_samples_by_index)\n",
    "plot_distances_rate(result_test['predicted_crime'], result_test['true crime'])"
   ]
  },
  {
   "cell_type": "code",
   "execution_count": 39,
   "id": "4e47c101",
   "metadata": {
    "execution": {
     "iopub.execute_input": "2023-08-07T05:56:01.162619Z",
     "iopub.status.busy": "2023-08-07T05:56:01.162322Z",
     "iopub.status.idle": "2023-08-07T05:56:01.207834Z",
     "shell.execute_reply": "2023-08-07T05:56:01.206955Z"
    },
    "papermill": {
     "duration": 0.069343,
     "end_time": "2023-08-07T05:56:01.209987",
     "exception": false,
     "start_time": "2023-08-07T05:56:01.140644",
     "status": "completed"
    },
    "tags": []
   },
   "outputs": [
    {
     "data": {
      "text/html": [
       "<div>                            <div id=\"427900e3-fc40-40b9-8e35-df8c192ca543\" class=\"plotly-graph-div\" style=\"height:525px; width:100%;\"></div>            <script type=\"text/javascript\">                require([\"plotly\"], function(Plotly) {                    window.PLOTLYENV=window.PLOTLYENV || {};                                    if (document.getElementById(\"427900e3-fc40-40b9-8e35-df8c192ca543\")) {                    Plotly.newPlot(                        \"427900e3-fc40-40b9-8e35-df8c192ca543\",                        [{\"lat\":[\"33.97762899906954\",\"34.004141379148685\",\"33.99589669122546\",\"34.01134894916553\",\"34.069393077593226\",\"34.107433618441405\",\"34.19696775228974\",\"34.140090364669\",\"34.07497608742639\",\"34.04381002436988\",\"34.024762991975535\",\"34.008937787644804\",\"34.025696951519286\",\"34.01952443277529\",\"34.03920496011328\",\"34.02748236229199\",\"34.0209532096172\",\"33.99459709719118\",\"33.993332195717514\",\"33.992694251540385\",\"33.984124369200174\",\"33.97900491711798\",\"33.96723090879399\",\"34.01588569178554\",\"34.00312234927321\",\"33.99467307518111\",\"33.98206444231834\",\"33.97526937040268\",\"33.947158396817926\",\"33.93968149412806\",\"33.95266162730639\",\"34.04628333391654\",\"34.13969450092699\",\"34.187499971750775\",\"34.19107534869143\",\"34.196359696434094\",\"34.22535077632095\",\"34.222397827867034\",\"34.22915538822951\",\"34.18473192542621\",\"34.23417053365818\",\"34.23909822360245\",\"34.24343243619943\",\"34.28501586115854\",\"34.206007572953126\",\"34.116741008411026\",\"34.15298136433693\",\"34.07299035943708\",\"34.094687289791054\",\"34.176996989951\",\"34.218666844678154\",\"34.24695268738471\",\"34.24604567537988\",\"34.24072827474564\",\"34.24862426946825\",\"34.246780268601725\",\"34.194020213826285\",\"34.25226424142955\",\"34.19745166023856\",\"34.144557102554515\",\"34.229069291718545\",\"34.17377882917645\",\"34.19729003767356\",\"34.06584160137042\",\"34.13946496941257\",\"34.04697839202873\",\"34.0468262771786\",\"34.07546779671476\",\"33.99875632070821\",\"33.99632210580814\",\"33.994689465007845\",\"34.006298808192206\",\"33.97952778826557\",\"33.959736986247194\",\"33.95629992146479\",\"33.985971195643685\",\"33.9770183314421\",\"34.000665539077595\",\"33.99983617488679\",\"33.99434906978704\",\"33.991364897560594\",\"33.982816335451055\",\"34.013941744268074\",\"34.03466428836322\",\"34.045999375233144\",\"34.034702232221846\",\"34.02909590453484\",\"34.02008496066397\",\"34.01914324939707\",\"34.012726685311094\",\"34.00080322644508\",\"33.99361766636855\",\"33.99683098291583\",\"33.98933795979637\",\"33.98037756415968\",\"33.975876621624046\",\"33.965545661332186\",\"33.96784497220957\",\"33.97064456854933\",\"33.969952015938375\",\"33.96120505726123\",\"33.95746018188389\",\"33.95732656163263\",\"33.956393790356415\",\"33.94406846603021\",\"33.91201776014383\",\"33.91427901697667\",\"33.92186882184142\",\"33.92135285476754\",\"33.91503952301966\",\"33.97503314932879\",\"33.960269582182754\",\"33.963112490795005\",\"33.959499140688564\",\"33.956480544336\",\"33.97426045098895\",\"33.97045757908485\",\"33.97257848920018\",\"33.96909427988486\",\"33.991990819112324\",\"34.01330157492452\",\"33.995295692415986\",\"34.01016315914799\",\"34.03275790057141\",\"34.04101738053534\",\"34.0314045383427\",\"34.01769470820247\",\"34.005919026750234\",\"34.00439556349591\",\"33.995753164398685\",\"33.9948922947414\",\"33.98776290721495\",\"33.97509157181614\",\"33.951024914472995\",\"33.9537164354597\",\"33.97912037633715\",\"33.959610322680675\",\"33.955438287658275\",\"33.94976281778208\",\"33.94665247780537\",\"33.93981854434209\",\"33.95110064970972\",\"33.952293969266094\",\"33.94634881610872\",\"33.940870042717854\",\"33.93960338064608\",\"33.94343919845482\",\"33.94645138636689\",\"33.95178239837874\",\"33.94913051893302\",\"33.981382813081055\",\"33.97695711215349\",\"33.974192755233496\",\"33.96167104224034\",\"33.98635862806439\",\"33.99934366077423\",\"34.00267915327951\",\"33.99126553728192\",\"33.99014435140654\",\"34.00971068315693\",\"33.9870737767737\",\"33.988895239000634\",\"33.98156213992637\",\"33.97533775083271\",\"33.96611090419429\",\"33.971153527469376\",\"33.96898103973517\",\"33.97835494964149\",\"33.99734232596175\",\"33.97711970267129\",\"34.03234642048095\",\"34.01782223404431\",\"34.02490747728277\",\"34.03278041177255\",\"34.02835926329908\",\"34.063842919347714\",\"34.060805544476786\",\"34.06833364555934\",\"34.0656806337617\",\"34.05048654948134\",\"34.03450701110334\",\"34.06429199792207\",\"34.074628501690675\",\"34.06804169211883\",\"34.057812056706226\",\"34.05856842806107\",\"34.04402182043919\",\"34.034225974282805\",\"34.027532438895\",\"34.02000862279077\",\"34.005741449487296\",\"33.996210483018494\",\"34.01233342255406\",\"34.00981335632781\",\"34.02630818441766\",\"34.02484791265325\",\"34.02249218907765\",\"34.03928587164799\",\"34.03472395398054\",\"34.02077811741264\",\"34.02471203329184\",\"34.03103147924617\",\"34.03897129317404\",\"34.02446805092476\",\"34.02576089510299\",\"34.039363873778846\",\"34.02824955725631\",\"34.02388393981262\",\"34.010212671210006\",\"34.05080843610236\",\"34.064792144464896\",\"34.054256292160886\",\"34.05992671749723\",\"34.071952765841324\",\"34.058362429637874\",\"34.05364096425563\",\"34.04798125296984\",\"34.065096507220865\",\"34.069286334769615\",\"34.055077731360335\",\"34.07018045989592\",\"34.07034117936884\",\"34.07680832009015\",\"34.06731295068563\",\"34.080270248539684\",\"34.078865166230464\",\"34.066258770377985\",\"34.06107038860265\",\"34.05379294836079\",\"34.05665796430367\",\"34.06007754780811\",\"34.0579621072066\",\"34.05139175491945\",\"34.05323145925282\",\"34.050153064703615\",\"34.073697506413865\",\"34.06327898918788\",\"34.06557288210005\",\"34.057477340969285\",\"34.05165419431468\",\"34.05122235025443\",\"34.03586933029253\",\"34.02781054607775\",\"34.02283641597738\",\"34.00979279921742\",\"34.04058738935712\",\"34.05399635109971\",\"34.06117220524024\",\"34.04954204040272\",\"34.05584325059818\",\"34.065497943959414\",\"34.06964480032889\",\"34.06506085960211\",\"34.036608916528586\",\"34.03210049466517\",\"34.012532435950455\",\"34.01799915134759\",\"34.01128016659845\",\"34.00667488915467\",\"33.977206469363274\",\"33.99469219640764\",\"34.02001608615053\",\"34.04248760667519\",\"34.035953953643855\",\"34.05469545917638\",\"34.037868751994715\",\"34.03991718189997\",\"34.05836506354149\",\"34.05004118676814\",\"34.02506911325849\",\"34.01885794190227\",\"34.00524753955037\",\"34.03976800073195\",\"34.02235567078979\",\"34.017864357236306\",\"34.02492427287771\",\"34.02073923229172\",\"34.016264982455105\",\"34.01462901897646\",\"34.01184647348134\",\"34.023755116354614\",\"34.025945526021935\",\"34.01794001816751\",\"34.01827207149459\",\"33.990981827396546\",\"33.971808714781986\",\"33.998881931546904\",\"33.990351688326676\",\"33.975817350081286\",\"33.962378944880165\",\"34.006461550908995\",\"34.01042762602632\",\"34.008865158514226\",\"34.00400289835248\",\"34.00961870461659\",\"34.00577968598749\",\"34.00784601821686\",\"34.00028882047738\",\"34.00018935306387\",\"34.019218352883314\",\"34.01882731063655\",\"34.0310985761084\",\"34.02704743391845\",\"34.0253266106101\",\"34.037983602395286\",\"34.04273441228328\",\"34.03765973397167\",\"34.02989596543416\",\"34.027765255122745\",\"34.00832538045421\",\"34.002657369972056\",\"34.01359786835629\",\"34.02070909740866\",\"34.01598427518951\",\"34.010043783958345\",\"34.02416748265377\",\"34.02127236432983\",\"34.02655156127661\",\"34.016591716986184\",\"34.034972605145\",\"34.02495899600942\",\"34.03558804958306\",\"34.03513234281989\",\"34.04377837365604\",\"34.05984646737855\",\"34.06078346712008\",\"34.05746927185037\",\"34.06346012717362\",\"34.061145974474336\",\"34.06666928752823\",\"34.064724738442806\",\"34.039956044075005\",\"34.04839245876924\",\"34.04104033142466\",\"34.051999534081666\",\"34.058766479417116\",\"34.07075770298346\",\"34.07155317577313\",\"34.093998006220055\",\"34.08751967684056\",\"34.069239076715334\",\"34.0792401698826\",\"34.08723238661359\",\"34.07990136469732\",\"34.07579523350367\",\"34.07790635613845\",\"34.065953339507224\",\"34.07210868187177\",\"34.06702313622373\",\"34.06129310641647\",\"34.04504465648985\",\"34.03161353838897\",\"34.030049497421814\",\"34.02690489326373\",\"34.01971542516971\",\"34.01171486809687\",\"34.01121947048074\",\"34.002722783402774\",\"33.99840987153339\",\"33.99617627582793\",\"34.00332215686157\",\"33.995154395720576\",\"33.984551264894904\",\"33.99342094251115\",\"33.98387596671541\",\"33.97040334484481\",\"33.93488980751374\",\"33.951063646446414\",\"33.92943771134559\",\"33.936118885024115\",\"33.89259639260578\",\"33.88718865286231\",\"33.89754912541767\",\"34.02978778320404\",\"33.955856607044865\",\"33.95367287452678\",\"33.92487049517766\",\"33.97297231137568\",\"33.97140973364407\",\"33.95963422763641\",\"33.95781610941527\",\"33.97707539321328\",\"33.96831736860998\",\"34.01523578041869\",\"34.01920080370973\",\"34.02920061950653\",\"34.0164240022583\",\"34.014336624197405\",\"34.00772358527926\",\"33.99846539303415\",\"34.01161987031286\",\"33.98513007095619\",\"33.98942769812128\",\"33.97869973919413\",\"33.96534150917337\",\"33.97443641575552\",\"33.97339763896321\",\"34.0110441236595\",\"33.986968616022246\",\"34.02258200339474\",\"34.023325190386394\",\"34.0281472904343\",\"34.05056940186584\",\"34.042161703550576\",\"34.0251929491579\",\"34.02121453549019\",\"34.01302981456604\",\"34.02621921776653\",\"34.0468279744984\",\"34.045544930339645\",\"34.04452480745794\",\"34.062415285672195\",\"34.05466905606437\",\"34.04258412190276\",\"34.03166903224326\",\"34.01157068320309\",\"33.99677081977613\",\"34.04733619070445\",\"34.064920687182\",\"34.053986021130584\",\"34.05533370787599\",\"34.0548757730468\",\"34.047120708202094\",\"34.03766674964356\",\"34.03598862682822\",\"34.02920938011358\",\"33.99627326493487\",\"33.97985195792352\",\"34.02749622589399\",\"34.025605552094575\",\"34.02079006058795\",\"34.01481461110306\",\"34.00465873379624\",\"34.01185063689287\",\"33.99804297669313\",\"33.976780587610456\",\"33.9742382818354\",\"33.965929754842094\",\"33.95562583893781\",\"33.98852576526753\",\"33.970138674747034\",\"33.97079946392235\",\"33.969882375130986\",\"34.01563691399175\",\"34.01142481122097\",\"34.02088818890014\",\"34.016985579508884\",\"34.014865849955065\",\"34.002151882197104\",\"34.013012165384495\",\"34.00018764192289\",\"33.99202105879678\",\"34.00847313856303\",\"34.00521052021812\",\"34.03157459272814\",\"34.019615451453795\",\"34.02149022738445\",\"33.99571666494563\",\"33.99808818078679\",\"34.01033020381311\",\"34.0012012236649\",\"34.01352404313996\",\"34.00577660344134\",\"34.03311922284624\",\"34.02734361000199\",\"34.04987993901548\",\"34.0419142551791\",\"34.03057094784868\",\"34.02623814304739\",\"34.02729858077315\",\"34.02776764070052\",\"34.02901393254857\",\"34.02638112699407\",\"34.02587845116236\",\"34.01696917310555\",\"34.02090223298301\",\"34.021669485771625\",\"34.00795578668253\",\"34.001311000967966\",\"34.002804344844186\",\"34.03788515745634\",\"34.041496296363675\",\"34.030251812689336\",\"34.05562029374804\",\"34.044998660242186\",\"34.03094687651458\",\"34.05371617268825\",\"34.07441532584046\",\"34.08282967578373\",\"34.101592518990245\",\"34.09386454923111\",\"34.08935917740037\",\"34.09716081665631\",\"34.067500106373856\",\"34.071651875528346\",\"34.072002941522\",\"34.06204698410888\",\"34.05528253573229\",\"34.05125887192601\",\"34.049089275885564\",\"34.04848265884865\",\"34.01532963842498\",\"33.997474381402846\",\"33.98793364596313\",\"33.962357544312596\",\"33.97595796732985\",\"33.963273509883\",\"33.96211296893831\",\"33.974800083545304\",\"33.96262492293912\",\"33.99928146985146\",\"34.03912914553485\",\"34.04128600659068\",\"34.03139693680762\",\"34.02135884862817\",\"34.006915586061154\",\"34.03195128068026\",\"34.019255454402355\",\"33.99984572659224\",\"34.00240829047393\",\"34.00434151036429\",\"33.998818140588654\",\"34.00060990714874\",\"34.00027861126186\",\"33.997696177048624\",\"33.99085165305738\",\"33.98897627983166\",\"33.995000875752375\",\"34.008007071521426\",\"34.039054786940724\",\"34.04290764852867\",\"34.05333501534785\",\"34.045413646854215\",\"34.06365168742886\",\"34.06368413994852\",\"34.067167971339664\",\"34.072874188399275\",\"34.057628938294975\",\"34.05830227874297\",\"34.06133656901639\",\"34.06853589724102\",\"34.05475866134909\",\"34.05099581688555\",\"34.045523397327194\",\"34.04377855850548\",\"34.04018377568179\",\"34.04189839795837\",\"34.03818412979396\",\"34.0507392959996\",\"34.03463511569744\",\"34.04282523631979\",\"34.03876283453563\",\"34.03906256821862\",\"34.04502697033149\",\"34.05179253348926\",\"34.0550718769264\",\"34.03799401731532\",\"34.059392679118794\",\"34.0365145318671\",\"34.0440071279618\",\"34.05575359410155\",\"34.0647469580394\",\"33.99580712994506\",\"33.96753173137853\",\"34.01637565606122\",\"34.005204760909024\",\"34.000968328514574\",\"33.99390018003551\",\"33.99084803921922\",\"33.98351195280047\",\"33.98692658097005\",\"34.008896622805665\",\"33.999906053589335\",\"33.996623709986245\",\"34.000143723040594\",\"33.99285864418743\",\"33.976688622723586\",\"33.99074508674867\",\"33.97350172290562\",\"34.001157631470335\",\"33.98575885535151\",\"33.97867431027244\",\"33.96298687953471\",\"33.94269881045409\",\"33.93650819922693\",\"33.94239633937771\",\"33.94488944149574\",\"33.93804273775254\",\"33.931546032865256\",\"33.95005603847845\",\"33.94771202037516\",\"33.9926135363681\",\"33.99206529652878\",\"33.984819036985726\",\"33.98201278130796\",\"33.972201737336164\",\"33.96537778569269\",\"33.94418637663448\",\"33.95383343749741\",\"33.96252864364584\",\"33.96570583526516\",\"33.96801685116966\",\"33.95608316193619\",\"33.97891517282819\",\"34.007550232309576\",\"33.99890651414438\",\"33.98713138187033\",\"33.98305377497785\",\"33.98517038915082\",\"33.98895580813118\",\"33.971852603856775\",\"33.956514639452024\",\"33.93011518698669\",\"33.92902062404393\",\"33.95067361510277\",\"33.93081126612721\",\"33.92266336366885\",\"33.92815830845253\",\"33.92972485614372\",\"33.943841896815144\",\"33.9279896475996\",\"33.93067421972021\",\"33.93139677456386\",\"33.93237204089381\",\"33.93836135640826\",\"33.98257046950785\",\"33.97774371737109\",\"34.01105878819466\",\"34.029462529406224\",\"34.01934230196362\",\"34.035941264821965\",\"34.04351939889522\",\"34.044282513674936\",\"34.05515244155161\",\"34.045037937523865\",\"34.04112438862999\",\"34.03678386760827\",\"34.028284070989706\",\"34.04283702006\",\"34.045487027933916\",\"34.06810829740351\",\"34.071900442149\",\"34.07756596848599\",\"34.07399233026309\",\"34.07630652604143\",\"34.076656602305526\",\"34.06130057731258\",\"34.05861519982354\",\"34.06272432697405\",\"34.06769932654944\",\"34.05753082325671\",\"34.068171170552134\",\"34.06284345705245\",\"34.06188198662893\",\"34.07303288992268\",\"34.07199966750551\",\"34.06999890068915\",\"34.079626566055\",\"34.077056178866975\",\"34.07628889434197\",\"34.07355257562845\",\"34.06284033207853\",\"34.070093211953285\",\"34.06808467721679\",\"34.07800878388869\",\"34.086273532654886\",\"34.075773517977176\",\"34.06947453516793\",\"34.06628884025557\",\"34.04993471312536\",\"34.04905668914413\",\"34.028599540541876\",\"34.049193198514274\",\"34.03896320420052\",\"34.05032596941143\",\"34.04465949468164\",\"34.03210257640751\",\"34.032723647872956\",\"34.01951072436142\",\"34.005220416357915\",\"33.98925980155351\",\"33.99349898137483\",\"33.987301535615714\",\"33.98610569116016\",\"33.9727462751226\",\"33.969686117563974\",\"33.96455934940488\",\"33.96129575755846\",\"33.9630999502861\",\"33.95925445214639\",\"33.98236858668969\",\"33.96115309645503\",\"33.92774364792001\",\"33.92231982746983\",\"33.90603559242116\",\"33.918710152185994\",\"33.87471095642443\",\"33.87077111164817\",\"33.85906977341457\",\"33.868001099862106\",\"33.93989443914266\",\"33.93465177275871\",\"33.93050930905884\",\"33.98253450802078\",\"33.9696906468445\",\"33.97048912570486\",\"33.98829479334036\",\"33.95807558499457\",\"34.0148681406143\",\"34.020435710651384\",\"34.01882928283677\",\"33.96552068865254\",\"34.02553396983906\",\"34.00403722574265\",\"33.98477548658203\",\"33.98538834537469\",\"33.97104782738003\",\"33.97012049185351\",\"33.963060857426335\",\"33.96979385330027\",\"33.979797315948126\",\"33.98642977733795\",\"33.97503515155286\",\"33.98588889176245\",\"33.98422815929707\",\"33.98277530162753\",\"33.9926834105273\",\"33.99312127571017\",\"33.97360742320029\",\"33.976264632033065\",\"33.975031016845215\",\"33.959800617483324\",\"33.972710822238525\",\"34.07583384363512\",\"33.96345384138363\",\"33.95910164815732\",\"33.94965687951005\",\"33.96834180155753\",\"33.98947297630941\",\"33.979008595621345\",\"34.0902809032332\",\"34.07732434879183\",\"34.13579435952175\",\"34.055856491811646\",\"34.03442201758021\",\"33.9607694272074\",\"33.99176903655383\",\"33.96880800703352\",\"33.958310921060296\",\"33.99418314976446\",\"33.98135192738588\",\"33.97937108549393\",\"33.971065258090654\",\"33.99924906542389\",\"33.99166897804323\",\"34.02261812705047\",\"34.04621834381852\",\"34.02999853561204\",\"34.00661911204098\",\"33.99865599961916\",\"34.00400968021384\",\"33.98810433765241\",\"33.977594783504586\",\"33.98520093961736\",\"33.98097804901549\",\"33.97325841021555\",\"33.95782004156084\",\"33.99015331742336\",\"33.97175038919322\",\"33.960420866201176\",\"33.957898412491616\",\"33.96852041202716\",\"33.96360288392653\",\"33.955116714670325\",\"33.940117982324324\",\"33.94175862858845\",\"33.938305038429164\",\"33.93772716942987\",\"33.91921884625254\",\"33.94389219556723\",\"33.942075497970706\",\"33.94193542354411\",\"33.98012050001202\",\"33.96669939552801\",\"33.97325548739963\",\"33.99589149125871\",\"33.98526029309625\",\"33.97781223781907\",\"34.002783857357166\",\"33.99389530082873\",\"33.9923691662134\",\"33.99227744038414\",\"34.03789340730123\",\"34.039882287486115\",\"34.03445335538546\",\"34.04466229921993\",\"34.055915597758975\",\"34.05683330813852\",\"34.042620234866796\",\"34.040518832691966\",\"34.03099911310265\",\"34.02264397294855\",\"34.012973118695086\",\"34.011185504395876\",\"33.99698370303904\",\"33.99578726740033\",\"33.99106856076901\",\"33.966298593128364\",\"33.99931283108311\",\"34.01314815112525\",\"34.028795043527666\",\"34.02714976230978\",\"34.04418739753747\",\"34.00439245390002\",\"34.01619936451115\",\"33.99366879742731\",\"33.971930015272235\",\"34.03537177997473\",\"34.026777931242734\",\"34.00552266433909\",\"34.00512865639414\",\"33.99449674567444\",\"33.99978060073804\",\"34.002859885440266\",\"34.0032099586445\",\"34.00404264053739\",\"34.024397057221634\",\"34.01854478244804\",\"33.9957343399945\",\"33.99028581457866\",\"33.981775164509955\",\"33.97722706785058\",\"33.968047368944326\",\"33.96776533377451\",\"33.96235687834926\",\"33.95328548903822\",\"33.94799076709742\",\"33.93836066440154\",\"33.933912719412014\",\"33.94428043867548\",\"33.95958375717561\",\"33.96204404518129\",\"33.948057935134\",\"33.983791128825736\",\"34.00078810686902\",\"33.997498491231454\",\"33.98973302427931\",\"34.02796430629815\",\"34.04993256144648\",\"34.04394813600981\",\"34.039670440935225\",\"34.05802451555844\",\"34.049794810162034\",\"34.0408520385476\",\"34.030676294425014\",\"34.023724995870936\",\"34.025648363563676\",\"34.02009068109986\",\"34.02256529933131\",\"34.03640109562012\",\"34.0181066749496\",\"34.03662397902436\",\"34.039934936089324\",\"34.02445048601184\",\"34.02971488532208\",\"34.01759745143619\",\"34.01774078684899\",\"33.990968813845825\",\"33.96329274396722\",\"33.967102056082666\",\"34.004320930620885\",\"33.97474166187269\",\"33.96217957972741\",\"33.97077355430027\",\"33.978835729274806\",\"33.96494098775119\",\"33.962269497531786\",\"33.96422758055708\",\"33.970606736881614\",\"33.957936902133675\",\"33.94528512244396\",\"33.93384448560216\",\"33.93395925926315\",\"33.93227762007893\",\"33.934444553417435\",\"33.936721334436804\",\"33.94011559459745\",\"33.930649509656725\",\"33.913236934685\",\"33.9266078730422\",\"33.93440721028783\",\"33.923293385387\",\"33.926449093296405\",\"33.927592241440166\",\"33.920724281040165\",\"33.90740541703712\",\"33.89218812934317\",\"33.9344049565817\",\"33.93395138357131\",\"33.92804096361483\",\"33.923928248786275\",\"33.94031686234254\",\"33.96532639678819\",\"33.95917486309963\",\"33.97348141350033\",\"33.96637674941481\",\"33.98882954105619\",\"34.01760136482608\",\"34.043585553205844\",\"34.03751091840998\",\"34.023842982906444\",\"34.035218877604585\",\"34.05186448064267\",\"34.0635636358079\",\"34.05581104485551\",\"34.05619514547742\",\"34.04963563888793\",\"34.049009986346945\",\"34.04643655499345\",\"34.031658064333875\",\"34.02833276579653\",\"34.025235821269995\",\"34.02230147918757\",\"34.03552577967155\",\"34.0558864846805\",\"34.04862687184942\",\"34.04504917833677\",\"34.033689448496595\",\"34.048486819121564\",\"34.06581313203804\",\"34.0664402661486\",\"34.06529709999106\",\"34.061828301559615\",\"34.0703282048192\",\"34.07374578264956\",\"34.07564919146337\",\"34.08205195149954\",\"34.05803589927774\",\"34.03246022129893\",\"34.01967672282053\",\"34.02885982454033\",\"34.039591181512264\",\"34.05377904830405\",\"34.04499127290645\",\"34.04448093509925\",\"34.033951719522264\",\"34.034632062372786\",\"34.02372961978825\",\"34.016442933710145\",\"34.01655282581076\",\"34.01677356780172\",\"34.011146419952304\",\"34.010944775666964\",\"33.99555599357455\",\"33.97850623559397\",\"33.96395965154328\",\"33.94845962076364\",\"33.960138586218584\",\"33.99309041075366\",\"34.00501308969156\",\"33.99288475063401\",\"33.97410620728611\",\"33.994692424314685\",\"33.985289404199136\",\"33.980849509672986\",\"33.951803835001364\",\"33.94387334283944\",\"33.987566829844766\",\"34.01109014452769\",\"34.00461061490579\",\"33.9927709912461\",\"33.98995515489472\",\"34.02163546946369\",\"34.00804033002991\",\"33.99345957610841\",\"33.992388658970995\",\"33.992005329098966\",\"33.9823766715597\",\"33.981229615209394\",\"33.992308274005325\",\"33.97271254459835\",\"33.98550581295807\",\"33.99492282234478\",\"33.979236046081795\",\"33.97860428811953\",\"33.96746128802079\",\"33.965109907841665\",\"33.9584470998584\",\"33.97944066009293\",\"33.98285990229434\",\"33.99489028822209\",\"33.98644133450355\",\"34.00665861438638\",\"34.00236413988175\",\"33.99908041724085\",\"33.967632312613816\",\"33.966738915571376\",\"33.974443986368875\",\"33.96003519549333\",\"33.961593381067004\"],\"lon\":[\"-118.36827481453199\",\"-118.3835051547545\",\"-118.37716956476402\",\"-118.37116518674769\",\"-118.36493147176516\",\"-118.36460091894418\",\"-118.35930230601188\",\"-118.35916674102005\",\"-118.37400929918911\",\"-118.39031782908395\",\"-118.37753574252348\",\"-118.38919868072095\",\"-118.39302625407369\",\"-118.38401510447133\",\"-118.39728877578209\",\"-118.39697613494296\",\"-118.39168102682918\",\"-118.38037152042463\",\"-118.3752653248304\",\"-118.37840165829539\",\"-118.37163203793942\",\"-118.36749000805933\",\"-118.37732487376432\",\"-118.39218036652757\",\"-118.38305966293588\",\"-118.37546541685161\",\"-118.36565398902252\",\"-118.37002239379112\",\"-118.35704493857\",\"-118.35550268477517\",\"-118.3501656318932\",\"-118.34429854348328\",\"-118.33635822806133\",\"-118.32913113079245\",\"-118.33211772248032\",\"-118.33405482481727\",\"-118.35410661474127\",\"-118.3474751851418\",\"-118.34418227996325\",\"-118.32846415337077\",\"-118.35372344075242\",\"-118.36201954501362\",\"-118.36039302523315\",\"-118.37245765127734\",\"-118.37150706997961\",\"-118.38155274571423\",\"-118.37741371171745\",\"-118.38552355132838\",\"-118.3853080189469\",\"-118.37668196425552\",\"-118.36820166016057\",\"-118.36211575158305\",\"-118.35701286931943\",\"-118.35361106559293\",\"-118.35493534330976\",\"-118.35648913618506\",\"-118.38044550319779\",\"-118.3691245847691\",\"-118.379469460232\",\"-118.37882578260232\",\"-118.36592102426172\",\"-118.40047524942489\",\"-118.38728084556165\",\"-118.40748402057729\",\"-118.39215598912592\",\"-118.40094046881813\",\"-118.40002053015853\",\"-118.38743886819138\",\"-118.40010695698197\",\"-118.3875069837709\",\"-118.40184742650318\",\"-118.4034691433934\",\"-118.39073557714633\",\"-118.38639129970845\",\"-118.38199230858216\",\"-118.38914605259458\",\"-118.38538245192429\",\"-118.39944633479963\",\"-118.39612043945584\",\"-118.40179184498706\",\"-118.38928439799236\",\"-118.39183851411948\",\"-118.39368643543226\",\"-118.40402808307405\",\"-118.40454344184242\",\"-118.40301270123288\",\"-118.40278141490606\",\"-118.40149894420325\",\"-118.39845243588348\",\"-118.40038710126281\",\"-118.39829938287679\",\"-118.39615264862647\",\"-118.39149942785909\",\"-118.3937944541769\",\"-118.38747759713443\",\"-118.38059126573462\",\"-118.38290071905702\",\"-118.38011120326983\",\"-118.37067826644359\",\"-118.36951722486207\",\"-118.37649517089378\",\"-118.3708413630695\",\"-118.37051580255186\",\"-118.36807703767998\",\"-118.36336407054633\",\"-118.35655634258084\",\"-118.34738529211187\",\"-118.36052806976602\",\"-118.35638432720894\",\"-118.3525045023253\",\"-118.36627354608336\",\"-118.37124800543319\",\"-118.37256830193506\",\"-118.36867209291036\",\"-118.3698122588877\",\"-118.38184552985553\",\"-118.3752699201268\",\"-118.37344868068196\",\"-118.36902121095373\",\"-118.38146065707046\",\"-118.39310664477061\",\"-118.39256548891542\",\"-118.38654566781837\",\"-118.39035303411764\",\"-118.39538269470262\",\"-118.38572636475268\",\"-118.39093786811057\",\"-118.3853405951348\",\"-118.37840013621523\",\"-118.37580195978143\",\"-118.38060677687176\",\"-118.37952529441395\",\"-118.36623512554823\",\"-118.37316242322672\",\"-118.37728586147928\",\"-118.38207159728543\",\"-118.38357592640075\",\"-118.37161194044398\",\"-118.36859191440932\",\"-118.36663452101959\",\"-118.36519361756169\",\"-118.36464193622584\",\"-118.35877991061761\",\"-118.35147238113804\",\"-118.34332125505571\",\"-118.34914965342313\",\"-118.35155902250003\",\"-118.35818486480763\",\"-118.36027918613314\",\"-118.34950063508948\",\"-118.368431803319\",\"-118.37024727687228\",\"-118.35863047062625\",\"-118.36501895628602\",\"-118.38080122370245\",\"-118.37347160873624\",\"-118.3765952036408\",\"-118.36855476654118\",\"-118.37823161558882\",\"-118.38188061243274\",\"-118.38191006483775\",\"-118.37343280398422\",\"-118.38019047275172\",\"-118.37242610449326\",\"-118.37307991353177\",\"-118.36941589354663\",\"-118.36870756755413\",\"-118.36260738006408\",\"-118.38272089741587\",\"-118.36973688786048\",\"-118.3830535656252\",\"-118.377767053266\",\"-118.38055547883418\",\"-118.3829486289576\",\"-118.38070783107437\",\"-118.39225975718287\",\"-118.3853694861338\",\"-118.39446294213603\",\"-118.38616647157696\",\"-118.37961165627287\",\"-118.38092261234947\",\"-118.38613010224026\",\"-118.38891757106715\",\"-118.38401477817584\",\"-118.38490303120187\",\"-118.37551595939526\",\"-118.38564581385586\",\"-118.3797175864637\",\"-118.3751775160116\",\"-118.37073959980529\",\"-118.3666137109925\",\"-118.36652767259437\",\"-118.35893884629044\",\"-118.36618297560659\",\"-118.3772442035732\",\"-118.37337049428353\",\"-118.36677964345061\",\"-118.37495793406974\",\"-118.37139390349752\",\"-118.36798849906054\",\"-118.36071579515205\",\"-118.3659328097386\",\"-118.36926223086235\",\"-118.36867038168398\",\"-118.36547441120847\",\"-118.36613586736061\",\"-118.36187727701056\",\"-118.35852177137386\",\"-118.35848076546075\",\"-118.37495965845496\",\"-118.38202452403455\",\"-118.3779998650054\",\"-118.37781706108917\",\"-118.37306160441004\",\"-118.37610848774067\",\"-118.37122150718847\",\"-118.36955200420414\",\"-118.37618664777892\",\"-118.37269527801396\",\"-118.36872423608423\",\"-118.37273129830106\",\"-118.38086475309206\",\"-118.37919630092019\",\"-118.37716004683672\",\"-118.39147966966175\",\"-118.3832605966131\",\"-118.38391037066974\",\"-118.38284659882459\",\"-118.38647958927795\",\"-118.38078266622435\",\"-118.38361336316188\",\"-118.38169630211401\",\"-118.3757412787696\",\"-118.37528892968541\",\"-118.37158080952238\",\"-118.37818306894994\",\"-118.38150708449463\",\"-118.37841428348692\",\"-118.37584956531681\",\"-118.3785857002928\",\"-118.37477688283208\",\"-118.37762896477746\",\"-118.37409994591587\",\"-118.37055705050768\",\"-118.37164551025704\",\"-118.37833745925299\",\"-118.3858390446721\",\"-118.39439225774655\",\"-118.38776935254782\",\"-118.39222848294271\",\"-118.38355824741788\",\"-118.3916635936834\",\"-118.38535617818759\",\"-118.39173275924635\",\"-118.36753508314365\",\"-118.37629097666031\",\"-118.36895147734616\",\"-118.3691564500292\",\"-118.36760496343707\",\"-118.34938310521018\",\"-118.36677616614024\",\"-118.36477873147919\",\"-118.38347583289799\",\"-118.38223623286527\",\"-118.38643761158079\",\"-118.38664285976543\",\"-118.38266257676554\",\"-118.3907342226814\",\"-118.38638289400464\",\"-118.38364685844776\",\"-118.38391557480918\",\"-118.38239412737934\",\"-118.39347989964793\",\"-118.38954335469055\",\"-118.38680011024994\",\"-118.37928082187373\",\"-118.37980518904816\",\"-118.38129202333853\",\"-118.38186444659001\",\"-118.37705899635179\",\"-118.38941355427056\",\"-118.38480226719453\",\"-118.3847550008105\",\"-118.37959434186104\",\"-118.38292603300253\",\"-118.37794872108135\",\"-118.37840339806733\",\"-118.37765133709209\",\"-118.36616401735193\",\"-118.37484839515682\",\"-118.39368726107077\",\"-118.39704598081872\",\"-118.39948063604075\",\"-118.40094568303296\",\"-118.39719931813124\",\"-118.39850338631145\",\"-118.39204610488997\",\"-118.39596683780466\",\"-118.39600085879775\",\"-118.39250928877988\",\"-118.407068329321\",\"-118.40134149614845\",\"-118.40243083966328\",\"-118.40360070224239\",\"-118.40800131942638\",\"-118.41492301895434\",\"-118.40860294617191\",\"-118.40817924210046\",\"-118.40467523469228\",\"-118.41235656273285\",\"-118.41237856649309\",\"-118.408532949479\",\"-118.41140181004708\",\"-118.40888588808758\",\"-118.41082970940074\",\"-118.41431752109978\",\"-118.40921860299127\",\"-118.40697479215505\",\"-118.41213274771349\",\"-118.41422797262672\",\"-118.41271043713003\",\"-118.42083311135796\",\"-118.42102144709308\",\"-118.42029043201008\",\"-118.42608490211212\",\"-118.4302054165215\",\"-118.42608228508468\",\"-118.42157444402189\",\"-118.42764505937471\",\"-118.42647864948471\",\"-118.42713144192736\",\"-118.42640682160659\",\"-118.41033621373035\",\"-118.41492103575472\",\"-118.41108463996311\",\"-118.40886809270746\",\"-118.41531308068348\",\"-118.4115771339642\",\"-118.40765853207266\",\"-118.40095407160459\",\"-118.40632557161919\",\"-118.40725915259962\",\"-118.39513401494236\",\"-118.39114338620813\",\"-118.38963408494921\",\"-118.39419131304584\",\"-118.39736439198248\",\"-118.39336601495053\",\"-118.38762180889563\",\"-118.38488812424487\",\"-118.38626647554979\",\"-118.38606918123347\",\"-118.37805801201579\",\"-118.38531088580878\",\"-118.3812087628103\",\"-118.37861091821668\",\"-118.37121679541293\",\"-118.3731110842909\",\"-118.36939654003389\",\"-118.37051391754605\",\"-118.36881124507917\",\"-118.3703853948586\",\"-118.36506077386204\",\"-118.36665927608567\",\"-118.35999025765682\",\"-118.35806547373022\",\"-118.34700421182708\",\"-118.34213417543273\",\"-118.34617743702289\",\"-118.34305415770952\",\"-118.34040297497143\",\"-118.33227985630542\",\"-118.33292920421623\",\"-118.317357689362\",\"-118.33095403947263\",\"-118.31987783561371\",\"-118.35100662445099\",\"-118.3733032975285\",\"-118.3663970701165\",\"-118.37072589571694\",\"-118.36961160501595\",\"-118.35903913306848\",\"-118.38058627315965\",\"-118.38693084938889\",\"-118.39974462383772\",\"-118.4033680046096\",\"-118.40018751372877\",\"-118.39642877083003\",\"-118.39191415113952\",\"-118.39266745133082\",\"-118.39166947549073\",\"-118.39529074403444\",\"-118.39365163076125\",\"-118.38186929799608\",\"-118.39077321266008\",\"-118.38264230325511\",\"-118.37629234023026\",\"-118.40016499524236\",\"-118.37721173659064\",\"-118.38529929593426\",\"-118.38226876014757\",\"-118.38654890691406\",\"-118.3947181034379\",\"-118.3842053891498\",\"-118.38724612420185\",\"-118.37785640919977\",\"-118.37399472385697\",\"-118.38114492817665\",\"-118.39180659693065\",\"-118.38406106306317\",\"-118.38794912749101\",\"-118.39408191004961\",\"-118.38823738996706\",\"-118.38561737134323\",\"-118.38569307802638\",\"-118.38043007967828\",\"-118.37438464873851\",\"-118.38557707551291\",\"-118.3968204505533\",\"-118.39831841511882\",\"-118.38879302616951\",\"-118.39497528364767\",\"-118.39015284878546\",\"-118.39051232649702\",\"-118.38565429970423\",\"-118.38160225969662\",\"-118.38628003833104\",\"-118.37957981360827\",\"-118.39580826972906\",\"-118.39066904636766\",\"-118.39045564997188\",\"-118.38526419990788\",\"-118.39101835438977\",\"-118.38187166409894\",\"-118.36771872677444\",\"-118.36642298476059\",\"-118.36542461313384\",\"-118.36115442535194\",\"-118.3634856701031\",\"-118.37148696449518\",\"-118.36918358368689\",\"-118.37073116647983\",\"-118.37721822663616\",\"-118.3939795567172\",\"-118.38982366085018\",\"-118.39268350158939\",\"-118.39077069196476\",\"-118.38424830863698\",\"-118.38390615277805\",\"-118.39431110587306\",\"-118.38288418270051\",\"-118.38116978338674\",\"-118.3985773436822\",\"-118.39091372902519\",\"-118.39794003945573\",\"-118.39672983177582\",\"-118.3912917786235\",\"-118.39442452209555\",\"-118.38858804798753\",\"-118.38934195955936\",\"-118.39031486303129\",\"-118.39367446660981\",\"-118.39028052213445\",\"-118.40281643326892\",\"-118.39522291412113\",\"-118.40163581116482\",\"-118.39504475300963\",\"-118.3932624081937\",\"-118.39148663298813\",\"-118.39627532221401\",\"-118.38859187965589\",\"-118.39947341215841\",\"-118.39296625457165\",\"-118.38986817994268\",\"-118.38975931406871\",\"-118.38496955828509\",\"-118.38226018864181\",\"-118.37821197250985\",\"-118.37898993123245\",\"-118.37304807226948\",\"-118.37845263529648\",\"-118.3845428290986\",\"-118.38537312925112\",\"-118.3951506185458\",\"-118.38929898277905\",\"-118.38817021695891\",\"-118.38537341156274\",\"-118.39101067308465\",\"-118.38791439176909\",\"-118.38568612380297\",\"-118.38577747019707\",\"-118.39961887848912\",\"-118.39481946347978\",\"-118.39626007399923\",\"-118.39038465438001\",\"-118.38620964715261\",\"-118.38387050713362\",\"-118.37985873223876\",\"-118.38044867699952\",\"-118.37542466938555\",\"-118.37514148655775\",\"-118.3834138065453\",\"-118.37709967991671\",\"-118.37164774958465\",\"-118.35395967821978\",\"-118.3651611755412\",\"-118.36741726584282\",\"-118.36134597101984\",\"-118.36859171762397\",\"-118.36440360582822\",\"-118.37935242720181\",\"-118.39122023399409\",\"-118.39656519937192\",\"-118.39254575031207\",\"-118.3922690268034\",\"-118.3917708192148\",\"-118.39463394468918\",\"-118.39597453511115\",\"-118.39386381986384\",\"-118.39262909794941\",\"-118.39037500232088\",\"-118.38584549975752\",\"-118.38732577126905\",\"-118.38209528930471\",\"-118.38698742731428\",\"-118.38857368630694\",\"-118.38878535871686\",\"-118.38948103643219\",\"-118.3955420382027\",\"-118.39547524635528\",\"-118.40254100227064\",\"-118.40718958799475\",\"-118.40410725003673\",\"-118.40638438065248\",\"-118.4155979988559\",\"-118.41433297127938\",\"-118.40719910268585\",\"-118.41494838713824\",\"-118.41745799223348\",\"-118.42220325008465\",\"-118.41367516886503\",\"-118.41945001523169\",\"-118.41794959588425\",\"-118.40979315779552\",\"-118.40887204459464\",\"-118.41304571498709\",\"-118.40546670647372\",\"-118.40345253364038\",\"-118.4113491827955\",\"-118.4078291718199\",\"-118.40091265733324\",\"-118.39037301983997\",\"-118.39257979281822\",\"-118.400475497964\",\"-118.3927764897146\",\"-118.38914123730532\",\"-118.39069362796248\",\"-118.38859114875454\",\"-118.39589207749742\",\"-118.37741942418515\",\"-118.33214024136345\",\"-118.28784020115549\",\"-118.35033895221602\",\"-118.36467587220133\",\"-118.39003988669955\",\"-118.38980783534281\",\"-118.39216112046547\",\"-118.38871891960693\",\"-118.38389112780409\",\"-118.37749423791317\",\"-118.38366631151693\",\"-118.39214842332149\",\"-118.3880712317345\",\"-118.38321571466436\",\"-118.38747758713795\",\"-118.38825025177465\",\"-118.37728628386076\",\"-118.37980332909362\",\"-118.36897004424459\",\"-118.39017932962123\",\"-118.38493221566499\",\"-118.37832426983707\",\"-118.36593556788901\",\"-118.3603138365336\",\"-118.36245240724304\",\"-118.36424594854827\",\"-118.36512085477594\",\"-118.36452867251002\",\"-118.36146994471994\",\"-118.36853844248009\",\"-118.36171678517942\",\"-118.39167660036989\",\"-118.38557095264741\",\"-118.3824562593803\",\"-118.3794548713913\",\"-118.37865530336536\",\"-118.37580059593805\",\"-118.38398189239278\",\"-118.37741793017699\",\"-118.37590306837295\",\"-118.37684540672922\",\"-118.37342655328604\",\"-118.37766067703168\",\"-118.3803212328582\",\"-118.38440280879136\",\"-118.38517327160362\",\"-118.37659553581604\",\"-118.37747526344832\",\"-118.378417408373\",\"-118.37888100089698\",\"-118.37887884391743\",\"-118.36695207374541\",\"-118.34119097811471\",\"-118.35675875557628\",\"-118.335787234752\",\"-118.35206663645866\",\"-118.34985209146491\",\"-118.35782954500436\",\"-118.35444551370063\",\"-118.35563266035497\",\"-118.35629523033546\",\"-118.35794736165565\",\"-118.35431577762888\",\"-118.35320655365044\",\"-118.356024731551\",\"-118.37246080136275\",\"-118.37598201445044\",\"-118.38944848254276\",\"-118.3917714351187\",\"-118.39498586122602\",\"-118.39182506383945\",\"-118.40236780322138\",\"-118.39619960857662\",\"-118.39136886717486\",\"-118.39420331679342\",\"-118.38896692975557\",\"-118.38927569751641\",\"-118.38959786117442\",\"-118.40107051962623\",\"-118.39699289582332\",\"-118.40704415692308\",\"-118.40752351973313\",\"-118.41520052324513\",\"-118.41057015544581\",\"-118.40513931517086\",\"-118.40368540095172\",\"-118.40314223558008\",\"-118.39733892113442\",\"-118.40259055118737\",\"-118.39431729794748\",\"-118.39621063214436\",\"-118.40498983824577\",\"-118.40001308398692\",\"-118.40326182560268\",\"-118.40776372746882\",\"-118.41399031811544\",\"-118.4078373426958\",\"-118.40632484682732\",\"-118.40153424589175\",\"-118.3990190988235\",\"-118.40591616528832\",\"-118.40495273794994\",\"-118.39179416303189\",\"-118.39658804982245\",\"-118.40073243918884\",\"-118.40157347053723\",\"-118.40198325207628\",\"-118.39794240212582\",\"-118.39363064529677\",\"-118.39523325421032\",\"-118.39050128255703\",\"-118.39228790225104\",\"-118.39463028005115\",\"-118.39487920921498\",\"-118.39546788784769\",\"-118.39363533327348\",\"-118.39110698749516\",\"-118.3854398226896\",\"-118.38144134689247\",\"-118.37678466123191\",\"-118.371997996756\",\"-118.38068413218953\",\"-118.38245658000378\",\"-118.36878024391568\",\"-118.37053579228359\",\"-118.36890368270794\",\"-118.36106905158039\",\"-118.369822398223\",\"-118.36591219434838\",\"-118.36156473886705\",\"-118.37346193342742\",\"-118.37358368282254\",\"-118.35652107054747\",\"-118.3475919269163\",\"-118.35136141711928\",\"-118.35036938739626\",\"-118.33173317595887\",\"-118.32511692043764\",\"-118.327699838658\",\"-118.32623699301301\",\"-118.35440235080745\",\"-118.35534592786426\",\"-118.35850584634196\",\"-118.3741265262211\",\"-118.37027250566884\",\"-118.36846406963775\",\"-118.36132812231882\",\"-118.3649414535534\",\"-118.3817324380926\",\"-118.37822638049506\",\"-118.37472427786565\",\"-118.36335705291452\",\"-118.37783493416391\",\"-118.38483377384064\",\"-118.3753292568103\",\"-118.3700649054961\",\"-118.37660702451778\",\"-118.37245725892987\",\"-118.37285090536899\",\"-118.36723294883535\",\"-118.38153515337095\",\"-118.3732773378702\",\"-118.37031986892318\",\"-118.3779117691002\",\"-118.38296368067073\",\"-118.3715343426146\",\"-118.39259645340638\",\"-118.3803310041963\",\"-118.38553468492051\",\"-118.3804174532209\",\"-118.3800641171176\",\"-118.37512465796837\",\"-118.36479187645641\",\"-118.3533593938491\",\"-118.37380768367997\",\"-118.3626509524817\",\"-118.37453171261697\",\"-118.36979341216507\",\"-118.37089793292321\",\"-118.37076882949954\",\"-118.35702844255059\",\"-118.345173511607\",\"-118.34827660035519\",\"-118.35693379143991\",\"-118.35848638475835\",\"-118.36786218476672\",\"-118.35470871457083\",\"-118.37560497959684\",\"-118.3716644361078\",\"-118.38057353424871\",\"-118.38015553418903\",\"-118.37814616578446\",\"-118.37913473834041\",\"-118.38588103398634\",\"-118.37774662891135\",\"-118.39252449808443\",\"-118.39471472280094\",\"-118.39349322200864\",\"-118.39176385394984\",\"-118.39316023509264\",\"-118.38197629718078\",\"-118.38398598046734\",\"-118.38561245703893\",\"-118.39138364544381\",\"-118.37775454291098\",\"-118.37653855701313\",\"-118.37896034122741\",\"-118.38605839486154\",\"-118.37560210733311\",\"-118.37312329221571\",\"-118.37985999486656\",\"-118.37691438082692\",\"-118.3722953181983\",\"-118.3657267113964\",\"-118.37117590338221\",\"-118.3561839647632\",\"-118.36015027430902\",\"-118.36195084436115\",\"-118.3515557182704\",\"-118.36293088161116\",\"-118.35961616885007\",\"-118.35643712579436\",\"-118.36137317834714\",\"-118.36346555382394\",\"-118.36916935563328\",\"-118.38330590184846\",\"-118.37931690504746\",\"-118.37528411580655\",\"-118.37184463190817\",\"-118.37057757557292\",\"-118.37783728150744\",\"-118.37425081627144\",\"-118.38705625002997\",\"-118.3862843437867\",\"-118.38521339716688\",\"-118.39101039085726\",\"-118.39421767512891\",\"-118.38870946027899\",\"-118.39016503309375\",\"-118.39140172294539\",\"-118.38898430623375\",\"-118.38566853552368\",\"-118.38566841018029\",\"-118.38038074144586\",\"-118.37559678200017\",\"-118.37510313861915\",\"-118.36891544466793\",\"-118.38930436398428\",\"-118.36355134366909\",\"-118.36642463366694\",\"-118.35504298161355\",\"-118.35753694941232\",\"-118.36480505056639\",\"-118.37490103739863\",\"-118.38110572445343\",\"-118.36776890010943\",\"-118.37037787358553\",\"-118.37326907647889\",\"-118.38792206101789\",\"-118.38686388635705\",\"-118.38176529633685\",\"-118.38387854791333\",\"-118.38941703060812\",\"-118.38706861099104\",\"-118.38765620096837\",\"-118.3871433599845\",\"-118.39025283011335\",\"-118.38950520151751\",\"-118.39635724112686\",\"-118.39215500829792\",\"-118.392022344127\",\"-118.38268473455942\",\"-118.383317960833\",\"-118.37997413170291\",\"-118.38248975438023\",\"-118.37788617558896\",\"-118.37363698208723\",\"-118.37098182946569\",\"-118.36861419612\",\"-118.37357382292343\",\"-118.3789823920609\",\"-118.37987648186873\",\"-118.36870952317231\",\"-118.38909579614457\",\"-118.39720878163303\",\"-118.38988756440428\",\"-118.38200733868298\",\"-118.40234410178338\",\"-118.41017777105095\",\"-118.40690458178578\",\"-118.40373740936268\",\"-118.40972788674006\",\"-118.40546518420007\",\"-118.40793904549092\",\"-118.40819265213408\",\"-118.40710605733007\",\"-118.39965879409584\",\"-118.39714722577055\",\"-118.40128076436953\",\"-118.40550568340196\",\"-118.40417693350541\",\"-118.40891297324644\",\"-118.39967964761861\",\"-118.39626391611752\",\"-118.400505489649\",\"-118.40111499986902\",\"-118.39815566103412\",\"-118.38371007217245\",\"-118.38035160946535\",\"-118.3770194725977\",\"-118.38541540308388\",\"-118.38684034021614\",\"-118.37161201384002\",\"-118.37852217715825\",\"-118.37895631878845\",\"-118.37666355428001\",\"-118.37079818722408\",\"-118.37177636467987\",\"-118.37345227458056\",\"-118.37437881212995\",\"-118.3601010112185\",\"-118.36294948067552\",\"-118.36367996678267\",\"-118.36372531186363\",\"-118.36365508143244\",\"-118.35694996685487\",\"-118.36470672253712\",\"-118.35209863491836\",\"-118.35637727375725\",\"-118.36025508128982\",\"-118.36887745349162\",\"-118.36138458281573\",\"-118.36144418617373\",\"-118.35227566425117\",\"-118.35118037958172\",\"-118.35711621891016\",\"-118.34181618184668\",\"-118.36069098129293\",\"-118.36473518170281\",\"-118.35657575742663\",\"-118.36154482351644\",\"-118.35993947342818\",\"-118.38312794417979\",\"-118.37615262319206\",\"-118.38175702453985\",\"-118.38020276504888\",\"-118.37764634243929\",\"-118.3955405322118\",\"-118.4082390113105\",\"-118.40327449046748\",\"-118.40859075127938\",\"-118.39804100920065\",\"-118.41163669788692\",\"-118.415569904754\",\"-118.4174620554244\",\"-118.40875641943676\",\"-118.41495248598494\",\"-118.41059693517796\",\"-118.40387070624323\",\"-118.40565322881213\",\"-118.400227380572\",\"-118.40197488523785\",\"-118.39144875981087\",\"-118.39696551304579\",\"-118.40821049616174\",\"-118.40164135136652\",\"-118.39570641108341\",\"-118.39348105994473\",\"-118.40280900967502\",\"-118.39706563947738\",\"-118.39168526113909\",\"-118.3847478255416\",\"-118.37721529431514\",\"-118.39504578857029\",\"-118.38755117000228\",\"-118.3952350011074\",\"-118.3890789162352\",\"-118.39110860558701\",\"-118.39805590393082\",\"-118.39367336574325\",\"-118.38894272891376\",\"-118.39393950437444\",\"-118.3907086692198\",\"-118.38951057789983\",\"-118.39198602753073\",\"-118.39069550350615\",\"-118.39224238898842\",\"-118.39074131544798\",\"-118.38888750686566\",\"-118.38663281826776\",\"-118.38620484571696\",\"-118.38243889430741\",\"-118.38522198001738\",\"-118.3687505742175\",\"-118.36985969820273\",\"-118.36553051557361\",\"-118.35991632223718\",\"-118.3685665316159\",\"-118.3745766548294\",\"-118.38345654121265\",\"-118.37926586946026\",\"-118.38406302834191\",\"-118.38178240193996\",\"-118.38510341538114\",\"-118.37935626435964\",\"-118.36805324392846\",\"-118.35981259141664\",\"-118.37861721766348\",\"-118.38699152686081\",\"-118.37944106579567\",\"-118.38182307474423\",\"-118.3781248157205\",\"-118.38953236358456\",\"-118.38636979982594\",\"-118.38670006740463\",\"-118.37962155668559\",\"-118.37921239967194\",\"-118.38317993265102\",\"-118.37906134808796\",\"-118.3748830915308\",\"-118.37972823164799\",\"-118.3858325437593\",\"-118.37919207570245\",\"-118.38300328982355\",\"-118.37718750390479\",\"-118.37274350416253\",\"-118.36620580680808\",\"-118.35899420643872\",\"-118.36735120726325\",\"-118.36197343778107\",\"-118.37307511960725\",\"-118.36868725417318\",\"-118.37854346677753\",\"-118.37689442334307\",\"-118.37560022526577\",\"-118.3741942116753\",\"-118.36063474375207\",\"-118.35700516674449\",\"-118.35783701815978\",\"-118.34989991913397\"],\"marker\":{\"size\":5},\"mode\":\"markers\",\"text\":[\"\",\"\",\"\",\"\",\"\",\"\",\"\",\"\",\"\",\"\",\"\",\"\",\"\",\"\",\"\",\"\",\"\",\"\",\"\",\"\",\"\",\"\",\"\",\"\",\"\",\"\",\"\",\"\",\"\",\"\",\"\",\"\",\"\",\"\",\"\",\"\",\"\",\"\",\"\",\"\",\"\",\"\",\"\",\"\",\"\",\"\",\"\",\"\",\"\",\"\",\"\",\"\",\"\",\"\",\"\",\"\",\"\",\"\",\"\",\"\",\"\",\"\",\"\",\"\",\"\",\"\",\"\",\"\",\"\",\"\",\"\",\"\",\"\",\"\",\"\",\"\",\"\",\"\",\"\",\"\",\"\",\"\",\"\",\"\",\"\",\"\",\"\",\"\",\"\",\"\",\"\",\"\",\"\",\"\",\"\",\"\",\"\",\"\",\"\",\"\",\"\",\"\",\"\",\"\",\"\",\"\",\"\",\"\",\"\",\"\",\"\",\"\",\"\",\"\",\"\",\"\",\"\",\"\",\"\",\"\",\"\",\"\",\"\",\"\",\"\",\"\",\"\",\"\",\"\",\"\",\"\",\"\",\"\",\"\",\"\",\"\",\"\",\"\",\"\",\"\",\"\",\"\",\"\",\"\",\"\",\"\",\"\",\"\",\"\",\"\",\"\",\"\",\"\",\"\",\"\",\"\",\"\",\"\",\"\",\"\",\"\",\"\",\"\",\"\",\"\",\"\",\"\",\"\",\"\",\"\",\"\",\"\",\"\",\"\",\"\",\"\",\"\",\"\",\"\",\"\",\"\",\"\",\"\",\"\",\"\",\"\",\"\",\"\",\"\",\"\",\"\",\"\",\"\",\"\",\"\",\"\",\"\",\"\",\"\",\"\",\"\",\"\",\"\",\"\",\"\",\"\",\"\",\"\",\"\",\"\",\"\",\"\",\"\",\"\",\"\",\"\",\"\",\"\",\"\",\"\",\"\",\"\",\"\",\"\",\"\",\"\",\"\",\"\",\"\",\"\",\"\",\"\",\"\",\"\",\"\",\"\",\"\",\"\",\"\",\"\",\"\",\"\",\"\",\"\",\"\",\"\",\"\",\"\",\"\",\"\",\"\",\"\",\"\",\"\",\"\",\"\",\"\",\"\",\"\",\"\",\"\",\"\",\"\",\"\",\"\",\"\",\"\",\"\",\"\",\"\",\"\",\"\",\"\",\"\",\"\",\"\",\"\",\"\",\"\",\"\",\"\",\"\",\"\",\"\",\"\",\"\",\"\",\"\",\"\",\"\",\"\",\"\",\"\",\"\",\"\",\"\",\"\",\"\",\"\",\"\",\"\",\"\",\"\",\"\",\"\",\"\",\"\",\"\",\"\",\"\",\"\",\"\",\"\",\"\",\"\",\"\",\"\",\"\",\"\",\"\",\"\",\"\",\"\",\"\",\"\",\"\",\"\",\"\",\"\",\"\",\"\",\"\",\"\",\"\",\"\",\"\",\"\",\"\",\"\",\"\",\"\",\"\",\"\",\"\",\"\",\"\",\"\",\"\",\"\",\"\",\"\",\"\",\"\",\"\",\"\",\"\",\"\",\"\",\"\",\"\",\"\",\"\",\"\",\"\",\"\",\"\",\"\",\"\",\"\",\"\",\"\",\"\",\"\",\"\",\"\",\"\",\"\",\"\",\"\",\"\",\"\",\"\",\"\",\"\",\"\",\"\",\"\",\"\",\"\",\"\",\"\",\"\",\"\",\"\",\"\",\"\",\"\",\"\",\"\",\"\",\"\",\"\",\"\",\"\",\"\",\"\",\"\",\"\",\"\",\"\",\"\",\"\",\"\",\"\",\"\",\"\",\"\",\"\",\"\",\"\",\"\",\"\",\"\",\"\",\"\",\"\",\"\",\"\",\"\",\"\",\"\",\"\",\"\",\"\",\"\",\"\",\"\",\"\",\"\",\"\",\"\",\"\",\"\",\"\",\"\",\"\",\"\",\"\",\"\",\"\",\"\",\"\",\"\",\"\",\"\",\"\",\"\",\"\",\"\",\"\",\"\",\"\",\"\",\"\",\"\",\"\",\"\",\"\",\"\",\"\",\"\",\"\",\"\",\"\",\"\",\"\",\"\",\"\",\"\",\"\",\"\",\"\",\"\",\"\",\"\",\"\",\"\",\"\",\"\",\"\",\"\",\"\",\"\",\"\",\"\",\"\",\"\",\"\",\"\",\"\",\"\",\"\",\"\",\"\",\"\",\"\",\"\",\"\",\"\",\"\",\"\",\"\",\"\",\"\",\"\",\"\",\"\",\"\",\"\",\"\",\"\",\"\",\"\",\"\",\"\",\"\",\"\",\"\",\"\",\"\",\"\",\"\",\"\",\"\",\"\",\"\",\"\",\"\",\"\",\"\",\"\",\"\",\"\",\"\",\"\",\"\",\"\",\"\",\"\",\"\",\"\",\"\",\"\",\"\",\"\",\"\",\"\",\"\",\"\",\"\",\"\",\"\",\"\",\"\",\"\",\"\",\"\",\"\",\"\",\"\",\"\",\"\",\"\",\"\",\"\",\"\",\"\",\"\",\"\",\"\",\"\",\"\",\"\",\"\",\"\",\"\",\"\",\"\",\"\",\"\",\"\",\"\",\"\",\"\",\"\",\"\",\"\",\"\",\"\",\"\",\"\",\"\",\"\",\"\",\"\",\"\",\"\",\"\",\"\",\"\",\"\",\"\",\"\",\"\",\"\",\"\",\"\",\"\",\"\",\"\",\"\",\"\",\"\",\"\",\"\",\"\",\"\",\"\",\"\",\"\",\"\",\"\",\"\",\"\",\"\",\"\",\"\",\"\",\"\",\"\",\"\",\"\",\"\",\"\",\"\",\"\",\"\",\"\",\"\",\"\",\"\",\"\",\"\",\"\",\"\",\"\",\"\",\"\",\"\",\"\",\"\",\"\",\"\",\"\",\"\",\"\",\"\",\"\",\"\",\"\",\"\",\"\",\"\",\"\",\"\",\"\",\"\",\"\",\"\",\"\",\"\",\"\",\"\",\"\",\"\",\"\",\"\",\"\",\"\",\"\",\"\",\"\",\"\",\"\",\"\",\"\",\"\",\"\",\"\",\"\",\"\",\"\",\"\",\"\",\"\",\"\",\"\",\"\",\"\",\"\",\"\",\"\",\"\",\"\",\"\",\"\",\"\",\"\",\"\",\"\",\"\",\"\",\"\",\"\",\"\",\"\",\"\",\"\",\"\",\"\",\"\",\"\",\"\",\"\",\"\",\"\",\"\",\"\",\"\",\"\",\"\",\"\",\"\",\"\",\"\",\"\",\"\",\"\",\"\",\"\",\"\",\"\",\"\",\"\",\"\",\"\",\"\",\"\",\"\",\"\",\"\",\"\",\"\",\"\",\"\",\"\",\"\",\"\",\"\",\"\",\"\",\"\",\"\",\"\",\"\",\"\",\"\",\"\",\"\",\"\",\"\",\"\",\"\",\"\",\"\",\"\",\"\",\"\",\"\",\"\",\"\",\"\",\"\",\"\",\"\",\"\",\"\",\"\",\"\",\"\",\"\",\"\",\"\",\"\",\"\",\"\",\"\",\"\",\"\",\"\",\"\",\"\",\"\",\"\",\"\",\"\",\"\",\"\",\"\",\"\",\"\",\"\",\"\",\"\",\"\",\"\",\"\",\"\",\"\",\"\",\"\",\"\",\"\",\"\",\"\",\"\",\"\",\"\",\"\",\"\",\"\",\"\",\"\",\"\",\"\",\"\",\"\",\"\",\"\",\"\",\"\",\"\",\"\",\"\",\"\",\"\",\"\",\"\",\"\",\"\",\"\",\"\",\"\",\"\",\"\",\"\",\"\",\"\",\"\",\"\",\"\",\"\",\"\",\"\",\"\",\"\",\"\",\"\",\"\",\"\",\"\",\"\",\"\",\"\",\"\",\"\",\"\",\"\",\"\",\"\",\"\",\"\",\"\",\"\",\"\",\"\",\"\",\"\",\"\",\"\",\"\",\"\",\"\",\"\",\"\",\"\",\"\",\"\",\"\",\"\",\"\",\"\",\"\",\"\",\"\",\"\",\"\",\"\",\"\",\"\",\"\",\"\",\"\",\"\",\"\",\"\",\"\",\"\",\"\",\"\",\"\",\"\",\"\",\"\",\"\",\"\",\"\",\"\",\"\",\"\",\"\",\"\",\"\",\"\",\"\",\"\",\"\",\"\",\"\",\"\",\"\",\"\",\"\",\"\",\"\",\"\",\"\",\"\",\"\",\"\",\"\",\"\",\"\",\"\",\"\",\"\",\"\",\"\",\"\",\"\",\"\",\"\",\"\",\"\",\"\",\"\",\"\",\"\",\"\",\"\",\"\",\"\",\"\",\"\",\"\",\"\",\"\",\"\",\"\",\"\",\"\",\"\",\"\",\"\",\"\",\"\",\"\",\"\",\"\",\"\"],\"type\":\"scattermapbox\"}],                        {\"template\":{\"data\":{\"histogram2dcontour\":[{\"type\":\"histogram2dcontour\",\"colorbar\":{\"outlinewidth\":0,\"ticks\":\"\"},\"colorscale\":[[0.0,\"#0d0887\"],[0.1111111111111111,\"#46039f\"],[0.2222222222222222,\"#7201a8\"],[0.3333333333333333,\"#9c179e\"],[0.4444444444444444,\"#bd3786\"],[0.5555555555555556,\"#d8576b\"],[0.6666666666666666,\"#ed7953\"],[0.7777777777777778,\"#fb9f3a\"],[0.8888888888888888,\"#fdca26\"],[1.0,\"#f0f921\"]]}],\"choropleth\":[{\"type\":\"choropleth\",\"colorbar\":{\"outlinewidth\":0,\"ticks\":\"\"}}],\"histogram2d\":[{\"type\":\"histogram2d\",\"colorbar\":{\"outlinewidth\":0,\"ticks\":\"\"},\"colorscale\":[[0.0,\"#0d0887\"],[0.1111111111111111,\"#46039f\"],[0.2222222222222222,\"#7201a8\"],[0.3333333333333333,\"#9c179e\"],[0.4444444444444444,\"#bd3786\"],[0.5555555555555556,\"#d8576b\"],[0.6666666666666666,\"#ed7953\"],[0.7777777777777778,\"#fb9f3a\"],[0.8888888888888888,\"#fdca26\"],[1.0,\"#f0f921\"]]}],\"heatmap\":[{\"type\":\"heatmap\",\"colorbar\":{\"outlinewidth\":0,\"ticks\":\"\"},\"colorscale\":[[0.0,\"#0d0887\"],[0.1111111111111111,\"#46039f\"],[0.2222222222222222,\"#7201a8\"],[0.3333333333333333,\"#9c179e\"],[0.4444444444444444,\"#bd3786\"],[0.5555555555555556,\"#d8576b\"],[0.6666666666666666,\"#ed7953\"],[0.7777777777777778,\"#fb9f3a\"],[0.8888888888888888,\"#fdca26\"],[1.0,\"#f0f921\"]]}],\"heatmapgl\":[{\"type\":\"heatmapgl\",\"colorbar\":{\"outlinewidth\":0,\"ticks\":\"\"},\"colorscale\":[[0.0,\"#0d0887\"],[0.1111111111111111,\"#46039f\"],[0.2222222222222222,\"#7201a8\"],[0.3333333333333333,\"#9c179e\"],[0.4444444444444444,\"#bd3786\"],[0.5555555555555556,\"#d8576b\"],[0.6666666666666666,\"#ed7953\"],[0.7777777777777778,\"#fb9f3a\"],[0.8888888888888888,\"#fdca26\"],[1.0,\"#f0f921\"]]}],\"contourcarpet\":[{\"type\":\"contourcarpet\",\"colorbar\":{\"outlinewidth\":0,\"ticks\":\"\"}}],\"contour\":[{\"type\":\"contour\",\"colorbar\":{\"outlinewidth\":0,\"ticks\":\"\"},\"colorscale\":[[0.0,\"#0d0887\"],[0.1111111111111111,\"#46039f\"],[0.2222222222222222,\"#7201a8\"],[0.3333333333333333,\"#9c179e\"],[0.4444444444444444,\"#bd3786\"],[0.5555555555555556,\"#d8576b\"],[0.6666666666666666,\"#ed7953\"],[0.7777777777777778,\"#fb9f3a\"],[0.8888888888888888,\"#fdca26\"],[1.0,\"#f0f921\"]]}],\"surface\":[{\"type\":\"surface\",\"colorbar\":{\"outlinewidth\":0,\"ticks\":\"\"},\"colorscale\":[[0.0,\"#0d0887\"],[0.1111111111111111,\"#46039f\"],[0.2222222222222222,\"#7201a8\"],[0.3333333333333333,\"#9c179e\"],[0.4444444444444444,\"#bd3786\"],[0.5555555555555556,\"#d8576b\"],[0.6666666666666666,\"#ed7953\"],[0.7777777777777778,\"#fb9f3a\"],[0.8888888888888888,\"#fdca26\"],[1.0,\"#f0f921\"]]}],\"mesh3d\":[{\"type\":\"mesh3d\",\"colorbar\":{\"outlinewidth\":0,\"ticks\":\"\"}}],\"scatter\":[{\"fillpattern\":{\"fillmode\":\"overlay\",\"size\":10,\"solidity\":0.2},\"type\":\"scatter\"}],\"parcoords\":[{\"type\":\"parcoords\",\"line\":{\"colorbar\":{\"outlinewidth\":0,\"ticks\":\"\"}}}],\"scatterpolargl\":[{\"type\":\"scatterpolargl\",\"marker\":{\"colorbar\":{\"outlinewidth\":0,\"ticks\":\"\"}}}],\"bar\":[{\"error_x\":{\"color\":\"#2a3f5f\"},\"error_y\":{\"color\":\"#2a3f5f\"},\"marker\":{\"line\":{\"color\":\"#E5ECF6\",\"width\":0.5},\"pattern\":{\"fillmode\":\"overlay\",\"size\":10,\"solidity\":0.2}},\"type\":\"bar\"}],\"scattergeo\":[{\"type\":\"scattergeo\",\"marker\":{\"colorbar\":{\"outlinewidth\":0,\"ticks\":\"\"}}}],\"scatterpolar\":[{\"type\":\"scatterpolar\",\"marker\":{\"colorbar\":{\"outlinewidth\":0,\"ticks\":\"\"}}}],\"histogram\":[{\"marker\":{\"pattern\":{\"fillmode\":\"overlay\",\"size\":10,\"solidity\":0.2}},\"type\":\"histogram\"}],\"scattergl\":[{\"type\":\"scattergl\",\"marker\":{\"colorbar\":{\"outlinewidth\":0,\"ticks\":\"\"}}}],\"scatter3d\":[{\"type\":\"scatter3d\",\"line\":{\"colorbar\":{\"outlinewidth\":0,\"ticks\":\"\"}},\"marker\":{\"colorbar\":{\"outlinewidth\":0,\"ticks\":\"\"}}}],\"scattermapbox\":[{\"type\":\"scattermapbox\",\"marker\":{\"colorbar\":{\"outlinewidth\":0,\"ticks\":\"\"}}}],\"scatterternary\":[{\"type\":\"scatterternary\",\"marker\":{\"colorbar\":{\"outlinewidth\":0,\"ticks\":\"\"}}}],\"scattercarpet\":[{\"type\":\"scattercarpet\",\"marker\":{\"colorbar\":{\"outlinewidth\":0,\"ticks\":\"\"}}}],\"carpet\":[{\"aaxis\":{\"endlinecolor\":\"#2a3f5f\",\"gridcolor\":\"white\",\"linecolor\":\"white\",\"minorgridcolor\":\"white\",\"startlinecolor\":\"#2a3f5f\"},\"baxis\":{\"endlinecolor\":\"#2a3f5f\",\"gridcolor\":\"white\",\"linecolor\":\"white\",\"minorgridcolor\":\"white\",\"startlinecolor\":\"#2a3f5f\"},\"type\":\"carpet\"}],\"table\":[{\"cells\":{\"fill\":{\"color\":\"#EBF0F8\"},\"line\":{\"color\":\"white\"}},\"header\":{\"fill\":{\"color\":\"#C8D4E3\"},\"line\":{\"color\":\"white\"}},\"type\":\"table\"}],\"barpolar\":[{\"marker\":{\"line\":{\"color\":\"#E5ECF6\",\"width\":0.5},\"pattern\":{\"fillmode\":\"overlay\",\"size\":10,\"solidity\":0.2}},\"type\":\"barpolar\"}],\"pie\":[{\"automargin\":true,\"type\":\"pie\"}]},\"layout\":{\"autotypenumbers\":\"strict\",\"colorway\":[\"#636efa\",\"#EF553B\",\"#00cc96\",\"#ab63fa\",\"#FFA15A\",\"#19d3f3\",\"#FF6692\",\"#B6E880\",\"#FF97FF\",\"#FECB52\"],\"font\":{\"color\":\"#2a3f5f\"},\"hovermode\":\"closest\",\"hoverlabel\":{\"align\":\"left\"},\"paper_bgcolor\":\"white\",\"plot_bgcolor\":\"#E5ECF6\",\"polar\":{\"bgcolor\":\"#E5ECF6\",\"angularaxis\":{\"gridcolor\":\"white\",\"linecolor\":\"white\",\"ticks\":\"\"},\"radialaxis\":{\"gridcolor\":\"white\",\"linecolor\":\"white\",\"ticks\":\"\"}},\"ternary\":{\"bgcolor\":\"#E5ECF6\",\"aaxis\":{\"gridcolor\":\"white\",\"linecolor\":\"white\",\"ticks\":\"\"},\"baxis\":{\"gridcolor\":\"white\",\"linecolor\":\"white\",\"ticks\":\"\"},\"caxis\":{\"gridcolor\":\"white\",\"linecolor\":\"white\",\"ticks\":\"\"}},\"coloraxis\":{\"colorbar\":{\"outlinewidth\":0,\"ticks\":\"\"}},\"colorscale\":{\"sequential\":[[0.0,\"#0d0887\"],[0.1111111111111111,\"#46039f\"],[0.2222222222222222,\"#7201a8\"],[0.3333333333333333,\"#9c179e\"],[0.4444444444444444,\"#bd3786\"],[0.5555555555555556,\"#d8576b\"],[0.6666666666666666,\"#ed7953\"],[0.7777777777777778,\"#fb9f3a\"],[0.8888888888888888,\"#fdca26\"],[1.0,\"#f0f921\"]],\"sequentialminus\":[[0.0,\"#0d0887\"],[0.1111111111111111,\"#46039f\"],[0.2222222222222222,\"#7201a8\"],[0.3333333333333333,\"#9c179e\"],[0.4444444444444444,\"#bd3786\"],[0.5555555555555556,\"#d8576b\"],[0.6666666666666666,\"#ed7953\"],[0.7777777777777778,\"#fb9f3a\"],[0.8888888888888888,\"#fdca26\"],[1.0,\"#f0f921\"]],\"diverging\":[[0,\"#8e0152\"],[0.1,\"#c51b7d\"],[0.2,\"#de77ae\"],[0.3,\"#f1b6da\"],[0.4,\"#fde0ef\"],[0.5,\"#f7f7f7\"],[0.6,\"#e6f5d0\"],[0.7,\"#b8e186\"],[0.8,\"#7fbc41\"],[0.9,\"#4d9221\"],[1,\"#276419\"]]},\"xaxis\":{\"gridcolor\":\"white\",\"linecolor\":\"white\",\"ticks\":\"\",\"title\":{\"standoff\":15},\"zerolinecolor\":\"white\",\"automargin\":true,\"zerolinewidth\":2},\"yaxis\":{\"gridcolor\":\"white\",\"linecolor\":\"white\",\"ticks\":\"\",\"title\":{\"standoff\":15},\"zerolinecolor\":\"white\",\"automargin\":true,\"zerolinewidth\":2},\"scene\":{\"xaxis\":{\"backgroundcolor\":\"#E5ECF6\",\"gridcolor\":\"white\",\"linecolor\":\"white\",\"showbackground\":true,\"ticks\":\"\",\"zerolinecolor\":\"white\",\"gridwidth\":2},\"yaxis\":{\"backgroundcolor\":\"#E5ECF6\",\"gridcolor\":\"white\",\"linecolor\":\"white\",\"showbackground\":true,\"ticks\":\"\",\"zerolinecolor\":\"white\",\"gridwidth\":2},\"zaxis\":{\"backgroundcolor\":\"#E5ECF6\",\"gridcolor\":\"white\",\"linecolor\":\"white\",\"showbackground\":true,\"ticks\":\"\",\"zerolinecolor\":\"white\",\"gridwidth\":2}},\"shapedefaults\":{\"line\":{\"color\":\"#2a3f5f\"}},\"annotationdefaults\":{\"arrowcolor\":\"#2a3f5f\",\"arrowhead\":0,\"arrowwidth\":1},\"geo\":{\"bgcolor\":\"white\",\"landcolor\":\"#E5ECF6\",\"subunitcolor\":\"white\",\"showland\":true,\"showlakes\":true,\"lakecolor\":\"white\"},\"title\":{\"x\":0.05},\"mapbox\":{\"style\":\"light\"}}},\"mapbox\":{\"accesstoken\":\"pk.eyJ1IjoiYXJhZ29uZXJ1YSIsImEiOiJjbGpwcTh5cjYwMXN1M3J0ZDA2a2d1N2N4In0.DLk40rhIbaRS-bKPbclE4g\",\"bearing\":0,\"center\":{\"lat\":34.0331322,\"lon\":-118.301876},\"pitch\":0,\"zoom\":5},\"hovermode\":\"closest\"},                        {\"responsive\": true}                    ).then(function(){\n",
       "                            \n",
       "var gd = document.getElementById('427900e3-fc40-40b9-8e35-df8c192ca543');\n",
       "var x = new MutationObserver(function (mutations, observer) {{\n",
       "        var display = window.getComputedStyle(gd).display;\n",
       "        if (!display || display === 'none') {{\n",
       "            console.log([gd, 'removed!']);\n",
       "            Plotly.purge(gd);\n",
       "            observer.disconnect();\n",
       "        }}\n",
       "}});\n",
       "\n",
       "// Listen for the removal of the full notebook cells\n",
       "var notebookContainer = gd.closest('#notebook-container');\n",
       "if (notebookContainer) {{\n",
       "    x.observe(notebookContainer, {childList: true});\n",
       "}}\n",
       "\n",
       "// Listen for the clearing of the current output cell\n",
       "var outputEl = gd.closest('.output');\n",
       "if (outputEl) {{\n",
       "    x.observe(outputEl, {childList: true});\n",
       "}}\n",
       "\n",
       "                        })                };                });            </script>        </div>"
      ]
     },
     "metadata": {},
     "output_type": "display_data"
    }
   ],
   "source": [
    "latitude_strange, longitude_strange = list(map(str, result_test['predicted_crime'][:, 0])), list(map(str, result_test['predicted_crime'][:, 1]))\n",
    "map_plotting(latitude_strange, longitude_strange, ['' for i in range(len(latitude_strange))])"
   ]
  },
  {
   "cell_type": "code",
   "execution_count": 40,
   "id": "3eba91eb",
   "metadata": {
    "execution": {
     "iopub.execute_input": "2023-08-07T05:56:01.254018Z",
     "iopub.status.busy": "2023-08-07T05:56:01.253174Z",
     "iopub.status.idle": "2023-08-07T05:56:01.295004Z",
     "shell.execute_reply": "2023-08-07T05:56:01.294236Z"
    },
    "papermill": {
     "duration": 0.065839,
     "end_time": "2023-08-07T05:56:01.296985",
     "exception": false,
     "start_time": "2023-08-07T05:56:01.231146",
     "status": "completed"
    },
    "tags": []
   },
   "outputs": [
    {
     "data": {
      "text/html": [
       "<div>                            <div id=\"bece49fc-e90c-48e3-85f0-9768308aa45f\" class=\"plotly-graph-div\" style=\"height:525px; width:100%;\"></div>            <script type=\"text/javascript\">                require([\"plotly\"], function(Plotly) {                    window.PLOTLYENV=window.PLOTLYENV || {};                                    if (document.getElementById(\"bece49fc-e90c-48e3-85f0-9768308aa45f\")) {                    Plotly.newPlot(                        \"bece49fc-e90c-48e3-85f0-9768308aa45f\",                        [{\"lat\":[\"34.2573\",\"34.098\",\"34.1632\",\"34.191\",\"33.9916\",\"34.0362\",\"34.0133\",\"34.2232\",\"34.2374\",\"33.7379\",\"34.1758\",\"34.1885\",\"34.0062\",\"34.259\",\"34.1067\",\"34.0889\",\"34.0655\",\"34.0908\",\"34.0998\",\"34.035\",\"33.9416\",\"34.0194\",\"34.2643\",\"34.0761\",\"34.1884\",\"34.0159\",\"34.1017\",\"34.0188\",\"33.9378\",\"34.0455\",\"34.0389\",\"34.0623\",\"34.049\",\"34.0951\",\"34.0803\",\"34.2702\",\"34.0736\",\"34.0962\",\"33.9965\",\"34.2776\",\"34.3052\",\"34.1868\",\"34.2319\",\"34.1976\",\"33.9824\",\"33.9756\",\"34.1888\",\"34.0981\",\"34.0467\",\"34.0572\",\"34.0908\",\"34.0371\",\"34.1077\",\"34.0663\",\"34.1903\",\"34.2247\",\"34.0647\",\"34.0618\",\"33.98\",\"34.0406\",\"34.2338\",\"34.0573\",\"34.2558\",\"34.0616\",\"34.1445\",\"34.0769\",\"34.0138\",\"34.1211\",\"34.0215\",\"34.203\",\"34.1938\",\"34.0759\",\"33.9433\",\"33.96\",\"34.2224\",\"34.0382\",\"34.2373\",\"33.9538\",\"34.1649\",\"33.9567\",\"34.1808\",\"34.2393\",\"34.2348\",\"34.2084\",\"34.1037\",\"34.0247\",\"33.7215\",\"34.03\",\"34.2011\",\"34.0309\",\"34.0326\",\"33.9816\",\"33.9415\",\"34.0395\",\"34.0951\",\"34.0534\",\"34.2011\",\"33.9948\",\"34.1817\",\"34.0233\",\"34.0\",\"34.024\",\"33.7433\",\"33.7808\",\"34.0245\",\"34.0577\",\"34.168\",\"33.931\",\"34.1866\",\"34.2248\",\"33.9643\",\"33.8884\",\"34.0858\",\"34.0091\",\"34.2012\",\"34.2157\",\"34.0477\",\"34.0998\",\"34.2035\",\"34.2428\",\"34.0061\",\"34.0967\",\"34.2598\",\"34.1813\",\"34.1939\",\"34.0329\",\"34.0416\",\"33.9419\",\"33.959\",\"34.1393\",\"34.0147\",\"34.0055\",\"34.0981\",\"34.0618\",\"34.1939\",\"34.0474\",\"33.9925\",\"34.0908\",\"34.0001\",\"33.7478\",\"34.16\",\"33.9348\",\"34.0506\",\"34.0683\",\"34.1637\",\"34.0644\",\"34.1111\",\"34.0206\",\"33.9627\",\"34.3002\",\"34.0423\",\"33.9997\",\"34.0568\",\"34.251\",\"33.9481\",\"34.1939\",\"34.0794\",\"34.2183\",\"34.201\",\"34.034\",\"33.7845\",\"34.0325\",\"33.9892\",\"34.1793\",\"34.1831\",\"34.032\",\"34.0557\",\"34.2497\",\"34.0988\",\"34.2355\",\"34.0565\",\"34.1594\",\"34.1921\",\"34.0265\",\"34.2122\",\"33.9747\",\"34.201\",\"34.1096\",\"34.0719\",\"34.0607\",\"34.2774\",\"34.1794\",\"34.1557\",\"34.0909\",\"34.0232\",\"33.9618\",\"33.988\",\"34.0056\",\"34.0667\",\"34.0955\",\"34.0173\",\"34.1405\",\"33.91\",\"34.1958\",\"33.9691\",\"33.7849\",\"34.2308\",\"33.7433\",\"34.0128\",\"34.0635\",\"34.2049\",\"34.2082\",\"34.0389\",\"34.1036\",\"34.1887\",\"33.9905\",\"34.0436\",\"33.9719\",\"34.2232\",\"34.1721\",\"34.0337\",\"34.1608\",\"34.0672\",\"34.0326\",\"34.0835\",\"33.9782\",\"34.243\",\"34.0578\",\"34.0039\",\"34.2306\",\"34.2124\",\"34.2446\",\"33.9624\",\"34.2742\",\"33.8044\",\"34.0588\",\"33.7115\",\"33.7976\",\"33.9956\",\"34.1901\",\"33.9862\",\"34.0442\",\"34.1013\",\"34.0137\",\"34.2784\",\"34.0037\",\"34.029\",\"34.0415\",\"33.9965\",\"34.0168\",\"34.0444\",\"33.7826\",\"33.9601\",\"34.0242\",\"34.2355\",\"34.2692\",\"34.2282\",\"33.9957\",\"34.1703\",\"34.086\",\"34.2374\",\"34.0344\",\"34.0259\",\"34.037\",\"34.3026\",\"34.0146\",\"33.9601\",\"34.0791\",\"34.0102\",\"34.1664\",\"34.1912\",\"34.2814\",\"34.1564\",\"34.2083\",\"34.0156\",\"33.9708\",\"34.282\",\"33.7824\",\"34.0606\",\"34.1867\",\"34.0376\",\"34.3209\",\"34.0436\",\"33.727\",\"33.9519\",\"34.0256\",\"34.0074\",\"33.9983\",\"33.7881\",\"34.2345\",\"34.0848\",\"34.0908\",\"34.0435\",\"34.0452\",\"34.2212\",\"34.2626\",\"34.0237\",\"34.0522\",\"34.2555\",\"34.2814\",\"34.1018\",\"33.7968\",\"34.1626\",\"34.0389\",\"34.1723\",\"34.0665\",\"34.0285\",\"34.0327\",\"34.2408\",\"34.2527\",\"34.2573\",\"34.0728\",\"34.021\",\"34.2376\",\"34.1722\",\"33.9767\",\"34.0411\",\"33.9761\",\"34.0508\",\"34.092\",\"33.9176\",\"34.2391\",\"34.0538\",\"34.0124\",\"34.233\",\"34.0488\",\"33.9533\",\"34.0599\",\"34.2139\",\"33.9923\",\"34.2139\",\"33.9331\",\"34.2085\",\"34.2319\",\"34.2459\",\"34.1688\",\"34.0691\",\"34.0901\",\"34.2719\",\"33.9601\",\"34.0776\",\"34.2105\",\"34.0678\",\"34.1054\",\"34.172\",\"34.2557\",\"33.9932\",\"34.248\",\"34.2109\",\"33.9798\",\"34.1937\",\"33.9417\",\"34.1017\",\"33.7995\",\"34.262\",\"34.2139\",\"34.1428\",\"33.9984\",\"34.2011\",\"34.0549\",\"34.0761\",\"34.0693\",\"34.2011\",\"34.0493\",\"34.0267\",\"33.9665\",\"33.9599\",\"33.7243\",\"33.9598\",\"34.0623\",\"34.1437\",\"34.0665\",\"34.1504\",\"34.0763\",\"33.9957\",\"33.7808\",\"34.0431\",\"34.01\",\"34.2449\",\"34.0689\",\"34.0074\",\"33.9449\",\"34.0415\",\"34.2085\",\"34.0062\",\"34.2628\",\"34.2743\",\"34.0163\",\"34.0155\",\"34.0671\",\"34.0598\",\"34.1574\",\"34.2279\",\"34.1631\",\"34.1994\",\"33.9545\",\"34.0269\",\"34.0704\",\"34.0187\",\"34.1713\",\"34.121\",\"33.9783\",\"34.0662\",\"34.0676\",\"33.7425\",\"33.9256\",\"34.2566\",\"34.0755\",\"34.2579\",\"34.0746\",\"34.0728\",\"34.1617\",\"33.9877\",\"34.0855\",\"33.9782\",\"33.9953\",\"34.201\",\"34.2681\",\"34.0055\",\"34.0947\",\"34.2181\",\"34.2102\",\"34.1775\",\"34.0736\",\"33.9875\",\"33.9851\",\"34.2337\",\"34.3206\",\"34.001\",\"34.1962\",\"34.055\",\"34.1322\",\"33.7315\",\"33.9493\",\"34.0736\",\"34.1053\",\"34.0439\",\"34.2354\",\"34.1417\",\"34.01\",\"34.061\",\"33.9415\",\"34.163\",\"33.96\",\"33.9502\",\"34.016\",\"34.1939\",\"34.203\",\"34.3075\",\"33.9824\",\"34.0926\",\"33.9292\",\"34.2231\",\"34.1405\",\"34.1912\",\"33.9933\",\"33.9431\",\"33.9792\",\"34.1776\",\"34.2121\",\"33.9897\",\"34.2433\",\"34.0014\",\"34.2559\",\"34.048\",\"34.0024\",\"34.0515\",\"33.9644\",\"34.1939\",\"34.0197\",\"34.1684\",\"34.0481\",\"34.2282\",\"34.0405\",\"34.2597\",\"33.7977\",\"34.0011\",\"33.9847\",\"34.2042\",\"34.0423\",\"34.2012\",\"34.1813\",\"34.0174\",\"34.0559\",\"34.0821\",\"34.0146\",\"33.9473\",\"33.9688\",\"33.7234\",\"34.2355\",\"34.1601\",\"33.9722\",\"34.264\",\"33.9905\",\"34.0389\",\"34.2514\",\"34.272\",\"34.2012\",\"34.2427\",\"33.9892\",\"34.0598\",\"34.174\",\"34.0587\",\"34.0835\",\"34.0239\",\"34.0197\",\"34.0835\",\"34.0149\",\"34.0327\",\"33.9429\",\"34.1903\",\"33.9879\",\"34.0889\",\"33.7322\",\"34.1504\",\"33.7799\",\"34.0256\",\"34.1977\",\"34.1993\",\"34.212\",\"34.251\",\"34.2428\",\"34.1698\",\"34.0087\",\"33.9808\",\"34.2564\",\"34.0481\",\"34.1541\",\"33.9587\",\"34.0159\",\"33.9639\",\"34.1155\",\"33.961\",\"33.9406\",\"34.0935\",\"33.9883\",\"34.1976\",\"34.2527\",\"34.2997\",\"34.192\",\"34.2227\",\"34.1667\",\"34.2332\",\"34.2355\",\"34.2468\",\"34.1113\",\"34.0381\",\"34.2473\",\"34.203\",\"34.1074\",\"34.0389\",\"33.9865\",\"34.1005\",\"34.0274\",\"33.9601\",\"34.0454\",\"34.0215\",\"34.1938\",\"34.1975\",\"33.9893\",\"33.9992\",\"34.1622\",\"34.194\",\"34.0414\",\"34.0454\",\"34.0348\",\"34.2376\",\"34.0981\",\"34.0109\",\"33.9728\",\"34.0876\",\"34.0473\",\"34.0835\",\"34.3235\",\"34.0467\",\"34.1073\",\"33.7547\",\"34.0557\",\"34.0826\",\"34.0636\",\"34.1827\",\"33.9432\",\"34.1839\",\"34.196\",\"34.0506\",\"33.9665\",\"34.2202\",\"33.9943\",\"34.2633\",\"33.9647\",\"34.0944\",\"34.0184\",\"33.9934\",\"34.1037\",\"34.1544\",\"34.1712\",\"33.7928\",\"33.9491\",\"34.1903\",\"33.9383\",\"34.2945\",\"33.7334\",\"33.9629\",\"34.036\",\"34.1698\",\"33.9988\",\"34.0697\",\"33.9829\",\"34.1148\",\"34.0198\",\"34.1601\",\"34.0793\",\"34.2355\",\"34.308\",\"33.9806\",\"34.0475\",\"33.9872\",\"34.0928\",\"33.9892\",\"34.0913\",\"34.1548\",\"34.1867\",\"34.1958\",\"34.163\",\"34.0062\",\"34.0362\",\"34.1306\",\"34.0389\",\"34.2012\",\"33.9821\",\"34.1876\",\"34.1867\",\"34.0325\",\"34.0617\",\"34.2145\",\"33.7415\",\"34.2268\",\"34.2558\",\"34.0424\",\"34.1618\",\"34.1606\",\"34.0328\",\"34.1486\",\"34.01\",\"33.7361\",\"33.862\",\"34.1903\",\"34.1617\",\"33.9322\",\"34.2319\",\"34.193\",\"34.2583\",\"34.0702\",\"34.1847\",\"33.9584\",\"34.0428\",\"34.0599\",\"34.1122\",\"34.138\",\"34.0396\",\"34.2511\",\"33.7279\",\"34.1504\",\"34.302\",\"34.2229\",\"34.0274\",\"34.2735\",\"34.0657\",\"33.9925\",\"34.0183\",\"34.1576\",\"34.0263\",\"34.0941\",\"34.2202\",\"34.2771\",\"34.2012\",\"34.0257\",\"34.0846\",\"34.0836\",\"33.9727\",\"34.0332\",\"34.2012\",\"34.0498\",\"34.0463\",\"34.0197\",\"34.0656\",\"34.1268\",\"34.0016\",\"34.1284\",\"33.9582\",\"34.1504\",\"34.1949\",\"34.0178\",\"34.0998\",\"33.9873\",\"33.7115\",\"34.1016\",\"34.1108\",\"34.0046\",\"34.2785\",\"34.0132\",\"34.1718\",\"33.9455\",\"34.0588\",\"34.0527\",\"33.7938\",\"33.9924\",\"34.1678\",\"34.0759\",\"34.2186\",\"34.1479\",\"33.9247\",\"34.2719\",\"34.0706\",\"33.9797\",\"34.183\",\"33.9565\",\"34.2231\",\"34.1016\",\"33.9447\",\"34.058\",\"34.2216\",\"33.7886\",\"34.0589\",\"34.0355\",\"33.9824\",\"33.9873\",\"34.0305\",\"34.0962\",\"34.2792\",\"34.098\",\"33.7225\",\"34.2246\",\"34.0945\",\"34.0286\",\"34.2655\",\"34.0652\",\"34.0644\",\"34.0624\",\"34.0684\",\"34.1194\",\"34.0287\",\"34.0442\",\"34.2448\",\"34.0793\",\"34.1939\",\"34.0972\",\"34.0419\",\"34.0087\",\"34.0998\",\"33.9747\",\"34.2012\",\"33.9456\",\"34.052\",\"34.1667\",\"34.0909\",\"34.1956\",\"34.0524\",\"34.3057\",\"34.0706\",\"34.0268\",\"33.9987\",\"34.1899\",\"33.989\",\"34.2251\",\"34.2665\",\"34.0093\",\"34.1866\",\"33.9842\",\"33.9457\",\"34.046\",\"34.0605\",\"34.2012\",\"34.0685\",\"33.9265\",\"34.0112\",\"34.2083\",\"34.0622\",\"34.062\",\"34.2809\",\"34.0149\",\"34.0928\",\"33.9662\",\"34.0933\",\"33.9651\",\"34.241\",\"33.7611\",\"33.7508\",\"34.1831\",\"34.0544\",\"33.9754\",\"34.2538\",\"34.0347\",\"34.1577\",\"34.201\",\"33.9745\",\"34.0302\",\"34.2048\",\"33.7902\",\"34.0199\",\"34.0255\",\"34.2216\",\"34.0636\",\"34.0325\",\"34.2486\",\"34.2226\",\"34.0587\",\"34.0367\",\"34.0672\",\"34.0257\",\"34.0402\",\"34.0454\",\"34.0268\",\"34.1186\",\"34.1552\",\"34.0328\",\"34.0638\",\"33.9482\",\"34.134\",\"34.1526\",\"34.1035\",\"34.2222\",\"34.098\",\"34.1903\",\"34.1939\",\"34.0435\",\"34.3029\",\"34.1722\",\"33.8381\",\"33.9984\",\"34.1016\",\"34.2686\",\"33.9538\",\"34.0756\",\"34.105\",\"34.3243\",\"34.0251\",\"34.0564\",\"34.0099\",\"34.18\",\"33.986\",\"34.0529\",\"33.9731\",\"34.1283\",\"34.0291\",\"34.0017\",\"34.0618\",\"34.0317\",\"34.0433\",\"34.3019\",\"33.991\",\"34.0294\",\"34.2282\",\"34.1958\",\"33.9378\",\"34.0149\",\"34.2856\",\"34.229\",\"33.9933\",\"34.0573\",\"34.2391\",\"34.104\",\"34.175\",\"34.098\",\"34.0325\",\"33.9551\",\"34.0374\",\"34.1685\",\"34.23\",\"34.1723\",\"34.2161\",\"33.7315\",\"34.098\",\"34.2003\",\"34.0382\",\"34.021\",\"33.7862\",\"34.0485\",\"33.9859\",\"34.2142\",\"34.1629\",\"34.0537\",\"34.167\",\"34.1013\",\"33.9951\",\"34.0962\",\"34.1613\",\"34.1613\",\"34.0588\",\"34.0573\",\"34.0761\",\"34.0006\",\"34.0442\",\"33.7116\",\"33.9557\",\"34.055\",\"34.0745\",\"34.2111\",\"34.1471\",\"34.1887\",\"34.0344\",\"34.046\",\"34.0175\",\"34.0491\",\"34.022\",\"33.9888\",\"34.2842\",\"34.1976\",\"33.9873\",\"33.9773\",\"34.1684\",\"34.1939\",\"34.0406\",\"34.1876\",\"33.9383\",\"34.2012\",\"34.2492\",\"34.2232\",\"34.0552\",\"34.1284\",\"34.1055\",\"34.23\",\"34.2645\",\"33.9624\",\"33.7522\",\"34.1533\",\"33.9874\",\"34.0545\",\"34.0344\",\"34.0368\",\"34.0211\",\"34.0388\",\"34.1513\",\"34.248\",\"33.737\",\"33.7969\",\"34.1687\",\"34.2265\",\"34.2012\",\"34.0418\",\"34.0886\",\"34.0002\",\"34.1938\",\"34.0848\",\"34.2815\",\"33.9297\",\"34.0908\",\"34.1016\",\"33.9972\",\"33.9449\",\"34.24\",\"34.1885\",\"34.0533\",\"34.0491\",\"34.1053\",\"34.0931\",\"34.0835\",\"34.0949\",\"34.0531\",\"34.097\",\"33.9941\",\"34.1884\",\"33.9916\",\"34.0344\",\"33.9966\",\"34.1763\",\"34.2536\",\"34.2068\",\"34.1504\",\"34.088\",\"33.9439\",\"34.1522\",\"33.9538\",\"34.0112\",\"34.0159\",\"33.7306\",\"34.2428\",\"34.2495\",\"34.073\",\"33.9741\",\"33.7922\",\"34.2165\",\"34.057\",\"33.7995\",\"33.9774\",\"34.0499\",\"34.0525\",\"33.7378\",\"34.1923\",\"33.9456\",\"34.1403\",\"33.9667\",\"34.0908\",\"34.0408\",\"34.2012\",\"34.0605\",\"34.0503\",\"34.1877\",\"34.0446\",\"34.2225\",\"34.0343\",\"34.2212\",\"34.0309\",\"33.7847\",\"34.0624\",\"34.0544\",\"34.1806\",\"33.7361\",\"33.9779\",\"34.0385\"],\"lon\":[\"-118.6039\",\"-118.3479\",\"-118.5375\",\"-118.5404\",\"-118.2652\",\"-118.3494\",\"-118.3486\",\"-118.4488\",\"-118.4763\",\"-118.2879\",\"-118.4225\",\"-118.4225\",\"-118.4532\",\"-118.5973\",\"-118.2776\",\"-118.331\",\"-118.1862\",\"-118.3092\",\"-118.2554\",\"-118.2553\",\"-118.2426\",\"-118.3089\",\"-118.4246\",\"-118.3766\",\"-118.5571\",\"-118.2487\",\"-118.3237\",\"-118.2216\",\"-118.2462\",\"-118.3671\",\"-118.2643\",\"-118.3471\",\"-118.2381\",\"-118.3047\",\"-118.3486\",\"-118.5259\",\"-118.3816\",\"-118.3366\",\"-118.2718\",\"-118.3774\",\"-118.516\",\"-118.5238\",\"-118.4633\",\"-118.3965\",\"-118.3003\",\"-118.3919\",\"-118.6059\",\"-118.3113\",\"-118.4643\",\"-118.2576\",\"-118.3092\",\"-118.3611\",\"-118.2839\",\"-118.2441\",\"-118.3757\",\"-118.4677\",\"-118.4265\",\"-118.2941\",\"-118.3216\",\"-118.4275\",\"-118.472\",\"-118.2039\",\"-118.4304\",\"-118.2795\",\"-118.4336\",\"-118.2758\",\"-118.2653\",\"-118.2223\",\"-118.2868\",\"-118.4662\",\"-118.5906\",\"-118.2553\",\"-118.4072\",\"-118.3068\",\"-118.6019\",\"-118.2603\",\"-118.5361\",\"-118.2739\",\"-118.3985\",\"-118.4326\",\"-118.4422\",\"-118.4916\",\"-118.3672\",\"-118.571\",\"-118.3252\",\"-118.3668\",\"-118.3202\",\"-118.2389\",\"-118.5448\",\"-118.4146\",\"-118.23\",\"-118.3216\",\"-118.239\",\"-118.2622\",\"-118.3047\",\"-118.4613\",\"-118.536\",\"-118.2514\",\"-118.4509\",\"-118.3413\",\"-118.4694\",\"-118.1923\",\"-118.2813\",\"-118.2743\",\"-118.2505\",\"-118.2976\",\"-118.6417\",\"-118.2783\",\"-118.5426\",\"-118.4499\",\"-118.2871\",\"-118.2832\",\"-118.2741\",\"-118.3507\",\"-118.4335\",\"-118.5273\",\"-118.2278\",\"-118.3334\",\"-118.571\",\"-118.5601\",\"-118.4243\",\"-118.2493\",\"-118.3281\",\"-118.379\",\"-118.4618\",\"-118.2059\",\"-118.3836\",\"-118.2652\",\"-118.3161\",\"-118.2074\",\"-118.3111\",\"-118.2948\",\"-118.3158\",\"-118.2842\",\"-118.44\",\"-118.2531\",\"-118.4186\",\"-118.3005\",\"-118.3002\",\"-118.2817\",\"-118.3774\",\"-118.2781\",\"-118.3843\",\"-118.4536\",\"-118.5054\",\"-118.2686\",\"-118.2505\",\"-118.3473\",\"-118.3134\",\"-118.507\",\"-118.2561\",\"-118.2634\",\"-118.2821\",\"-118.4428\",\"-118.3722\",\"-118.4553\",\"-118.2953\",\"-118.4144\",\"-118.5754\",\"-118.4606\",\"-118.302\",\"-118.3586\",\"-118.2739\",\"-118.5535\",\"-118.3823\",\"-118.2657\",\"-118.3556\",\"-118.2804\",\"-118.2062\",\"-118.4536\",\"-118.2768\",\"-118.4182\",\"-118.3965\",\"-118.3089\",\"-118.4287\",\"-118.2783\",\"-118.5754\",\"-118.2422\",\"-118.2652\",\"-118.2584\",\"-118.4782\",\"-118.4334\",\"-118.4697\",\"-118.2893\",\"-118.3554\",\"-118.309\",\"-118.4745\",\"-118.2805\",\"-118.2728\",\"-118.2932\",\"-118.3383\",\"-118.3702\",\"-118.2861\",\"-118.4344\",\"-118.3156\",\"-118.2612\",\"-118.5348\",\"-118.2796\",\"-118.3089\",\"-118.3116\",\"-118.4286\",\"-118.4227\",\"-118.4401\",\"-118.2896\",\"-118.4531\",\"-118.2915\",\"-118.2051\",\"-118.3177\",\"-118.4488\",\"-118.4161\",\"-118.3644\",\"-118.3774\",\"-118.2966\",\"-118.3916\",\"-118.331\",\"-118.3255\",\"-118.4937\",\"-118.3091\",\"-118.2676\",\"-118.5907\",\"-118.4309\",\"-118.5623\",\"-118.2915\",\"-118.4408\",\"-118.3075\",\"-118.3692\",\"-118.2879\",\"-118.2786\",\"-118.274\",\"-118.4171\",\"-118.344\",\"-118.2439\",\"-118.2363\",\"-118.3435\",\"-118.4369\",\"-118.2915\",\"-118.4245\",\"-118.2048\",\"-118.2718\",\"-118.4239\",\"-118.3838\",\"-118.2691\",\"-118.2839\",\"-118.3722\",\"-118.4676\",\"-118.3149\",\"-118.5907\",\"-118.4064\",\"-118.4486\",\"-118.2248\",\"-118.4676\",\"-118.23\",\"-118.4096\",\"-118.2777\",\"-118.5023\",\"-118.3089\",\"-118.2782\",\"-118.2941\",\"-118.3351\",\"-118.5883\",\"-118.6059\",\"-118.4228\",\"-118.4659\",\"-118.5943\",\"-118.3466\",\"-118.2783\",\"-118.4076\",\"-118.2719\",\"-118.2648\",\"-118.4465\",\"-118.3324\",\"-118.4134\",\"-118.3513\",\"-118.2841\",\"-118.2827\",\"-118.3212\",\"-118.2872\",\"-118.2827\",\"-118.2821\",\"-118.4807\",\"-118.2212\",\"-118.3092\",\"-118.2427\",\"-118.2569\",\"-118.5012\",\"-118.6073\",\"-118.3002\",\"-118.2434\",\"-118.4786\",\"-118.455\",\"-118.2945\",\"-118.2999\",\"-118.4749\",\"-118.4226\",\"-118.5076\",\"-118.4534\",\"-118.3478\",\"-118.3002\",\"-118.4458\",\"-118.2794\",\"-118.5798\",\"-118.2965\",\"-118.3089\",\"-118.4481\",\"-118.4334\",\"-118.3338\",\"-118.4509\",\"-118.3732\",\"-118.4592\",\"-118.3046\",\"-118.2828\",\"-118.4535\",\"-118.3785\",\"-118.3378\",\"-118.4386\",\"-118.2553\",\"-118.2564\",\"-118.2655\",\"-118.3703\",\"-118.2937\",\"-118.3703\",\"-118.2511\",\"-118.3812\",\"-118.4655\",\"-118.4185\",\"-118.4466\",\"-118.2979\",\"-118.2247\",\"-118.4847\",\"-118.287\",\"-118.3248\",\"-118.5011\",\"-118.259\",\"-118.2852\",\"-118.6084\",\"-118.4183\",\"-118.3193\",\"-118.418\",\"-118.5024\",\"-118.2761\",\"-118.6212\",\"-118.2486\",\"-118.3574\",\"-118.3073\",\"-118.4979\",\"-118.5064\",\"-118.226\",\"-118.2599\",\"-118.5208\",\"-118.2426\",\"-118.3555\",\"-118.3706\",\"-118.5819\",\"-118.4379\",\"-118.3986\",\"-118.2918\",\"-118.3783\",\"-118.2946\",\"-118.4307\",\"-118.3483\",\"-118.4074\",\"-118.2828\",\"-118.3855\",\"-118.2917\",\"-118.2456\",\"-118.2481\",\"-118.4511\",\"-118.3239\",\"-118.5233\",\"-118.2783\",\"-118.329\",\"-118.4059\",\"-118.4245\",\"-118.4597\",\"-118.2857\",\"-118.4947\",\"-118.4517\",\"-118.2647\",\"-118.3002\",\"-118.2713\",\"-118.3238\",\"-118.5977\",\"-118.4516\",\"-118.3965\",\"-118.4203\",\"-118.3156\",\"-118.3575\",\"-118.2025\",\"-118.3478\",\"-118.3795\",\"-118.3588\",\"-118.2859\",\"-118.4243\",\"-118.2142\",\"-118.3043\",\"-118.2652\",\"-118.3248\",\"-118.2118\",\"-118.3158\",\"-118.3136\",\"-118.2994\",\"-118.5967\",\"-118.4723\",\"-118.3638\",\"-118.3197\",\"-118.4501\",\"-118.3998\",\"-118.4472\",\"-118.3138\",\"-118.2828\",\"-118.4664\",\"-118.5298\",\"-118.5338\",\"-118.217\",\"-118.4741\",\"-118.2827\",\"-118.4654\",\"-118.456\",\"-118.2783\",\"-118.546\",\"-118.2904\",\"-118.3379\",\"-118.2902\",\"-118.2652\",\"-118.343\",\"-118.3158\",\"-118.2514\",\"-118.4178\",\"-118.4254\",\"-118.29\",\"-118.2615\",\"-118.2894\",\"-118.3734\",\"-118.2915\",\"-118.2739\",\"-118.3351\",\"-118.4836\",\"-118.5024\",\"-118.5026\",\"-118.3003\",\"-118.3234\",\"-118.2652\",\"-118.4553\",\"-118.3702\",\"-118.5941\",\"-118.2871\",\"-118.2391\",\"-118.2918\",\"-118.4662\",\"-118.5546\",\"-118.3089\",\"-118.4099\",\"-118.438\",\"-118.282\",\"-118.2577\",\"-118.3181\",\"-118.2424\",\"-118.2827\",\"-118.4596\",\"-118.2882\",\"-118.3703\",\"-118.2507\",\"-118.5536\",\"-118.2508\",\"-118.5023\",\"-118.2599\",\"-118.274\",\"-118.287\",\"-118.6262\",\"-118.2452\",\"-118.4206\",\"-118.5535\",\"-118.3045\",\"-118.28\",\"-118.257\",\"-118.3204\",\"-118.2673\",\"-118.2827\",\"-118.2924\",\"-118.461\",\"-118.3706\",\"-118.2739\",\"-118.4021\",\"-118.2915\",\"-118.255\",\"-118.5317\",\"-118.4994\",\"-118.4684\",\"-118.4588\",\"-118.2915\",\"-118.2916\",\"-118.3965\",\"-118.4159\",\"-118.3363\",\"-118.346\",\"-118.4376\",\"-118.3114\",\"-118.3436\",\"-118.3054\",\"-118.2717\",\"-118.4858\",\"-118.4527\",\"-118.3223\",\"-118.2792\",\"-118.3855\",\"-118.265\",\"-118.3351\",\"-118.4138\",\"-118.5317\",\"-118.4267\",\"-118.4428\",\"-118.5579\",\"-118.5308\",\"-118.3488\",\"-118.3959\",\"-118.5536\",\"-118.2507\",\"-118.5565\",\"-118.2815\",\"-118.2028\",\"-118.4333\",\"-118.1843\",\"-118.3025\",\"-118.2328\",\"-118.331\",\"-118.3378\",\"-118.4094\",\"-118.3754\",\"-118.4598\",\"-118.44\",\"-118.4392\",\"-118.5243\",\"-118.441\",\"-118.5274\",\"-118.5216\",\"-118.3335\",\"-118.2511\",\"-118.4709\",\"-118.4575\",\"-118.2003\",\"-118.4613\",\"-118.4579\",\"-118.3093\",\"-118.2915\",\"-118.2881\",\"-118.3069\",\"-118.3524\",\"-118.5623\",\"-118.5524\",\"-118.2608\",\"-118.3002\",\"-118.6235\",\"-118.4268\",\"-118.1955\",\"-118.3116\",\"-118.2362\",\"-118.4481\",\"-118.3092\",\"-118.2959\",\"-118.3112\",\"-118.3091\",\"-118.2865\",\"-118.3363\",\"-118.4118\",\"-118.252\",\"-118.2404\",\"-118.299\",\"-118.2645\",\"-118.1854\",\"-118.2954\",\"-118.4509\",\"-118.4013\",\"-118.5273\",\"-118.3878\",\"-118.3843\",\"-118.2608\",\"-118.571\",\"-118.2739\",\"-118.431\",\"-118.4081\",\"-118.3452\",\"-118.2773\",\"-118.2739\",\"-118.2786\",\"-118.6058\",\"-118.415\",\"-118.2922\",\"-118.3101\",\"-118.3877\",\"-118.2695\",\"-118.4466\",\"-118.2902\",\"-118.2575\",\"-118.318\",\"-118.522\",\"-118.436\",\"-118.3673\",\"-118.3279\",\"-118.2505\",\"-118.4362\",\"-118.3706\",\"-118.1925\",\"-118.5492\",\"-118.4509\",\"-118.3323\",\"-118.3899\",\"-118.333\",\"-118.3109\",\"-118.3089\",\"-118.2091\",\"-118.4721\",\"-118.4836\",\"-118.3889\",\"-118.3706\",\"-118.4532\",\"-118.3284\",\"-118.3716\",\"-118.4613\",\"-118.4574\",\"-118.4281\",\"-118.4378\",\"-118.4836\",\"-118.3644\",\"-118.3048\",\"-118.4309\",\"-118.2923\",\"-118.4499\",\"-118.4274\",\"-118.2493\",\"-118.6302\",\"-118.5884\",\"-118.2962\",\"-118.3965\",\"-118.2915\",\"-118.3034\",\"-118.2993\",\"-118.5317\",\"-118.5967\",\"-118.2869\",\"-118.472\",\"-118.4588\",\"-118.4608\",\"-118.4998\",\"-118.4509\",\"-118.2586\",\"-118.2461\",\"-118.2682\",\"-118.2403\",\"-118.2162\",\"-118.5458\",\"-118.6017\",\"-118.2836\",\"-118.391\",\"-118.4575\",\"-118.3776\",\"-118.3646\",\"-118.3866\",\"-118.2603\",\"-118.4772\",\"-118.3536\",\"-118.4923\",\"-118.3236\",\"-118.2261\",\"-118.571\",\"-118.4287\",\"-118.4837\",\"-118.2023\",\"-118.2868\",\"-118.3016\",\"-118.2981\",\"-118.3939\",\"-118.4618\",\"-118.2797\",\"-118.3003\",\"-118.2882\",\"-118.4816\",\"-118.3768\",\"-118.2634\",\"-118.3454\",\"-118.309\",\"-118.4203\",\"-118.6499\",\"-118.2553\",\"-118.3295\",\"-118.3149\",\"-118.2879\",\"-118.3333\",\"-118.2321\",\"-118.2857\",\"-118.5022\",\"-118.3589\",\"-118.5338\",\"-118.3816\",\"-118.3394\",\"-118.2947\",\"-118.3076\",\"-118.3024\",\"-118.5336\",\"-118.2553\",\"-118.3941\",\"-118.3615\",\"-118.2717\",\"-118.4178\",\"-118.4359\",\"-118.2717\",\"-118.5448\",\"-118.2869\",\"-118.4699\",\"-118.331\",\"-118.2739\",\"-118.2759\",\"-118.4451\",\"-118.2728\",\"-118.2821\",\"-118.3445\",\"-118.3046\",\"-118.4403\",\"-118.2803\",\"-118.3237\",\"-118.4911\",\"-118.3295\",\"-118.2895\",\"-118.5976\",\"-118.2903\",\"-118.2028\",\"-118.5317\",\"-118.2306\",\"-118.2686\",\"-118.2813\",\"-118.2705\",\"-118.1889\",\"-118.4147\",\"-118.2439\",\"-118.5166\",\"-118.3113\",\"-118.5186\",\"-118.2592\",\"-118.2485\",\"-118.2857\",\"-118.3324\",\"-118.2783\",\"-118.4989\",\"-118.2739\",\"-118.1958\",\"-118.3992\",\"-118.2867\",\"-118.5975\",\"-118.2842\",\"-118.4489\",\"-118.1686\",\"-118.284\",\"-118.2915\",\"-118.6326\",\"-118.3308\",\"-118.5372\",\"-118.4254\",\"-118.2543\",\"-118.5426\",\"-118.2827\",\"-118.239\",\"-118.2509\",\"-118.4193\",\"-118.379\",\"-118.4548\",\"-118.2652\",\"-118.2827\",\"-118.5754\",\"-118.2653\",\"-118.4235\",\"-118.4076\",\"-118.3436\",\"-118.3179\",\"-118.2739\",\"-118.3025\",\"-118.2768\",\"-118.4833\",\"-118.2929\",\"-118.2901\",\"-118.4312\",\"-118.2466\",\"-118.2739\",\"-118.4849\",\"-118.2792\",\"-118.3796\",\"-118.6029\",\"-118.3309\",\"-118.5133\",\"-118.5623\",\"-118.2486\",\"-118.3363\",\"-118.2915\",\"-118.4488\",\"-118.3004\",\"-118.3519\",\"-118.3575\",\"-118.5766\",\"-118.2869\",\"-118.3367\",\"-118.3128\",\"-118.451\",\"-118.4629\",\"-118.2422\",\"-118.284\",\"-118.1922\",\"-118.2985\",\"-118.2915\",\"-118.4424\",\"-118.243\",\"-118.345\",\"-118.3527\",\"-118.2443\",\"-118.5667\",\"-118.3223\",\"-118.3856\",\"-118.4902\",\"-118.2471\",\"-118.4742\",\"-118.3877\",\"-118.3028\",\"-118.2521\",\"-118.3387\",\"-118.5297\",\"-118.2608\",\"-118.204\",\"-118.2022\",\"-118.447\",\"-118.2179\",\"-118.2498\",\"-118.3089\",\"-118.5374\",\"-118.2827\",\"-118.2733\",\"-118.3304\",\"-118.1846\",\"-118.4037\",\"-118.2896\",\"-118.2842\",\"-118.284\",\"-118.2892\",\"-118.523\",\"-118.2958\",\"-118.3638\",\"-118.5885\",\"-118.4138\",\"-118.2542\",\"-118.3436\",\"-118.4098\",\"-118.4323\",\"-118.2783\",\"-118.2699\",\"-118.4647\",\"-118.3297\",\"-118.536\",\"-118.3441\",\"-118.3519\",\"-118.2827\",\"-118.3279\",\"-118.3743\",\"-118.6034\",\"-118.5098\",\"-118.4535\",\"-118.2814\",\"-118.3469\",\"-118.4203\",\"-118.5385\",\"-118.2944\",\"-118.1937\",\"-118.4657\",\"-118.298\",\"-118.4021\",\"-118.5202\",\"-118.2455\",\"-118.3759\",\"-118.2701\",\"-118.4781\",\"-118.3288\",\"-118.4268\",\"-118.3965\",\"-118.4439\",\"-118.2699\",\"-118.3766\",\"-118.4279\",\"-118.2439\",\"-118.2897\",\"-118.2782\",\"-118.2904\",\"-118.2929\",\"-118.5399\",\"-118.4648\",\"-118.4531\",\"-118.2157\",\"-118.2509\",\"-118.346\",\"-118.309\",\"-118.4223\",\"-118.2915\",\"-118.4553\",\"-118.4148\",\"-118.3225\",\"-118.2871\",\"-118.3965\",\"-118.4509\",\"-118.4633\",\"-118.4618\",\"-118.2739\",\"-118.4684\",\"-118.4502\",\"-118.4488\",\"-118.3441\",\"-118.2233\",\"-118.227\",\"-118.4333\",\"-118.4525\",\"-118.2893\",\"-118.3089\",\"-118.571\",\"-118.472\",\"-118.1992\",\"-118.23\",\"-118.2546\",\"-118.3089\",\"-118.2676\",\"-118.4509\",\"-118.3855\",\"-118.3077\",\"-118.2743\",\"-118.5244\",\"-118.4654\",\"-118.3845\",\"-118.3116\",\"-118.1682\",\"-118.2499\",\"-118.6104\",\"-118.2212\",\"-118.4076\",\"-118.2335\",\"-118.3113\",\"-118.3295\",\"-118.4615\",\"-118.2332\",\"-118.4738\",\"-118.4662\",\"-118.5447\",\"-118.309\",\"-118.3147\",\"-118.259\",\"-118.3196\",\"-118.1645\",\"-118.2671\",\"-118.2307\",\"-118.2937\",\"-118.5959\",\"-118.2739\",\"-118.2543\",\"-118.2608\",\"-118.536\",\"-118.464\",\"-118.3416\",\"-118.434\",\"-118.3222\",\"-118.2462\",\"-118.4171\",\"-118.2782\",\"-118.2712\",\"-118.201\",\"-118.2924\",\"-118.4252\",\"-118.2735\",\"-118.264\",\"-118.4009\",\"-118.2595\",\"-118.4662\",\"-118.4646\",\"-118.3073\",\"-118.2739\",\"-118.2241\",\"-118.391\",\"-118.2835\",\"-118.4466\",\"-118.3939\",\"-118.4226\",\"-118.2893\",\"-118.3092\",\"-118.3791\",\"-118.416\",\"-118.4193\",\"-118.2055\",\"-118.4553\",\"-118.245\",\"-118.5811\",\"-118.4478\",\"-118.5027\",\"-118.4017\",\"-118.2541\",\"-118.3525\",\"-118.2767\",\"-118.4662\",\"-118.3097\",\"-118.2695\",\"-118.2437\"],\"marker\":{\"size\":5},\"mode\":\"markers\",\"text\":[\"\",\"\",\"\",\"\",\"\",\"\",\"\",\"\",\"\",\"\",\"\",\"\",\"\",\"\",\"\",\"\",\"\",\"\",\"\",\"\",\"\",\"\",\"\",\"\",\"\",\"\",\"\",\"\",\"\",\"\",\"\",\"\",\"\",\"\",\"\",\"\",\"\",\"\",\"\",\"\",\"\",\"\",\"\",\"\",\"\",\"\",\"\",\"\",\"\",\"\",\"\",\"\",\"\",\"\",\"\",\"\",\"\",\"\",\"\",\"\",\"\",\"\",\"\",\"\",\"\",\"\",\"\",\"\",\"\",\"\",\"\",\"\",\"\",\"\",\"\",\"\",\"\",\"\",\"\",\"\",\"\",\"\",\"\",\"\",\"\",\"\",\"\",\"\",\"\",\"\",\"\",\"\",\"\",\"\",\"\",\"\",\"\",\"\",\"\",\"\",\"\",\"\",\"\",\"\",\"\",\"\",\"\",\"\",\"\",\"\",\"\",\"\",\"\",\"\",\"\",\"\",\"\",\"\",\"\",\"\",\"\",\"\",\"\",\"\",\"\",\"\",\"\",\"\",\"\",\"\",\"\",\"\",\"\",\"\",\"\",\"\",\"\",\"\",\"\",\"\",\"\",\"\",\"\",\"\",\"\",\"\",\"\",\"\",\"\",\"\",\"\",\"\",\"\",\"\",\"\",\"\",\"\",\"\",\"\",\"\",\"\",\"\",\"\",\"\",\"\",\"\",\"\",\"\",\"\",\"\",\"\",\"\",\"\",\"\",\"\",\"\",\"\",\"\",\"\",\"\",\"\",\"\",\"\",\"\",\"\",\"\",\"\",\"\",\"\",\"\",\"\",\"\",\"\",\"\",\"\",\"\",\"\",\"\",\"\",\"\",\"\",\"\",\"\",\"\",\"\",\"\",\"\",\"\",\"\",\"\",\"\",\"\",\"\",\"\",\"\",\"\",\"\",\"\",\"\",\"\",\"\",\"\",\"\",\"\",\"\",\"\",\"\",\"\",\"\",\"\",\"\",\"\",\"\",\"\",\"\",\"\",\"\",\"\",\"\",\"\",\"\",\"\",\"\",\"\",\"\",\"\",\"\",\"\",\"\",\"\",\"\",\"\",\"\",\"\",\"\",\"\",\"\",\"\",\"\",\"\",\"\",\"\",\"\",\"\",\"\",\"\",\"\",\"\",\"\",\"\",\"\",\"\",\"\",\"\",\"\",\"\",\"\",\"\",\"\",\"\",\"\",\"\",\"\",\"\",\"\",\"\",\"\",\"\",\"\",\"\",\"\",\"\",\"\",\"\",\"\",\"\",\"\",\"\",\"\",\"\",\"\",\"\",\"\",\"\",\"\",\"\",\"\",\"\",\"\",\"\",\"\",\"\",\"\",\"\",\"\",\"\",\"\",\"\",\"\",\"\",\"\",\"\",\"\",\"\",\"\",\"\",\"\",\"\",\"\",\"\",\"\",\"\",\"\",\"\",\"\",\"\",\"\",\"\",\"\",\"\",\"\",\"\",\"\",\"\",\"\",\"\",\"\",\"\",\"\",\"\",\"\",\"\",\"\",\"\",\"\",\"\",\"\",\"\",\"\",\"\",\"\",\"\",\"\",\"\",\"\",\"\",\"\",\"\",\"\",\"\",\"\",\"\",\"\",\"\",\"\",\"\",\"\",\"\",\"\",\"\",\"\",\"\",\"\",\"\",\"\",\"\",\"\",\"\",\"\",\"\",\"\",\"\",\"\",\"\",\"\",\"\",\"\",\"\",\"\",\"\",\"\",\"\",\"\",\"\",\"\",\"\",\"\",\"\",\"\",\"\",\"\",\"\",\"\",\"\",\"\",\"\",\"\",\"\",\"\",\"\",\"\",\"\",\"\",\"\",\"\",\"\",\"\",\"\",\"\",\"\",\"\",\"\",\"\",\"\",\"\",\"\",\"\",\"\",\"\",\"\",\"\",\"\",\"\",\"\",\"\",\"\",\"\",\"\",\"\",\"\",\"\",\"\",\"\",\"\",\"\",\"\",\"\",\"\",\"\",\"\",\"\",\"\",\"\",\"\",\"\",\"\",\"\",\"\",\"\",\"\",\"\",\"\",\"\",\"\",\"\",\"\",\"\",\"\",\"\",\"\",\"\",\"\",\"\",\"\",\"\",\"\",\"\",\"\",\"\",\"\",\"\",\"\",\"\",\"\",\"\",\"\",\"\",\"\",\"\",\"\",\"\",\"\",\"\",\"\",\"\",\"\",\"\",\"\",\"\",\"\",\"\",\"\",\"\",\"\",\"\",\"\",\"\",\"\",\"\",\"\",\"\",\"\",\"\",\"\",\"\",\"\",\"\",\"\",\"\",\"\",\"\",\"\",\"\",\"\",\"\",\"\",\"\",\"\",\"\",\"\",\"\",\"\",\"\",\"\",\"\",\"\",\"\",\"\",\"\",\"\",\"\",\"\",\"\",\"\",\"\",\"\",\"\",\"\",\"\",\"\",\"\",\"\",\"\",\"\",\"\",\"\",\"\",\"\",\"\",\"\",\"\",\"\",\"\",\"\",\"\",\"\",\"\",\"\",\"\",\"\",\"\",\"\",\"\",\"\",\"\",\"\",\"\",\"\",\"\",\"\",\"\",\"\",\"\",\"\",\"\",\"\",\"\",\"\",\"\",\"\",\"\",\"\",\"\",\"\",\"\",\"\",\"\",\"\",\"\",\"\",\"\",\"\",\"\",\"\",\"\",\"\",\"\",\"\",\"\",\"\",\"\",\"\",\"\",\"\",\"\",\"\",\"\",\"\",\"\",\"\",\"\",\"\",\"\",\"\",\"\",\"\",\"\",\"\",\"\",\"\",\"\",\"\",\"\",\"\",\"\",\"\",\"\",\"\",\"\",\"\",\"\",\"\",\"\",\"\",\"\",\"\",\"\",\"\",\"\",\"\",\"\",\"\",\"\",\"\",\"\",\"\",\"\",\"\",\"\",\"\",\"\",\"\",\"\",\"\",\"\",\"\",\"\",\"\",\"\",\"\",\"\",\"\",\"\",\"\",\"\",\"\",\"\",\"\",\"\",\"\",\"\",\"\",\"\",\"\",\"\",\"\",\"\",\"\",\"\",\"\",\"\",\"\",\"\",\"\",\"\",\"\",\"\",\"\",\"\",\"\",\"\",\"\",\"\",\"\",\"\",\"\",\"\",\"\",\"\",\"\",\"\",\"\",\"\",\"\",\"\",\"\",\"\",\"\",\"\",\"\",\"\",\"\",\"\",\"\",\"\",\"\",\"\",\"\",\"\",\"\",\"\",\"\",\"\",\"\",\"\",\"\",\"\",\"\",\"\",\"\",\"\",\"\",\"\",\"\",\"\",\"\",\"\",\"\",\"\",\"\",\"\",\"\",\"\",\"\",\"\",\"\",\"\",\"\",\"\",\"\",\"\",\"\",\"\",\"\",\"\",\"\",\"\",\"\",\"\",\"\",\"\",\"\",\"\",\"\",\"\",\"\",\"\",\"\",\"\",\"\",\"\",\"\",\"\",\"\",\"\",\"\",\"\",\"\",\"\",\"\",\"\",\"\",\"\",\"\",\"\",\"\",\"\",\"\",\"\",\"\",\"\",\"\",\"\",\"\",\"\",\"\",\"\",\"\",\"\",\"\",\"\",\"\",\"\",\"\",\"\",\"\",\"\",\"\",\"\",\"\",\"\",\"\",\"\",\"\",\"\",\"\",\"\",\"\",\"\",\"\",\"\",\"\",\"\",\"\",\"\",\"\",\"\",\"\",\"\",\"\",\"\",\"\",\"\",\"\",\"\",\"\",\"\",\"\",\"\",\"\",\"\",\"\",\"\",\"\",\"\",\"\",\"\",\"\",\"\",\"\",\"\",\"\",\"\",\"\",\"\",\"\",\"\",\"\",\"\",\"\",\"\",\"\",\"\",\"\",\"\",\"\",\"\",\"\",\"\",\"\",\"\",\"\",\"\",\"\",\"\",\"\",\"\",\"\",\"\",\"\",\"\",\"\",\"\",\"\",\"\",\"\",\"\",\"\",\"\",\"\",\"\",\"\",\"\",\"\",\"\",\"\",\"\",\"\",\"\",\"\",\"\",\"\",\"\",\"\",\"\",\"\",\"\",\"\",\"\",\"\",\"\",\"\",\"\",\"\",\"\",\"\",\"\",\"\",\"\",\"\",\"\",\"\",\"\",\"\",\"\",\"\",\"\",\"\",\"\",\"\",\"\",\"\",\"\",\"\",\"\",\"\",\"\",\"\",\"\",\"\",\"\",\"\",\"\",\"\",\"\",\"\",\"\",\"\",\"\",\"\",\"\",\"\",\"\",\"\",\"\",\"\",\"\",\"\",\"\",\"\",\"\",\"\",\"\",\"\",\"\",\"\",\"\",\"\",\"\",\"\",\"\",\"\",\"\",\"\",\"\",\"\",\"\",\"\",\"\",\"\"],\"type\":\"scattermapbox\"}],                        {\"template\":{\"data\":{\"histogram2dcontour\":[{\"type\":\"histogram2dcontour\",\"colorbar\":{\"outlinewidth\":0,\"ticks\":\"\"},\"colorscale\":[[0.0,\"#0d0887\"],[0.1111111111111111,\"#46039f\"],[0.2222222222222222,\"#7201a8\"],[0.3333333333333333,\"#9c179e\"],[0.4444444444444444,\"#bd3786\"],[0.5555555555555556,\"#d8576b\"],[0.6666666666666666,\"#ed7953\"],[0.7777777777777778,\"#fb9f3a\"],[0.8888888888888888,\"#fdca26\"],[1.0,\"#f0f921\"]]}],\"choropleth\":[{\"type\":\"choropleth\",\"colorbar\":{\"outlinewidth\":0,\"ticks\":\"\"}}],\"histogram2d\":[{\"type\":\"histogram2d\",\"colorbar\":{\"outlinewidth\":0,\"ticks\":\"\"},\"colorscale\":[[0.0,\"#0d0887\"],[0.1111111111111111,\"#46039f\"],[0.2222222222222222,\"#7201a8\"],[0.3333333333333333,\"#9c179e\"],[0.4444444444444444,\"#bd3786\"],[0.5555555555555556,\"#d8576b\"],[0.6666666666666666,\"#ed7953\"],[0.7777777777777778,\"#fb9f3a\"],[0.8888888888888888,\"#fdca26\"],[1.0,\"#f0f921\"]]}],\"heatmap\":[{\"type\":\"heatmap\",\"colorbar\":{\"outlinewidth\":0,\"ticks\":\"\"},\"colorscale\":[[0.0,\"#0d0887\"],[0.1111111111111111,\"#46039f\"],[0.2222222222222222,\"#7201a8\"],[0.3333333333333333,\"#9c179e\"],[0.4444444444444444,\"#bd3786\"],[0.5555555555555556,\"#d8576b\"],[0.6666666666666666,\"#ed7953\"],[0.7777777777777778,\"#fb9f3a\"],[0.8888888888888888,\"#fdca26\"],[1.0,\"#f0f921\"]]}],\"heatmapgl\":[{\"type\":\"heatmapgl\",\"colorbar\":{\"outlinewidth\":0,\"ticks\":\"\"},\"colorscale\":[[0.0,\"#0d0887\"],[0.1111111111111111,\"#46039f\"],[0.2222222222222222,\"#7201a8\"],[0.3333333333333333,\"#9c179e\"],[0.4444444444444444,\"#bd3786\"],[0.5555555555555556,\"#d8576b\"],[0.6666666666666666,\"#ed7953\"],[0.7777777777777778,\"#fb9f3a\"],[0.8888888888888888,\"#fdca26\"],[1.0,\"#f0f921\"]]}],\"contourcarpet\":[{\"type\":\"contourcarpet\",\"colorbar\":{\"outlinewidth\":0,\"ticks\":\"\"}}],\"contour\":[{\"type\":\"contour\",\"colorbar\":{\"outlinewidth\":0,\"ticks\":\"\"},\"colorscale\":[[0.0,\"#0d0887\"],[0.1111111111111111,\"#46039f\"],[0.2222222222222222,\"#7201a8\"],[0.3333333333333333,\"#9c179e\"],[0.4444444444444444,\"#bd3786\"],[0.5555555555555556,\"#d8576b\"],[0.6666666666666666,\"#ed7953\"],[0.7777777777777778,\"#fb9f3a\"],[0.8888888888888888,\"#fdca26\"],[1.0,\"#f0f921\"]]}],\"surface\":[{\"type\":\"surface\",\"colorbar\":{\"outlinewidth\":0,\"ticks\":\"\"},\"colorscale\":[[0.0,\"#0d0887\"],[0.1111111111111111,\"#46039f\"],[0.2222222222222222,\"#7201a8\"],[0.3333333333333333,\"#9c179e\"],[0.4444444444444444,\"#bd3786\"],[0.5555555555555556,\"#d8576b\"],[0.6666666666666666,\"#ed7953\"],[0.7777777777777778,\"#fb9f3a\"],[0.8888888888888888,\"#fdca26\"],[1.0,\"#f0f921\"]]}],\"mesh3d\":[{\"type\":\"mesh3d\",\"colorbar\":{\"outlinewidth\":0,\"ticks\":\"\"}}],\"scatter\":[{\"fillpattern\":{\"fillmode\":\"overlay\",\"size\":10,\"solidity\":0.2},\"type\":\"scatter\"}],\"parcoords\":[{\"type\":\"parcoords\",\"line\":{\"colorbar\":{\"outlinewidth\":0,\"ticks\":\"\"}}}],\"scatterpolargl\":[{\"type\":\"scatterpolargl\",\"marker\":{\"colorbar\":{\"outlinewidth\":0,\"ticks\":\"\"}}}],\"bar\":[{\"error_x\":{\"color\":\"#2a3f5f\"},\"error_y\":{\"color\":\"#2a3f5f\"},\"marker\":{\"line\":{\"color\":\"#E5ECF6\",\"width\":0.5},\"pattern\":{\"fillmode\":\"overlay\",\"size\":10,\"solidity\":0.2}},\"type\":\"bar\"}],\"scattergeo\":[{\"type\":\"scattergeo\",\"marker\":{\"colorbar\":{\"outlinewidth\":0,\"ticks\":\"\"}}}],\"scatterpolar\":[{\"type\":\"scatterpolar\",\"marker\":{\"colorbar\":{\"outlinewidth\":0,\"ticks\":\"\"}}}],\"histogram\":[{\"marker\":{\"pattern\":{\"fillmode\":\"overlay\",\"size\":10,\"solidity\":0.2}},\"type\":\"histogram\"}],\"scattergl\":[{\"type\":\"scattergl\",\"marker\":{\"colorbar\":{\"outlinewidth\":0,\"ticks\":\"\"}}}],\"scatter3d\":[{\"type\":\"scatter3d\",\"line\":{\"colorbar\":{\"outlinewidth\":0,\"ticks\":\"\"}},\"marker\":{\"colorbar\":{\"outlinewidth\":0,\"ticks\":\"\"}}}],\"scattermapbox\":[{\"type\":\"scattermapbox\",\"marker\":{\"colorbar\":{\"outlinewidth\":0,\"ticks\":\"\"}}}],\"scatterternary\":[{\"type\":\"scatterternary\",\"marker\":{\"colorbar\":{\"outlinewidth\":0,\"ticks\":\"\"}}}],\"scattercarpet\":[{\"type\":\"scattercarpet\",\"marker\":{\"colorbar\":{\"outlinewidth\":0,\"ticks\":\"\"}}}],\"carpet\":[{\"aaxis\":{\"endlinecolor\":\"#2a3f5f\",\"gridcolor\":\"white\",\"linecolor\":\"white\",\"minorgridcolor\":\"white\",\"startlinecolor\":\"#2a3f5f\"},\"baxis\":{\"endlinecolor\":\"#2a3f5f\",\"gridcolor\":\"white\",\"linecolor\":\"white\",\"minorgridcolor\":\"white\",\"startlinecolor\":\"#2a3f5f\"},\"type\":\"carpet\"}],\"table\":[{\"cells\":{\"fill\":{\"color\":\"#EBF0F8\"},\"line\":{\"color\":\"white\"}},\"header\":{\"fill\":{\"color\":\"#C8D4E3\"},\"line\":{\"color\":\"white\"}},\"type\":\"table\"}],\"barpolar\":[{\"marker\":{\"line\":{\"color\":\"#E5ECF6\",\"width\":0.5},\"pattern\":{\"fillmode\":\"overlay\",\"size\":10,\"solidity\":0.2}},\"type\":\"barpolar\"}],\"pie\":[{\"automargin\":true,\"type\":\"pie\"}]},\"layout\":{\"autotypenumbers\":\"strict\",\"colorway\":[\"#636efa\",\"#EF553B\",\"#00cc96\",\"#ab63fa\",\"#FFA15A\",\"#19d3f3\",\"#FF6692\",\"#B6E880\",\"#FF97FF\",\"#FECB52\"],\"font\":{\"color\":\"#2a3f5f\"},\"hovermode\":\"closest\",\"hoverlabel\":{\"align\":\"left\"},\"paper_bgcolor\":\"white\",\"plot_bgcolor\":\"#E5ECF6\",\"polar\":{\"bgcolor\":\"#E5ECF6\",\"angularaxis\":{\"gridcolor\":\"white\",\"linecolor\":\"white\",\"ticks\":\"\"},\"radialaxis\":{\"gridcolor\":\"white\",\"linecolor\":\"white\",\"ticks\":\"\"}},\"ternary\":{\"bgcolor\":\"#E5ECF6\",\"aaxis\":{\"gridcolor\":\"white\",\"linecolor\":\"white\",\"ticks\":\"\"},\"baxis\":{\"gridcolor\":\"white\",\"linecolor\":\"white\",\"ticks\":\"\"},\"caxis\":{\"gridcolor\":\"white\",\"linecolor\":\"white\",\"ticks\":\"\"}},\"coloraxis\":{\"colorbar\":{\"outlinewidth\":0,\"ticks\":\"\"}},\"colorscale\":{\"sequential\":[[0.0,\"#0d0887\"],[0.1111111111111111,\"#46039f\"],[0.2222222222222222,\"#7201a8\"],[0.3333333333333333,\"#9c179e\"],[0.4444444444444444,\"#bd3786\"],[0.5555555555555556,\"#d8576b\"],[0.6666666666666666,\"#ed7953\"],[0.7777777777777778,\"#fb9f3a\"],[0.8888888888888888,\"#fdca26\"],[1.0,\"#f0f921\"]],\"sequentialminus\":[[0.0,\"#0d0887\"],[0.1111111111111111,\"#46039f\"],[0.2222222222222222,\"#7201a8\"],[0.3333333333333333,\"#9c179e\"],[0.4444444444444444,\"#bd3786\"],[0.5555555555555556,\"#d8576b\"],[0.6666666666666666,\"#ed7953\"],[0.7777777777777778,\"#fb9f3a\"],[0.8888888888888888,\"#fdca26\"],[1.0,\"#f0f921\"]],\"diverging\":[[0,\"#8e0152\"],[0.1,\"#c51b7d\"],[0.2,\"#de77ae\"],[0.3,\"#f1b6da\"],[0.4,\"#fde0ef\"],[0.5,\"#f7f7f7\"],[0.6,\"#e6f5d0\"],[0.7,\"#b8e186\"],[0.8,\"#7fbc41\"],[0.9,\"#4d9221\"],[1,\"#276419\"]]},\"xaxis\":{\"gridcolor\":\"white\",\"linecolor\":\"white\",\"ticks\":\"\",\"title\":{\"standoff\":15},\"zerolinecolor\":\"white\",\"automargin\":true,\"zerolinewidth\":2},\"yaxis\":{\"gridcolor\":\"white\",\"linecolor\":\"white\",\"ticks\":\"\",\"title\":{\"standoff\":15},\"zerolinecolor\":\"white\",\"automargin\":true,\"zerolinewidth\":2},\"scene\":{\"xaxis\":{\"backgroundcolor\":\"#E5ECF6\",\"gridcolor\":\"white\",\"linecolor\":\"white\",\"showbackground\":true,\"ticks\":\"\",\"zerolinecolor\":\"white\",\"gridwidth\":2},\"yaxis\":{\"backgroundcolor\":\"#E5ECF6\",\"gridcolor\":\"white\",\"linecolor\":\"white\",\"showbackground\":true,\"ticks\":\"\",\"zerolinecolor\":\"white\",\"gridwidth\":2},\"zaxis\":{\"backgroundcolor\":\"#E5ECF6\",\"gridcolor\":\"white\",\"linecolor\":\"white\",\"showbackground\":true,\"ticks\":\"\",\"zerolinecolor\":\"white\",\"gridwidth\":2}},\"shapedefaults\":{\"line\":{\"color\":\"#2a3f5f\"}},\"annotationdefaults\":{\"arrowcolor\":\"#2a3f5f\",\"arrowhead\":0,\"arrowwidth\":1},\"geo\":{\"bgcolor\":\"white\",\"landcolor\":\"#E5ECF6\",\"subunitcolor\":\"white\",\"showland\":true,\"showlakes\":true,\"lakecolor\":\"white\"},\"title\":{\"x\":0.05},\"mapbox\":{\"style\":\"light\"}}},\"mapbox\":{\"accesstoken\":\"pk.eyJ1IjoiYXJhZ29uZXJ1YSIsImEiOiJjbGpwcTh5cjYwMXN1M3J0ZDA2a2d1N2N4In0.DLk40rhIbaRS-bKPbclE4g\",\"bearing\":0,\"center\":{\"lat\":34.0331322,\"lon\":-118.301876},\"pitch\":0,\"zoom\":5},\"hovermode\":\"closest\"},                        {\"responsive\": true}                    ).then(function(){\n",
       "                            \n",
       "var gd = document.getElementById('bece49fc-e90c-48e3-85f0-9768308aa45f');\n",
       "var x = new MutationObserver(function (mutations, observer) {{\n",
       "        var display = window.getComputedStyle(gd).display;\n",
       "        if (!display || display === 'none') {{\n",
       "            console.log([gd, 'removed!']);\n",
       "            Plotly.purge(gd);\n",
       "            observer.disconnect();\n",
       "        }}\n",
       "}});\n",
       "\n",
       "// Listen for the removal of the full notebook cells\n",
       "var notebookContainer = gd.closest('#notebook-container');\n",
       "if (notebookContainer) {{\n",
       "    x.observe(notebookContainer, {childList: true});\n",
       "}}\n",
       "\n",
       "// Listen for the clearing of the current output cell\n",
       "var outputEl = gd.closest('.output');\n",
       "if (outputEl) {{\n",
       "    x.observe(outputEl, {childList: true});\n",
       "}}\n",
       "\n",
       "                        })                };                });            </script>        </div>"
      ]
     },
     "metadata": {},
     "output_type": "display_data"
    }
   ],
   "source": [
    "latitude_normal, longitude_normal = list(map(str, result_test['true crime'][:, 0])), list(map(str, result_test['true crime'][:, 1]))\n",
    "map_plotting(latitude_normal, longitude_normal, ['' for i in range(len(latitude_strange))])"
   ]
  },
  {
   "cell_type": "code",
   "execution_count": 41,
   "id": "a3b4e535",
   "metadata": {
    "execution": {
     "iopub.execute_input": "2023-08-07T05:56:01.341131Z",
     "iopub.status.busy": "2023-08-07T05:56:01.340522Z",
     "iopub.status.idle": "2023-08-07T05:56:02.370306Z",
     "shell.execute_reply": "2023-08-07T05:56:02.369225Z"
    },
    "papermill": {
     "duration": 1.054632,
     "end_time": "2023-08-07T05:56:02.372817",
     "exception": false,
     "start_time": "2023-08-07T05:56:01.318185",
     "status": "completed"
    },
    "tags": []
   },
   "outputs": [],
   "source": [
    "area_partition = {int(area) - 1: subdata.reset_index(drop=True) for area, subdata in past_data.groupby(by='AREA ')}\n",
    "area_cnt = len(area_partition.keys())"
   ]
  },
  {
   "cell_type": "code",
   "execution_count": 42,
   "id": "f5a371df",
   "metadata": {
    "execution": {
     "iopub.execute_input": "2023-08-07T05:56:02.422383Z",
     "iopub.status.busy": "2023-08-07T05:56:02.422034Z",
     "iopub.status.idle": "2023-08-07T05:56:02.516049Z",
     "shell.execute_reply": "2023-08-07T05:56:02.515043Z"
    },
    "papermill": {
     "duration": 0.121672,
     "end_time": "2023-08-07T05:56:02.518367",
     "exception": false,
     "start_time": "2023-08-07T05:56:02.396695",
     "status": "completed"
    },
    "tags": []
   },
   "outputs": [
    {
     "data": {
      "text/plain": [
       "1.0"
      ]
     },
     "execution_count": 42,
     "metadata": {},
     "output_type": "execute_result"
    }
   ],
   "source": [
    "coeffs_for_areas = []\n",
    "for i in range(area_cnt):\n",
    "    data = area_partition[i]\n",
    "    a_lat_i = data['init_lat'].max() - data['init_lat'].min()\n",
    "    b_lat_i = data['init_lat'].min()\n",
    "    data['LAT'] = (data['init_lat'] - b_lat_i) / a_lat_i\n",
    "    a_lon_i = data['init_lon'].max() - data['init_lon'].min()\n",
    "    b_lon_i = data['init_lon'].min()\n",
    "    data['LON'] = (data['init_lon'] - b_lon_i) / a_lon_i\n",
    "    coeffs_for_areas.append([a_lat_i, b_lat_i, a_lon_i, b_lon_i])\n",
    "area_partition[0]['LON'].max()"
   ]
  },
  {
   "cell_type": "code",
   "execution_count": 43,
   "id": "1e842aa3",
   "metadata": {
    "execution": {
     "iopub.execute_input": "2023-08-07T05:56:02.565960Z",
     "iopub.status.busy": "2023-08-07T05:56:02.565030Z",
     "iopub.status.idle": "2023-08-07T05:56:04.124109Z",
     "shell.execute_reply": "2023-08-07T05:56:04.123142Z"
    },
    "papermill": {
     "duration": 1.584814,
     "end_time": "2023-08-07T05:56:04.126576",
     "exception": false,
     "start_time": "2023-08-07T05:56:02.541762",
     "status": "completed"
    },
    "tags": []
   },
   "outputs": [],
   "source": [
    "graph = past_data.groupby(by='DATE OCC').count()['AREA '].values.astype(float)"
   ]
  },
  {
   "cell_type": "code",
   "execution_count": 44,
   "id": "bbd60dbd",
   "metadata": {
    "execution": {
     "iopub.execute_input": "2023-08-07T05:56:04.173215Z",
     "iopub.status.busy": "2023-08-07T05:56:04.172898Z",
     "iopub.status.idle": "2023-08-07T05:56:04.188965Z",
     "shell.execute_reply": "2023-08-07T05:56:04.188095Z"
    },
    "papermill": {
     "duration": 0.041106,
     "end_time": "2023-08-07T05:56:04.190936",
     "exception": false,
     "start_time": "2023-08-07T05:56:04.149830",
     "status": "completed"
    },
    "tags": []
   },
   "outputs": [],
   "source": [
    "#graph deformations\n",
    "new_vars = []\n",
    "diffs = []\n",
    "k = 1\n",
    "graph_log = np.array(graph)\n",
    "for i in range(4):\n",
    "    graph_log = np.log(graph_log)\n",
    "for i in range(len(graph) - 1):\n",
    "    diffs.append(graph_log[i+1] - graph_log[i])\n",
    "    for j in range(k):\n",
    "        val = (graph[i] * (k - j) + graph[i + 1] * j) / k\n",
    "        new_vars.append(val)"
   ]
  },
  {
   "cell_type": "code",
   "execution_count": 45,
   "id": "22f42aac",
   "metadata": {
    "execution": {
     "iopub.execute_input": "2023-08-07T05:56:04.235690Z",
     "iopub.status.busy": "2023-08-07T05:56:04.234904Z",
     "iopub.status.idle": "2023-08-07T05:56:04.676607Z",
     "shell.execute_reply": "2023-08-07T05:56:04.675430Z"
    },
    "papermill": {
     "duration": 0.46925,
     "end_time": "2023-08-07T05:56:04.681573",
     "exception": false,
     "start_time": "2023-08-07T05:56:04.212323",
     "status": "completed"
    },
    "tags": []
   },
   "outputs": [
    {
     "name": "stdout",
     "output_type": "stream",
     "text": [
      "0.1 0.10441955722121588 0.216 0.146 0.119\n",
      "0.0 -27.268755083511596 -3.4321572194957715 -2.862338528678273 -2.567195069249532\n"
     ]
    },
    {
     "name": "stderr",
     "output_type": "stream",
     "text": [
      "/opt/conda/lib/python3.10/site-packages/statsmodels/tsa/stattools.py:2022: InterpolationWarning:\n",
      "\n",
      "The test statistic is outside of the range of p-values available in the\n",
      "look-up table. The actual p-value is greater than the p-value returned.\n",
      "\n",
      "\n"
     ]
    }
   ],
   "source": [
    "from statsmodels.tsa.stattools import kpss\n",
    "\n",
    "result_kpss = kpss(diffs, regression = \"ct\")\n",
    "\n",
    "print(result_kpss[1], result_kpss[0], result_kpss[3][\"1%\"], result_kpss[3][\"5%\"], result_kpss[3][\"10%\"])\n",
    "\n",
    "from statsmodels.tsa.stattools import adfuller\n",
    "\n",
    "result_adf = adfuller(diffs)\n",
    "\n",
    "print(result_adf[1], result_adf[0], result_adf[4][\"1%\"], result_adf[4][\"5%\"], result_adf[4][\"10%\"])"
   ]
  },
  {
   "cell_type": "code",
   "execution_count": 46,
   "id": "9b86fd85",
   "metadata": {
    "execution": {
     "iopub.execute_input": "2023-08-07T05:56:04.784009Z",
     "iopub.status.busy": "2023-08-07T05:56:04.783448Z",
     "iopub.status.idle": "2023-08-07T05:56:04.794824Z",
     "shell.execute_reply": "2023-08-07T05:56:04.793689Z"
    },
    "papermill": {
     "duration": 0.062672,
     "end_time": "2023-08-07T05:56:04.797876",
     "exception": false,
     "start_time": "2023-08-07T05:56:04.735204",
     "status": "completed"
    },
    "tags": []
   },
   "outputs": [],
   "source": [
    "graph_ser = pd.Series(diffs)\n",
    "#graph_ser = (2 * graph_ser - graph_ser.min() - graph_ser.max()) / (graph_ser.max() - graph_ser.min())\n",
    "graph_ser_new = (graph_ser - graph_ser.min()) / (graph_ser.max() - graph_ser.min())\n",
    "graph_scaled = (graph - graph.min()) / (graph.max() - graph.min())"
   ]
  },
  {
   "cell_type": "code",
   "execution_count": 47,
   "id": "61045305",
   "metadata": {
    "execution": {
     "iopub.execute_input": "2023-08-07T05:56:04.847813Z",
     "iopub.status.busy": "2023-08-07T05:56:04.847521Z",
     "iopub.status.idle": "2023-08-07T05:56:04.851836Z",
     "shell.execute_reply": "2023-08-07T05:56:04.850903Z"
    },
    "papermill": {
     "duration": 0.028859,
     "end_time": "2023-08-07T05:56:04.853836",
     "exception": false,
     "start_time": "2023-08-07T05:56:04.824977",
     "status": "completed"
    },
    "tags": []
   },
   "outputs": [],
   "source": [
    "len(graph_ser_new)\n",
    "results = []"
   ]
  },
  {
   "cell_type": "code",
   "execution_count": 48,
   "id": "8555f267",
   "metadata": {
    "execution": {
     "iopub.execute_input": "2023-08-07T05:56:04.901099Z",
     "iopub.status.busy": "2023-08-07T05:56:04.900265Z",
     "iopub.status.idle": "2023-08-07T05:56:04.910548Z",
     "shell.execute_reply": "2023-08-07T05:56:04.909660Z"
    },
    "papermill": {
     "duration": 0.036489,
     "end_time": "2023-08-07T05:56:04.912561",
     "exception": false,
     "start_time": "2023-08-07T05:56:04.876072",
     "status": "completed"
    },
    "tags": []
   },
   "outputs": [],
   "source": [
    "ys = []\n",
    "scores = []\n",
    "def score_model_1d(values, len_of_seq):\n",
    "    X = []\n",
    "    y = []\n",
    "    global len_of_sequence\n",
    "    len_of_sequence = len_of_seq\n",
    "    for i in range(len(values) - len_of_sequence):\n",
    "        X.append(values[i:i + len_of_sequence])\n",
    "        y.append(values[i + len_of_sequence])\n",
    "    pivot = len(values) // 2\n",
    "    X_shaped = np.array(X).reshape((-1, len_of_sequence, 1))\n",
    "    y_shaped = np.array(y).reshape((-1, 1))\n",
    "    X_train = torch.tensor(X_shaped[:pivot], device=device)\n",
    "    X_test = torch.tensor(X_shaped[pivot:], device=device)\n",
    "    y_train = torch.tensor(y_shaped[:pivot], device=device)\n",
    "    y_test = torch.tensor(y_shaped[pivot:], device=device)\n",
    "    y_test_np = y_test.cpu().detach().numpy().reshape((-1))\n",
    "    num_epoch = 400\n",
    "    lr= 1e-2\n",
    "    model_simple = get_LSTM(X_train, y_train, X_test, y_test, num_epoch, lr, False)\n",
    "    preds = model_simple(X_test[:500]).cpu().detach().numpy().reshape((-1))\n",
    "    results.append(preds)\n",
    "    ys.append(y_test_np)\n",
    "    torch.cuda.empty_cache()\n",
    "    scores.append(np.linalg.norm(y_test_np[:500] - preds))"
   ]
  },
  {
   "cell_type": "code",
   "execution_count": 49,
   "id": "a10d5569",
   "metadata": {
    "execution": {
     "iopub.execute_input": "2023-08-07T05:56:04.957851Z",
     "iopub.status.busy": "2023-08-07T05:56:04.957211Z",
     "iopub.status.idle": "2023-08-07T06:35:57.572988Z",
     "shell.execute_reply": "2023-08-07T06:35:57.571863Z"
    },
    "papermill": {
     "duration": 2392.641088,
     "end_time": "2023-08-07T06:35:57.575816",
     "exception": false,
     "start_time": "2023-08-07T05:56:04.934728",
     "status": "completed"
    },
    "tags": []
   },
   "outputs": [],
   "source": [
    "for i in range(5, 70, 5):\n",
    "    score_model_1d(graph_scaled, i)\n",
    "    score_model_1d(graph_ser_new, i)"
   ]
  },
  {
   "cell_type": "code",
   "execution_count": 50,
   "id": "b644b48d",
   "metadata": {
    "execution": {
     "iopub.execute_input": "2023-08-07T06:35:57.623186Z",
     "iopub.status.busy": "2023-08-07T06:35:57.622269Z",
     "iopub.status.idle": "2023-08-07T06:35:57.628164Z",
     "shell.execute_reply": "2023-08-07T06:35:57.626882Z"
    },
    "papermill": {
     "duration": 0.031446,
     "end_time": "2023-08-07T06:35:57.630142",
     "exception": false,
     "start_time": "2023-08-07T06:35:57.598696",
     "status": "completed"
    },
    "tags": []
   },
   "outputs": [
    {
     "name": "stdout",
     "output_type": "stream",
     "text": [
      "[0.8913399323255808, 0.9374058437944212, 0.8136076714087533, 0.9018725440855658, 1.1792417312661128, 0.940494242487102, 0.8318920349110643, 0.9279904145407791, 0.8434493061863552, 0.9055250750180525, 0.6347256771255811, 0.7809118988312971, 0.9207762394752993, 0.8130624777342229, 0.7808121697168514, 0.8224388122560159, 0.8199385304314781, 0.89699743798294, 0.8568931264351518, 0.9550718684937022, 0.9550768307422596, 0.8625900188103209, 1.0141019167415186, 0.9119722687395839, 0.8678653206221301, 0.9027471822479014]\n"
     ]
    }
   ],
   "source": [
    "print(scores)"
   ]
  },
  {
   "cell_type": "code",
   "execution_count": 51,
   "id": "57aaac64",
   "metadata": {
    "execution": {
     "iopub.execute_input": "2023-08-07T06:35:57.676945Z",
     "iopub.status.busy": "2023-08-07T06:35:57.676038Z",
     "iopub.status.idle": "2023-08-07T06:35:57.684167Z",
     "shell.execute_reply": "2023-08-07T06:35:57.683215Z"
    },
    "papermill": {
     "duration": 0.033884,
     "end_time": "2023-08-07T06:35:57.686244",
     "exception": false,
     "start_time": "2023-08-07T06:35:57.652360",
     "status": "completed"
    },
    "tags": []
   },
   "outputs": [],
   "source": [
    "# import warnings\n",
    "# warnings.filterwarnings(\"ignore\")\n",
    "\n",
    "def test_stat(values):\n",
    "    graph_log = np.array(values)\n",
    "    for i in range(2):\n",
    "        graph_log = np.log(graph_log)\n",
    "    for i in range(len(graph) - 1):\n",
    "        diffs.append(graph_log[i+1] - graph_log[i])\n",
    "    result_kpss = kpss(diffs, regression = \"ct\")\n",
    "    res1 = result_kpss[1] >= 0.05\n",
    "    res2 = result_kpss[0] < result_kpss[3][\"10%\"]\n",
    "    result_adf = adfuller(diffs)\n",
    "    res3 = result_adf[1] < 0.05\n",
    "    res4 = abs(result_adf[0]) > abs(result_adf[4][\"1%\"])\n",
    "    if res1 and res2 and res3 and res4:\n",
    "        print('passed!')\n",
    "        return True\n",
    "    return False"
   ]
  },
  {
   "cell_type": "code",
   "execution_count": 52,
   "id": "cd4e5131",
   "metadata": {
    "execution": {
     "iopub.execute_input": "2023-08-07T06:35:57.732653Z",
     "iopub.status.busy": "2023-08-07T06:35:57.731866Z",
     "iopub.status.idle": "2023-08-07T06:39:21.963435Z",
     "shell.execute_reply": "2023-08-07T06:39:21.962442Z"
    },
    "papermill": {
     "duration": 204.318956,
     "end_time": "2023-08-07T06:39:22.027719",
     "exception": false,
     "start_time": "2023-08-07T06:35:57.708763",
     "status": "completed"
    },
    "tags": []
   },
   "outputs": [
    {
     "name": "stderr",
     "output_type": "stream",
     "text": [
      "/opt/conda/lib/python3.10/site-packages/statsmodels/tsa/stattools.py:2022: InterpolationWarning:\n",
      "\n",
      "The test statistic is outside of the range of p-values available in the\n",
      "look-up table. The actual p-value is greater than the p-value returned.\n",
      "\n",
      "\n"
     ]
    },
    {
     "name": "stdout",
     "output_type": "stream",
     "text": [
      "passed!\n",
      "0\n"
     ]
    },
    {
     "name": "stderr",
     "output_type": "stream",
     "text": [
      "/opt/conda/lib/python3.10/site-packages/statsmodels/tsa/stattools.py:2022: InterpolationWarning:\n",
      "\n",
      "The test statistic is outside of the range of p-values available in the\n",
      "look-up table. The actual p-value is greater than the p-value returned.\n",
      "\n",
      "\n"
     ]
    },
    {
     "name": "stdout",
     "output_type": "stream",
     "text": [
      "passed!\n",
      "1\n"
     ]
    },
    {
     "name": "stderr",
     "output_type": "stream",
     "text": [
      "/opt/conda/lib/python3.10/site-packages/statsmodels/tsa/stattools.py:2022: InterpolationWarning:\n",
      "\n",
      "The test statistic is outside of the range of p-values available in the\n",
      "look-up table. The actual p-value is greater than the p-value returned.\n",
      "\n",
      "\n"
     ]
    },
    {
     "name": "stdout",
     "output_type": "stream",
     "text": [
      "passed!\n",
      "2\n"
     ]
    },
    {
     "name": "stderr",
     "output_type": "stream",
     "text": [
      "/opt/conda/lib/python3.10/site-packages/statsmodels/tsa/stattools.py:2022: InterpolationWarning:\n",
      "\n",
      "The test statistic is outside of the range of p-values available in the\n",
      "look-up table. The actual p-value is greater than the p-value returned.\n",
      "\n",
      "\n"
     ]
    },
    {
     "name": "stdout",
     "output_type": "stream",
     "text": [
      "passed!\n",
      "3\n"
     ]
    },
    {
     "name": "stderr",
     "output_type": "stream",
     "text": [
      "/opt/conda/lib/python3.10/site-packages/statsmodels/tsa/stattools.py:2022: InterpolationWarning:\n",
      "\n",
      "The test statistic is outside of the range of p-values available in the\n",
      "look-up table. The actual p-value is greater than the p-value returned.\n",
      "\n",
      "\n"
     ]
    },
    {
     "name": "stdout",
     "output_type": "stream",
     "text": [
      "passed!\n",
      "4\n"
     ]
    },
    {
     "name": "stderr",
     "output_type": "stream",
     "text": [
      "/opt/conda/lib/python3.10/site-packages/statsmodels/tsa/stattools.py:2022: InterpolationWarning:\n",
      "\n",
      "The test statistic is outside of the range of p-values available in the\n",
      "look-up table. The actual p-value is greater than the p-value returned.\n",
      "\n",
      "\n"
     ]
    },
    {
     "name": "stdout",
     "output_type": "stream",
     "text": [
      "passed!\n",
      "5\n"
     ]
    },
    {
     "name": "stderr",
     "output_type": "stream",
     "text": [
      "/opt/conda/lib/python3.10/site-packages/statsmodels/tsa/stattools.py:2022: InterpolationWarning:\n",
      "\n",
      "The test statistic is outside of the range of p-values available in the\n",
      "look-up table. The actual p-value is greater than the p-value returned.\n",
      "\n",
      "\n"
     ]
    },
    {
     "name": "stdout",
     "output_type": "stream",
     "text": [
      "passed!\n",
      "6\n"
     ]
    },
    {
     "name": "stderr",
     "output_type": "stream",
     "text": [
      "/opt/conda/lib/python3.10/site-packages/statsmodels/tsa/stattools.py:2022: InterpolationWarning:\n",
      "\n",
      "The test statistic is outside of the range of p-values available in the\n",
      "look-up table. The actual p-value is greater than the p-value returned.\n",
      "\n",
      "\n"
     ]
    },
    {
     "name": "stdout",
     "output_type": "stream",
     "text": [
      "passed!\n",
      "7\n"
     ]
    },
    {
     "name": "stderr",
     "output_type": "stream",
     "text": [
      "/opt/conda/lib/python3.10/site-packages/statsmodels/tsa/stattools.py:2022: InterpolationWarning:\n",
      "\n",
      "The test statistic is outside of the range of p-values available in the\n",
      "look-up table. The actual p-value is greater than the p-value returned.\n",
      "\n",
      "\n"
     ]
    },
    {
     "name": "stdout",
     "output_type": "stream",
     "text": [
      "passed!\n",
      "8\n"
     ]
    },
    {
     "name": "stderr",
     "output_type": "stream",
     "text": [
      "/opt/conda/lib/python3.10/site-packages/statsmodels/tsa/stattools.py:2022: InterpolationWarning:\n",
      "\n",
      "The test statistic is outside of the range of p-values available in the\n",
      "look-up table. The actual p-value is greater than the p-value returned.\n",
      "\n",
      "\n"
     ]
    },
    {
     "name": "stdout",
     "output_type": "stream",
     "text": [
      "passed!\n",
      "9\n"
     ]
    },
    {
     "name": "stderr",
     "output_type": "stream",
     "text": [
      "/opt/conda/lib/python3.10/site-packages/statsmodels/tsa/stattools.py:2022: InterpolationWarning:\n",
      "\n",
      "The test statistic is outside of the range of p-values available in the\n",
      "look-up table. The actual p-value is greater than the p-value returned.\n",
      "\n",
      "\n"
     ]
    },
    {
     "name": "stdout",
     "output_type": "stream",
     "text": [
      "passed!\n",
      "10\n"
     ]
    },
    {
     "name": "stderr",
     "output_type": "stream",
     "text": [
      "/opt/conda/lib/python3.10/site-packages/statsmodels/tsa/stattools.py:2022: InterpolationWarning:\n",
      "\n",
      "The test statistic is outside of the range of p-values available in the\n",
      "look-up table. The actual p-value is greater than the p-value returned.\n",
      "\n",
      "\n"
     ]
    },
    {
     "name": "stdout",
     "output_type": "stream",
     "text": [
      "passed!\n",
      "11\n"
     ]
    },
    {
     "name": "stderr",
     "output_type": "stream",
     "text": [
      "/opt/conda/lib/python3.10/site-packages/statsmodels/tsa/stattools.py:2022: InterpolationWarning:\n",
      "\n",
      "The test statistic is outside of the range of p-values available in the\n",
      "look-up table. The actual p-value is greater than the p-value returned.\n",
      "\n",
      "\n"
     ]
    },
    {
     "name": "stdout",
     "output_type": "stream",
     "text": [
      "passed!\n",
      "12\n"
     ]
    },
    {
     "name": "stderr",
     "output_type": "stream",
     "text": [
      "/opt/conda/lib/python3.10/site-packages/statsmodels/tsa/stattools.py:2022: InterpolationWarning:\n",
      "\n",
      "The test statistic is outside of the range of p-values available in the\n",
      "look-up table. The actual p-value is greater than the p-value returned.\n",
      "\n",
      "\n"
     ]
    },
    {
     "name": "stdout",
     "output_type": "stream",
     "text": [
      "passed!\n",
      "13\n"
     ]
    },
    {
     "name": "stderr",
     "output_type": "stream",
     "text": [
      "/opt/conda/lib/python3.10/site-packages/statsmodels/tsa/stattools.py:2022: InterpolationWarning:\n",
      "\n",
      "The test statistic is outside of the range of p-values available in the\n",
      "look-up table. The actual p-value is greater than the p-value returned.\n",
      "\n",
      "\n"
     ]
    },
    {
     "name": "stdout",
     "output_type": "stream",
     "text": [
      "passed!\n",
      "14\n"
     ]
    },
    {
     "name": "stderr",
     "output_type": "stream",
     "text": [
      "/opt/conda/lib/python3.10/site-packages/statsmodels/tsa/stattools.py:2022: InterpolationWarning:\n",
      "\n",
      "The test statistic is outside of the range of p-values available in the\n",
      "look-up table. The actual p-value is greater than the p-value returned.\n",
      "\n",
      "\n"
     ]
    },
    {
     "name": "stdout",
     "output_type": "stream",
     "text": [
      "passed!\n",
      "15\n"
     ]
    },
    {
     "name": "stderr",
     "output_type": "stream",
     "text": [
      "/opt/conda/lib/python3.10/site-packages/statsmodels/tsa/stattools.py:2022: InterpolationWarning:\n",
      "\n",
      "The test statistic is outside of the range of p-values available in the\n",
      "look-up table. The actual p-value is greater than the p-value returned.\n",
      "\n",
      "\n"
     ]
    },
    {
     "name": "stdout",
     "output_type": "stream",
     "text": [
      "passed!\n",
      "16\n"
     ]
    },
    {
     "name": "stderr",
     "output_type": "stream",
     "text": [
      "/opt/conda/lib/python3.10/site-packages/statsmodels/tsa/stattools.py:2022: InterpolationWarning:\n",
      "\n",
      "The test statistic is outside of the range of p-values available in the\n",
      "look-up table. The actual p-value is greater than the p-value returned.\n",
      "\n",
      "\n"
     ]
    },
    {
     "name": "stdout",
     "output_type": "stream",
     "text": [
      "passed!\n",
      "17\n"
     ]
    },
    {
     "name": "stderr",
     "output_type": "stream",
     "text": [
      "/opt/conda/lib/python3.10/site-packages/statsmodels/tsa/stattools.py:2022: InterpolationWarning:\n",
      "\n",
      "The test statistic is outside of the range of p-values available in the\n",
      "look-up table. The actual p-value is greater than the p-value returned.\n",
      "\n",
      "\n"
     ]
    },
    {
     "name": "stdout",
     "output_type": "stream",
     "text": [
      "passed!\n",
      "18\n"
     ]
    },
    {
     "name": "stderr",
     "output_type": "stream",
     "text": [
      "/opt/conda/lib/python3.10/site-packages/statsmodels/tsa/stattools.py:2022: InterpolationWarning:\n",
      "\n",
      "The test statistic is outside of the range of p-values available in the\n",
      "look-up table. The actual p-value is greater than the p-value returned.\n",
      "\n",
      "\n"
     ]
    },
    {
     "name": "stdout",
     "output_type": "stream",
     "text": [
      "passed!\n",
      "19\n"
     ]
    },
    {
     "name": "stderr",
     "output_type": "stream",
     "text": [
      "/opt/conda/lib/python3.10/site-packages/statsmodels/tsa/stattools.py:2022: InterpolationWarning:\n",
      "\n",
      "The test statistic is outside of the range of p-values available in the\n",
      "look-up table. The actual p-value is greater than the p-value returned.\n",
      "\n",
      "\n"
     ]
    },
    {
     "name": "stdout",
     "output_type": "stream",
     "text": [
      "passed!\n",
      "20\n"
     ]
    }
   ],
   "source": [
    "for i in range(area_cnt):\n",
    "    data = area_partition[i].groupby(by='DATE OCC').count()['LAT'].values\n",
    "    if test_stat(data):\n",
    "        print(i)\n",
    "    else:\n",
    "        print(i, 'not passed!')"
   ]
  },
  {
   "cell_type": "code",
   "execution_count": null,
   "id": "4fd90f87",
   "metadata": {
    "papermill": {
     "duration": 0.030246,
     "end_time": "2023-08-07T06:39:22.112687",
     "exception": false,
     "start_time": "2023-08-07T06:39:22.082441",
     "status": "completed"
    },
    "tags": []
   },
   "outputs": [],
   "source": []
  }
 ],
 "metadata": {
  "kernelspec": {
   "display_name": "Python 3",
   "language": "python",
   "name": "python3"
  },
  "language_info": {
   "codemirror_mode": {
    "name": "ipython",
    "version": 3
   },
   "file_extension": ".py",
   "mimetype": "text/x-python",
   "name": "python",
   "nbconvert_exporter": "python",
   "pygments_lexer": "ipython3",
   "version": "3.10.10"
  },
  "papermill": {
   "default_parameters": {},
   "duration": 3256.366472,
   "end_time": "2023-08-07T06:39:25.140182",
   "environment_variables": {},
   "exception": null,
   "input_path": "__notebook__.ipynb",
   "output_path": "__notebook__.ipynb",
   "parameters": {},
   "start_time": "2023-08-07T05:45:08.773710",
   "version": "2.4.0"
  }
 },
 "nbformat": 4,
 "nbformat_minor": 5
}
